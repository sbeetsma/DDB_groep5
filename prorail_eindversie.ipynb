{
 "cells": [
  {
   "cell_type": "markdown",
   "source": [
    "#### Business understanding\n",
    "\n",
    "Door ProRail zijn wij benaderd om een oplossing te bieden voor het voorspellen van de reparatietijd van problemen op het spoor. ProRail is verantwoordelijk voor het spoorwegnet van Nederland. ProRail heeft een eigen DataLab dat op basis van data van ProRail, de NS en andere partijen oplossingen realiseert. De doelstelling van dit project is om met deze data de planners van de NS te helpen om de hervatting van het treinverkeer te organiseren. Hierbij beantwoorden wij de vraag of op basis van de data een betere voorspelling kan worden gemaakt, zodat de dienstregeling sneller hervat kan worden. Wij hebben hier drie weken de tijd voor gekregen om de relevante bedrijfsprocessen in kaart te brengen, een gewenste situatie te discussiëren met de product owner, een gebruikersapplicatie te bouwen en één of meer nuttige modellen te maken. Op basis van ons onderzoek zullen wij advies doen aan ProRail, over wat zij kan doen om de gewenste situatie te realiseren.\n",
    "\n",
    "Onderzoeksvragen:\n",
    "    -Kan er een voorspelling worden gedaan over de reparatietijd om efficiënter de treinplanning te hervatten?\n",
    "    -Hoe accuraat zijn de prognoses over de reparatietijd van de aannemers?"
   ],
   "metadata": {
    "collapsed": false
   }
  },
  {
   "cell_type": "markdown",
   "source": [
    "### Data Understanding\n",
    "Van ProRail hebben we een [data dictionary](https://canvas.hu.nl/courses/27143/pages/data?module_item_id=588747) gekregen.\n",
    "Hierin staan alle kolommen uit de dataset met een beschrijving over de kolom indien van toepassing.\n",
    "\n",
    "We beginnen met een aantal modules te importeren om de data te analyseren."
   ],
   "metadata": {
    "collapsed": false,
    "pycharm": {
     "name": "#%% md\n"
    }
   }
  },
  {
   "cell_type": "code",
   "execution_count": 1,
   "outputs": [],
   "source": [
    "import numpy as np\n",
    "import pandas as pd\n",
    "\n",
    "from sklearn.model_selection import train_test_split\n",
    "from sklearn.dummy import DummyRegressor, DummyClassifier\n",
    "from sklearn.metrics import mean_squared_error, accuracy_score\n",
    "from sklearn.linear_model import LinearRegression\n",
    "from sklearn.preprocessing import PolynomialFeatures\n",
    "\n",
    "from sklearn.tree import DecisionTreeRegressor, DecisionTreeClassifier\n",
    "from sklearn.pipeline import make_pipeline\n",
    "import pickle\n",
    "\n",
    "from scipy.interpolate import interp1d\n",
    "\n",
    "import matplotlib.pyplot as plt\n",
    "import seaborn as sns\n",
    "\n",
    "pd.set_option(\"display.max_columns\", None)\n",
    "pd.options.display.max_columns = None\n",
    "pd.options.display.max_rows = 1000\n",
    "%matplotlib inline"
   ],
   "metadata": {
    "collapsed": false,
    "pycharm": {
     "name": "#%%\n"
    }
   }
  },
  {
   "cell_type": "markdown",
   "source": [
    "#### Dataset inladen\n",
    "Ten eerste laden we het csv-bestand in."
   ],
   "metadata": {
    "collapsed": false,
    "pycharm": {
     "name": "#%% md\n"
    }
   }
  },
  {
   "cell_type": "code",
   "source": [
    "dataset_complete = pd.read_csv(\"sap_storing_data_hu_project.csv\", low_memory=False)"
   ],
   "metadata": {
    "collapsed": false,
    "pycharm": {
     "name": "#%%\n"
    }
   },
   "execution_count": 2,
   "outputs": []
  },
  {
   "cell_type": "markdown",
   "source": [
    "We bekijken de eerste paar rijen om een eerste inzicht te krijgen over de inhoud van de data."
   ],
   "metadata": {
    "collapsed": false,
    "pycharm": {
     "name": "#%% md\n"
    }
   }
  },
  {
   "cell_type": "code",
   "execution_count": 3,
   "outputs": [
    {
     "data": {
      "text/plain": "  Unnamed: 0  #stm_sap_meldnr  stm_mon_nr stm_vl_post     stm_sap_meld_ddt  \\\n0          0                0         NaN         NaN                  NaN   \n1          1         50053211         0.0         NaN  02/01/2006 09:00:00   \n2          2         50053213        48.0          GN  02/01/2006 12:35:00   \n3          3         50053214        72.0          ZL  02/01/2006 16:40:00   \n4          4         50053215        96.0          ZL  02/01/2006 22:30:00   \n\n  stm_sap_mon_meld_ddt                             stm_sap_meldtekst_lang  \\\n0                  NaN                                                NaN   \n1  02/01/2006 09:00:00   Logboeknr  Geeltje  :   49 Tijd: 0900   VL-Po...   \n2  02/01/2006 12:35:00   Logboeknr  RBV  :   48 Tijd: 1235   VL-Post: ...   \n3  02/01/2006 16:40:00   Logboeknr  RBV  :   72 Tijd: 1640   VL-Post: ...   \n4  02/01/2006 22:30:00   Logboeknr  RBV  :   96 Tijd: 2230   VL-Post: ...   \n\n     stm_mon_begin_ddt                         stm_sap_meldtekst  \\\n0                  NaN                                       NaN   \n1                  NaN     Logboeknr  Geeltje  :   49 Tijd: 0900   \n2  02/01/2006 12:35:00  Logboeknr  RBV  :   48 Tijd: 1235   VL-P   \n3  02/01/2006 16:40:00  Logboeknr  RBV  :   72 Tijd: 1640   VL-P   \n4  02/01/2006 22:30:00  Logboeknr  RBV  :   96 Tijd: 2230   VL-P   \n\n  stm_mon_toelichting_trdl stm_oh_pg_mld stm_geo_mld  \\\n0                      NaN           NaN         NaN   \n1                      NaN           NaN       624.0   \n2                      NaN           NaN       201.0   \n3                      NaN           NaN        25.0   \n4                      NaN           NaN        12.0   \n\n   stm_geo_mld_uit_functiepl  stm_equipm_nr_mld stm_equipm_soort_mld  \\\n0                        NaN                NaN                  NaN   \n1                      624.0                NaN                  NaN   \n2                      201.0                NaN                  NaN   \n3                       25.0                NaN                  NaN   \n4                       12.0                NaN                  NaN   \n\n  stm_equipm_omschr_mld  stm_km_van_mld  stm_km_tot_mld  stm_prioriteit  \\\n0                   NaN             NaN             NaN             NaN   \n1                   NaN             0.0             0.0             9.0   \n2                   NaN             0.0             0.0             9.0   \n3                   NaN             0.0             0.0             9.0   \n4                   NaN             0.0             0.0             9.0   \n\n  stm_scenario_mon stm_status_melding_sap stm_mon_nr_status_omschr  \\\n0              NaN                    NaN                      NaN   \n1              NaN              MAFS MAFD                      NaN   \n2              NaN                   MAFS        Aan AM toegewezen   \n3              NaN              MAFS MAFD        Aan AM toegewezen   \n4              NaN                   MAFS        Aan AM toegewezen   \n\n   stm_mon_nr__statuscode stm_mon_nr_status_wijzdd      stm_aanngeb_ddt  \\\n0                     NaN                      NaN                  NaN   \n1                     NaN               00/00/0000  02/01/2006 09:00:00   \n2                     0.0               03/01/2006  02/01/2006 12:35:00   \n3                     0.0               03/01/2006  02/01/2006 16:40:00   \n4                     0.0               03/01/2006  02/01/2006 22:30:00   \n\n  stm_aanntpl_ddt stm_oh_pg_gst stm_geo_gst  stm_geo_gst_uit_functiepl  \\\n0             NaN           NaN         NaN                        NaN   \n1             NaN           81S       624.0                      624.0   \n2             NaN           37B       201.0                      201.0   \n3             NaN           32B        25.0                       25.0   \n4             NaN           35B        12.0                       12.0   \n\n   stm_equipm_nr_gst stm_equipm_soort_gst stm_equipm_omschr_gst  \\\n0                NaN                  NaN                   NaN   \n1                NaN                  NaN                   NaN   \n2                NaN                  NaN                   NaN   \n3                NaN                  NaN                   NaN   \n4                NaN                  NaN                   NaN   \n\n  stm_objectdl_code_gst stm_objectdl_groep_gst  stm_km_van_gst  \\\n0                   NaN                    NaN             NaN   \n1                   NaN                    NaN             0.0   \n2                   NaN                    NaN         30200.0   \n3                   NaN                    NaN         14000.0   \n4                   NaN                    NaN         19819.0   \n\n   stm_km_tot_gst stm_progfh_in_ddt stm_progfh_in_invoer_ddt  \\\n0             NaN               NaN                      NaN   \n1             0.0               NaN                      NaN   \n2             0.0               NaN                      NaN   \n3             0.0               NaN                      NaN   \n4             0.0               NaN                      NaN   \n\n  stm_progfh_gw_ddt stm_progfh_gw_lwd_ddt stm_progfh_hz stm_oorz_groep  \\\n0               NaN                   NaN           NaN            NaN   \n1               NaN                   NaN             Z        ONR-RIB   \n2               NaN                   NaN             Z       ONR-DERD   \n3               NaN                   NaN             Z       ONR-DERD   \n4               NaN                   NaN             Z       ONR-DERD   \n\n   stm_oorz_code        stm_oorz_tkst stm_veroorz_groep stm_veroorz_code  \\\n0            NaN                  NaN               NaN              NaN   \n1          133.0   Papieren ontbreken          ONREGRIB                B   \n2          143.0                  NaN          ONREGDER                T   \n3          142.0                  NaN          ONREGDER                T   \n4          142.0                  NaN          ONREGDER                T   \n\n  stm_veroorz_tekst_kort stm_effect stm_afspr_aanvangddt           stm_fh_ddt  \\\n0                    NaN        NaN                  NaN                  NaN   \n1                 Volker        NaN                  NaN  02/01/2006 09:00:00   \n2                    NaN        NaN                  NaN  02/01/2006 13:26:00   \n3                    NaN        NaN                  NaN  02/01/2006 17:20:00   \n4                    NaN        NaN                  NaN  02/01/2006 22:36:00   \n\n   stm_fh_status stm_sap_storeind_ddt stm_mon_eind_ddt stm_mon_vhdsincident  \\\n0            NaN                  NaN              NaN                  NaN   \n1            4.0  02/01/2006 09:00:00              NaN                  NaN   \n2            4.0  02/01/2006 13:26:00              NaN                  NaN   \n3            4.0  02/01/2006 17:20:00              NaN                  NaN   \n4            4.0  02/01/2006 22:36:00              NaN                  NaN   \n\n  stm_tao_indicator stm_tao_indicator_vorige stm_tao_soort_mutatie  \\\n0                 N                      NaN                   NaN   \n1                 N                      NaN                   NaN   \n2                 N                      NaN                   NaN   \n3                 N                      NaN                   NaN   \n4                 N                      NaN                   NaN   \n\n   stm_tao_telling_mutatie stm_tao_beinvloedbaar_indicator stm_evb  \\\n0                        0                               B     NaN   \n1                        0                               B    0,00   \n2                        0                              NB    0,00   \n3                        0                              NB    0,00   \n4                        0                              NB    0,00   \n\n  stm_dir_betrok_tr stm_aangelegd_dd stm_aangelegd_tijd stm_sap_melddatum  \\\n0               NaN              NaN                NaN               NaN   \n1               NaN       03/01/2006           04:48:18        02/01/2006   \n2               NaN       03/01/2006           05:50:40        02/01/2006   \n3               NaN       03/01/2006           05:50:41        02/01/2006   \n4               NaN       03/01/2006           05:50:41        02/01/2006   \n\n  stm_sap_meldtijd stm_mon_begindatum stm_mon_begintijd  stm_contractgeb_mld  \\\n0              NaN                NaN               NaN                  NaN   \n1         09:00:00                NaN               NaN                  NaN   \n2         12:35:00         02/01/2006          12:35:00                  NaN   \n3         16:40:00         02/01/2006          16:40:00                  NaN   \n4         22:30:00         02/01/2006          22:30:00                  NaN   \n\n  stm_functiepl_mld stm_techn_mld  stm_contractgeb_gst stm_functiepl_gst  \\\n0               NaN           NaN                  NaN               NaN   \n1               624           NaN                 81.0               624   \n2               201           NaN                 37.0               201   \n3               025           NaN                 32.0               025   \n4               012           NaN                 35.0               012   \n\n  stm_techn_gst stm_aanngeb_dd stm_aanngeb_tijd stm_aanntpl_dd  \\\n0           NaN            NaN              NaN            NaN   \n1             S     02/01/2006         09:00:00            NaN   \n2             B     02/01/2006         12:35:00            NaN   \n3             B     02/01/2006         16:40:00            NaN   \n4             B     02/01/2006         22:30:00            NaN   \n\n  stm_aanntpl_tijd  stm_arbeid stm_progfh_in_datum stm_progfh_in_tijd  \\\n0              NaN         NaN                 NaN                NaN   \n1         00:00:00  99999999.0                 NaN           00:00:00   \n2         00:00:00  99999999.0                 NaN           00:00:00   \n3         00:00:00  99999999.0                 NaN           00:00:00   \n4         00:00:00  99999999.0                 NaN           00:00:00   \n\n  stm_progfh_in_invoer_dat stm_progfh_in_invoer_tijd stm_progfh_in_duur  \\\n0                      NaN                       NaN                NaN   \n1                      NaN                  00:00:00         99999999.0   \n2                      NaN                  00:00:00         99999999.0   \n3                      NaN                  00:00:00         99999999.0   \n4                      NaN                  00:00:00         99999999.0   \n\n  stm_progfh_gw_datum stm_progfh_gw_tijd  stm_progfh_gw_lwd_datum  \\\n0                 NaN                NaN                      NaN   \n1                 NaN           00:00:00                      NaN   \n2                 NaN           00:00:00                      NaN   \n3                 NaN           00:00:00                      NaN   \n4                 NaN           00:00:00                      NaN   \n\n  stm_progfh_gw_lwd_tijd stm_progfh_gw_duur  stm_progfh_gw_teller  \\\n0                    NaN                NaN                   NaN   \n1                    NaN         99999999.0                   0.0   \n2                    NaN         99999999.0                   0.0   \n3                    NaN         99999999.0                   0.0   \n4                    NaN         99999999.0                   0.0   \n\n  stm_afspr_aanvangdd stm_afspr_aanvangtijd   stm_fh_dd stm_fh_tijd  \\\n0                 NaN                   NaN         NaN         NaN   \n1          00/00/0000              00:00:00  02/01/2006    09:00:00   \n2          00/00/0000              00:00:00  02/01/2006    13:26:00   \n3          00/00/0000              00:00:00  02/01/2006    17:20:00   \n4          00/00/0000              00:00:00  02/01/2006    22:36:00   \n\n   stm_fh_duur  stm_reactie_duur stm_sap_storeinddatum stm_sap_storeindtijd  \\\n0          NaN               NaN                   NaN                  NaN   \n1          0.0        99999999.0            02/01/2006             09:00:00   \n2         51.0        99999999.0            02/01/2006             13:26:00   \n3         40.0        99999999.0            02/01/2006             17:20:00   \n4          6.0        99999999.0            02/01/2006             22:36:00   \n\n  stm_mon_eind_datum stm_mon_eind_tijd stm_controle_dd  \\\n0                NaN               NaN             NaN   \n1                NaN               NaN      05/01/2006   \n2                NaN               NaN      10/01/2006   \n3                NaN               NaN      11/01/2006   \n4                NaN               NaN      09/01/2006   \n\n  stm_akkoord_mon_toewijz  stm_status_sapnaarmon stm_fact_jn  \\\n0                     NaN                    NaN         NaN   \n1                       J                    NaN           N   \n2                       J                    1.0           N   \n3                       J                    1.0           N   \n4                       J                    1.0           N   \n\n  stm_akkoord_melding_jn      stm_afsluit_ddt stm_afsluit_dd stm_afsluit_tijd  \\\n0                    NaN                  NaN            NaN              NaN   \n1                      J  05/01/2009 15:10:09     05/01/2009         15:10:09   \n2                      J  05/01/2009 15:10:11     05/01/2009         15:10:11   \n3                      J  05/01/2009 15:10:13     05/01/2009         15:10:13   \n4                      J  05/01/2009 15:10:15     05/01/2009         15:10:15   \n\n    stm_rec_toegev_ddt stm_hinderwaarde stm_actie stm_standplaats  \\\n0                  NaN              NaN       NaN             NaN   \n1  02/01/2006 04:48:18              0.0       NaN             NaN   \n2  02/01/2006 05:50:40             0.85       NaN             NaN   \n3  02/01/2006 05:50:41             0.67       NaN             NaN   \n4  02/01/2006 05:50:41              0.1       NaN             NaN   \n\n  stm_status_gebr stm_wbi_nummer stm_projnr            stm_oorz_tekst_kort  \\\n0             NaN            NaN        NaN                            NaN   \n1             IN0     0000000000        NaN                            NaN   \n2         IN0  H5     0000000000        NaN       schapen op de spoorbaan!   \n3         IN0  H5     0000000000        NaN          Persoon langs de baan   \n4         IN0  H5     0000000000        NaN   Bijna aanrijding met persoon   \n\n  stm_historie_toelichting stm_schade_verhaalb_jn  stm_schadenr  \\\n0                      NaN                    NaN           NaN   \n1                      NaN                    NaN           0.0   \n2                      NaN                    NaN           0.0   \n3                      NaN                    NaN           0.0   \n4                      NaN                    NaN           0.0   \n\n  stm_schade_status_ga stm_schade_statusdatum stm_relatiervo_vorig  \\\n0                  NaN                    NaN                  NaN   \n1                  NaN                    0.0                  NaN   \n2                  NaN                    0.0                  NaN   \n3                  NaN                    0.0                  NaN   \n4                  NaN                    0.0                  NaN   \n\n  stm_relatiervo_volgend stm_relatiervo stm_pplg_van stm_pplg_naar  \\\n0                    NaN            NaN          NaN           NaN   \n1                    NaN     50053211.0          NaN           NaN   \n2                    NaN     50053213.0          NaN           NaN   \n3                    NaN     50053214.0          NaN           NaN   \n4                    NaN     50053215.0          NaN           NaN   \n\n  stm_dstrglp_van stm_dstrglp_naar stm_afspr_func_hersteldd  \\\n0             NaN              NaN                      NaN   \n1             NaN              NaN               00/00/0000   \n2              Lp              Apg               00/00/0000   \n3             Hgl              NaN               00/00/0000   \n4             Hgv              NaN               00/00/0000   \n\n  stm_afspr_func_hersteltijd stm_sorteerveld  stm_rapportage_maand  \\\n0                        NaN             NaN                     5   \n1                   00:00:00             NaN                     1   \n2                   00:00:00             NaN                     1   \n3                   00:00:00             NaN                     1   \n4                   00:00:00             NaN                     1   \n\n   stm_rapportage_jaar   stm_x_bron_publ_dt  \\\n0                 2014  07/05/2014 05:30:12   \n1                 2006  02/01/2006 09:00:00   \n2                 2006  02/01/2006 12:35:00   \n3                 2006  02/01/2006 16:40:00   \n4                 2006  02/01/2006 22:30:00   \n\n                             stm_x_bron_bestandsnaam   stm_x_bron_arch_dt  \\\n0  \\\\PUHAPS0149\\Informatica_Prod\\Inbox\\Informatic...  31/12/9999 00:00:00   \n1  \\\\PUHAPS0149\\Informatica_Prod\\Inbox\\Informatic...  31/12/9999 00:00:00   \n2  \\\\PUHAPS0149\\Informatica_Prod\\Inbox\\Informatic...  31/12/9999 00:00:00   \n3  \\\\PUHAPS0149\\Informatica_Prod\\Inbox\\Informatic...  31/12/9999 00:00:00   \n4  \\\\PUHAPS0149\\Informatica_Prod\\Inbox\\Informatic...  31/12/9999 00:00:00   \n\n   stm_x_actueel_ind  stm_x_run_id  stm_x_bk stm_x_start_sessie_dt  \\\n0                  1         34415   3617016   07/05/2014 05:44:24   \n1                  1          1518  12704590   13/06/2013 13:37:52   \n2                  1          1518  12704591   13/06/2013 13:37:52   \n3                  1          1518  12704592   13/06/2013 13:37:52   \n4                  1          1518  12704593   13/06/2013 13:37:52   \n\n   stm_x_vervallen_ind  \n0                    0  \n1                    0  \n2                    0  \n3                    0  \n4                    0  ",
      "text/html": "<div>\n<style scoped>\n    .dataframe tbody tr th:only-of-type {\n        vertical-align: middle;\n    }\n\n    .dataframe tbody tr th {\n        vertical-align: top;\n    }\n\n    .dataframe thead th {\n        text-align: right;\n    }\n</style>\n<table border=\"1\" class=\"dataframe\">\n  <thead>\n    <tr style=\"text-align: right;\">\n      <th></th>\n      <th>Unnamed: 0</th>\n      <th>#stm_sap_meldnr</th>\n      <th>stm_mon_nr</th>\n      <th>stm_vl_post</th>\n      <th>stm_sap_meld_ddt</th>\n      <th>stm_sap_mon_meld_ddt</th>\n      <th>stm_sap_meldtekst_lang</th>\n      <th>stm_mon_begin_ddt</th>\n      <th>stm_sap_meldtekst</th>\n      <th>stm_mon_toelichting_trdl</th>\n      <th>stm_oh_pg_mld</th>\n      <th>stm_geo_mld</th>\n      <th>stm_geo_mld_uit_functiepl</th>\n      <th>stm_equipm_nr_mld</th>\n      <th>stm_equipm_soort_mld</th>\n      <th>stm_equipm_omschr_mld</th>\n      <th>stm_km_van_mld</th>\n      <th>stm_km_tot_mld</th>\n      <th>stm_prioriteit</th>\n      <th>stm_scenario_mon</th>\n      <th>stm_status_melding_sap</th>\n      <th>stm_mon_nr_status_omschr</th>\n      <th>stm_mon_nr__statuscode</th>\n      <th>stm_mon_nr_status_wijzdd</th>\n      <th>stm_aanngeb_ddt</th>\n      <th>stm_aanntpl_ddt</th>\n      <th>stm_oh_pg_gst</th>\n      <th>stm_geo_gst</th>\n      <th>stm_geo_gst_uit_functiepl</th>\n      <th>stm_equipm_nr_gst</th>\n      <th>stm_equipm_soort_gst</th>\n      <th>stm_equipm_omschr_gst</th>\n      <th>stm_objectdl_code_gst</th>\n      <th>stm_objectdl_groep_gst</th>\n      <th>stm_km_van_gst</th>\n      <th>stm_km_tot_gst</th>\n      <th>stm_progfh_in_ddt</th>\n      <th>stm_progfh_in_invoer_ddt</th>\n      <th>stm_progfh_gw_ddt</th>\n      <th>stm_progfh_gw_lwd_ddt</th>\n      <th>stm_progfh_hz</th>\n      <th>stm_oorz_groep</th>\n      <th>stm_oorz_code</th>\n      <th>stm_oorz_tkst</th>\n      <th>stm_veroorz_groep</th>\n      <th>stm_veroorz_code</th>\n      <th>stm_veroorz_tekst_kort</th>\n      <th>stm_effect</th>\n      <th>stm_afspr_aanvangddt</th>\n      <th>stm_fh_ddt</th>\n      <th>stm_fh_status</th>\n      <th>stm_sap_storeind_ddt</th>\n      <th>stm_mon_eind_ddt</th>\n      <th>stm_mon_vhdsincident</th>\n      <th>stm_tao_indicator</th>\n      <th>stm_tao_indicator_vorige</th>\n      <th>stm_tao_soort_mutatie</th>\n      <th>stm_tao_telling_mutatie</th>\n      <th>stm_tao_beinvloedbaar_indicator</th>\n      <th>stm_evb</th>\n      <th>stm_dir_betrok_tr</th>\n      <th>stm_aangelegd_dd</th>\n      <th>stm_aangelegd_tijd</th>\n      <th>stm_sap_melddatum</th>\n      <th>stm_sap_meldtijd</th>\n      <th>stm_mon_begindatum</th>\n      <th>stm_mon_begintijd</th>\n      <th>stm_contractgeb_mld</th>\n      <th>stm_functiepl_mld</th>\n      <th>stm_techn_mld</th>\n      <th>stm_contractgeb_gst</th>\n      <th>stm_functiepl_gst</th>\n      <th>stm_techn_gst</th>\n      <th>stm_aanngeb_dd</th>\n      <th>stm_aanngeb_tijd</th>\n      <th>stm_aanntpl_dd</th>\n      <th>stm_aanntpl_tijd</th>\n      <th>stm_arbeid</th>\n      <th>stm_progfh_in_datum</th>\n      <th>stm_progfh_in_tijd</th>\n      <th>stm_progfh_in_invoer_dat</th>\n      <th>stm_progfh_in_invoer_tijd</th>\n      <th>stm_progfh_in_duur</th>\n      <th>stm_progfh_gw_datum</th>\n      <th>stm_progfh_gw_tijd</th>\n      <th>stm_progfh_gw_lwd_datum</th>\n      <th>stm_progfh_gw_lwd_tijd</th>\n      <th>stm_progfh_gw_duur</th>\n      <th>stm_progfh_gw_teller</th>\n      <th>stm_afspr_aanvangdd</th>\n      <th>stm_afspr_aanvangtijd</th>\n      <th>stm_fh_dd</th>\n      <th>stm_fh_tijd</th>\n      <th>stm_fh_duur</th>\n      <th>stm_reactie_duur</th>\n      <th>stm_sap_storeinddatum</th>\n      <th>stm_sap_storeindtijd</th>\n      <th>stm_mon_eind_datum</th>\n      <th>stm_mon_eind_tijd</th>\n      <th>stm_controle_dd</th>\n      <th>stm_akkoord_mon_toewijz</th>\n      <th>stm_status_sapnaarmon</th>\n      <th>stm_fact_jn</th>\n      <th>stm_akkoord_melding_jn</th>\n      <th>stm_afsluit_ddt</th>\n      <th>stm_afsluit_dd</th>\n      <th>stm_afsluit_tijd</th>\n      <th>stm_rec_toegev_ddt</th>\n      <th>stm_hinderwaarde</th>\n      <th>stm_actie</th>\n      <th>stm_standplaats</th>\n      <th>stm_status_gebr</th>\n      <th>stm_wbi_nummer</th>\n      <th>stm_projnr</th>\n      <th>stm_oorz_tekst_kort</th>\n      <th>stm_historie_toelichting</th>\n      <th>stm_schade_verhaalb_jn</th>\n      <th>stm_schadenr</th>\n      <th>stm_schade_status_ga</th>\n      <th>stm_schade_statusdatum</th>\n      <th>stm_relatiervo_vorig</th>\n      <th>stm_relatiervo_volgend</th>\n      <th>stm_relatiervo</th>\n      <th>stm_pplg_van</th>\n      <th>stm_pplg_naar</th>\n      <th>stm_dstrglp_van</th>\n      <th>stm_dstrglp_naar</th>\n      <th>stm_afspr_func_hersteldd</th>\n      <th>stm_afspr_func_hersteltijd</th>\n      <th>stm_sorteerveld</th>\n      <th>stm_rapportage_maand</th>\n      <th>stm_rapportage_jaar</th>\n      <th>stm_x_bron_publ_dt</th>\n      <th>stm_x_bron_bestandsnaam</th>\n      <th>stm_x_bron_arch_dt</th>\n      <th>stm_x_actueel_ind</th>\n      <th>stm_x_run_id</th>\n      <th>stm_x_bk</th>\n      <th>stm_x_start_sessie_dt</th>\n      <th>stm_x_vervallen_ind</th>\n    </tr>\n  </thead>\n  <tbody>\n    <tr>\n      <th>0</th>\n      <td>0</td>\n      <td>0</td>\n      <td>NaN</td>\n      <td>NaN</td>\n      <td>NaN</td>\n      <td>NaN</td>\n      <td>NaN</td>\n      <td>NaN</td>\n      <td>NaN</td>\n      <td>NaN</td>\n      <td>NaN</td>\n      <td>NaN</td>\n      <td>NaN</td>\n      <td>NaN</td>\n      <td>NaN</td>\n      <td>NaN</td>\n      <td>NaN</td>\n      <td>NaN</td>\n      <td>NaN</td>\n      <td>NaN</td>\n      <td>NaN</td>\n      <td>NaN</td>\n      <td>NaN</td>\n      <td>NaN</td>\n      <td>NaN</td>\n      <td>NaN</td>\n      <td>NaN</td>\n      <td>NaN</td>\n      <td>NaN</td>\n      <td>NaN</td>\n      <td>NaN</td>\n      <td>NaN</td>\n      <td>NaN</td>\n      <td>NaN</td>\n      <td>NaN</td>\n      <td>NaN</td>\n      <td>NaN</td>\n      <td>NaN</td>\n      <td>NaN</td>\n      <td>NaN</td>\n      <td>NaN</td>\n      <td>NaN</td>\n      <td>NaN</td>\n      <td>NaN</td>\n      <td>NaN</td>\n      <td>NaN</td>\n      <td>NaN</td>\n      <td>NaN</td>\n      <td>NaN</td>\n      <td>NaN</td>\n      <td>NaN</td>\n      <td>NaN</td>\n      <td>NaN</td>\n      <td>NaN</td>\n      <td>N</td>\n      <td>NaN</td>\n      <td>NaN</td>\n      <td>0</td>\n      <td>B</td>\n      <td>NaN</td>\n      <td>NaN</td>\n      <td>NaN</td>\n      <td>NaN</td>\n      <td>NaN</td>\n      <td>NaN</td>\n      <td>NaN</td>\n      <td>NaN</td>\n      <td>NaN</td>\n      <td>NaN</td>\n      <td>NaN</td>\n      <td>NaN</td>\n      <td>NaN</td>\n      <td>NaN</td>\n      <td>NaN</td>\n      <td>NaN</td>\n      <td>NaN</td>\n      <td>NaN</td>\n      <td>NaN</td>\n      <td>NaN</td>\n      <td>NaN</td>\n      <td>NaN</td>\n      <td>NaN</td>\n      <td>NaN</td>\n      <td>NaN</td>\n      <td>NaN</td>\n      <td>NaN</td>\n      <td>NaN</td>\n      <td>NaN</td>\n      <td>NaN</td>\n      <td>NaN</td>\n      <td>NaN</td>\n      <td>NaN</td>\n      <td>NaN</td>\n      <td>NaN</td>\n      <td>NaN</td>\n      <td>NaN</td>\n      <td>NaN</td>\n      <td>NaN</td>\n      <td>NaN</td>\n      <td>NaN</td>\n      <td>NaN</td>\n      <td>NaN</td>\n      <td>NaN</td>\n      <td>NaN</td>\n      <td>NaN</td>\n      <td>NaN</td>\n      <td>NaN</td>\n      <td>NaN</td>\n      <td>NaN</td>\n      <td>NaN</td>\n      <td>NaN</td>\n      <td>NaN</td>\n      <td>NaN</td>\n      <td>NaN</td>\n      <td>NaN</td>\n      <td>NaN</td>\n      <td>NaN</td>\n      <td>NaN</td>\n      <td>NaN</td>\n      <td>NaN</td>\n      <td>NaN</td>\n      <td>NaN</td>\n      <td>NaN</td>\n      <td>NaN</td>\n      <td>NaN</td>\n      <td>NaN</td>\n      <td>NaN</td>\n      <td>NaN</td>\n      <td>NaN</td>\n      <td>NaN</td>\n      <td>5</td>\n      <td>2014</td>\n      <td>07/05/2014 05:30:12</td>\n      <td>\\\\PUHAPS0149\\Informatica_Prod\\Inbox\\Informatic...</td>\n      <td>31/12/9999 00:00:00</td>\n      <td>1</td>\n      <td>34415</td>\n      <td>3617016</td>\n      <td>07/05/2014 05:44:24</td>\n      <td>0</td>\n    </tr>\n    <tr>\n      <th>1</th>\n      <td>1</td>\n      <td>50053211</td>\n      <td>0.0</td>\n      <td>NaN</td>\n      <td>02/01/2006 09:00:00</td>\n      <td>02/01/2006 09:00:00</td>\n      <td>Logboeknr  Geeltje  :   49 Tijd: 0900   VL-Po...</td>\n      <td>NaN</td>\n      <td>Logboeknr  Geeltje  :   49 Tijd: 0900</td>\n      <td>NaN</td>\n      <td>NaN</td>\n      <td>624.0</td>\n      <td>624.0</td>\n      <td>NaN</td>\n      <td>NaN</td>\n      <td>NaN</td>\n      <td>0.0</td>\n      <td>0.0</td>\n      <td>9.0</td>\n      <td>NaN</td>\n      <td>MAFS MAFD</td>\n      <td>NaN</td>\n      <td>NaN</td>\n      <td>00/00/0000</td>\n      <td>02/01/2006 09:00:00</td>\n      <td>NaN</td>\n      <td>81S</td>\n      <td>624.0</td>\n      <td>624.0</td>\n      <td>NaN</td>\n      <td>NaN</td>\n      <td>NaN</td>\n      <td>NaN</td>\n      <td>NaN</td>\n      <td>0.0</td>\n      <td>0.0</td>\n      <td>NaN</td>\n      <td>NaN</td>\n      <td>NaN</td>\n      <td>NaN</td>\n      <td>Z</td>\n      <td>ONR-RIB</td>\n      <td>133.0</td>\n      <td>Papieren ontbreken</td>\n      <td>ONREGRIB</td>\n      <td>B</td>\n      <td>Volker</td>\n      <td>NaN</td>\n      <td>NaN</td>\n      <td>02/01/2006 09:00:00</td>\n      <td>4.0</td>\n      <td>02/01/2006 09:00:00</td>\n      <td>NaN</td>\n      <td>NaN</td>\n      <td>N</td>\n      <td>NaN</td>\n      <td>NaN</td>\n      <td>0</td>\n      <td>B</td>\n      <td>0,00</td>\n      <td>NaN</td>\n      <td>03/01/2006</td>\n      <td>04:48:18</td>\n      <td>02/01/2006</td>\n      <td>09:00:00</td>\n      <td>NaN</td>\n      <td>NaN</td>\n      <td>NaN</td>\n      <td>624</td>\n      <td>NaN</td>\n      <td>81.0</td>\n      <td>624</td>\n      <td>S</td>\n      <td>02/01/2006</td>\n      <td>09:00:00</td>\n      <td>NaN</td>\n      <td>00:00:00</td>\n      <td>99999999.0</td>\n      <td>NaN</td>\n      <td>00:00:00</td>\n      <td>NaN</td>\n      <td>00:00:00</td>\n      <td>99999999.0</td>\n      <td>NaN</td>\n      <td>00:00:00</td>\n      <td>NaN</td>\n      <td>NaN</td>\n      <td>99999999.0</td>\n      <td>0.0</td>\n      <td>00/00/0000</td>\n      <td>00:00:00</td>\n      <td>02/01/2006</td>\n      <td>09:00:00</td>\n      <td>0.0</td>\n      <td>99999999.0</td>\n      <td>02/01/2006</td>\n      <td>09:00:00</td>\n      <td>NaN</td>\n      <td>NaN</td>\n      <td>05/01/2006</td>\n      <td>J</td>\n      <td>NaN</td>\n      <td>N</td>\n      <td>J</td>\n      <td>05/01/2009 15:10:09</td>\n      <td>05/01/2009</td>\n      <td>15:10:09</td>\n      <td>02/01/2006 04:48:18</td>\n      <td>0.0</td>\n      <td>NaN</td>\n      <td>NaN</td>\n      <td>IN0</td>\n      <td>0000000000</td>\n      <td>NaN</td>\n      <td>NaN</td>\n      <td>NaN</td>\n      <td>NaN</td>\n      <td>0.0</td>\n      <td>NaN</td>\n      <td>0.0</td>\n      <td>NaN</td>\n      <td>NaN</td>\n      <td>50053211.0</td>\n      <td>NaN</td>\n      <td>NaN</td>\n      <td>NaN</td>\n      <td>NaN</td>\n      <td>00/00/0000</td>\n      <td>00:00:00</td>\n      <td>NaN</td>\n      <td>1</td>\n      <td>2006</td>\n      <td>02/01/2006 09:00:00</td>\n      <td>\\\\PUHAPS0149\\Informatica_Prod\\Inbox\\Informatic...</td>\n      <td>31/12/9999 00:00:00</td>\n      <td>1</td>\n      <td>1518</td>\n      <td>12704590</td>\n      <td>13/06/2013 13:37:52</td>\n      <td>0</td>\n    </tr>\n    <tr>\n      <th>2</th>\n      <td>2</td>\n      <td>50053213</td>\n      <td>48.0</td>\n      <td>GN</td>\n      <td>02/01/2006 12:35:00</td>\n      <td>02/01/2006 12:35:00</td>\n      <td>Logboeknr  RBV  :   48 Tijd: 1235   VL-Post: ...</td>\n      <td>02/01/2006 12:35:00</td>\n      <td>Logboeknr  RBV  :   48 Tijd: 1235   VL-P</td>\n      <td>NaN</td>\n      <td>NaN</td>\n      <td>201.0</td>\n      <td>201.0</td>\n      <td>NaN</td>\n      <td>NaN</td>\n      <td>NaN</td>\n      <td>0.0</td>\n      <td>0.0</td>\n      <td>9.0</td>\n      <td>NaN</td>\n      <td>MAFS</td>\n      <td>Aan AM toegewezen</td>\n      <td>0.0</td>\n      <td>03/01/2006</td>\n      <td>02/01/2006 12:35:00</td>\n      <td>NaN</td>\n      <td>37B</td>\n      <td>201.0</td>\n      <td>201.0</td>\n      <td>NaN</td>\n      <td>NaN</td>\n      <td>NaN</td>\n      <td>NaN</td>\n      <td>NaN</td>\n      <td>30200.0</td>\n      <td>0.0</td>\n      <td>NaN</td>\n      <td>NaN</td>\n      <td>NaN</td>\n      <td>NaN</td>\n      <td>Z</td>\n      <td>ONR-DERD</td>\n      <td>143.0</td>\n      <td>NaN</td>\n      <td>ONREGDER</td>\n      <td>T</td>\n      <td>NaN</td>\n      <td>NaN</td>\n      <td>NaN</td>\n      <td>02/01/2006 13:26:00</td>\n      <td>4.0</td>\n      <td>02/01/2006 13:26:00</td>\n      <td>NaN</td>\n      <td>NaN</td>\n      <td>N</td>\n      <td>NaN</td>\n      <td>NaN</td>\n      <td>0</td>\n      <td>NB</td>\n      <td>0,00</td>\n      <td>NaN</td>\n      <td>03/01/2006</td>\n      <td>05:50:40</td>\n      <td>02/01/2006</td>\n      <td>12:35:00</td>\n      <td>02/01/2006</td>\n      <td>12:35:00</td>\n      <td>NaN</td>\n      <td>201</td>\n      <td>NaN</td>\n      <td>37.0</td>\n      <td>201</td>\n      <td>B</td>\n      <td>02/01/2006</td>\n      <td>12:35:00</td>\n      <td>NaN</td>\n      <td>00:00:00</td>\n      <td>99999999.0</td>\n      <td>NaN</td>\n      <td>00:00:00</td>\n      <td>NaN</td>\n      <td>00:00:00</td>\n      <td>99999999.0</td>\n      <td>NaN</td>\n      <td>00:00:00</td>\n      <td>NaN</td>\n      <td>NaN</td>\n      <td>99999999.0</td>\n      <td>0.0</td>\n      <td>00/00/0000</td>\n      <td>00:00:00</td>\n      <td>02/01/2006</td>\n      <td>13:26:00</td>\n      <td>51.0</td>\n      <td>99999999.0</td>\n      <td>02/01/2006</td>\n      <td>13:26:00</td>\n      <td>NaN</td>\n      <td>NaN</td>\n      <td>10/01/2006</td>\n      <td>J</td>\n      <td>1.0</td>\n      <td>N</td>\n      <td>J</td>\n      <td>05/01/2009 15:10:11</td>\n      <td>05/01/2009</td>\n      <td>15:10:11</td>\n      <td>02/01/2006 05:50:40</td>\n      <td>0.85</td>\n      <td>NaN</td>\n      <td>NaN</td>\n      <td>IN0  H5</td>\n      <td>0000000000</td>\n      <td>NaN</td>\n      <td>schapen op de spoorbaan!</td>\n      <td>NaN</td>\n      <td>NaN</td>\n      <td>0.0</td>\n      <td>NaN</td>\n      <td>0.0</td>\n      <td>NaN</td>\n      <td>NaN</td>\n      <td>50053213.0</td>\n      <td>NaN</td>\n      <td>NaN</td>\n      <td>Lp</td>\n      <td>Apg</td>\n      <td>00/00/0000</td>\n      <td>00:00:00</td>\n      <td>NaN</td>\n      <td>1</td>\n      <td>2006</td>\n      <td>02/01/2006 12:35:00</td>\n      <td>\\\\PUHAPS0149\\Informatica_Prod\\Inbox\\Informatic...</td>\n      <td>31/12/9999 00:00:00</td>\n      <td>1</td>\n      <td>1518</td>\n      <td>12704591</td>\n      <td>13/06/2013 13:37:52</td>\n      <td>0</td>\n    </tr>\n    <tr>\n      <th>3</th>\n      <td>3</td>\n      <td>50053214</td>\n      <td>72.0</td>\n      <td>ZL</td>\n      <td>02/01/2006 16:40:00</td>\n      <td>02/01/2006 16:40:00</td>\n      <td>Logboeknr  RBV  :   72 Tijd: 1640   VL-Post: ...</td>\n      <td>02/01/2006 16:40:00</td>\n      <td>Logboeknr  RBV  :   72 Tijd: 1640   VL-P</td>\n      <td>NaN</td>\n      <td>NaN</td>\n      <td>25.0</td>\n      <td>25.0</td>\n      <td>NaN</td>\n      <td>NaN</td>\n      <td>NaN</td>\n      <td>0.0</td>\n      <td>0.0</td>\n      <td>9.0</td>\n      <td>NaN</td>\n      <td>MAFS MAFD</td>\n      <td>Aan AM toegewezen</td>\n      <td>0.0</td>\n      <td>03/01/2006</td>\n      <td>02/01/2006 16:40:00</td>\n      <td>NaN</td>\n      <td>32B</td>\n      <td>25.0</td>\n      <td>25.0</td>\n      <td>NaN</td>\n      <td>NaN</td>\n      <td>NaN</td>\n      <td>NaN</td>\n      <td>NaN</td>\n      <td>14000.0</td>\n      <td>0.0</td>\n      <td>NaN</td>\n      <td>NaN</td>\n      <td>NaN</td>\n      <td>NaN</td>\n      <td>Z</td>\n      <td>ONR-DERD</td>\n      <td>142.0</td>\n      <td>NaN</td>\n      <td>ONREGDER</td>\n      <td>T</td>\n      <td>NaN</td>\n      <td>NaN</td>\n      <td>NaN</td>\n      <td>02/01/2006 17:20:00</td>\n      <td>4.0</td>\n      <td>02/01/2006 17:20:00</td>\n      <td>NaN</td>\n      <td>NaN</td>\n      <td>N</td>\n      <td>NaN</td>\n      <td>NaN</td>\n      <td>0</td>\n      <td>NB</td>\n      <td>0,00</td>\n      <td>NaN</td>\n      <td>03/01/2006</td>\n      <td>05:50:41</td>\n      <td>02/01/2006</td>\n      <td>16:40:00</td>\n      <td>02/01/2006</td>\n      <td>16:40:00</td>\n      <td>NaN</td>\n      <td>025</td>\n      <td>NaN</td>\n      <td>32.0</td>\n      <td>025</td>\n      <td>B</td>\n      <td>02/01/2006</td>\n      <td>16:40:00</td>\n      <td>NaN</td>\n      <td>00:00:00</td>\n      <td>99999999.0</td>\n      <td>NaN</td>\n      <td>00:00:00</td>\n      <td>NaN</td>\n      <td>00:00:00</td>\n      <td>99999999.0</td>\n      <td>NaN</td>\n      <td>00:00:00</td>\n      <td>NaN</td>\n      <td>NaN</td>\n      <td>99999999.0</td>\n      <td>0.0</td>\n      <td>00/00/0000</td>\n      <td>00:00:00</td>\n      <td>02/01/2006</td>\n      <td>17:20:00</td>\n      <td>40.0</td>\n      <td>99999999.0</td>\n      <td>02/01/2006</td>\n      <td>17:20:00</td>\n      <td>NaN</td>\n      <td>NaN</td>\n      <td>11/01/2006</td>\n      <td>J</td>\n      <td>1.0</td>\n      <td>N</td>\n      <td>J</td>\n      <td>05/01/2009 15:10:13</td>\n      <td>05/01/2009</td>\n      <td>15:10:13</td>\n      <td>02/01/2006 05:50:41</td>\n      <td>0.67</td>\n      <td>NaN</td>\n      <td>NaN</td>\n      <td>IN0  H5</td>\n      <td>0000000000</td>\n      <td>NaN</td>\n      <td>Persoon langs de baan</td>\n      <td>NaN</td>\n      <td>NaN</td>\n      <td>0.0</td>\n      <td>NaN</td>\n      <td>0.0</td>\n      <td>NaN</td>\n      <td>NaN</td>\n      <td>50053214.0</td>\n      <td>NaN</td>\n      <td>NaN</td>\n      <td>Hgl</td>\n      <td>NaN</td>\n      <td>00/00/0000</td>\n      <td>00:00:00</td>\n      <td>NaN</td>\n      <td>1</td>\n      <td>2006</td>\n      <td>02/01/2006 16:40:00</td>\n      <td>\\\\PUHAPS0149\\Informatica_Prod\\Inbox\\Informatic...</td>\n      <td>31/12/9999 00:00:00</td>\n      <td>1</td>\n      <td>1518</td>\n      <td>12704592</td>\n      <td>13/06/2013 13:37:52</td>\n      <td>0</td>\n    </tr>\n    <tr>\n      <th>4</th>\n      <td>4</td>\n      <td>50053215</td>\n      <td>96.0</td>\n      <td>ZL</td>\n      <td>02/01/2006 22:30:00</td>\n      <td>02/01/2006 22:30:00</td>\n      <td>Logboeknr  RBV  :   96 Tijd: 2230   VL-Post: ...</td>\n      <td>02/01/2006 22:30:00</td>\n      <td>Logboeknr  RBV  :   96 Tijd: 2230   VL-P</td>\n      <td>NaN</td>\n      <td>NaN</td>\n      <td>12.0</td>\n      <td>12.0</td>\n      <td>NaN</td>\n      <td>NaN</td>\n      <td>NaN</td>\n      <td>0.0</td>\n      <td>0.0</td>\n      <td>9.0</td>\n      <td>NaN</td>\n      <td>MAFS</td>\n      <td>Aan AM toegewezen</td>\n      <td>0.0</td>\n      <td>03/01/2006</td>\n      <td>02/01/2006 22:30:00</td>\n      <td>NaN</td>\n      <td>35B</td>\n      <td>12.0</td>\n      <td>12.0</td>\n      <td>NaN</td>\n      <td>NaN</td>\n      <td>NaN</td>\n      <td>NaN</td>\n      <td>NaN</td>\n      <td>19819.0</td>\n      <td>0.0</td>\n      <td>NaN</td>\n      <td>NaN</td>\n      <td>NaN</td>\n      <td>NaN</td>\n      <td>Z</td>\n      <td>ONR-DERD</td>\n      <td>142.0</td>\n      <td>NaN</td>\n      <td>ONREGDER</td>\n      <td>T</td>\n      <td>NaN</td>\n      <td>NaN</td>\n      <td>NaN</td>\n      <td>02/01/2006 22:36:00</td>\n      <td>4.0</td>\n      <td>02/01/2006 22:36:00</td>\n      <td>NaN</td>\n      <td>NaN</td>\n      <td>N</td>\n      <td>NaN</td>\n      <td>NaN</td>\n      <td>0</td>\n      <td>NB</td>\n      <td>0,00</td>\n      <td>NaN</td>\n      <td>03/01/2006</td>\n      <td>05:50:41</td>\n      <td>02/01/2006</td>\n      <td>22:30:00</td>\n      <td>02/01/2006</td>\n      <td>22:30:00</td>\n      <td>NaN</td>\n      <td>012</td>\n      <td>NaN</td>\n      <td>35.0</td>\n      <td>012</td>\n      <td>B</td>\n      <td>02/01/2006</td>\n      <td>22:30:00</td>\n      <td>NaN</td>\n      <td>00:00:00</td>\n      <td>99999999.0</td>\n      <td>NaN</td>\n      <td>00:00:00</td>\n      <td>NaN</td>\n      <td>00:00:00</td>\n      <td>99999999.0</td>\n      <td>NaN</td>\n      <td>00:00:00</td>\n      <td>NaN</td>\n      <td>NaN</td>\n      <td>99999999.0</td>\n      <td>0.0</td>\n      <td>00/00/0000</td>\n      <td>00:00:00</td>\n      <td>02/01/2006</td>\n      <td>22:36:00</td>\n      <td>6.0</td>\n      <td>99999999.0</td>\n      <td>02/01/2006</td>\n      <td>22:36:00</td>\n      <td>NaN</td>\n      <td>NaN</td>\n      <td>09/01/2006</td>\n      <td>J</td>\n      <td>1.0</td>\n      <td>N</td>\n      <td>J</td>\n      <td>05/01/2009 15:10:15</td>\n      <td>05/01/2009</td>\n      <td>15:10:15</td>\n      <td>02/01/2006 05:50:41</td>\n      <td>0.1</td>\n      <td>NaN</td>\n      <td>NaN</td>\n      <td>IN0  H5</td>\n      <td>0000000000</td>\n      <td>NaN</td>\n      <td>Bijna aanrijding met persoon</td>\n      <td>NaN</td>\n      <td>NaN</td>\n      <td>0.0</td>\n      <td>NaN</td>\n      <td>0.0</td>\n      <td>NaN</td>\n      <td>NaN</td>\n      <td>50053215.0</td>\n      <td>NaN</td>\n      <td>NaN</td>\n      <td>Hgv</td>\n      <td>NaN</td>\n      <td>00/00/0000</td>\n      <td>00:00:00</td>\n      <td>NaN</td>\n      <td>1</td>\n      <td>2006</td>\n      <td>02/01/2006 22:30:00</td>\n      <td>\\\\PUHAPS0149\\Informatica_Prod\\Inbox\\Informatic...</td>\n      <td>31/12/9999 00:00:00</td>\n      <td>1</td>\n      <td>1518</td>\n      <td>12704593</td>\n      <td>13/06/2013 13:37:52</td>\n      <td>0</td>\n    </tr>\n  </tbody>\n</table>\n</div>"
     },
     "execution_count": 3,
     "metadata": {},
     "output_type": "execute_result"
    }
   ],
   "source": [
    "dataset_complete.head()"
   ],
   "metadata": {
    "collapsed": false,
    "pycharm": {
     "name": "#%%\n"
    }
   }
  },
  {
   "cell_type": "code",
   "execution_count": 4,
   "outputs": [
    {
     "name": "stdout",
     "output_type": "stream",
     "text": [
      "De dataset bevat 898526 rijen en 140 kolommen\n"
     ]
    }
   ],
   "source": [
    "rows, cols = dataset_complete.shape\n",
    "print(f'De dataset bevat {rows} rijen en {cols} kolommen')"
   ],
   "metadata": {
    "collapsed": false,
    "pycharm": {
     "name": "#%%\n"
    }
   }
  },
  {
   "cell_type": "markdown",
   "source": [
    "De gehele dataset is 9 jaar, volgens Rosa van ProRail is 1 jaar representatief van alle soort storingen/gevallen.\n",
    "Omdat code/plots uitvoeren op de gehele dataset erg lang duurt werken we met 10% (1 jaar) van de dataset, dit zou representief moeten zijn van alle storingen."
   ],
   "metadata": {
    "collapsed": false,
    "pycharm": {
     "name": "#%% md\n"
    }
   }
  },
  {
   "cell_type": "code",
   "execution_count": 5,
   "outputs": [],
   "source": [
    "dataset = dataset_complete.sample(int(dataset_complete.shape[0]*.1), random_state=0)"
   ],
   "metadata": {
    "collapsed": false,
    "pycharm": {
     "name": "#%%\n"
    }
   }
  },
  {
   "cell_type": "code",
   "execution_count": 6,
   "outputs": [
    {
     "name": "stdout",
     "output_type": "stream",
     "text": [
      "De dataset bevat 89852 rijen en 140 kolommen\n"
     ]
    }
   ],
   "source": [
    "rows, cols = dataset.shape\n",
    "print(f'De dataset bevat {rows} rijen en {cols} kolommen')"
   ],
   "metadata": {
    "collapsed": false,
    "pycharm": {
     "name": "#%%\n"
    }
   }
  },
  {
   "cell_type": "markdown",
   "source": [
    "Volgens de product-owner komen meldnummers meerdere keren voor in de dataset.\n",
    "Laten controleren hoeveel dubbele meldnummers voorkomen."
   ],
   "metadata": {
    "collapsed": false,
    "pycharm": {
     "name": "#%% md\n"
    }
   }
  },
  {
   "cell_type": "code",
   "execution_count": 7,
   "outputs": [
    {
     "data": {
      "text/plain": "4983"
     },
     "execution_count": 7,
     "metadata": {},
     "output_type": "execute_result"
    }
   ],
   "source": [
    "dataset['#stm_sap_meldnr'].duplicated().sum()"
   ],
   "metadata": {
    "collapsed": false,
    "pycharm": {
     "name": "#%%\n"
    }
   }
  },
  {
   "cell_type": "markdown",
   "source": [
    "Er zitten een aantal dubbele meldnummers deze verwijderen we tijdens data-preparation, omdat we niet dezelfde storingen meerdere keren willen meenemen in een voorspellend model."
   ],
   "metadata": {
    "collapsed": false,
    "pycharm": {
     "name": "#%% md\n"
    }
   }
  },
  {
   "cell_type": "markdown",
   "source": [
    "#### Interessante kolommen om de target variabele te construeren.\n",
    "We gaan eerst de kolommen analyseren die mogelijk van toepassing kunnen zijn bij het bepalen van de target: de reparatie duur.\n",
    "\n",
    "Hiervoor gebruiken we het tijdstip van de functieherstel.\n",
    "Functieherstel tijdstip is het moment dat een storing is opgelost, maar het treinverkeer nog niet per definitie hervat is.\n",
    "De functieherstel duur is de tijd vanaf de initiële melding tot de tijdstip van functieherstel.\n",
    "\n",
    "Volgens het interview met ProRail is het vaak lastig om te bepalen hoelang het duurt voordat een aanemer ter plaatse is om een storing te verhelpen.\n",
    "Om deze reden is de duur van de complete storing (functieherstel duur) lastig te voorspellen. Daarom kijken we ook naar de tijd dat de aannemer ter plaatse is. De duur van dit tijdstip tot het tijdstip van de functieherstel tijd is interessant om te onderzoeken, omdat vanaf het moment dat de aannemer aanwezig is er **waarschijnlijk** meer voorspellingskracht is over hoelang de vertraging nog duurt.\n",
    "\n",
    "Ook heeft ProRail ons laten weten dat ze het vooral interessant vinden om storingen te bekijken/voorspellen die niet langer duren dan een werkdag.\n",
    "\n",
    "Voor de meld-, aannemer-ter-plaatse- en functiehersteltijd zijn 2 verschillende kolommen aanwezig in de data dictionary. Laten we ze allemaal bekijken om het verschil te zien."
   ],
   "metadata": {
    "collapsed": false,
    "pycharm": {
     "name": "#%% md\n"
    }
   }
  },
  {
   "cell_type": "code",
   "execution_count": 8,
   "outputs": [],
   "source": [
    "target_columns = ['stm_sap_melddatum', 'stm_sap_meldtijd', 'stm_sap_meld_ddt',\n",
    "                    'stm_aanntpl_dd', 'stm_aanntpl_tijd', 'stm_aanntpl_ddt',\n",
    "                    'stm_fh_dd', 'stm_fh_tijd', 'stm_fh_ddt']"
   ],
   "metadata": {
    "collapsed": false,
    "pycharm": {
     "name": "#%%\n"
    }
   }
  },
  {
   "cell_type": "code",
   "execution_count": 9,
   "outputs": [
    {
     "data": {
      "text/plain": "       stm_sap_melddatum stm_sap_meldtijd     stm_sap_meld_ddt stm_aanntpl_dd  \\\n592816        12/01/2014         14:10:00  12/01/2014 14:10:00     13/01/2014   \n680751        30/01/2015         17:32:00  30/01/2015 17:32:00     30/01/2015   \n760628        20/04/2016         08:25:04  20/04/2016 08:25:04     20/04/2016   \n237571        06/08/2006         10:23:00  06/08/2006 10:23:00     06/08/2006   \n849077        19/09/2017         11:50:21  19/09/2017 11:50:21     19/09/2017   \n679491        25/01/2015         05:20:00  25/01/2015 05:20:00     25/01/2015   \n341653        10/04/2009         18:02:00  10/04/2009 18:02:00     11/04/2009   \n304567        06/05/2008         10:21:00  06/05/2008 10:21:00     06/05/2008   \n515604        01/03/2013         09:43:00  01/03/2013 09:43:00     01/03/2013   \n498789        30/12/2012         10:44:00  30/12/2012 10:44:00     30/12/2012   \n62759         17/08/2014         23:20:00  17/08/2014 23:20:00            NaN   \n78851         30/09/2015         13:26:00  30/09/2015 13:26:00            NaN   \n345916        23/05/2009         09:35:00  23/05/2009 09:35:00     23/05/2009   \n590986        05/01/2014         00:13:00  05/01/2014 00:13:00            NaN   \n809023        15/11/2016         01:45:41  15/11/2016 01:45:41     15/11/2016   \n646478        28/07/2014         06:15:00  28/07/2014 06:15:00     05/09/2014   \n287734        18/11/2007         19:21:00  18/11/2007 19:21:00     18/11/2007   \n314113        27/07/2008         22:10:00  27/07/2008 22:10:00     28/07/2008   \n143112        20/05/2015         23:12:00  20/05/2015 23:12:00     21/05/2015   \n618494        18/04/2014         13:43:00  18/04/2014 13:43:00     18/04/2014   \n\n       stm_aanntpl_tijd      stm_aanntpl_ddt   stm_fh_dd stm_fh_tijd  \\\n592816         09:50:00  13/01/2014 09:50:00  13/01/2014    10:29:00   \n680751         18:46:00  30/01/2015 18:46:00  30/01/2015    19:20:00   \n760628         08:25:39  20/04/2016 08:25:39  20/04/2016    12:20:48   \n237571         11:27:00  06/08/2006 11:27:00  06/08/2006    12:19:00   \n849077         13:00:01  19/09/2017 13:00:01  19/09/2017    13:34:00   \n679491         23:45:00  25/01/2015 23:45:00  26/01/2015    00:15:00   \n341653         21:00:00  11/04/2009 21:00:00  11/04/2009    21:15:00   \n304567         12:01:00  06/05/2008 12:01:00  06/05/2008    12:07:00   \n515604         09:47:00  01/03/2013 09:47:00  01/03/2013    09:54:00   \n498789         11:55:00  30/12/2012 11:55:00  30/12/2012    14:50:00   \n62759          00:00:00                  NaN         NaN    00:00:00   \n78851          00:00:00                  NaN         NaN    00:00:00   \n345916         09:55:00  23/05/2009 09:55:00  23/05/2009    11:05:00   \n590986         00:00:00                  NaN  09/01/2014    12:23:00   \n809023         02:44:00  15/11/2016 02:44:00  15/11/2016    03:15:00   \n646478         13:20:00  05/09/2014 13:20:00  05/09/2014    13:22:00   \n287734         19:24:00  18/11/2007 19:24:00  18/11/2007    19:27:00   \n314113         09:30:00  28/07/2008 09:30:00  28/07/2008    09:31:00   \n143112         00:27:00  21/05/2015 00:27:00  21/05/2015    00:56:00   \n618494         13:49:00  18/04/2014 13:49:00  18/04/2014    13:54:00   \n\n                 stm_fh_ddt  \n592816  13/01/2014 10:29:00  \n680751  30/01/2015 19:20:00  \n760628  20/04/2016 12:20:48  \n237571  06/08/2006 12:19:00  \n849077  19/09/2017 13:34:00  \n679491  26/01/2015 00:15:00  \n341653  11/04/2009 21:15:00  \n304567  06/05/2008 12:07:00  \n515604  01/03/2013 09:54:00  \n498789  30/12/2012 14:50:00  \n62759                   NaN  \n78851                   NaN  \n345916  23/05/2009 11:05:00  \n590986  09/01/2014 12:23:00  \n809023  15/11/2016 03:15:00  \n646478  05/09/2014 13:22:00  \n287734  18/11/2007 19:27:00  \n314113  28/07/2008 09:31:00  \n143112  21/05/2015 00:56:00  \n618494  18/04/2014 13:54:00  ",
      "text/html": "<div>\n<style scoped>\n    .dataframe tbody tr th:only-of-type {\n        vertical-align: middle;\n    }\n\n    .dataframe tbody tr th {\n        vertical-align: top;\n    }\n\n    .dataframe thead th {\n        text-align: right;\n    }\n</style>\n<table border=\"1\" class=\"dataframe\">\n  <thead>\n    <tr style=\"text-align: right;\">\n      <th></th>\n      <th>stm_sap_melddatum</th>\n      <th>stm_sap_meldtijd</th>\n      <th>stm_sap_meld_ddt</th>\n      <th>stm_aanntpl_dd</th>\n      <th>stm_aanntpl_tijd</th>\n      <th>stm_aanntpl_ddt</th>\n      <th>stm_fh_dd</th>\n      <th>stm_fh_tijd</th>\n      <th>stm_fh_ddt</th>\n    </tr>\n  </thead>\n  <tbody>\n    <tr>\n      <th>592816</th>\n      <td>12/01/2014</td>\n      <td>14:10:00</td>\n      <td>12/01/2014 14:10:00</td>\n      <td>13/01/2014</td>\n      <td>09:50:00</td>\n      <td>13/01/2014 09:50:00</td>\n      <td>13/01/2014</td>\n      <td>10:29:00</td>\n      <td>13/01/2014 10:29:00</td>\n    </tr>\n    <tr>\n      <th>680751</th>\n      <td>30/01/2015</td>\n      <td>17:32:00</td>\n      <td>30/01/2015 17:32:00</td>\n      <td>30/01/2015</td>\n      <td>18:46:00</td>\n      <td>30/01/2015 18:46:00</td>\n      <td>30/01/2015</td>\n      <td>19:20:00</td>\n      <td>30/01/2015 19:20:00</td>\n    </tr>\n    <tr>\n      <th>760628</th>\n      <td>20/04/2016</td>\n      <td>08:25:04</td>\n      <td>20/04/2016 08:25:04</td>\n      <td>20/04/2016</td>\n      <td>08:25:39</td>\n      <td>20/04/2016 08:25:39</td>\n      <td>20/04/2016</td>\n      <td>12:20:48</td>\n      <td>20/04/2016 12:20:48</td>\n    </tr>\n    <tr>\n      <th>237571</th>\n      <td>06/08/2006</td>\n      <td>10:23:00</td>\n      <td>06/08/2006 10:23:00</td>\n      <td>06/08/2006</td>\n      <td>11:27:00</td>\n      <td>06/08/2006 11:27:00</td>\n      <td>06/08/2006</td>\n      <td>12:19:00</td>\n      <td>06/08/2006 12:19:00</td>\n    </tr>\n    <tr>\n      <th>849077</th>\n      <td>19/09/2017</td>\n      <td>11:50:21</td>\n      <td>19/09/2017 11:50:21</td>\n      <td>19/09/2017</td>\n      <td>13:00:01</td>\n      <td>19/09/2017 13:00:01</td>\n      <td>19/09/2017</td>\n      <td>13:34:00</td>\n      <td>19/09/2017 13:34:00</td>\n    </tr>\n    <tr>\n      <th>679491</th>\n      <td>25/01/2015</td>\n      <td>05:20:00</td>\n      <td>25/01/2015 05:20:00</td>\n      <td>25/01/2015</td>\n      <td>23:45:00</td>\n      <td>25/01/2015 23:45:00</td>\n      <td>26/01/2015</td>\n      <td>00:15:00</td>\n      <td>26/01/2015 00:15:00</td>\n    </tr>\n    <tr>\n      <th>341653</th>\n      <td>10/04/2009</td>\n      <td>18:02:00</td>\n      <td>10/04/2009 18:02:00</td>\n      <td>11/04/2009</td>\n      <td>21:00:00</td>\n      <td>11/04/2009 21:00:00</td>\n      <td>11/04/2009</td>\n      <td>21:15:00</td>\n      <td>11/04/2009 21:15:00</td>\n    </tr>\n    <tr>\n      <th>304567</th>\n      <td>06/05/2008</td>\n      <td>10:21:00</td>\n      <td>06/05/2008 10:21:00</td>\n      <td>06/05/2008</td>\n      <td>12:01:00</td>\n      <td>06/05/2008 12:01:00</td>\n      <td>06/05/2008</td>\n      <td>12:07:00</td>\n      <td>06/05/2008 12:07:00</td>\n    </tr>\n    <tr>\n      <th>515604</th>\n      <td>01/03/2013</td>\n      <td>09:43:00</td>\n      <td>01/03/2013 09:43:00</td>\n      <td>01/03/2013</td>\n      <td>09:47:00</td>\n      <td>01/03/2013 09:47:00</td>\n      <td>01/03/2013</td>\n      <td>09:54:00</td>\n      <td>01/03/2013 09:54:00</td>\n    </tr>\n    <tr>\n      <th>498789</th>\n      <td>30/12/2012</td>\n      <td>10:44:00</td>\n      <td>30/12/2012 10:44:00</td>\n      <td>30/12/2012</td>\n      <td>11:55:00</td>\n      <td>30/12/2012 11:55:00</td>\n      <td>30/12/2012</td>\n      <td>14:50:00</td>\n      <td>30/12/2012 14:50:00</td>\n    </tr>\n    <tr>\n      <th>62759</th>\n      <td>17/08/2014</td>\n      <td>23:20:00</td>\n      <td>17/08/2014 23:20:00</td>\n      <td>NaN</td>\n      <td>00:00:00</td>\n      <td>NaN</td>\n      <td>NaN</td>\n      <td>00:00:00</td>\n      <td>NaN</td>\n    </tr>\n    <tr>\n      <th>78851</th>\n      <td>30/09/2015</td>\n      <td>13:26:00</td>\n      <td>30/09/2015 13:26:00</td>\n      <td>NaN</td>\n      <td>00:00:00</td>\n      <td>NaN</td>\n      <td>NaN</td>\n      <td>00:00:00</td>\n      <td>NaN</td>\n    </tr>\n    <tr>\n      <th>345916</th>\n      <td>23/05/2009</td>\n      <td>09:35:00</td>\n      <td>23/05/2009 09:35:00</td>\n      <td>23/05/2009</td>\n      <td>09:55:00</td>\n      <td>23/05/2009 09:55:00</td>\n      <td>23/05/2009</td>\n      <td>11:05:00</td>\n      <td>23/05/2009 11:05:00</td>\n    </tr>\n    <tr>\n      <th>590986</th>\n      <td>05/01/2014</td>\n      <td>00:13:00</td>\n      <td>05/01/2014 00:13:00</td>\n      <td>NaN</td>\n      <td>00:00:00</td>\n      <td>NaN</td>\n      <td>09/01/2014</td>\n      <td>12:23:00</td>\n      <td>09/01/2014 12:23:00</td>\n    </tr>\n    <tr>\n      <th>809023</th>\n      <td>15/11/2016</td>\n      <td>01:45:41</td>\n      <td>15/11/2016 01:45:41</td>\n      <td>15/11/2016</td>\n      <td>02:44:00</td>\n      <td>15/11/2016 02:44:00</td>\n      <td>15/11/2016</td>\n      <td>03:15:00</td>\n      <td>15/11/2016 03:15:00</td>\n    </tr>\n    <tr>\n      <th>646478</th>\n      <td>28/07/2014</td>\n      <td>06:15:00</td>\n      <td>28/07/2014 06:15:00</td>\n      <td>05/09/2014</td>\n      <td>13:20:00</td>\n      <td>05/09/2014 13:20:00</td>\n      <td>05/09/2014</td>\n      <td>13:22:00</td>\n      <td>05/09/2014 13:22:00</td>\n    </tr>\n    <tr>\n      <th>287734</th>\n      <td>18/11/2007</td>\n      <td>19:21:00</td>\n      <td>18/11/2007 19:21:00</td>\n      <td>18/11/2007</td>\n      <td>19:24:00</td>\n      <td>18/11/2007 19:24:00</td>\n      <td>18/11/2007</td>\n      <td>19:27:00</td>\n      <td>18/11/2007 19:27:00</td>\n    </tr>\n    <tr>\n      <th>314113</th>\n      <td>27/07/2008</td>\n      <td>22:10:00</td>\n      <td>27/07/2008 22:10:00</td>\n      <td>28/07/2008</td>\n      <td>09:30:00</td>\n      <td>28/07/2008 09:30:00</td>\n      <td>28/07/2008</td>\n      <td>09:31:00</td>\n      <td>28/07/2008 09:31:00</td>\n    </tr>\n    <tr>\n      <th>143112</th>\n      <td>20/05/2015</td>\n      <td>23:12:00</td>\n      <td>20/05/2015 23:12:00</td>\n      <td>21/05/2015</td>\n      <td>00:27:00</td>\n      <td>21/05/2015 00:27:00</td>\n      <td>21/05/2015</td>\n      <td>00:56:00</td>\n      <td>21/05/2015 00:56:00</td>\n    </tr>\n    <tr>\n      <th>618494</th>\n      <td>18/04/2014</td>\n      <td>13:43:00</td>\n      <td>18/04/2014 13:43:00</td>\n      <td>18/04/2014</td>\n      <td>13:49:00</td>\n      <td>18/04/2014 13:49:00</td>\n      <td>18/04/2014</td>\n      <td>13:54:00</td>\n      <td>18/04/2014 13:54:00</td>\n    </tr>\n  </tbody>\n</table>\n</div>"
     },
     "execution_count": 9,
     "metadata": {},
     "output_type": "execute_result"
    }
   ],
   "source": [
    "dataset[target_columns].head(20)"
   ],
   "metadata": {
    "collapsed": false,
    "pycharm": {
     "name": "#%%\n"
    }
   }
  },
  {
   "cell_type": "markdown",
   "source": [
    "De datum en tijd kolommen lijken overeen te komen met de datumtijd kolommen.\n",
    "Tijd kolommen waar een 00:00:00 als waarde is opgegeven ljken overeen te komen met NaN waardes bij datum en datumtijd.\n",
    "\n",
    "Het format is:\n",
    "Datum in Dag/Maand/Jaar\n",
    "Tijd in Uur:Minuten:Seconden\n",
    "Datumtijd in Dag/Maand/Jaar Uur:Minuten:Seconden\n",
    "\n",
    "Voordat we verder gaan met data understanding laten we eerst onze target variabele construeren:\n",
    "De duur vanaf het moment dat de aannemer ter plaatse is tot het moment van functie herstel, oftwel de **Reparatie duur**."
   ],
   "metadata": {
    "collapsed": false,
    "pycharm": {
     "name": "#%% md\n"
    }
   }
  },
  {
   "cell_type": "markdown",
   "source": [
    "#### Data preparation\n",
    "\n",
    "De reparatie duur is het moment van de aannemer ter plaatse tot het moment van functieherstel. Om dit te bepalen hebben we de kolommen 'stm_aanntpl_ddt' en 'stm_fh_ddt' nodig.\n",
    "Om de totale functieherstel duur te berekenen zijn de kolommen 'stm_sap_meld_ddt' en 'stm_fh_ddt' nodig."
   ],
   "metadata": {
    "collapsed": false,
    "pycharm": {
     "name": "#%% md\n"
    }
   }
  },
  {
   "cell_type": "code",
   "execution_count": 10,
   "outputs": [],
   "source": [
    "cols_for_target = ['stm_sap_meld_ddt', 'stm_aanntpl_ddt', 'stm_fh_ddt']"
   ],
   "metadata": {
    "collapsed": false,
    "pycharm": {
     "name": "#%%\n"
    }
   }
  },
  {
   "cell_type": "markdown",
   "source": [
    "##### Dtypes\n",
    "Types van de benodigde kolommen controleren."
   ],
   "metadata": {
    "collapsed": false,
    "pycharm": {
     "name": "#%% md\n"
    }
   }
  },
  {
   "cell_type": "code",
   "execution_count": 11,
   "outputs": [
    {
     "data": {
      "text/plain": "stm_sap_meld_ddt    object\nstm_aanntpl_ddt     object\nstm_fh_ddt          object\ndtype: object"
     },
     "execution_count": 11,
     "metadata": {},
     "output_type": "execute_result"
    }
   ],
   "source": [
    "dataset[cols_for_target].dtypes"
   ],
   "metadata": {
    "collapsed": false,
    "pycharm": {
     "name": "#%%\n"
    }
   }
  },
  {
   "cell_type": "markdown",
   "source": [
    "Zoals te zien zijn de data en tijden momenteel objecten. We veranderen alle dtypes van tijd en datum kolommen naar een datetime datatype, om vervolgens met deze datums te kunnen rekenen.\n",
    "Dit doen we gelijk voor alle ddt kolommen in de gehele dataset."
   ],
   "metadata": {
    "collapsed": false,
    "pycharm": {
     "name": "#%% md\n"
    }
   }
  },
  {
   "cell_type": "code",
   "execution_count": 12,
   "outputs": [],
   "source": [
    "ddt_cols = list(filter(lambda x: 'ddt' in x, dataset.columns)) # filter columns on containing 'ddt' in their name\n",
    "dataset[ddt_cols] = dataset[ddt_cols].apply(lambda ddt_col: pd.to_datetime(ddt_col, format='%d/%m/%Y %H:%M:%S', errors='coerce')) # apply to_datetime to every ddt column"
   ],
   "metadata": {
    "collapsed": false,
    "pycharm": {
     "name": "#%%\n"
    }
   }
  },
  {
   "cell_type": "code",
   "execution_count": 13,
   "outputs": [
    {
     "data": {
      "text/plain": "stm_sap_meld_ddt    datetime64[ns]\nstm_aanntpl_ddt     datetime64[ns]\nstm_fh_ddt          datetime64[ns]\ndtype: object"
     },
     "execution_count": 13,
     "metadata": {},
     "output_type": "execute_result"
    }
   ],
   "source": [
    "dataset[cols_for_target].dtypes"
   ],
   "metadata": {
    "collapsed": false,
    "pycharm": {
     "name": "#%%\n"
    }
   }
  },
  {
   "cell_type": "markdown",
   "source": [
    "De ddt kolommen zijn nu van het juiste type 'datetime'."
   ],
   "metadata": {
    "collapsed": false,
    "pycharm": {
     "name": "#%% md\n"
    }
   }
  },
  {
   "cell_type": "markdown",
   "source": [
    "##### NAN waardes controleren\n",
    "\n",
    "Aantal NAN waardes controleren voor de benodigde kolommen om de reparatie duur te bepalen."
   ],
   "metadata": {
    "collapsed": false,
    "pycharm": {
     "name": "#%% md\n"
    }
   }
  },
  {
   "cell_type": "code",
   "execution_count": 14,
   "outputs": [
    {
     "data": {
      "text/plain": "stm_sap_meld_ddt        0\nstm_aanntpl_ddt     20926\nstm_fh_ddt          16599\ndtype: int64"
     },
     "execution_count": 14,
     "metadata": {},
     "output_type": "execute_result"
    }
   ],
   "source": [
    "dataset[cols_for_target].isna().sum()"
   ],
   "metadata": {
    "collapsed": false,
    "pycharm": {
     "name": "#%%\n"
    }
   }
  },
  {
   "cell_type": "markdown",
   "source": [
    "Alleen de kolommen aannemer ter plaatse ddt en functie herstel ddt bevatten een merkwaardig aantal NAN waardes. Laten we kijken hoeveel er overeen komen met een tijdstip van 00:00:00 omdat dit tijdstip volgens ProRail vaak wordt gebruikt bij foutieve invoer waardes."
   ],
   "metadata": {
    "collapsed": false,
    "pycharm": {
     "name": "#%% md\n"
    }
   }
  },
  {
   "cell_type": "code",
   "execution_count": 15,
   "outputs": [
    {
     "data": {
      "text/plain": "stm_aanntpl_tijd    20990\nstm_fh_tijd         16612\ndtype: int64"
     },
     "execution_count": 15,
     "metadata": {},
     "output_type": "execute_result"
    }
   ],
   "source": [
    "(dataset[['stm_aanntpl_tijd', 'stm_fh_tijd']] == '00:00:00').sum()"
   ],
   "metadata": {
    "collapsed": false,
    "pycharm": {
     "name": "#%%\n"
    }
   }
  },
  {
   "cell_type": "markdown",
   "source": [
    "Zo goed als alle NAN waardes in de ddt kolommen komen overeen met een 00:00:00 tijdstip in de tijd kolommen.\n",
    "Hierdoor gaan we ervan uit dat zo goed als al deze NAN waardes in ddt foutieve invoer waardes zijn en droppen we deze."
   ],
   "metadata": {
    "collapsed": false,
    "pycharm": {
     "name": "#%% md\n"
    }
   }
  },
  {
   "cell_type": "code",
   "execution_count": 16,
   "outputs": [],
   "source": [
    "dataset.dropna(subset=['stm_aanntpl_ddt', 'stm_fh_ddt'], inplace=True)"
   ],
   "metadata": {
    "collapsed": false,
    "pycharm": {
     "name": "#%%\n"
    }
   }
  },
  {
   "cell_type": "markdown",
   "source": [
    "##### Duplicate rijen\n",
    "Daarnaast moeten we controleren of we te maken hebben met duplicate rijen, ofwel rijen die meerdere keren in de dataset staan."
   ],
   "metadata": {
    "collapsed": false,
    "pycharm": {
     "name": "#%% md\n"
    }
   }
  },
  {
   "cell_type": "code",
   "execution_count": 17,
   "outputs": [
    {
     "data": {
      "text/plain": "0"
     },
     "execution_count": 17,
     "metadata": {},
     "output_type": "execute_result"
    }
   ],
   "source": [
    "dataset.duplicated().sum()"
   ],
   "metadata": {
    "collapsed": false,
    "pycharm": {
     "name": "#%%\n"
    }
   }
  },
  {
   "cell_type": "markdown",
   "source": [
    "Tijdens de data-preparation hebben we besproken dat sommige meldnummers meerdere keren voor komen in de dataset.\n",
    "Deze worden nu gedropt."
   ],
   "metadata": {
    "collapsed": false,
    "pycharm": {
     "name": "#%% md\n"
    }
   }
  },
  {
   "cell_type": "code",
   "execution_count": 18,
   "outputs": [],
   "source": [
    "dataset['#stm_sap_meldnr'].drop_duplicates(inplace=True)"
   ],
   "metadata": {
    "collapsed": false,
    "pycharm": {
     "name": "#%%\n"
    }
   }
  },
  {
   "cell_type": "markdown",
   "source": [
    "##### Target reparatie_duur aanmaken.\n",
    "We kunnen nu de kolommen maken voor functieherstel duur, en de functieherstel duur vanaf het moment dat de aannemer ter plaatse is, oftwel, onze target: **reparatie duur**."
   ],
   "metadata": {
    "collapsed": false,
    "pycharm": {
     "name": "#%% md\n"
    }
   }
  },
  {
   "cell_type": "code",
   "execution_count": 19,
   "outputs": [],
   "source": [
    "# reparatie duur = fh ddt - aanntpl ddt\n",
    "dataset['reparatie_duur'] = ((dataset['stm_fh_ddt'] - dataset['stm_aanntpl_ddt']).dt.total_seconds() / 60).astype('int')\n",
    "# fh duur = fh ddt - melding ddt\n",
    "dataset['fh_duur'] = ((dataset['stm_fh_ddt'] - dataset['stm_sap_meld_ddt']).dt.total_seconds() / 60).astype('int')"
   ],
   "metadata": {
    "collapsed": false,
    "pycharm": {
     "name": "#%%\n"
    }
   }
  },
  {
   "cell_type": "code",
   "execution_count": 20,
   "outputs": [
    {
     "data": {
      "text/plain": "        reparatie_duur  fh_duur\n592816              39     1219\n680751              34      108\n760628             235      235\n237571              52      116\n849077              33      103",
      "text/html": "<div>\n<style scoped>\n    .dataframe tbody tr th:only-of-type {\n        vertical-align: middle;\n    }\n\n    .dataframe tbody tr th {\n        vertical-align: top;\n    }\n\n    .dataframe thead th {\n        text-align: right;\n    }\n</style>\n<table border=\"1\" class=\"dataframe\">\n  <thead>\n    <tr style=\"text-align: right;\">\n      <th></th>\n      <th>reparatie_duur</th>\n      <th>fh_duur</th>\n    </tr>\n  </thead>\n  <tbody>\n    <tr>\n      <th>592816</th>\n      <td>39</td>\n      <td>1219</td>\n    </tr>\n    <tr>\n      <th>680751</th>\n      <td>34</td>\n      <td>108</td>\n    </tr>\n    <tr>\n      <th>760628</th>\n      <td>235</td>\n      <td>235</td>\n    </tr>\n    <tr>\n      <th>237571</th>\n      <td>52</td>\n      <td>116</td>\n    </tr>\n    <tr>\n      <th>849077</th>\n      <td>33</td>\n      <td>103</td>\n    </tr>\n  </tbody>\n</table>\n</div>"
     },
     "execution_count": 20,
     "metadata": {},
     "output_type": "execute_result"
    }
   ],
   "source": [
    "dataset[['reparatie_duur', 'fh_duur']].head()"
   ],
   "metadata": {
    "collapsed": false,
    "pycharm": {
     "name": "#%%\n"
    }
   }
  },
  {
   "cell_type": "markdown",
   "source": [
    "##### Target variabele gereed.\n",
    "Target variabele reparatie_duur, de duur vanaf het moment dat de aannemer ter plaatse is tot de functieherstel tijd, is nu gemaakt."
   ],
   "metadata": {
    "collapsed": false,
    "pycharm": {
     "name": "#%% md\n"
    }
   }
  },
  {
   "cell_type": "markdown",
   "source": [
    "### Data Understanding\n",
    "\n",
    "Nu de target \"reparatie_duur\" is aangemaakt en we ook een kolom fh_duur hebben gemaakt kunnen we terug naar data-understanding."
   ],
   "metadata": {
    "collapsed": false,
    "pycharm": {
     "name": "#%% md\n"
    }
   }
  },
  {
   "cell_type": "code",
   "execution_count": 21,
   "outputs": [],
   "source": [
    "target = 'reparatie_duur'"
   ],
   "metadata": {
    "collapsed": false,
    "pycharm": {
     "name": "#%%\n"
    }
   }
  },
  {
   "cell_type": "markdown",
   "source": [
    "##### Meetniveau\n",
    "\n",
    "Het meetniveau van de target variabele is belangrijk om te weten om te weten welke statistische berekeningen en modellen we hiermee kunnen gebruiken.\n",
    "De reparatie duur is uitgedrukt in minuten.\n",
    "Minuten zijn van een continu meetniveau omdat je tot oneindige precisie tussen 2 verschillende waardes in minuten kan meten."
   ],
   "metadata": {
    "collapsed": false,
    "pycharm": {
     "name": "#%% md\n"
    }
   }
  },
  {
   "cell_type": "code",
   "execution_count": 22,
   "outputs": [
    {
     "data": {
      "text/plain": "            Kolom Meetniveau\n0  reparatie_duur    Continu",
      "text/html": "<div>\n<style scoped>\n    .dataframe tbody tr th:only-of-type {\n        vertical-align: middle;\n    }\n\n    .dataframe tbody tr th {\n        vertical-align: top;\n    }\n\n    .dataframe thead th {\n        text-align: right;\n    }\n</style>\n<table border=\"1\" class=\"dataframe\">\n  <thead>\n    <tr style=\"text-align: right;\">\n      <th></th>\n      <th>Kolom</th>\n      <th>Meetniveau</th>\n    </tr>\n  </thead>\n  <tbody>\n    <tr>\n      <th>0</th>\n      <td>reparatie_duur</td>\n      <td>Continu</td>\n    </tr>\n  </tbody>\n</table>\n</div>"
     },
     "execution_count": 22,
     "metadata": {},
     "output_type": "execute_result"
    }
   ],
   "source": [
    "pd.DataFrame({'Kolom': [target], 'Meetniveau': ['Continu']})"
   ],
   "metadata": {
    "collapsed": false,
    "pycharm": {
     "name": "#%%\n"
    }
   }
  },
  {
   "cell_type": "markdown",
   "source": [
    "##### Centrummaten en spreidingsmaten.\n",
    "\n",
    "We kijken met describe eerst naar een aantal centrummaten en spreidingsmaten zoals:\n",
    "- Aantal observaties\n",
    "- Gemiddelde\n",
    "- Standaardafwijking\n",
    "- Minimale observatie\n",
    "- 25% (Kwartiel 1)\n",
    "- 50% (Kwartiel 2, ookwel de mediaan)\n",
    "- 75% (Kwartiel 3)\n",
    "- Maximale observatie"
   ],
   "metadata": {
    "collapsed": false,
    "pycharm": {
     "name": "#%% md\n"
    }
   }
  },
  {
   "cell_type": "code",
   "execution_count": 23,
   "outputs": [
    {
     "data": {
      "text/plain": "count     68330.0\nmean        496.0\nstd        8525.0\nmin     -269131.0\n25%          11.0\n50%          34.0\n75%          83.0\nmax      610802.0\nName: reparatie_duur, dtype: float64"
     },
     "execution_count": 23,
     "metadata": {},
     "output_type": "execute_result"
    }
   ],
   "source": [
    "dataset[target].describe().round()"
   ],
   "metadata": {
    "collapsed": false,
    "pycharm": {
     "name": "#%%\n"
    }
   }
  },
  {
   "cell_type": "markdown",
   "source": [
    "Aan de extreme minimale en maximale waarde is gelijk te zien dat er iets mis is met de waardes in de kolom reparatie_duur.\n",
    "Laten we daarom alleen naar storingen kijkt die binnen de acceptabele marge (6 uur volgens ProRail) zijn opgelost en die een reparatie duur hadden langer dan 0 minuten. Dit zijn volgens ProRail de meest interessante storingen om een voorspellingen over te doen."
   ],
   "metadata": {
    "collapsed": false,
    "pycharm": {
     "name": "#%% md\n"
    }
   }
  },
  {
   "cell_type": "code",
   "execution_count": 24,
   "outputs": [],
   "source": [
    "zero_360_filter = (dataset['reparatie_duur'] > 0) & (\n",
    "        dataset['reparatie_duur'] <= 360)  # boolean mask to filter > 0 and <= 360."
   ],
   "metadata": {
    "collapsed": false,
    "pycharm": {
     "name": "#%%\n"
    }
   }
  },
  {
   "cell_type": "markdown",
   "source": [
    "Opnieuw de centrummaten en spreidingsmaten bekijken van reparatieduren tussen de 0 en 360 minuten."
   ],
   "metadata": {
    "collapsed": false,
    "pycharm": {
     "name": "#%% md\n"
    }
   }
  },
  {
   "cell_type": "code",
   "execution_count": 25,
   "outputs": [
    {
     "data": {
      "text/plain": "count    62167.0\nmean        57.0\nstd         66.0\nmin          1.0\n25%         13.0\n50%         33.0\n75%         75.0\nmax        360.0\nName: reparatie_duur, dtype: float64"
     },
     "execution_count": 25,
     "metadata": {},
     "output_type": "execute_result"
    }
   ],
   "source": [
    "dataset[zero_360_filter][target].describe().round()"
   ],
   "metadata": {
    "collapsed": false,
    "pycharm": {
     "name": "#%%\n"
    }
   }
  },
  {
   "cell_type": "markdown",
   "source": [
    "We kunnen hier uit een aantal dingen opmerken:\n",
    "- 50% van de storingen ligt tussen 13 en 75 minuten\n",
    "- Hoge standaard-deviatie: dit duidt erop dat de observaties breed verdeeld zijn om het gemiddelde."
   ],
   "metadata": {
    "collapsed": false,
    "pycharm": {
     "name": "#%% md\n"
    }
   }
  },
  {
   "cell_type": "markdown",
   "source": [
    "Om een visuele blik te krijgen op de verdeling van de data plotten we een histogram."
   ],
   "metadata": {
    "collapsed": false,
    "pycharm": {
     "name": "#%% md\n"
    }
   }
  },
  {
   "cell_type": "code",
   "execution_count": 26,
   "outputs": [
    {
     "data": {
      "text/plain": "<Figure size 360x360 with 1 Axes>",
      "image/png": "[encoded data removed]"
     },
     "metadata": {
      "needs_background": "light"
     },
     "output_type": "display_data"
    }
   ],
   "source": [
    "dataset[target].hist(figsize=(5,5), bins=40) # hist\n",
    "plt.axvline(dataset[target].mean(), color='black', linestyle='dashed', linewidth=2) # add mean line\n",
    "plt.legend([\"Gemiddelde reparatie duur\", \"Aantal observaties.\"], loc=\"upper right\") # legend\n",
    "plt.title(\"Reparatie duur vs Aantal observaties.\"), plt.xlabel(\"Reparatie duur in min\"), plt.ylabel(\"Aantal observaties.\") # title, x & y labels\n",
    "\n",
    "plt.show()"
   ],
   "metadata": {
    "collapsed": false,
    "pycharm": {
     "name": "#%%\n"
    }
   }
  },
  {
   "cell_type": "markdown",
   "source": [
    "Zoals te zien is hierboven, is ook de histogram onleesbaar net als de eerste describe die we hebben gedaan.\n",
    "Laten we daarom opnieuw een histogram plotten die alleen naar storingen kijkt van 1 minuut t/m 6 uur."
   ],
   "metadata": {
    "collapsed": false,
    "pycharm": {
     "name": "#%% md\n"
    }
   }
  },
  {
   "cell_type": "code",
   "source": [
    "dataset[target][zero_360_filter].hist(figsize=(5,5), bins=30) # hist\n",
    "plt.axvline(dataset[target][zero_360_filter].mean(), color='black', linestyle='dashed', linewidth=2) # add mean line\n",
    "plt.legend([\"Gemiddelde reparatie duur\", \"Aantal observaties.\"], loc=\"upper right\") # legend\n",
    "plt.title(\"Reparatie duur vs Aantal observaties.\"), plt.xlabel(\"Reparatie duur in min\"), plt.ylabel(\"Aantal observaties.\") # title, x & y labels\n",
    "\n",
    "plt.show()"
   ],
   "metadata": {
    "collapsed": false,
    "pycharm": {
     "name": "#%%\n"
    }
   },
   "execution_count": 27,
   "outputs": [
    {
     "data": {
      "text/plain": "<Figure size 360x360 with 1 Axes>",
      "image/png": "[encoded data removed]"
     },
     "metadata": {
      "needs_background": "light"
     },
     "output_type": "display_data"
    }
   ]
  },
  {
   "cell_type": "markdown",
   "source": [
    "Reparatie duur gefilterd op groter dan 0 minuten en kleiner gelijk aan 360 minuten heeft een log-normale rechtscheve verdeling.\n",
    "Er zijn veel korte reparatie-duren. De hoeveelheid storingen loopt lognormaal af per hoe lang de reparatie duur is."
   ],
   "metadata": {
    "collapsed": false,
    "pycharm": {
     "name": "#%% md\n"
    }
   }
  },
  {
   "cell_type": "markdown",
   "source": [
    "##### Uitschieters\n",
    "\n",
    "Om een visueel beeld te krijgen van de spreiding/uitschieters van de reparatie duur wordt deze getoond in een boxplot.\n",
    "We kijken dit keer gelijk alleen naar reparatie-duren binnen 1 en 360 minuten."
   ],
   "metadata": {
    "collapsed": false,
    "pycharm": {
     "name": "#%% md\n"
    }
   }
  },
  {
   "cell_type": "code",
   "execution_count": 28,
   "outputs": [
    {
     "data": {
      "text/plain": "<Figure size 432x288 with 1 Axes>",
      "image/png": "[encoded data removed]"
     },
     "metadata": {
      "needs_background": "light"
     },
     "output_type": "display_data"
    }
   ],
   "source": [
    "dataset[zero_360_filter].boxplot(target)\n",
    "plt.title(\"Reparatie duur\")\n",
    "plt.show()"
   ],
   "metadata": {
    "collapsed": false,
    "pycharm": {
     "name": "#%%\n"
    }
   }
  },
  {
   "cell_type": "markdown",
   "source": [
    "De grootste niet uitschieter ligt rond de 160 +-, er zitten alleen uitschieters aan de rechterkant van de getallijn.\n",
    "Deze uitschieters behandelen we niet verder omdat we de data al hebben gefilterd op maximaal 360 minuten en dit dus **waarschijnlijk** nieuw geintroduceerde uitschieters zijn."
   ],
   "metadata": {
    "collapsed": false,
    "pycharm": {
     "name": "#%% md\n"
    }
   }
  },
  {
   "cell_type": "markdown",
   "source": [
    "#### Data preparation\n",
    "Zoals eerder beschreven tijdens de data understanding fase heeft ProRail laten weten vooral geïnteresseerd te zijn in de vertragingen waarvan de oorzakende storing maximaal één werkdag lang is.\n",
    "Daarom halen we alle rijen weg die niet een functieherstel duur hebben van kleiner dan of gelijk aan 360 minuten (6 uur). Hiermee wordt gelijk een groot gedeelte van de **uitschieters** verwijderd.\n",
    "\n",
    "Controleren hoeveel data overblijft na het filteren."
   ],
   "metadata": {
    "collapsed": false,
    "pycharm": {
     "name": "#%% md\n"
    }
   }
  },
  {
   "cell_type": "code",
   "execution_count": 29,
   "outputs": [
    {
     "name": "stdout",
     "output_type": "stream",
     "text": [
      "91% van de data is over\n"
     ]
    }
   ],
   "source": [
    "total = dataset[target].count()\n",
    "print(f\"{round(zero_360_filter.sum() / total * 100)}% van de data is over\")"
   ],
   "metadata": {
    "collapsed": false,
    "pycharm": {
     "name": "#%%\n"
    }
   }
  },
  {
   "cell_type": "markdown",
   "source": [
    "Ongeveer 90% van de data gaat over storingen van 1 tot 360 minuten, de rest droppen we."
   ],
   "metadata": {
    "collapsed": false,
    "pycharm": {
     "name": "#%% md\n"
    }
   }
  },
  {
   "cell_type": "code",
   "execution_count": 30,
   "outputs": [],
   "source": [
    "dataset = dataset[zero_360_filter]"
   ],
   "metadata": {
    "collapsed": false,
    "pycharm": {
     "name": "#%%\n"
    }
   }
  },
  {
   "cell_type": "markdown",
   "source": [
    "De target-kolom is nu klaar om gemoduleerd te worden."
   ],
   "metadata": {
    "collapsed": false,
    "pycharm": {
     "name": "#%% md\n"
    }
   }
  },
  {
   "cell_type": "markdown",
   "source": [
    "### Baseline Model\n",
    "Het is belangrijk om een baseline te hebben. Dit is een rudimentaire voorspelling, die we als lat leggen voor onze andere modellen. Omdat het meetniveau van de target variabele continu is wordt voor een uiteindelijk een regressie model gebruikt. Voor een baseline voor een regressie model kunnen we een centrummaat zoals het gemiddelde of de mediaan."
   ],
   "metadata": {
    "collapsed": false,
    "pycharm": {
     "name": "#%% md\n"
    }
   }
  },
  {
   "cell_type": "markdown",
   "source": [
    "##### Het splitsen van de dataset\n",
    "We splitsen de data op in een train- en testset."
   ],
   "metadata": {
    "collapsed": false,
    "pycharm": {
     "name": "#%% md\n"
    }
   }
  },
  {
   "cell_type": "code",
   "execution_count": 31,
   "outputs": [],
   "source": [
    "X = dataset.drop(target ,axis=1)\n",
    "y = dataset[target]\n",
    "X_train, X_test, y_train, y_test = train_test_split(X, y, random_state=0)"
   ],
   "metadata": {
    "collapsed": false,
    "pycharm": {
     "name": "#%%\n"
    }
   }
  },
  {
   "cell_type": "markdown",
   "source": [
    "#### Baseline model maken en fitten\n",
    "Als baseline strategie raden we steeds het gemiddelde van onze nieuwe targetkolom, reparatie_duur."
   ],
   "metadata": {
    "collapsed": false,
    "pycharm": {
     "name": "#%% md\n"
    }
   }
  },
  {
   "cell_type": "code",
   "execution_count": 32,
   "outputs": [],
   "source": [
    "baseline = DummyRegressor(strategy = 'mean').fit(X_train, y_train)"
   ],
   "metadata": {
    "collapsed": false,
    "pycharm": {
     "name": "#%%\n"
    }
   }
  },
  {
   "cell_type": "code",
   "execution_count": 33,
   "outputs": [],
   "source": [
    "y_predict = baseline.predict(X_test)"
   ],
   "metadata": {
    "collapsed": false,
    "pycharm": {
     "name": "#%%\n"
    }
   }
  },
  {
   "cell_type": "code",
   "execution_count": 34,
   "outputs": [
    {
     "data": {
      "text/plain": "<Figure size 432x288 with 1 Axes>",
      "image/png": "[encoded data removed]"
     },
     "metadata": {
      "needs_background": "light"
     },
     "output_type": "display_data"
    },
    {
     "name": "stdout",
     "output_type": "stream",
     "text": [
      " RMSE Baseline model: 65\n"
     ]
    }
   ],
   "source": [
    "plt.plot(y_predict, c='r', linewidth=3)\n",
    "plt.scatter(x=np.arange(len(X_test)), y=y_test, s=1)\n",
    "\n",
    "plt.title(\"Baseline voorspelling tegen de echte waardes\")\n",
    "plt.xlabel(\"Datapunt\")\n",
    "plt.ylabel(\"Reparatie duur\")\n",
    "plt.legend([\"Baseline\"], loc=\"upper right\")\n",
    "plt.show()\n",
    "\n",
    "baseline_rmse = round(mean_squared_error(y_test, y_predict, squared=False))\n",
    "print(f\" RMSE Baseline model: {baseline_rmse}\")"
   ],
   "metadata": {
    "collapsed": false,
    "pycharm": {
     "name": "#%%\n"
    }
   }
  },
  {
   "cell_type": "markdown",
   "source": [
    "Voor elke voorspelling die we doen, door het gemiddelde steeds te raden, zitten we er gemiddeld 65 naast. Dit is een lange tijd maar dat is ook te verwachten, zoals in de grafiek te zien. De spreiding van de punten is erg verdeeld ten opzichte van de rode lijn, onze voorspelling."
   ],
   "metadata": {
    "collapsed": false,
    "pycharm": {
     "name": "#%% md\n"
    }
   }
  },
  {
   "cell_type": "markdown",
   "source": [
    "### Business Understanding model 1\n",
    "\n",
    "In het interview met ProRail hebben we gevraagd naar de mogelijk belangrijke attributen die mee kunnen helpen bij het voorspellen van de functiehersteltijd.\n",
    "Hierop kregen we de volgende paar attributen:\n",
    "- Type storing.\n",
    "- Tijdstip dat de aannemer ter plaatse er is.\n",
    "- Prognose van de storingsduur.\n",
    "- Misschien het contractgebied en aannemer."
   ],
   "metadata": {
    "collapsed": false,
    "pycharm": {
     "name": "#%% md\n"
    }
   }
  },
  {
   "cell_type": "markdown",
   "source": [
    "### Data understanding model 1\n",
    "\n",
    "Met behulp van de [data dictionary](https://canvas.hu.nl/courses/27143/pages/data?module_item_id=588747) hebben we de volgende kolommen gevonden die overeen lijken te komen met de mogelijk belangrijke attributen volgens ProRail.\n",
    "\n",
    "Namelijk de volgende kolommen:\n",
    "-tm_oorz_code, Oorzaak code\n",
    "-stm_aanntpl_ddt, Aannemer ter plaatse datumtijd\n",
    "-stm_progfh_in_ddt, Prognose functieherstel datumtijd\n",
    "\n",
    "We willen a.d.h.v de volgende features testen in een model.\n",
    "- Oorzaak code.\n",
    "- Oorzaak groep.\n",
    "- Dagdeel aannemer ter plaatse (bijv s'ochtends).\n",
    "- Reparatie duur prognose.\n",
    "\n",
    "De eerste feature die we gaan behandelen is de Reparatie prognose. Als we deze onderzocht en opgeschoond hebben kan onderzoeksvraag 2: \"Hoe accuraat zijn de prognoses van de aannemers? En zijn deze optimistisch of pessimistisch?\" worden beantwoord.\n",
    "\n",
    "Eerst moet onderzocht welke prognose de gene is van de aannemer wanneer hij ter plaatse is."
   ],
   "metadata": {
    "collapsed": false,
    "pycharm": {
     "name": "#%% md\n"
    }
   }
  },
  {
   "cell_type": "code",
   "source": [
    "dataset_m1 = dataset.copy()"
   ],
   "metadata": {
    "collapsed": false,
    "pycharm": {
     "name": "#%%\n"
    }
   },
   "execution_count": 35,
   "outputs": []
  },
  {
   "cell_type": "markdown",
   "source": [
    "Mogelijke kolommen die informatie geven over de prognose van de aannemer wanneer hij ter plaatse is:\n",
    "-progfh_in (initiële prognose bij melding?)\n",
    "-progfh_gw_lwd (laatst gewijzigde?)\n",
    "-progf_gw (gewijzigde?)."
   ],
   "metadata": {
    "collapsed": false,
    "pycharm": {
     "name": "#%% md\n"
    }
   }
  },
  {
   "cell_type": "code",
   "execution_count": 36,
   "outputs": [],
   "source": [
    "prog_cols = ['stm_progfh_in_ddt', 'stm_progfh_in_invoer_ddt','stm_progfh_gw_lwd_ddt', 'stm_progfh_gw_ddt','stm_fh_ddt']"
   ],
   "metadata": {
    "collapsed": false,
    "pycharm": {
     "name": "#%%\n"
    }
   }
  },
  {
   "cell_type": "markdown",
   "source": [
    "Mogelijke kolommen voor prognoses progfh_in (initiële prognose bij melding?), progfh_gw_lwd (laatst gewijzigde?) en progf_gw (gewijzigde?)."
   ],
   "metadata": {
    "collapsed": false,
    "pycharm": {
     "name": "#%% md\n"
    }
   }
  },
  {
   "cell_type": "code",
   "execution_count": 37,
   "outputs": [
    {
     "data": {
      "text/plain": "         stm_progfh_in_ddt stm_progfh_in_invoer_ddt stm_progfh_gw_lwd_ddt  \\\n592816 2014-01-13 10:50:00      2014-01-13 09:50:58                   NaT   \n680751 2015-01-30 19:45:00      2015-01-30 19:21:50                   NaT   \n760628                 NaT                      NaT                   NaT   \n237571 2006-08-06 12:27:00      2006-08-06 11:29:29                   NaT   \n849077 2017-09-26 13:31:00      2017-09-19 13:33:37                   NaT   \n679491 2015-01-26 00:15:00      2015-01-26 00:18:09                   NaT   \n341653 2009-04-11 21:45:00      2009-04-11 21:21:59                   NaT   \n304567 2008-05-06 12:01:00      2008-05-06 12:02:08                   NaT   \n515604 2013-03-01 09:52:00      2013-03-01 10:00:01                   NaT   \n498789 2012-12-30 15:00:00      2012-12-30 14:57:57                   NaT   \n\n       stm_progfh_gw_ddt          stm_fh_ddt  \n592816               NaT 2014-01-13 10:29:00  \n680751               NaT 2015-01-30 19:20:00  \n760628               NaT 2016-04-20 12:20:48  \n237571               NaT 2006-08-06 12:19:00  \n849077               NaT 2017-09-19 13:34:00  \n679491               NaT 2015-01-26 00:15:00  \n341653               NaT 2009-04-11 21:15:00  \n304567               NaT 2008-05-06 12:07:00  \n515604               NaT 2013-03-01 09:54:00  \n498789               NaT 2012-12-30 14:50:00  ",
      "text/html": "<div>\n<style scoped>\n    .dataframe tbody tr th:only-of-type {\n        vertical-align: middle;\n    }\n\n    .dataframe tbody tr th {\n        vertical-align: top;\n    }\n\n    .dataframe thead th {\n        text-align: right;\n    }\n</style>\n<table border=\"1\" class=\"dataframe\">\n  <thead>\n    <tr style=\"text-align: right;\">\n      <th></th>\n      <th>stm_progfh_in_ddt</th>\n      <th>stm_progfh_in_invoer_ddt</th>\n      <th>stm_progfh_gw_lwd_ddt</th>\n      <th>stm_progfh_gw_ddt</th>\n      <th>stm_fh_ddt</th>\n    </tr>\n  </thead>\n  <tbody>\n    <tr>\n      <th>592816</th>\n      <td>2014-01-13 10:50:00</td>\n      <td>2014-01-13 09:50:58</td>\n      <td>NaT</td>\n      <td>NaT</td>\n      <td>2014-01-13 10:29:00</td>\n    </tr>\n    <tr>\n      <th>680751</th>\n      <td>2015-01-30 19:45:00</td>\n      <td>2015-01-30 19:21:50</td>\n      <td>NaT</td>\n      <td>NaT</td>\n      <td>2015-01-30 19:20:00</td>\n    </tr>\n    <tr>\n      <th>760628</th>\n      <td>NaT</td>\n      <td>NaT</td>\n      <td>NaT</td>\n      <td>NaT</td>\n      <td>2016-04-20 12:20:48</td>\n    </tr>\n    <tr>\n      <th>237571</th>\n      <td>2006-08-06 12:27:00</td>\n      <td>2006-08-06 11:29:29</td>\n      <td>NaT</td>\n      <td>NaT</td>\n      <td>2006-08-06 12:19:00</td>\n    </tr>\n    <tr>\n      <th>849077</th>\n      <td>2017-09-26 13:31:00</td>\n      <td>2017-09-19 13:33:37</td>\n      <td>NaT</td>\n      <td>NaT</td>\n      <td>2017-09-19 13:34:00</td>\n    </tr>\n    <tr>\n      <th>679491</th>\n      <td>2015-01-26 00:15:00</td>\n      <td>2015-01-26 00:18:09</td>\n      <td>NaT</td>\n      <td>NaT</td>\n      <td>2015-01-26 00:15:00</td>\n    </tr>\n    <tr>\n      <th>341653</th>\n      <td>2009-04-11 21:45:00</td>\n      <td>2009-04-11 21:21:59</td>\n      <td>NaT</td>\n      <td>NaT</td>\n      <td>2009-04-11 21:15:00</td>\n    </tr>\n    <tr>\n      <th>304567</th>\n      <td>2008-05-06 12:01:00</td>\n      <td>2008-05-06 12:02:08</td>\n      <td>NaT</td>\n      <td>NaT</td>\n      <td>2008-05-06 12:07:00</td>\n    </tr>\n    <tr>\n      <th>515604</th>\n      <td>2013-03-01 09:52:00</td>\n      <td>2013-03-01 10:00:01</td>\n      <td>NaT</td>\n      <td>NaT</td>\n      <td>2013-03-01 09:54:00</td>\n    </tr>\n    <tr>\n      <th>498789</th>\n      <td>2012-12-30 15:00:00</td>\n      <td>2012-12-30 14:57:57</td>\n      <td>NaT</td>\n      <td>NaT</td>\n      <td>2012-12-30 14:50:00</td>\n    </tr>\n  </tbody>\n</table>\n</div>"
     },
     "execution_count": 37,
     "metadata": {},
     "output_type": "execute_result"
    }
   ],
   "source": [
    "dataset_m1[prog_cols].head(10)"
   ],
   "metadata": {
    "collapsed": false,
    "pycharm": {
     "name": "#%%\n"
    }
   }
  },
  {
   "cell_type": "markdown",
   "source": [
    "De gewijzigde en laatst gewijzigde prognoses bevatten veel foutieve waardes.\n",
    "Laten we dit verder onderzoeken.\n",
    "\n",
    "We bekijken het aantal NAN waardes per prognose kolom."
   ],
   "metadata": {
    "collapsed": false,
    "pycharm": {
     "name": "#%% md\n"
    }
   }
  },
  {
   "cell_type": "code",
   "execution_count": 38,
   "outputs": [
    {
     "data": {
      "text/plain": "stm_progfh_in_ddt           10557\nstm_progfh_in_invoer_ddt    17268\nstm_progfh_gw_lwd_ddt       56374\nstm_progfh_gw_ddt           56374\nstm_fh_ddt                      0\ndtype: int64"
     },
     "execution_count": 38,
     "metadata": {},
     "output_type": "execute_result"
    }
   ],
   "source": [
    "dataset_m1[prog_cols].isna().sum()"
   ],
   "metadata": {
    "collapsed": false,
    "pycharm": {
     "name": "#%%\n"
    }
   }
  },
  {
   "cell_type": "markdown",
   "source": [
    "Beide gw en lwd hebben evenveel NAN waardes."
   ],
   "metadata": {
    "collapsed": false,
    "pycharm": {
     "name": "#%% md\n"
    }
   }
  },
  {
   "cell_type": "code",
   "execution_count": 39,
   "outputs": [
    {
     "name": "stdout",
     "output_type": "stream",
     "text": [
      "91 % van de gw en gw lwd prognose zijn NAN waardes\n"
     ]
    }
   ],
   "source": [
    "print(round((dataset_m1['stm_progfh_gw_ddt'].isna().sum()/dataset_m1.shape[0])*100), \"% van de gw en gw lwd prognose zijn NAN waardes\")"
   ],
   "metadata": {
    "collapsed": false,
    "pycharm": {
     "name": "#%%\n"
    }
   }
  },
  {
   "cell_type": "markdown",
   "source": [
    "Laten we naar data kijken waar wel een gewijzigde prognose aanwezig is."
   ],
   "metadata": {
    "collapsed": false,
    "pycharm": {
     "name": "#%% md\n"
    }
   }
  },
  {
   "cell_type": "code",
   "source": [
    "dataset_m1[['stm_sap_meld_ddt',*prog_cols, 'reparatie_duur']].dropna().head(15)"
   ],
   "metadata": {
    "collapsed": false,
    "pycharm": {
     "name": "#%%\n"
    }
   },
   "execution_count": 40,
   "outputs": [
    {
     "data": {
      "text/plain": "          stm_sap_meld_ddt   stm_progfh_in_ddt stm_progfh_in_invoer_ddt  \\\n223079 2006-03-19 11:15:15 2006-03-19 12:45:00      2006-03-19 11:58:41   \n663916 2014-10-20 16:32:00 2014-10-20 19:30:00      2014-10-20 19:32:06   \n224295 2006-03-31 13:33:00 2006-03-31 16:25:00      2006-03-31 15:27:34   \n246192 2006-11-01 00:35:00 2006-11-01 10:10:00      2006-11-01 09:09:27   \n368676 2009-12-17 15:12:00 2009-12-22 10:00:00      2009-12-22 09:43:47   \n395786 2010-07-14 13:55:00 2010-07-14 16:30:00      2010-07-14 16:14:45   \n579910 2013-11-21 04:40:00 2013-11-21 16:00:00      2013-11-21 09:21:56   \n391185 2010-06-15 00:31:00 2010-06-15 02:15:00      2010-06-15 01:27:58   \n481876 2012-07-26 09:36:00 2012-07-26 10:51:00      2012-07-26 11:40:07   \n300824 2008-03-30 18:25:00 2008-03-30 20:15:00      2008-03-30 19:17:25   \n369833 2009-12-21 10:42:00 2009-12-21 13:30:00      2009-12-21 13:01:21   \n384557 2010-04-16 21:03:00 2010-04-19 16:00:00      2010-04-16 21:12:18   \n557659 2013-08-02 12:12:00 2013-08-02 13:30:00      2013-08-02 12:31:29   \n420236 2011-01-20 23:31:00 2011-01-21 01:00:00      2011-01-21 01:42:07   \n274111 2007-07-11 22:21:00 2007-07-12 12:04:00      2007-07-12 08:03:10   \n\n       stm_progfh_gw_lwd_ddt   stm_progfh_gw_ddt          stm_fh_ddt  \\\n223079   2006-03-19 12:51:49 2006-03-19 12:45:00 2006-03-19 12:51:00   \n663916   2014-10-21 03:50:43 2014-10-20 19:30:00 2014-10-20 19:24:00   \n224295   2006-04-26 10:35:15 2006-05-17 16:00:00 2006-03-31 16:49:00   \n246192   2006-11-01 11:29:00 2006-11-01 10:10:00 2006-11-01 11:26:00   \n368676   2009-12-23 14:52:37 2009-12-22 10:00:00 2009-12-22 09:44:00   \n395786   2010-07-15 08:27:59 2010-07-14 16:30:00 2010-07-14 16:10:00   \n579910   2013-11-21 15:23:40 2013-11-21 16:01:00 2013-11-21 13:39:00   \n391185   2010-06-15 12:11:08 2010-06-15 03:15:00 2010-06-15 02:45:00   \n481876   2012-07-27 15:50:37 2012-07-26 10:51:00 2012-07-26 10:44:00   \n300824   2008-03-31 01:13:29 2008-03-31 00:01:00 2008-03-30 19:16:00   \n369833   2009-12-22 10:56:47 2009-12-21 13:30:00 2009-12-21 13:00:00   \n384557   2010-04-19 13:02:19 2010-04-19 09:05:00 2010-04-19 09:02:00   \n557659   2013-08-02 14:09:33 2013-08-02 14:15:00 2013-08-02 13:59:00   \n420236   2011-01-21 02:45:01 2011-01-21 03:47:18 2011-01-21 01:00:00   \n274111   2007-07-12 11:28:40 2007-07-12 12:29:00 2007-07-12 11:48:00   \n\n        reparatie_duur  \n223079              54  \n663916              84  \n224295              85  \n246192             138  \n368676              43  \n395786             103  \n579910             279  \n391185              92  \n481876               3  \n300824               1  \n369833              45  \n384557               2  \n557659              89  \n420236              30  \n274111              19  ",
      "text/html": "<div>\n<style scoped>\n    .dataframe tbody tr th:only-of-type {\n        vertical-align: middle;\n    }\n\n    .dataframe tbody tr th {\n        vertical-align: top;\n    }\n\n    .dataframe thead th {\n        text-align: right;\n    }\n</style>\n<table border=\"1\" class=\"dataframe\">\n  <thead>\n    <tr style=\"text-align: right;\">\n      <th></th>\n      <th>stm_sap_meld_ddt</th>\n      <th>stm_progfh_in_ddt</th>\n      <th>stm_progfh_in_invoer_ddt</th>\n      <th>stm_progfh_gw_lwd_ddt</th>\n      <th>stm_progfh_gw_ddt</th>\n      <th>stm_fh_ddt</th>\n      <th>reparatie_duur</th>\n    </tr>\n  </thead>\n  <tbody>\n    <tr>\n      <th>223079</th>\n      <td>2006-03-19 11:15:15</td>\n      <td>2006-03-19 12:45:00</td>\n      <td>2006-03-19 11:58:41</td>\n      <td>2006-03-19 12:51:49</td>\n      <td>2006-03-19 12:45:00</td>\n      <td>2006-03-19 12:51:00</td>\n      <td>54</td>\n    </tr>\n    <tr>\n      <th>663916</th>\n      <td>2014-10-20 16:32:00</td>\n      <td>2014-10-20 19:30:00</td>\n      <td>2014-10-20 19:32:06</td>\n      <td>2014-10-21 03:50:43</td>\n      <td>2014-10-20 19:30:00</td>\n      <td>2014-10-20 19:24:00</td>\n      <td>84</td>\n    </tr>\n    <tr>\n      <th>224295</th>\n      <td>2006-03-31 13:33:00</td>\n      <td>2006-03-31 16:25:00</td>\n      <td>2006-03-31 15:27:34</td>\n      <td>2006-04-26 10:35:15</td>\n      <td>2006-05-17 16:00:00</td>\n      <td>2006-03-31 16:49:00</td>\n      <td>85</td>\n    </tr>\n    <tr>\n      <th>246192</th>\n      <td>2006-11-01 00:35:00</td>\n      <td>2006-11-01 10:10:00</td>\n      <td>2006-11-01 09:09:27</td>\n      <td>2006-11-01 11:29:00</td>\n      <td>2006-11-01 10:10:00</td>\n      <td>2006-11-01 11:26:00</td>\n      <td>138</td>\n    </tr>\n    <tr>\n      <th>368676</th>\n      <td>2009-12-17 15:12:00</td>\n      <td>2009-12-22 10:00:00</td>\n      <td>2009-12-22 09:43:47</td>\n      <td>2009-12-23 14:52:37</td>\n      <td>2009-12-22 10:00:00</td>\n      <td>2009-12-22 09:44:00</td>\n      <td>43</td>\n    </tr>\n    <tr>\n      <th>395786</th>\n      <td>2010-07-14 13:55:00</td>\n      <td>2010-07-14 16:30:00</td>\n      <td>2010-07-14 16:14:45</td>\n      <td>2010-07-15 08:27:59</td>\n      <td>2010-07-14 16:30:00</td>\n      <td>2010-07-14 16:10:00</td>\n      <td>103</td>\n    </tr>\n    <tr>\n      <th>579910</th>\n      <td>2013-11-21 04:40:00</td>\n      <td>2013-11-21 16:00:00</td>\n      <td>2013-11-21 09:21:56</td>\n      <td>2013-11-21 15:23:40</td>\n      <td>2013-11-21 16:01:00</td>\n      <td>2013-11-21 13:39:00</td>\n      <td>279</td>\n    </tr>\n    <tr>\n      <th>391185</th>\n      <td>2010-06-15 00:31:00</td>\n      <td>2010-06-15 02:15:00</td>\n      <td>2010-06-15 01:27:58</td>\n      <td>2010-06-15 12:11:08</td>\n      <td>2010-06-15 03:15:00</td>\n      <td>2010-06-15 02:45:00</td>\n      <td>92</td>\n    </tr>\n    <tr>\n      <th>481876</th>\n      <td>2012-07-26 09:36:00</td>\n      <td>2012-07-26 10:51:00</td>\n      <td>2012-07-26 11:40:07</td>\n      <td>2012-07-27 15:50:37</td>\n      <td>2012-07-26 10:51:00</td>\n      <td>2012-07-26 10:44:00</td>\n      <td>3</td>\n    </tr>\n    <tr>\n      <th>300824</th>\n      <td>2008-03-30 18:25:00</td>\n      <td>2008-03-30 20:15:00</td>\n      <td>2008-03-30 19:17:25</td>\n      <td>2008-03-31 01:13:29</td>\n      <td>2008-03-31 00:01:00</td>\n      <td>2008-03-30 19:16:00</td>\n      <td>1</td>\n    </tr>\n    <tr>\n      <th>369833</th>\n      <td>2009-12-21 10:42:00</td>\n      <td>2009-12-21 13:30:00</td>\n      <td>2009-12-21 13:01:21</td>\n      <td>2009-12-22 10:56:47</td>\n      <td>2009-12-21 13:30:00</td>\n      <td>2009-12-21 13:00:00</td>\n      <td>45</td>\n    </tr>\n    <tr>\n      <th>384557</th>\n      <td>2010-04-16 21:03:00</td>\n      <td>2010-04-19 16:00:00</td>\n      <td>2010-04-16 21:12:18</td>\n      <td>2010-04-19 13:02:19</td>\n      <td>2010-04-19 09:05:00</td>\n      <td>2010-04-19 09:02:00</td>\n      <td>2</td>\n    </tr>\n    <tr>\n      <th>557659</th>\n      <td>2013-08-02 12:12:00</td>\n      <td>2013-08-02 13:30:00</td>\n      <td>2013-08-02 12:31:29</td>\n      <td>2013-08-02 14:09:33</td>\n      <td>2013-08-02 14:15:00</td>\n      <td>2013-08-02 13:59:00</td>\n      <td>89</td>\n    </tr>\n    <tr>\n      <th>420236</th>\n      <td>2011-01-20 23:31:00</td>\n      <td>2011-01-21 01:00:00</td>\n      <td>2011-01-21 01:42:07</td>\n      <td>2011-01-21 02:45:01</td>\n      <td>2011-01-21 03:47:18</td>\n      <td>2011-01-21 01:00:00</td>\n      <td>30</td>\n    </tr>\n    <tr>\n      <th>274111</th>\n      <td>2007-07-11 22:21:00</td>\n      <td>2007-07-12 12:04:00</td>\n      <td>2007-07-12 08:03:10</td>\n      <td>2007-07-12 11:28:40</td>\n      <td>2007-07-12 12:29:00</td>\n      <td>2007-07-12 11:48:00</td>\n      <td>19</td>\n    </tr>\n  </tbody>\n</table>\n</div>"
     },
     "execution_count": 40,
     "metadata": {},
     "output_type": "execute_result"
    }
   ]
  },
  {
   "cell_type": "markdown",
   "source": [
    "Opvallend is dat de 'gw prognose' in de meeste gevallen gelijk is aan de 'in prognose' of een minder accurate prognose is.\n",
    "'gw lwd prognose' is in veel gevallen onzinnig in vergelijking met de 'in prognose'.\n",
    "We gingen er van uit dat de gewijzigde prognoses door de aannemers gemaakt zijn. En de initiële prognose automatisch bij de melding door TIS (Trein Incident Scenario).\n",
    "Maar het lijkt er op dat de 'in prognose' accurater is dan de gw (lwd) prognoses. En de 'in prognoses' te accuraat zijn om vanaf het begin van de melding te zijn gemaakt.\n",
    "\n",
    "Er is ook een kolom over de invoer van de 'in prognose', laten we vergelijken hoeveel van deze invoeren waren nadat de aannemer ter plaatse kwam."
   ],
   "metadata": {
    "collapsed": false,
    "pycharm": {
     "name": "#%% md\n"
    }
   }
  },
  {
   "cell_type": "code",
   "execution_count": 41,
   "outputs": [
    {
     "name": "stdout",
     "output_type": "stream",
     "text": [
      "70 % van de invoer is later dan aannemer ter plaatse\n"
     ]
    }
   ],
   "source": [
    "print(round(((dataset_m1['stm_progfh_in_invoer_ddt'] >= dataset_m1['stm_aanntpl_ddt']).sum()/dataset_m1['stm_aanntpl_ddt'].count()) * 100), '% van de invoer is later dan aannemer ter plaatse')"
   ],
   "metadata": {
    "collapsed": false,
    "pycharm": {
     "name": "#%%\n"
    }
   }
  },
  {
   "cell_type": "markdown",
   "source": [
    "Het overgrote deel van de 'invoer in prognose' is nadat de aannemer ter plaatse was."
   ],
   "metadata": {
    "collapsed": false,
    "pycharm": {
     "name": "#%% md\n"
    }
   }
  },
  {
   "cell_type": "code",
   "execution_count": 42,
   "outputs": [
    {
     "name": "stdout",
     "output_type": "stream",
     "text": [
      "47 % van de invoer is later dan functieherstel\n"
     ]
    }
   ],
   "source": [
    "print(round(((dataset_m1['stm_progfh_in_invoer_ddt'] >= dataset_m1['stm_fh_ddt']).sum()/dataset_m1['stm_aanntpl_ddt'].count()) * 100), '% van de invoer is later dan functieherstel')"
   ],
   "metadata": {
    "collapsed": false,
    "pycharm": {
     "name": "#%%\n"
    }
   }
  },
  {
   "cell_type": "markdown",
   "source": [
    "Maar ook is ongeveer 50% van de 'invoer in prognose' na de daadwerkelijke functieherstel tijd.\n",
    "Hierdoor gaan we er vanuit dat de invoer-datum iets is wat achteraf wordt ingevuld en niet het moment is dat de prognose door de aannemer wordt gemaakt.\n",
    "Met dit in gedachte en de eerder twijfelbare betrouwbaarheid/overlap van de 'gw (lwd) prognoses' in verhouding tot de 'in prognose' gaan we er van uit dat de 'in prognose' de prognose is die de aannemer ter plaatse doet. En dat er in de data dus **geen** prognose aanwezig is die niet door de aannemer ter plaatse is gedaan."
   ],
   "metadata": {
    "collapsed": false,
    "pycharm": {
     "name": "#%% md\n"
    }
   }
  },
  {
   "cell_type": "markdown",
   "source": [
    "#### Data preparation model 1\n",
    "\n",
    "De kolommen nodig om de reparatie duur prognose te berekenen zijn:\n",
    "-stm_progfh_in_ddt\n",
    "-stm_aanntpl_ddt\n",
    "\n",
    "De kolom stm_aanntpl_ddt is al schoongemaakt om de target-variabele te construeren, daarom maken we alleen nog de kolom stm_progfh_in_ddt schoon."
   ],
   "metadata": {
    "collapsed": false,
    "pycharm": {
     "name": "#%% md\n"
    }
   }
  },
  {
   "cell_type": "markdown",
   "source": [
    "Aantal NAN waardes controleren."
   ],
   "metadata": {
    "collapsed": false,
    "pycharm": {
     "name": "#%% md\n"
    }
   }
  },
  {
   "cell_type": "code",
   "execution_count": 43,
   "outputs": [
    {
     "data": {
      "text/plain": "10557"
     },
     "execution_count": 43,
     "metadata": {},
     "output_type": "execute_result"
    }
   ],
   "source": [
    "dataset_m1['stm_progfh_in_ddt'].isna().sum()"
   ],
   "metadata": {
    "collapsed": false,
    "pycharm": {
     "name": "#%%\n"
    }
   }
  },
  {
   "cell_type": "markdown",
   "source": [
    "Aantal rijen waar het tijdstip van de prognose 00:00:00 was, dit duid op foutieve invoer zoals eerder besproken."
   ],
   "metadata": {
    "collapsed": false,
    "pycharm": {
     "name": "#%% md\n"
    }
   }
  },
  {
   "cell_type": "code",
   "execution_count": 44,
   "outputs": [
    {
     "data": {
      "text/plain": "10591"
     },
     "execution_count": 44,
     "metadata": {},
     "output_type": "execute_result"
    }
   ],
   "source": [
    "(dataset_m1['stm_progfh_in_tijd'] == \"00:00:00\").sum()"
   ],
   "metadata": {
    "collapsed": false,
    "pycharm": {
     "name": "#%%\n"
    }
   }
  },
  {
   "cell_type": "markdown",
   "source": [
    "Zo goed als alle NAN waardes in de ddt kolom komen overeen met een 00:00:00 tijdstip in de tijd kolomm. Hierdoor gaan we ervan uit dat zo goed als alle deze NAN waardes in ddt foutieve invoer waardes zijn en droppen we deze."
   ],
   "metadata": {
    "collapsed": false,
    "pycharm": {
     "name": "#%% md\n"
    }
   }
  },
  {
   "cell_type": "code",
   "execution_count": 45,
   "outputs": [],
   "source": [
    "dataset_m1.dropna(subset=['stm_progfh_in_ddt'], inplace=True)"
   ],
   "metadata": {
    "collapsed": false,
    "pycharm": {
     "name": "#%%\n"
    }
   }
  },
  {
   "cell_type": "markdown",
   "source": [
    "Kolom reparatie duur prognose kan nu aangemaakt worden."
   ],
   "metadata": {
    "collapsed": false,
    "pycharm": {
     "name": "#%% md\n"
    }
   }
  },
  {
   "cell_type": "code",
   "execution_count": 46,
   "outputs": [],
   "source": [
    "dataset_m1['reparatie_duur_prog'] = ((dataset_m1['stm_progfh_in_ddt'] - dataset_m1['stm_aanntpl_ddt']).dt.total_seconds()/60).astype('int')"
   ],
   "metadata": {
    "collapsed": false,
    "pycharm": {
     "name": "#%%\n"
    }
   }
  },
  {
   "cell_type": "markdown",
   "source": [
    "Ook kijken we alleen naar prognoses waarvan de prognose op een later tijdstip is dan wanneer de aannemer ter plaatse kwam.\n",
    "Dit doen we door alle nul en negatieve prognoses eruit te halen."
   ],
   "metadata": {
    "collapsed": false,
    "pycharm": {
     "name": "#%% md\n"
    }
   }
  },
  {
   "cell_type": "code",
   "execution_count": 47,
   "outputs": [],
   "source": [
    "dataset_m1 = dataset_m1[dataset_m1['reparatie_duur_prog'] > 0]"
   ],
   "metadata": {
    "collapsed": false,
    "pycharm": {
     "name": "#%%\n"
    }
   }
  },
  {
   "cell_type": "markdown",
   "source": [
    "Omdat we naar reparatie-duren t/m 6 uur kijken.\n",
    "Kijken we ook alleen naar prognoses t/m 6 uur. Om zo te vermijden dat er extreem pessimistiche prognoses ontstaan als we naar hogere prognoses kijken dan daadwerkelijke reparatie-duren."
   ],
   "metadata": {
    "collapsed": false,
    "pycharm": {
     "name": "#%% md\n"
    }
   }
  },
  {
   "cell_type": "code",
   "execution_count": 48,
   "outputs": [],
   "source": [
    "dataset_m1 = dataset_m1[dataset_m1['reparatie_duur_prog'] <= 360]"
   ],
   "metadata": {
    "collapsed": false,
    "pycharm": {
     "name": "#%%\n"
    }
   }
  },
  {
   "cell_type": "markdown",
   "source": [
    "De prognose is nu aangemaakt en schoon om terug te gaan naar data understanding."
   ],
   "metadata": {
    "collapsed": false,
    "pycharm": {
     "name": "#%% md\n"
    }
   }
  },
  {
   "cell_type": "markdown",
   "source": [],
   "metadata": {
    "collapsed": false,
    "pycharm": {
     "name": "#%% md\n"
    }
   }
  },
  {
   "cell_type": "code",
   "execution_count": 49,
   "outputs": [],
   "source": [
    "feature = 'reparatie_duur_prog'"
   ],
   "metadata": {
    "collapsed": false,
    "pycharm": {
     "name": "#%%\n"
    }
   }
  },
  {
   "cell_type": "markdown",
   "source": [
    "##### meetniveau\n",
    "\n",
    "Reparatie duur prognose is net zoals de reparatie duur, in minuten en is dus van een continu meetniveau."
   ],
   "metadata": {
    "collapsed": false,
    "pycharm": {
     "name": "#%% md\n"
    }
   }
  },
  {
   "cell_type": "code",
   "execution_count": 50,
   "outputs": [
    {
     "data": {
      "text/plain": "                 Kolom Meetniveau\n0       reparatie_duur    Continu\n1  reparatie_duur_prog    Continu",
      "text/html": "<div>\n<style scoped>\n    .dataframe tbody tr th:only-of-type {\n        vertical-align: middle;\n    }\n\n    .dataframe tbody tr th {\n        vertical-align: top;\n    }\n\n    .dataframe thead th {\n        text-align: right;\n    }\n</style>\n<table border=\"1\" class=\"dataframe\">\n  <thead>\n    <tr style=\"text-align: right;\">\n      <th></th>\n      <th>Kolom</th>\n      <th>Meetniveau</th>\n    </tr>\n  </thead>\n  <tbody>\n    <tr>\n      <th>0</th>\n      <td>reparatie_duur</td>\n      <td>Continu</td>\n    </tr>\n    <tr>\n      <th>1</th>\n      <td>reparatie_duur_prog</td>\n      <td>Continu</td>\n    </tr>\n  </tbody>\n</table>\n</div>"
     },
     "execution_count": 50,
     "metadata": {},
     "output_type": "execute_result"
    }
   ],
   "source": [
    "pd.DataFrame({'Kolom': [target, feature], 'Meetniveau': ['Continu', 'Continu']})"
   ],
   "metadata": {
    "collapsed": false,
    "pycharm": {
     "name": "#%%\n"
    }
   }
  },
  {
   "cell_type": "markdown",
   "source": [
    "##### Centrum en spreidingsmaten"
   ],
   "metadata": {
    "collapsed": false,
    "pycharm": {
     "name": "#%% md\n"
    }
   }
  },
  {
   "cell_type": "code",
   "execution_count": 51,
   "outputs": [
    {
     "data": {
      "text/plain": "       reparatie_duur_prog  reparatie_duur\ncount              48041.0         48041.0\nmean                  73.0            57.0\nstd                   69.0            63.0\nmin                    1.0             1.0\n25%                   25.0            15.0\n50%                   57.0            36.0\n75%                   93.0            75.0\nmax                  360.0           360.0",
      "text/html": "<div>\n<style scoped>\n    .dataframe tbody tr th:only-of-type {\n        vertical-align: middle;\n    }\n\n    .dataframe tbody tr th {\n        vertical-align: top;\n    }\n\n    .dataframe thead th {\n        text-align: right;\n    }\n</style>\n<table border=\"1\" class=\"dataframe\">\n  <thead>\n    <tr style=\"text-align: right;\">\n      <th></th>\n      <th>reparatie_duur_prog</th>\n      <th>reparatie_duur</th>\n    </tr>\n  </thead>\n  <tbody>\n    <tr>\n      <th>count</th>\n      <td>48041.0</td>\n      <td>48041.0</td>\n    </tr>\n    <tr>\n      <th>mean</th>\n      <td>73.0</td>\n      <td>57.0</td>\n    </tr>\n    <tr>\n      <th>std</th>\n      <td>69.0</td>\n      <td>63.0</td>\n    </tr>\n    <tr>\n      <th>min</th>\n      <td>1.0</td>\n      <td>1.0</td>\n    </tr>\n    <tr>\n      <th>25%</th>\n      <td>25.0</td>\n      <td>15.0</td>\n    </tr>\n    <tr>\n      <th>50%</th>\n      <td>57.0</td>\n      <td>36.0</td>\n    </tr>\n    <tr>\n      <th>75%</th>\n      <td>93.0</td>\n      <td>75.0</td>\n    </tr>\n    <tr>\n      <th>max</th>\n      <td>360.0</td>\n      <td>360.0</td>\n    </tr>\n  </tbody>\n</table>\n</div>"
     },
     "execution_count": 51,
     "metadata": {},
     "output_type": "execute_result"
    }
   ],
   "source": [
    "dataset_m1[[feature,target]].describe().round()"
   ],
   "metadata": {
    "collapsed": false,
    "pycharm": {
     "name": "#%%\n"
    }
   }
  },
  {
   "cell_type": "markdown",
   "source": [
    "Gemiddelde reparatie duur van rond de 70 minuten met een standaard-deviatie van 70 minuten.\n",
    "50% van de prognoses valt binnen 25 en 90 minuten, terwijl dit voor de daadwerkelijke reparatie duur binnen de 15 en 75 minuten is.\n",
    "Aan alle maten is te zien dat de prognose hoger worden ingeschat dan de reparatie duur zelf."
   ],
   "metadata": {
    "collapsed": false,
    "pycharm": {
     "name": "#%% md\n"
    }
   }
  },
  {
   "cell_type": "markdown",
   "source": [
    "##### Correlatie\n",
    "\n",
    "Er wordt een lineair verband verwacht tussen de prognose en de daadwerkelijke reparatie tijd.\n",
    "Om dit te valideren controleren we de Pearsons product-momentcorrelatiecoëfficiënt die een lineair verbandt aanduidt met een sterkte tussen de -1 en 1."
   ],
   "metadata": {
    "collapsed": false,
    "pycharm": {
     "name": "#%% md\n"
    }
   }
  },
  {
   "cell_type": "code",
   "execution_count": 52,
   "outputs": [
    {
     "data": {
      "text/plain": "                     reparatie_duur  reparatie_duur_prog\nreparatie_duur             1.000000             0.778211\nreparatie_duur_prog        0.778211             1.000000",
      "text/html": "<div>\n<style scoped>\n    .dataframe tbody tr th:only-of-type {\n        vertical-align: middle;\n    }\n\n    .dataframe tbody tr th {\n        vertical-align: top;\n    }\n\n    .dataframe thead th {\n        text-align: right;\n    }\n</style>\n<table border=\"1\" class=\"dataframe\">\n  <thead>\n    <tr style=\"text-align: right;\">\n      <th></th>\n      <th>reparatie_duur</th>\n      <th>reparatie_duur_prog</th>\n    </tr>\n  </thead>\n  <tbody>\n    <tr>\n      <th>reparatie_duur</th>\n      <td>1.000000</td>\n      <td>0.778211</td>\n    </tr>\n    <tr>\n      <th>reparatie_duur_prog</th>\n      <td>0.778211</td>\n      <td>1.000000</td>\n    </tr>\n  </tbody>\n</table>\n</div>"
     },
     "execution_count": 52,
     "metadata": {},
     "output_type": "execute_result"
    }
   ],
   "source": [
    "dataset_m1[[target, feature]].corr()"
   ],
   "metadata": {
    "collapsed": false,
    "pycharm": {
     "name": "#%%\n"
    }
   }
  },
  {
   "cell_type": "markdown",
   "source": [
    "De twee variabelen hebben een correlatie van 0.78 dit is een sterke positieve correlatie.\n",
    "Om een visueel beeld van de correlatie te krijgen plotten we een scatterplot."
   ],
   "metadata": {
    "collapsed": false,
    "pycharm": {
     "name": "#%% md\n"
    }
   }
  },
  {
   "cell_type": "code",
   "execution_count": 53,
   "outputs": [
    {
     "data": {
      "text/plain": "<Figure size 432x288 with 1 Axes>",
      "image/png": "[encoded data removed]"
     },
     "metadata": {
      "needs_background": "light"
     },
     "output_type": "display_data"
    }
   ],
   "source": [
    "dataset_m1.plot.scatter(x=feature, y=target, s=1)\n",
    "plt.xlabel(\"Reparatie duur prognose\")\n",
    "plt.ylabel(\"Reparatie duur\")\n",
    "plt.title(\"Reparatie duur vs prognose\")\n",
    "plt.show()"
   ],
   "metadata": {
    "collapsed": false,
    "pycharm": {
     "name": "#%%\n"
    }
   }
  },
  {
   "cell_type": "markdown",
   "source": [
    "We zien dat bij relatief lage reparatie-duren vaak bizar hoge prognoses worden opgegeven zoals 6 uur wanneer de daadwerkelijke hersteltijd 1 tot enkele minuten duurt.\n",
    "Hiermee zijn we naar onze product owner gestapt, want het lijkt er op alsof er veel foutieve/onrealistiche prognoses zijn ingevuld. De productowner liet weten een afwijking van 2 uur teveel te vinden voor daadwerkelijke hersteltijden van 1 minuut en voor een afwijking van 24 uur teveel voor een hersteltijd van 6 uur. We zijn hierdoor tot de afspraak gekomen om een interpolatie op de data te doen om zo alles onder een lineaire lijn als onzin prognose te beschouwen."
   ],
   "metadata": {
    "collapsed": false,
    "pycharm": {
     "name": "#%% md\n"
    }
   }
  },
  {
   "cell_type": "code",
   "execution_count": 54,
   "outputs": [],
   "source": [
    "interpolater = interp1d([1, 360], [120, 1440]) # maak lineaire interpolatie functie."
   ],
   "metadata": {
    "collapsed": false,
    "pycharm": {
     "name": "#%%\n"
    }
   }
  },
  {
   "cell_type": "code",
   "execution_count": 55,
   "outputs": [
    {
     "data": {
      "text/plain": "<Figure size 432x288 with 1 Axes>",
      "image/png": "[encoded data removed]"
     },
     "metadata": {
      "needs_background": "light"
     },
     "output_type": "display_data"
    }
   ],
   "source": [
    "dataset_m1[dataset_m1[feature]<1440].plot.scatter(x=feature, y=target,s=1)\n",
    "plt.plot(interpolater([1,70]), [1, 70], c='red', linewidth=3)\n",
    "\n",
    "plt.xlabel(\"Reparatie duur prognose\")\n",
    "plt.ylabel(\"Reparatie duur\")\n",
    "plt.title(\"Reparatie duur vs prognose\")\n",
    "\n",
    "plt.legend(['Snijlijn'],loc=\"upper right\")\n",
    "plt.show()"
   ],
   "metadata": {
    "collapsed": false,
    "pycharm": {
     "name": "#%%\n"
    }
   }
  },
  {
   "cell_type": "markdown",
   "source": [
    "Alles onder de rode snijlijn wordt als foutieve prognose beschouwd."
   ],
   "metadata": {
    "collapsed": false,
    "pycharm": {
     "name": "#%% md\n"
    }
   }
  },
  {
   "cell_type": "markdown",
   "source": [
    "#### Data preparation model 1\n",
    "\n",
    "Volgens de beschreven snijlijn verwijderen we *onzinnige* prognoses."
   ],
   "metadata": {
    "collapsed": false,
    "pycharm": {
     "name": "#%% md\n"
    }
   }
  },
  {
   "cell_type": "code",
   "execution_count": 56,
   "outputs": [],
   "source": [
    "dataset_m1 = dataset_m1[(dataset_m1[feature]) < (interpolater(dataset_m1[target]))]"
   ],
   "metadata": {
    "collapsed": false,
    "pycharm": {
     "name": "#%%\n"
    }
   }
  },
  {
   "cell_type": "markdown",
   "source": [
    "#### Data understanding model 1\n",
    "\n",
    "Nu de foutieve prognoses verwijderd zijn kunnen we verder met data-understanding over de reparatie duur prognose."
   ],
   "metadata": {
    "collapsed": false,
    "pycharm": {
     "name": "#%% md\n"
    }
   }
  },
  {
   "cell_type": "markdown",
   "source": [
    "##### Centrum en spreidingsmaten\n",
    "\n",
    "Omdat we een deel van de prognoses als foutief hebben beschouwd en hebben verwijderd kijken we opnieuw naar de centrum en spreidingsmaten."
   ],
   "metadata": {
    "collapsed": false,
    "pycharm": {
     "name": "#%% md\n"
    }
   }
  },
  {
   "cell_type": "code",
   "source": [
    "dataset_m1[[feature,target]].describe().round()"
   ],
   "metadata": {
    "collapsed": false,
    "pycharm": {
     "name": "#%%\n"
    }
   },
   "execution_count": 57,
   "outputs": [
    {
     "data": {
      "text/plain": "       reparatie_duur_prog  reparatie_duur\ncount              47423.0         47423.0\nmean                  71.0            58.0\nstd                   66.0            63.0\nmin                    1.0             1.0\n25%                   25.0            15.0\n50%                   55.0            36.0\n75%                   90.0            75.0\nmax                  360.0           360.0",
      "text/html": "<div>\n<style scoped>\n    .dataframe tbody tr th:only-of-type {\n        vertical-align: middle;\n    }\n\n    .dataframe tbody tr th {\n        vertical-align: top;\n    }\n\n    .dataframe thead th {\n        text-align: right;\n    }\n</style>\n<table border=\"1\" class=\"dataframe\">\n  <thead>\n    <tr style=\"text-align: right;\">\n      <th></th>\n      <th>reparatie_duur_prog</th>\n      <th>reparatie_duur</th>\n    </tr>\n  </thead>\n  <tbody>\n    <tr>\n      <th>count</th>\n      <td>47423.0</td>\n      <td>47423.0</td>\n    </tr>\n    <tr>\n      <th>mean</th>\n      <td>71.0</td>\n      <td>58.0</td>\n    </tr>\n    <tr>\n      <th>std</th>\n      <td>66.0</td>\n      <td>63.0</td>\n    </tr>\n    <tr>\n      <th>min</th>\n      <td>1.0</td>\n      <td>1.0</td>\n    </tr>\n    <tr>\n      <th>25%</th>\n      <td>25.0</td>\n      <td>15.0</td>\n    </tr>\n    <tr>\n      <th>50%</th>\n      <td>55.0</td>\n      <td>36.0</td>\n    </tr>\n    <tr>\n      <th>75%</th>\n      <td>90.0</td>\n      <td>75.0</td>\n    </tr>\n    <tr>\n      <th>max</th>\n      <td>360.0</td>\n      <td>360.0</td>\n    </tr>\n  </tbody>\n</table>\n</div>"
     },
     "execution_count": 57,
     "metadata": {},
     "output_type": "execute_result"
    }
   ]
  },
  {
   "cell_type": "markdown",
   "source": [
    "De spreiding van de prognose is na het verwijderen van de \"foutieve\" prognoses ongeveer hetzelfde gebleven.\n",
    "Nogsteeds is er hetzelfde verschil te zien tussen de daadwerkelijke duur en de prognose.\n",
    "De prognoses zijn gebasseerd op de centrum en spreidingsmaten pessimistisch."
   ],
   "metadata": {
    "collapsed": false,
    "pycharm": {
     "name": "#%% md\n"
    }
   }
  },
  {
   "cell_type": "markdown",
   "source": [
    "Visueel beeld van de verdeling krijgen met behulp van een histogram die beide de prognose en reparatie duur toont."
   ],
   "metadata": {
    "collapsed": false,
    "pycharm": {
     "name": "#%% md\n"
    }
   }
  },
  {
   "cell_type": "code",
   "execution_count": 58,
   "outputs": [
    {
     "data": {
      "text/plain": "<Figure size 504x504 with 1 Axes>",
      "image/png": "[encoded data removed]"
     },
     "metadata": {
      "needs_background": "light"
     },
     "output_type": "display_data"
    }
   ],
   "source": [
    "dataset_m1[feature].hist(figsize=(7,7), bins=15, alpha=1, color='red') # hist\n",
    "dataset_m1[target].hist(bins=15, alpha=.8, color='lightblue') # hist\n",
    "\n",
    "plt.axvline(dataset_m1[feature].mean(), color='red', linestyle='dashed', linewidth=3) # add mean line\n",
    "plt.axvline(dataset_m1[target].mean(), color='lightblue', linestyle='dashed', linewidth=3) # add mean line\n",
    "\n",
    "plt.legend(['Gemiddelde prognose duur', 'Gemiddelde reparatie duur', 'Prognose duur','Reparatie duur'], loc=\"upper right\") # legend\n",
    "plt.title(\"Reparatie duur prognose vs Reparatie duur.\"), plt.xlabel(\"duur in min\"), plt.ylabel(\"Aantal observaties.\") # title, x & y labels\n",
    "\n",
    "plt.show()"
   ],
   "metadata": {
    "collapsed": false,
    "pycharm": {
     "name": "#%%\n"
    }
   }
  },
  {
   "cell_type": "markdown",
   "source": [
    "De reparatie duur prognose lijkt een rechts-scheve lognormale verdeling te hebben, net als de reparatie duur.\n",
    "Er is te zien dat er meer korte reparatie duren zijn ten opzichte van de prognoses. En er meer lange prognoses zijn ten opzichte van de reparatie-duren."
   ],
   "metadata": {
    "collapsed": false,
    "pycharm": {
     "name": "#%% md\n"
    }
   }
  },
  {
   "cell_type": "markdown",
   "source": [
    "#### Uitschieters"
   ],
   "metadata": {
    "collapsed": false,
    "pycharm": {
     "name": "#%% md\n"
    }
   }
  },
  {
   "cell_type": "code",
   "execution_count": 59,
   "outputs": [
    {
     "data": {
      "text/plain": "<Figure size 432x288 with 1 Axes>",
      "image/png": "[encoded data removed]"
     },
     "metadata": {
      "needs_background": "light"
     },
     "output_type": "display_data"
    }
   ],
   "source": [
    "dataset_m1[feature].plot.box()\n",
    "plt.title('Boxplot reparatie duur prognose')\n",
    "plt.show()"
   ],
   "metadata": {
    "collapsed": false,
    "pycharm": {
     "name": "#%%\n"
    }
   }
  },
  {
   "cell_type": "markdown",
   "source": [
    "De reparatie duur prognose heeft veel mild en extreme uitschieters aan de rechter kant van de getallijn.\n",
    "Echter hebben we al een hoop van de uitschieters verwijderd met behulp van de besproken snijlijn en alleen naar prognoses onder de 6 uur te kijken, daarom beschouwen we deze uitschieters als valide data punten."
   ],
   "metadata": {
    "collapsed": false,
    "pycharm": {
     "name": "#%% md\n"
    }
   }
  },
  {
   "cell_type": "markdown",
   "source": [
    "#### Correlatie\n",
    "Eerst was de correlatie coëfficient 0.78, laten we deze opnieuw berekenen na het opschonen van de prognoses."
   ],
   "metadata": {
    "collapsed": false,
    "pycharm": {
     "name": "#%% md\n"
    }
   }
  },
  {
   "cell_type": "code",
   "source": [
    "dataset_m1[[target, feature]].corr()"
   ],
   "metadata": {
    "collapsed": false,
    "pycharm": {
     "name": "#%%\n"
    }
   },
   "execution_count": 60,
   "outputs": [
    {
     "data": {
      "text/plain": "                     reparatie_duur  reparatie_duur_prog\nreparatie_duur             1.000000             0.836026\nreparatie_duur_prog        0.836026             1.000000",
      "text/html": "<div>\n<style scoped>\n    .dataframe tbody tr th:only-of-type {\n        vertical-align: middle;\n    }\n\n    .dataframe tbody tr th {\n        vertical-align: top;\n    }\n\n    .dataframe thead th {\n        text-align: right;\n    }\n</style>\n<table border=\"1\" class=\"dataframe\">\n  <thead>\n    <tr style=\"text-align: right;\">\n      <th></th>\n      <th>reparatie_duur</th>\n      <th>reparatie_duur_prog</th>\n    </tr>\n  </thead>\n  <tbody>\n    <tr>\n      <th>reparatie_duur</th>\n      <td>1.000000</td>\n      <td>0.836026</td>\n    </tr>\n    <tr>\n      <th>reparatie_duur_prog</th>\n      <td>0.836026</td>\n      <td>1.000000</td>\n    </tr>\n  </tbody>\n</table>\n</div>"
     },
     "execution_count": 60,
     "metadata": {},
     "output_type": "execute_result"
    }
   ]
  },
  {
   "cell_type": "markdown",
   "source": [
    "De prognose en de daadwerkelijke reparatie duur hebben een lineaire correlatie van .83, de correlatie is nog sterker geworden.\n",
    "Een lineair regressie model is hierdoor interresant.\n",
    "\n",
    "We maken een scatterplot aan om de lineaire correlatie te visualiseren."
   ],
   "metadata": {
    "collapsed": false,
    "pycharm": {
     "name": "#%% md\n"
    }
   }
  },
  {
   "cell_type": "code",
   "execution_count": 61,
   "outputs": [
    {
     "data": {
      "text/plain": "<Figure size 432x288 with 1 Axes>",
      "image/png": "[encoded data removed]"
     },
     "metadata": {
      "needs_background": "light"
     },
     "output_type": "display_data"
    }
   ],
   "source": [
    "dataset_m1.plot.scatter(x=feature, y=target, s=1)\n",
    "plt.xlabel(\"Reparatie duur prognose\")\n",
    "plt.ylabel(\"Reparatie duur\")\n",
    "plt.title(\"Reparatie duur vs prognose\")\n",
    "plt.show()"
   ],
   "metadata": {
    "collapsed": false,
    "pycharm": {
     "name": "#%%\n"
    }
   }
  },
  {
   "cell_type": "markdown",
   "source": [
    "#### Kwaliteit prognose\n",
    "Eerder hebben we al aangetoond dat de prognoses van de aannemer pessimistisch zijn, zoals ook verteld is door de product-owner.\n",
    "Nu de prognose opgeschoond en geanalyseerd zijn, kunnen we testen hoeveel de prognose gemiddeld afwijkt door de RMSE te berekenen."
   ],
   "metadata": {
    "collapsed": false,
    "pycharm": {
     "name": "#%% md\n"
    }
   }
  },
  {
   "cell_type": "code",
   "source": [
    "rmse_prognose = round(mean_squared_error(dataset_m1[target], dataset_m1[feature], squared=False),2)\n",
    "print(f\"Prognose van de aannemer heeft een RMSE van: {rmse_prognose}\")"
   ],
   "metadata": {
    "collapsed": false,
    "pycharm": {
     "name": "#%%\n"
    }
   },
   "execution_count": 62,
   "outputs": [
    {
     "name": "stdout",
     "output_type": "stream",
     "text": [
      "Prognose van de aannemer heeft een RMSE van: 39.44\n"
     ]
    }
   ]
  },
  {
   "cell_type": "markdown",
   "source": [
    "De RMSE van de prognose is 39.44. De RMSE van de baseline is 65, zoals verwacht voorspelt de aannemer aanzienlijk beter dan de baseline.\n",
    "Het doel van onze modellen is dan ook niet meer beter scoren dan de baseline, maar ook beter dan de prognoses van de aannemer."
   ],
   "metadata": {
    "collapsed": false,
    "pycharm": {
     "name": "#%% md\n"
    }
   }
  },
  {
   "cell_type": "markdown",
   "source": [
    "#### Modeling model 1\n",
    "\n",
    "Vanwege het vinden van een sterke lineaire correlatie van 0.80 +.\n",
    "Gaan we eerst een polynoom model maken, hiermee testen we gelijk lineaire regressie (polynome regressie met 1 polynoom).\n",
    "Hierbij gebruiken we enkel de prognose als feature om de target, de reparatie duur te voorspellen.\n",
    "\n",
    "De eerste stap is het splitten van de data in een train en test set."
   ],
   "metadata": {
    "collapsed": false,
    "pycharm": {
     "name": "#%% md\n"
    }
   }
  },
  {
   "cell_type": "code",
   "execution_count": 63,
   "outputs": [],
   "source": [
    "X = dataset_m1[feature].values.reshape(-1,1) # reshape, nodig omdat de feature 1 dimensie heeft.\n",
    "y = dataset_m1[target]\n",
    "X_train, X_test, y_train, y_test = train_test_split(X, y, random_state=0)"
   ],
   "metadata": {
    "collapsed": false,
    "pycharm": {
     "name": "#%%\n"
    }
   }
  },
  {
   "cell_type": "markdown",
   "source": [
    "#### Polynoom regressie model maken, trainen en hyper-parameter tuning\n",
    "\n",
    "We maken 10 verschillende polynome regressie modellen en trainen deze op de train set.\n",
    "Om zo te testen welke hyperparameter-setting (het aantal polynomen) het beste scoort qua RMSE op de test set.\n",
    "Het aantal polynomen wat getest wordt is 1 t/m 10."
   ],
   "metadata": {
    "collapsed": false,
    "pycharm": {
     "name": "#%% md\n"
    }
   }
  },
  {
   "cell_type": "code",
   "execution_count": 64,
   "outputs": [
    {
     "data": {
      "text/plain": "<Figure size 432x288 with 1 Axes>",
      "image/png": "[encoded data removed]"
     },
     "metadata": {
      "needs_background": "light"
     },
     "output_type": "display_data"
    },
    {
     "data": {
      "text/plain": "{'Aantal polynomen: 1': 33.87,\n 'Aantal polynomen: 2': 33.87,\n 'Aantal polynomen: 3': 33.88,\n 'Aantal polynomen: 4': 33.88,\n 'Aantal polynomen: 5': 33.88,\n 'Aantal polynomen: 6': 33.87,\n 'Aantal polynomen: 7': 33.86,\n 'Aantal polynomen: 8': 34.1,\n 'Aantal polynomen: 9': 34.77,\n 'Aantal polynomen: 10': 37.67}"
     },
     "execution_count": 64,
     "metadata": {},
     "output_type": "execute_result"
    }
   ],
   "source": [
    "polynomials = np.arange(1, 11) # range of polynomials to test\n",
    "scores =  [round(mean_squared_error(y_test,make_pipeline(PolynomialFeatures(p),LinearRegression()).fit(X_train,y_train).predict(X_test), squared=False),2) for p in polynomials] # make, train and list the score of each model\n",
    "rmse_poly = min(scores) # RMSE is minimale RMSE van alle geteste modellen.\n",
    "# plot grafiek aantal polynomen vs RMSE score.\n",
    "plt.plot(polynomials, scores)\n",
    "plt.xlabel(\"Aantal polynomen vs RMSE\")\n",
    "plt.ylabel(\"RMSE\")\n",
    "plt.title(\"Aantal polynomen\")\n",
    "plt.show()\n",
    "\n",
    "dict(list(zip(map(lambda x: f\"Aantal polynomen: {x}\", polynomials), scores))) # print aantal polynomen + gescoorde RMSE"
   ],
   "metadata": {
    "collapsed": false,
    "pycharm": {
     "name": "#%%\n"
    }
   }
  },
  {
   "cell_type": "markdown",
   "source": [
    "Een polynoom regressie model met 1 t/m 7 polynomen scoren ongeveer dezelfde RMSE, namelijk: 33.9.\n",
    "We besluiten om het model met 1 polynoom te gebruiken, oftwel een lineair regressie model.\n",
    "Dit is het meest eenvoudige polynome regressie model die ook het beste scoort."
   ],
   "metadata": {
    "collapsed": false,
    "pycharm": {
     "name": "#%% md\n"
    }
   }
  },
  {
   "cell_type": "markdown",
   "source": [
    "#### Model 1 lineaire regressie visualiseren.\n",
    "\n",
    "Lineaire regressie model visualiseren om een idee te krijgen hoe ons model voorspelt ten opzichte van de gebruikte data.\n",
    "De lineaire regressie kan in 2d worden geplot omdat er maar een enkele feature wordt gebruikt."
   ],
   "metadata": {
    "collapsed": false,
    "pycharm": {
     "name": "#%% md\n"
    }
   }
  },
  {
   "cell_type": "code",
   "execution_count": 65,
   "outputs": [
    {
     "data": {
      "text/plain": "<Figure size 432x288 with 1 Axes>",
      "image/png": "[encoded data removed]"
     },
     "metadata": {
      "needs_background": "light"
     },
     "output_type": "display_data"
    }
   ],
   "source": [
    "lin_regr = LinearRegression().fit(X_train,y_train)\n",
    "line = np.linspace([1], 360, 1000)\n",
    "plt.plot(line, lin_regr.predict(line),'-r',linewidth=3)\n",
    "plt.scatter(X_test, y_test,s=1)\n",
    "\n",
    "plt.xlabel(\"Prognose\")\n",
    "plt.ylabel(\"Reparatie duur\")\n",
    "plt.title(\"Lineair regressie model\")\n",
    "plt.legend(['Lineaire regressie best fit lijn'], loc='upper right')\n",
    "plt.show()"
   ],
   "metadata": {
    "collapsed": false,
    "pycharm": {
     "name": "#%%\n"
    }
   }
  },
  {
   "cell_type": "markdown",
   "source": [],
   "metadata": {
    "collapsed": false,
    "pycharm": {
     "name": "#%% md\n"
    }
   }
  },
  {
   "cell_type": "code",
   "execution_count": 66,
   "outputs": [
    {
     "name": "stdout",
     "output_type": "stream",
     "text": [
      "RMSE: 33.86, RMSE is 14% lager ten opzichte van de prognose en 48% lager ten opzichte van de baseline.\n"
     ]
    }
   ],
   "source": [
    "print(f\"RMSE: {rmse_poly}, RMSE is {100-round(rmse_poly/rmse_prognose*100)}% lager ten opzichte van de prognose en {100-round(rmse_poly/baseline_rmse*100)}% lager ten opzichte van de baseline.\")"
   ],
   "metadata": {
    "collapsed": false,
    "pycharm": {
     "name": "#%%\n"
    }
   }
  },
  {
   "cell_type": "markdown",
   "source": [
    "Met een eenvoudige lineaire transformatie over de reparatie duur prognose van de aannemer kan er een accuratere voorspelling worden gedaan dan die van de aannemer zelf.\n",
    "We scoren hiermee een RMSE van 34, dit is 14% lager dan de RMSE van de prognose gemaakt door de aannemer.\n",
    "Daarom adviseren wij dit model als verbetering op de prognose van de aannemer."
   ],
   "metadata": {
    "collapsed": false,
    "pycharm": {
     "name": "#%% md\n"
    }
   }
  },
  {
   "cell_type": "markdown",
   "source": [
    "##### Model 2 Decision tree regressor\n",
    "\n",
    "Een ander regressie algoritme is een regressie beslis boom. Een beslis boom kan naast lineaire verbanden ook gebruik maken van complexere relaties tussen de features en target variabelen.\n",
    "Deze testen we ook met enkel de prognose als feature om te testen welk model het best werkt met enkel de prognose als input."
   ],
   "metadata": {
    "collapsed": false,
    "pycharm": {
     "name": "#%% md\n"
    }
   }
  },
  {
   "cell_type": "code",
   "execution_count": 67,
   "outputs": [
    {
     "data": {
      "text/plain": "<Figure size 432x288 with 1 Axes>",
      "image/png": "[encoded data removed]"
     },
     "metadata": {
      "needs_background": "light"
     },
     "output_type": "display_data"
    },
    {
     "data": {
      "text/plain": "{'diepte 1': 45.06,\n 'diepte 2': 37.63,\n 'diepte 3': 34.65,\n 'diepte 4': 34.02,\n 'diepte 5': 33.88,\n 'diepte 6': 33.87,\n 'diepte 7': 33.9,\n 'diepte 8': 33.94,\n 'diepte 9': 33.97,\n 'diepte 10': 33.96,\n 'diepte 11': 34.0,\n 'diepte 12': 34.08,\n 'diepte 13': 34.07,\n 'diepte 14': 34.07}"
     },
     "execution_count": 67,
     "metadata": {},
     "output_type": "execute_result"
    }
   ],
   "source": [
    "depths = np.arange(1, 15)\n",
    "scores =  [round(mean_squared_error(y_test,DecisionTreeRegressor(max_depth=d).fit(X_train,y_train).predict(X_test), squared=False),2) for d in depths]\n",
    "rmse_regr_tree = min(scores)\n",
    "plt.plot(depths, scores)\n",
    "plt.xlabel(\"Beslis boom diepte\")\n",
    "plt.ylabel(\"RMSE\")\n",
    "plt.title(\"Diepte van beslis boom vs RMSE\")\n",
    "plt.show()\n",
    "dict((zip(map(lambda x: f\"diepte {x}\", depths), scores)))"
   ],
   "metadata": {
    "collapsed": false,
    "pycharm": {
     "name": "#%%\n"
    }
   }
  },
  {
   "cell_type": "code",
   "execution_count": 68,
   "outputs": [
    {
     "name": "stdout",
     "output_type": "stream",
     "text": [
      "RMSE: 33.87, RMSE is 14% lager ten opzichte van de prognose en 48% lager ten opzichte van de baseline.\n"
     ]
    }
   ],
   "source": [
    "print(f\"RMSE: {rmse_regr_tree}, RMSE is {100-round(rmse_regr_tree/rmse_prognose*100)}% lager ten opzichte van de prognose en {100-round(rmse_regr_tree/baseline_rmse*100)}% lager ten opzichte van de baseline.\")"
   ],
   "metadata": {
    "collapsed": false,
    "pycharm": {
     "name": "#%%\n"
    }
   }
  },
  {
   "cell_type": "markdown",
   "source": [
    "##### Conclusie\n",
    "\n",
    "De regressie boom scoort vanaf diepte 5 een vergelijkbare RMSE als de polynome/lineaire regressie.\n",
    "We besluiten tussen deze twee modellen nogsteeds voor de lineaire regressie te kiezen. Omdat lineaire regressie een eenvoudiger uit te leggen model is en ook een continue voorspelling doet. Daarentegen is het aantal voorspellingen wat een beslisboom kan doen gelinkt aan zijn diepte."
   ],
   "metadata": {
    "collapsed": false,
    "pycharm": {
     "name": "#%% md\n"
    }
   }
  },
  {
   "cell_type": "markdown",
   "source": [
    "Model 1 exporteren, zodat het model in praktijk kan worden gebracht via een gebruikersapplicatie."
   ],
   "metadata": {
    "collapsed": false,
    "pycharm": {
     "name": "#%% md\n"
    }
   }
  },
  {
   "cell_type": "code",
   "execution_count": 69,
   "outputs": [],
   "source": [
    "pickle.dump(lin_regr, open('model_1.pkl', 'wb'))"
   ],
   "metadata": {
    "collapsed": false,
    "pycharm": {
     "name": "#%%\n"
    }
   }
  },
  {
   "cell_type": "markdown",
   "source": [
    "#### Data-understanding Model 3\n",
    "\n",
    "Voor model 3 willen de eerder besproken features, aanbevolen door de product-owner, gaan onderzoeken.\n",
    "- Type storing.\n",
    "- Tijdstip dat de aannemer ter plaatse er is.\n",
    "- Prognose van de storingsduur (al geanalyseerd en schoongemaakt).\n",
    "- Misschien het contractgebied en aannemer."
   ],
   "metadata": {
    "collapsed": false,
    "pycharm": {
     "name": "#%% md\n"
    }
   }
  },
  {
   "cell_type": "code",
   "execution_count": 70,
   "outputs": [],
   "source": [
    "dataset_m3 = dataset_m1.copy()"
   ],
   "metadata": {
    "collapsed": false,
    "pycharm": {
     "name": "#%%\n"
    }
   }
  },
  {
   "cell_type": "markdown",
   "source": [
    "#### Meetniveaus"
   ],
   "metadata": {
    "collapsed": false,
    "pycharm": {
     "name": "#%% md\n"
    }
   }
  },
  {
   "cell_type": "code",
   "execution_count": 71,
   "outputs": [
    {
     "data": {
      "text/plain": "                 Kolom Meetniveau\n0       stm_oorz_groep   Nominaal\n1        stm_oorz_code   Nominaal\n2      aanntpl_dagdeel   Ordinaal\n3  reparatie_duur_prog    Continu",
      "text/html": "<div>\n<style scoped>\n    .dataframe tbody tr th:only-of-type {\n        vertical-align: middle;\n    }\n\n    .dataframe tbody tr th {\n        vertical-align: top;\n    }\n\n    .dataframe thead th {\n        text-align: right;\n    }\n</style>\n<table border=\"1\" class=\"dataframe\">\n  <thead>\n    <tr style=\"text-align: right;\">\n      <th></th>\n      <th>Kolom</th>\n      <th>Meetniveau</th>\n    </tr>\n  </thead>\n  <tbody>\n    <tr>\n      <th>0</th>\n      <td>stm_oorz_groep</td>\n      <td>Nominaal</td>\n    </tr>\n    <tr>\n      <th>1</th>\n      <td>stm_oorz_code</td>\n      <td>Nominaal</td>\n    </tr>\n    <tr>\n      <th>2</th>\n      <td>aanntpl_dagdeel</td>\n      <td>Ordinaal</td>\n    </tr>\n    <tr>\n      <th>3</th>\n      <td>reparatie_duur_prog</td>\n      <td>Continu</td>\n    </tr>\n  </tbody>\n</table>\n</div>"
     },
     "execution_count": 71,
     "metadata": {},
     "output_type": "execute_result"
    }
   ],
   "source": [
    "pd.DataFrame({'Kolom': [\"stm_oorz_groep\", \"stm_oorz_code\", \"aanntpl_dagdeel\", feature], 'Meetniveau': ['Nominaal','Nominaal','Ordinaal','Continu']})"
   ],
   "metadata": {
    "collapsed": false,
    "pycharm": {
     "name": "#%%\n"
    }
   }
  },
  {
   "cell_type": "markdown",
   "source": [
    "De features oorzaak groep en oorzaak code zijn van nominaal meetniveau, ze zijn beide een categorie zonder volgordelijkheid.\n",
    "Een dagdeel is van ordinaal meetniveau, het is categoriaal maar er zit wel volgordelijkheid in."
   ],
   "metadata": {
    "collapsed": false,
    "pycharm": {
     "name": "#%% md\n"
    }
   }
  },
  {
   "cell_type": "markdown",
   "source": [
    "De prognose is al onderzocht tijdens datapreparation voor model 1 en de kolom aanntpl_dagdeel moet nog gemaakt worden.\n",
    "Daarom analyseren we eerst kolommen oorzaakgroep en oorzaakcode.\n",
    "\n",
    "Eerst kijken we naar de verschillende oorzaakgroepen en hoe vaak ze voorkomen."
   ],
   "metadata": {
    "collapsed": false,
    "pycharm": {
     "name": "#%% md\n"
    }
   }
  },
  {
   "cell_type": "code",
   "execution_count": 72,
   "outputs": [
    {
     "data": {
      "text/plain": "<Figure size 432x288 with 1 Axes>",
      "image/png": "[encoded data removed]"
     },
     "metadata": {
      "needs_background": "light"
     },
     "output_type": "display_data"
    }
   ],
   "source": [
    "sns.countplot(x='stm_oorz_groep',data=dataset_m3)\n",
    "plt.title('Countplot oorzaak groep')\n",
    "plt.show()"
   ],
   "metadata": {
    "collapsed": false,
    "pycharm": {
     "name": "#%%\n"
    }
   }
  },
  {
   "cell_type": "markdown",
   "source": [
    "Er zijn 4 verschillende waardes in de kolom oorzaak groep van meest voorkomend naar minst voorkomend:\n",
    "-TECHONV\n",
    "-ONR-DERD\n",
    "-ONR-RIB\n",
    "-WEER\n",
    "\n",
    "Omdat er teveel permutaties zijn van de oorzaaks code kunnen we hier geen leesbare countplot van maken.\n",
    "Daarom laten een tabel zien van de oorzaakcodes en de frequentie dat ze voorkomen."
   ],
   "metadata": {
    "collapsed": false,
    "pycharm": {
     "name": "#%% md\n"
    }
   }
  },
  {
   "cell_type": "code",
   "execution_count": 73,
   "outputs": [
    {
     "data": {
      "text/plain": "221.0    6393\n218.0    5918\n215.0    5583\n135.0    2535\n145.0    2442\n133.0    2414\n151.0    2175\n298.0    2025\n143.0    1632\n213.0    1339\n225.0    1151\n140.0    1008\n147.0     958\n203.0     752\n212.0     738\n146.0     540\n219.0     511\n207.0     508\n183.0     463\n241.0     454\n230.0     452\n226.0     426\n150.0     414\n184.0     412\n181.0     400\n182.0     369\n227.0     368\n149.0     338\n186.0     321\n209.0     283\n214.0     268\n228.0     267\n299.0     262\n154.0     248\n223.0     222\n210.0     213\n220.0     211\n148.0     183\n187.0     180\n294.0     176\n222.0     173\n132.0     159\n211.0     142\n144.0     134\n229.0     131\n201.0     110\n240.0     106\n242.0      70\n204.0      67\n188.0      60\n250.0      57\n208.0      55\n141.0      48\n185.0      44\n224.0      43\n234.0      37\n142.0      29\n235.0      24\n231.0      22\n189.0      13\n134.0      10\n206.0      10\n239.0       8\n130.0       8\n131.0       7\n999.0       4\n202.0       3\n136.0       3\n233.0       2\n205.0       1\nName: stm_oorz_code, dtype: int64"
     },
     "execution_count": 73,
     "metadata": {},
     "output_type": "execute_result"
    }
   ],
   "source": [
    "dataset_m3['stm_oorz_code'].value_counts()"
   ],
   "metadata": {
    "collapsed": false,
    "pycharm": {
     "name": "#%%\n"
    }
   }
  },
  {
   "cell_type": "markdown",
   "source": [
    "De top 6 voorkomende oorzaak codes zijn:\n",
    "- 221;Overigtechnisch\n",
    "- 218;Bijonderzoekinorde/geenoorzaakgevonden\n",
    "- 215;Onderdeeldefectdooronbekendeoorzaak\n",
    "- 135;Overigprocessen\n",
    "- 145;Vandalisme\n",
    "- 133;Werkzaamheden\n",
    "\n",
    "Ook valt op dat er een oorzaaks code 999 enkele keren voorkomt in de data, deze oorzaaks code staat niet beschreven in de data-dictionary en zetten we later om naar oorzaaks code 299 (niet gemeld)."
   ],
   "metadata": {
    "collapsed": false,
    "pycharm": {
     "name": "#%% md\n"
    }
   }
  },
  {
   "cell_type": "markdown",
   "source": [
    "#### Uitschieters\n",
    "Er zijn teveel permutaties van de oorzaaks code om hiervan een boxplot te maken tegenover de target variabele.\n",
    "De kolom oorzaak groep heeft maar 4 permutaties en kan daardoor wel geanalyseerd worden met een boxplot."
   ],
   "metadata": {
    "collapsed": false,
    "pycharm": {
     "name": "#%% md\n"
    }
   }
  },
  {
   "cell_type": "code",
   "execution_count": 74,
   "outputs": [
    {
     "data": {
      "text/plain": "<Figure size 432x288 with 1 Axes>",
      "image/png": "[encoded data removed]"
     },
     "metadata": {
      "needs_background": "light"
     },
     "output_type": "display_data"
    }
   ],
   "source": [
    "sns.boxplot(x='stm_oorz_groep', y=target, data=dataset_m3)\n",
    "plt.title('Boxplot oorzaak groep')\n",
    "plt.show()"
   ],
   "metadata": {
    "collapsed": false,
    "pycharm": {
     "name": "#%%\n"
    }
   }
  },
  {
   "cell_type": "markdown",
   "source": [
    "Alle 4 de oorzaak groepen hebben veel uitschieters aan de rechterkant van de getallijn.\n",
    "De oorzaak groep ONR-DERD is de enige oorzaak groep die merkwaardig lijkt af te wijken ten opzichte van de rest van de oorzaak groepen.\n",
    "Storingen met deze oorzaak groep zijn iets lager verdeeld qua kwartielen dan de rest.\n",
    "\n",
    "Om data-understanding voort te zetten moet eesrt de kolom dagdeel aanntpl worden aangemaakt en schonen we ook de al geanalyseerde feature kolommen op."
   ],
   "metadata": {
    "collapsed": false,
    "pycharm": {
     "name": "#%% md\n"
    }
   }
  },
  {
   "cell_type": "markdown",
   "source": [
    "#### Data-preparation Model 3\n",
    "\n",
    "Kolom voor kolom schoonmaken beginnend met oorzaak code.\n",
    "\n",
    "Tijdens de data-preparation fase viel op dat er een rijen waren met de oorzaaks code 999.\n",
    "Deze staan niet in de datadictionary, deze zetten we om naar de oorzaakscode 299.\n",
    "Betekenis oorzaakcode 299: Niet gemeld"
   ],
   "metadata": {
    "collapsed": false,
    "pycharm": {
     "name": "#%% md\n"
    }
   }
  },
  {
   "cell_type": "code",
   "execution_count": 75,
   "outputs": [
    {
     "name": "stdout",
     "output_type": "stream",
     "text": [
      "4 rijen met oorzaak code 999\n"
     ]
    }
   ],
   "source": [
    "print((dataset_m3['stm_oorz_code'] == 999).sum(), 'rijen met oorzaak code 999')"
   ],
   "metadata": {
    "collapsed": false,
    "pycharm": {
     "name": "#%%\n"
    }
   }
  },
  {
   "cell_type": "code",
   "execution_count": 76,
   "outputs": [],
   "source": [
    "dataset_m3['stm_oorz_code'] = dataset_m3['stm_oorz_code'].replace([999],299.0)"
   ],
   "metadata": {
    "collapsed": false,
    "pycharm": {
     "name": "#%%\n"
    }
   }
  },
  {
   "cell_type": "markdown",
   "source": [
    "##### NAN waardes"
   ],
   "metadata": {
    "collapsed": false,
    "pycharm": {
     "name": "#%% md\n"
    }
   }
  },
  {
   "cell_type": "code",
   "execution_count": 77,
   "outputs": [
    {
     "name": "stdout",
     "output_type": "stream",
     "text": [
      "0.6% van de oorzaak codes is een NAN\n"
     ]
    }
   ],
   "source": [
    "print(f\"{round((dataset_m3['stm_oorz_code'].isna().sum()/dataset_m3['stm_oorz_code'].count())*100, 1)}% van de oorzaak codes is een NAN\")"
   ],
   "metadata": {
    "collapsed": false,
    "pycharm": {
     "name": "#%%\n"
    }
   }
  },
  {
   "cell_type": "markdown",
   "source": [
    "Er zijn een aantal NAN waardes in de kolom oorzaak code. Uit de data dictionary blijken er geen andere kolommen te zijn waar we de oorzaak code staat vermeld. We gaan er vanuit dat in deze gevallen er geen oorzaak code is gemeld. Daarom vervangen we ook de NAN waardes met de oorzaak code 299."
   ],
   "metadata": {
    "collapsed": false,
    "pycharm": {
     "name": "#%% md\n"
    }
   }
  },
  {
   "cell_type": "code",
   "execution_count": 78,
   "outputs": [],
   "source": [
    "dataset_m3['stm_oorz_code'] = dataset_m3['stm_oorz_code'].fillna(299.0)"
   ],
   "metadata": {
    "collapsed": false,
    "pycharm": {
     "name": "#%%\n"
    }
   }
  },
  {
   "cell_type": "markdown",
   "source": [
    "De kolom oorzaak code is nu schoon.\n",
    "\n",
    "Als volgende stap kan de nieuwe feature aanntpl_dagdeel gemaakt worden. Hiermee willen we onderzoeken of het tijdstip dat de aannemer ter plaatse was invloed heeft op de betrouwbaarheid van hun prognose.\n",
    "Hiervoor verdelen we tijdstippen onder in dagdelen:\n",
    "  00:00 tot 06:00: nacht\n",
    "  06:00 tot 12:00: ochtend\n",
    "  12:00 tot 18:00: middag\n",
    "  18:00 tot 00:00: avond."
   ],
   "metadata": {
    "collapsed": false,
    "pycharm": {
     "name": "#%% md\n"
    }
   }
  },
  {
   "cell_type": "code",
   "execution_count": 79,
   "outputs": [],
   "source": [
    "dataset_m3['aanntpl_dagdeel'] = pd.cut(dataset_m3['stm_aanntpl_ddt'].dt.hour,bins=[0,5,11,17,23],include_lowest=True,labels=['nacht', 'ochtend', 'middag', 'avond'])"
   ],
   "metadata": {
    "collapsed": false,
    "pycharm": {
     "name": "#%%\n"
    }
   }
  },
  {
   "cell_type": "code",
   "execution_count": 80,
   "outputs": [
    {
     "data": {
      "text/plain": "           stm_aanntpl_ddt aanntpl_dagdeel\n382669 2010-03-31 16:33:00          middag\n383672 2010-04-09 14:53:00          middag\n824914 2017-01-24 18:55:24           avond\n510549 2013-02-08 01:05:00           nacht\n516892 2013-03-11 09:15:00         ochtend",
      "text/html": "<div>\n<style scoped>\n    .dataframe tbody tr th:only-of-type {\n        vertical-align: middle;\n    }\n\n    .dataframe tbody tr th {\n        vertical-align: top;\n    }\n\n    .dataframe thead th {\n        text-align: right;\n    }\n</style>\n<table border=\"1\" class=\"dataframe\">\n  <thead>\n    <tr style=\"text-align: right;\">\n      <th></th>\n      <th>stm_aanntpl_ddt</th>\n      <th>aanntpl_dagdeel</th>\n    </tr>\n  </thead>\n  <tbody>\n    <tr>\n      <th>382669</th>\n      <td>2010-03-31 16:33:00</td>\n      <td>middag</td>\n    </tr>\n    <tr>\n      <th>383672</th>\n      <td>2010-04-09 14:53:00</td>\n      <td>middag</td>\n    </tr>\n    <tr>\n      <th>824914</th>\n      <td>2017-01-24 18:55:24</td>\n      <td>avond</td>\n    </tr>\n    <tr>\n      <th>510549</th>\n      <td>2013-02-08 01:05:00</td>\n      <td>nacht</td>\n    </tr>\n    <tr>\n      <th>516892</th>\n      <td>2013-03-11 09:15:00</td>\n      <td>ochtend</td>\n    </tr>\n  </tbody>\n</table>\n</div>"
     },
     "execution_count": 80,
     "metadata": {},
     "output_type": "execute_result"
    }
   ],
   "source": [
    "dataset_m3[['stm_aanntpl_ddt', 'aanntpl_dagdeel']].sample(5, random_state=6)"
   ],
   "metadata": {
    "collapsed": false,
    "pycharm": {
     "name": "#%%\n"
    }
   }
  },
  {
   "cell_type": "markdown",
   "source": [
    "De nieuwe kolom aanntpl_dagdeel is aangemaakt en de dagdelen komen overeen met het tijdstip.\n",
    "De laatste kolom, oorzaak groep kan nu worden schoongemaakt."
   ],
   "metadata": {
    "collapsed": false,
    "pycharm": {
     "name": "#%% md\n"
    }
   }
  },
  {
   "cell_type": "code",
   "execution_count": 81,
   "outputs": [
    {
     "name": "stdout",
     "output_type": "stream",
     "text": [
      "0.6% van de oorzaak groepen is NAN\n"
     ]
    }
   ],
   "source": [
    "print(f\"{round((dataset_m3['stm_oorz_groep'].isna().sum()/dataset_m3['stm_oorz_groep'].count())*100, 1)}% van de oorzaak groepen is NAN\")"
   ],
   "metadata": {
    "collapsed": false,
    "pycharm": {
     "name": "#%%\n"
    }
   }
  },
  {
   "cell_type": "markdown",
   "source": [
    "Klein genoeg deel van de data om te droppen."
   ],
   "metadata": {
    "collapsed": false,
    "pycharm": {
     "name": "#%% md\n"
    }
   }
  },
  {
   "cell_type": "code",
   "execution_count": 82,
   "outputs": [],
   "source": [
    "dataset_m3.dropna(subset=['stm_oorz_groep'], inplace=True)"
   ],
   "metadata": {
    "collapsed": false,
    "pycharm": {
     "name": "#%%\n"
    }
   }
  },
  {
   "cell_type": "markdown",
   "source": [
    "##### Dtypes\n",
    "\n",
    "Dtypes van de kolommen controleren waarvan de dtypes nog niet eerder zijn behandeld."
   ],
   "metadata": {
    "collapsed": false,
    "pycharm": {
     "name": "#%% md\n"
    }
   }
  },
  {
   "cell_type": "code",
   "execution_count": 83,
   "outputs": [
    {
     "data": {
      "text/plain": "stm_oorz_groep       object\naanntpl_dagdeel    category\nstm_oorz_code       float64\ndtype: object"
     },
     "execution_count": 83,
     "metadata": {},
     "output_type": "execute_result"
    }
   ],
   "source": [
    "dataset_m3[['stm_oorz_groep', 'aanntpl_dagdeel', 'stm_oorz_code']].dtypes"
   ],
   "metadata": {
    "collapsed": false,
    "pycharm": {
     "name": "#%%\n"
    }
   }
  },
  {
   "cell_type": "markdown",
   "source": [
    "De drie kolommen horen categoriaal te zijn en worden daarom omgezet tot juiste type 'category' indien nodig."
   ],
   "metadata": {
    "collapsed": false,
    "pycharm": {
     "name": "#%% md\n"
    }
   }
  },
  {
   "cell_type": "code",
   "execution_count": 84,
   "outputs": [],
   "source": [
    "dataset_m3[['stm_oorz_groep', 'stm_oorz_code']] = dataset_m3[['stm_oorz_groep', 'stm_oorz_code']].astype('category')"
   ],
   "metadata": {
    "collapsed": false,
    "pycharm": {
     "name": "#%%\n"
    }
   }
  },
  {
   "cell_type": "markdown",
   "source": [
    "#### Data-preparation model 3\n",
    "#### Uitschieters\n",
    "Nu kan er ook van de kolom aanntpl_dagdeel een boxplot gemaakt worden om een idee te krijgen van de verdeling van de reparatie duur per dagdeel."
   ],
   "metadata": {
    "collapsed": false,
    "pycharm": {
     "name": "#%% md\n"
    }
   }
  },
  {
   "cell_type": "code",
   "execution_count": 85,
   "outputs": [
    {
     "data": {
      "text/plain": "<Figure size 432x288 with 1 Axes>",
      "image/png": "[encoded data removed]"
     },
     "metadata": {
      "needs_background": "light"
     },
     "output_type": "display_data"
    }
   ],
   "source": [
    "sns.boxplot(x='aanntpl_dagdeel', y=target, data=dataset_m3)\n",
    "plt.title('boxplot aannemer ter plaatse dagdeel')\n",
    "plt.show()"
   ],
   "metadata": {
    "collapsed": false,
    "pycharm": {
     "name": "#%%\n"
    }
   }
  },
  {
   "cell_type": "markdown",
   "source": [
    "Er valt een verschil te zien tussen de reparatieduren bij de verschillende dagdelen.\n",
    "In de nacht ligt 50% van de reparatie duren ongeveer tussen de 30 en 110, in de ochtend, middag en avond tussen de 25 en 60 +-.\n",
    "Ook ligt de kleinste niet uitschieter in de nacht aanzienlijk hoger (250 min) dan bij de rest van de dagdelen (150 +- min)."
   ],
   "metadata": {
    "collapsed": false,
    "pycharm": {
     "name": "#%% md\n"
    }
   }
  },
  {
   "cell_type": "markdown",
   "source": [
    "### Modeling model 3\n",
    "\n",
    "Voor het derde model gebruiken we de volgende variabelen:\n",
    "- Reparatie duur prognose van de aannemer.\n",
    "- Oorzaaks code van de storing.\n",
    "- Oorzaaks groep van de storing.\n",
    "- Dagdeel aannemer ter plaatse.\n",
    "\n",
    "Omdat de prognose een sterk lineair verband heeft met de target willen we nogsteeds een regressie algoritme gebruiken die gebruik kan maken van deze lineaire relatie.\n",
    "We hebben opnieuw voor een beslisboom regressie gekozen. Dit algoritme werkt beter ten opzichte van polynome regressie wanneer der complexe relaties zijn tussen de features en target variabele en ook wanneer er met een mix van numerieke en categoriale data wordt gewerkt zoals onze features.\n",
    "\n",
    "Voor de beslisboom is ook geen extra feature selection nodig. De boom ontdekt zelf de meest invloedrijke variabelen."
   ],
   "metadata": {
    "collapsed": false,
    "pycharm": {
     "name": "#%% md\n"
    }
   }
  },
  {
   "cell_type": "code",
   "execution_count": 86,
   "outputs": [],
   "source": [
    "features = ['stm_oorz_groep', 'aanntpl_dagdeel', 'stm_oorz_code', 'reparatie_duur_prog']\n",
    "target = 'reparatie_duur'"
   ],
   "metadata": {
    "collapsed": false,
    "pycharm": {
     "name": "#%%\n"
    }
   }
  },
  {
   "cell_type": "markdown",
   "source": [
    "Train en test data aanmaken.\n",
    "De features encoded met get_dummies, deze encode automatisch alleen variabelen van het type category."
   ],
   "metadata": {
    "collapsed": false,
    "pycharm": {
     "name": "#%% md\n"
    }
   }
  },
  {
   "cell_type": "code",
   "execution_count": 87,
   "outputs": [],
   "source": [
    "X = pd.get_dummies(dataset_m3[features], drop_first=True)\n",
    "y = dataset_m3['reparatie_duur']\n",
    "X_train, X_test, y_train, y_test = train_test_split(X, y, random_state=0)"
   ],
   "metadata": {
    "collapsed": false,
    "pycharm": {
     "name": "#%%\n"
    }
   }
  },
  {
   "cell_type": "markdown",
   "source": [
    "#### Model maken en Hyper-parameter tuning\n",
    "\n",
    "Om de optimale beslis boom te vinden, testen we de RMSE score van een beslis boom met dieptes 1 t/m 14."
   ],
   "metadata": {
    "collapsed": false,
    "pycharm": {
     "name": "#%% md\n"
    }
   }
  },
  {
   "cell_type": "code",
   "execution_count": 88,
   "outputs": [
    {
     "data": {
      "text/plain": "<Figure size 432x288 with 1 Axes>",
      "image/png": "[encoded data removed]"
     },
     "metadata": {
      "needs_background": "light"
     },
     "output_type": "display_data"
    },
    {
     "data": {
      "text/plain": "{'diepte 1': 45.79,\n 'diepte 2': 38.25,\n 'diepte 3': 35.71,\n 'diepte 4': 34.91,\n 'diepte 5': 34.77,\n 'diepte 6': 34.92,\n 'diepte 7': 35.12,\n 'diepte 8': 35.13,\n 'diepte 9': 35.79,\n 'diepte 10': 35.74,\n 'diepte 11': 36.04,\n 'diepte 12': 36.49,\n 'diepte 13': 36.82,\n 'diepte 14': 37.06}"
     },
     "execution_count": 88,
     "metadata": {},
     "output_type": "execute_result"
    }
   ],
   "source": [
    "depths = np.arange(1, 15)\n",
    "scores =  [round(mean_squared_error(y_test,DecisionTreeRegressor(max_depth=d).fit(X_train,y_train).predict(X_test), squared=False),2) for d in depths]\n",
    "rmse_regr_tree_2 = min(scores)\n",
    "plt.plot(depths, scores)\n",
    "plt.xlabel(\"Beslis boom diepte\")\n",
    "plt.ylabel(\"RMSE\")\n",
    "plt.title(\"Diepte van beslis boom vs RMSE\")\n",
    "plt.show()\n",
    "dict((zip(map(lambda x: f\"diepte {x}\", depths), scores)))"
   ],
   "metadata": {
    "collapsed": false,
    "pycharm": {
     "name": "#%%\n"
    }
   }
  },
  {
   "cell_type": "code",
   "execution_count": 89,
   "outputs": [
    {
     "name": "stdout",
     "output_type": "stream",
     "text": [
      "RMSE: 34.77, RMSE is 12% lager ten opzichte van de prognose en 47% lager ten opzichte van de baseline.\n"
     ]
    }
   ],
   "source": [
    "print(f\"RMSE: {rmse_regr_tree_2}, RMSE is {100-round(rmse_regr_tree_2/rmse_prognose*100)}% lager ten opzichte van de prognose en {100-round(rmse_regr_tree_2/baseline_rmse*100)}% lager ten opzichte van de baseline.\")"
   ],
   "metadata": {
    "collapsed": false,
    "pycharm": {
     "name": "#%%\n"
    }
   }
  },
  {
   "cell_type": "markdown",
   "source": [
    "De beste RMSE van een beslisboom met 4 feature variabelen (waaronder de reparatie duur prognose)  is lager dan de RMSE van de beste beslisboom met die enkel de reparatie duur prognose gebruikt als feature.\n",
    "Dit komt **waarschijnlijk** omdat er een aantal data punten van de prognose zijn verwijderd tijdens het behandelen van de NAN waardes van de nieuwe features.\n",
    "\n",
    "Laten we dit testen door op dezelfde dataset een beslisboom te gebruiken die enkel de reparatie duur prognose gebruikt als feature."
   ],
   "metadata": {
    "collapsed": false,
    "pycharm": {
     "name": "#%% md\n"
    }
   }
  },
  {
   "cell_type": "code",
   "execution_count": 90,
   "outputs": [
    {
     "name": "stdout",
     "output_type": "stream",
     "text": [
      "RMSE beslisboom 1 feature beste RMSE:  34.84\n"
     ]
    }
   ],
   "source": [
    "X = dataset_m3[\"reparatie_duur_prog\"].values.reshape(-1,1)\n",
    "X_train, X_test, y_train, y_test = train_test_split(X, y, random_state=0)\n",
    "depths = np.arange(1, 15)\n",
    "scores =  [round(mean_squared_error(y_test,DecisionTreeRegressor(max_depth=d).fit(X_train,y_train).predict(X_test), squared=False),2) for d in depths]\n",
    "print(\"RMSE beslisboom 1 feature beste RMSE: \", min(scores))"
   ],
   "metadata": {
    "collapsed": false,
    "pycharm": {
     "name": "#%%\n"
    }
   }
  },
  {
   "cell_type": "markdown",
   "source": [
    "De RMSE van de beslisboom met enkel de prognose als feature scoort de exact zelfde RMSE als de beslis boom die ook de: oorzaaks code, oorzaaks groep en dagdeel aannemer ter plaatse als feature meeneemt."
   ],
   "metadata": {
    "collapsed": false,
    "pycharm": {
     "name": "#%% md\n"
    }
   }
  },
  {
   "cell_type": "markdown",
   "source": [
    "#### Conclusie\n",
    "Een beslisboom met de volgende feature variabelen:\n",
    "- Oorzaaks code van de storing.\n",
    "- Oorzaaks groep van de storing.\n",
    "- Dagdeel aannemer ter plaatse.\n",
    "- Prognose reparatie duur aannemer.\n",
    "\n",
    "Heeft geen betere voorspellingskracht dan een beslisboom/lineair regressie model die enkel de prognose als feature gebruikt.\n",
    "Daarom overwegen we het gebruik van dit model **niet**. Het beste en eenvoudigste model blijft de lineaire regressie om de reparatie duur te voorspellen.\n"
   ],
   "metadata": {
    "collapsed": false,
    "pycharm": {
     "name": "#%% md\n"
    }
   }
  },
  {
   "cell_type": "markdown",
   "source": [
    "#### Business-understanding 4\n",
    "\n",
    "Onze productowner liet weten ook graag een voorspelling te kunnen doen voordat er een prognose is gemaakt door de aannnemer.\n",
    "Hierop hebben wij o.a doorgevraagd welke variabelen precies al bekend zijn voor dat de aannemer de oorzaak heeft gevonden en een prognose heeft gedaan.\n",
    "Dit o.a de volgende variabelen:\n",
    "- Prioriteit indicatie\n",
    "- Aannemer ter plaatse tijd (is bekend voor de prognose)\n",
    "- Techniekveld\n",
    "- Contractgebied aannemer\n",
    "- Functieherstel status\n",
    "\n",
    "Aan de hand van deze variabelen willen onderzoeken hoe accuraat we kunnen classificeren of een reparatie duur lager of hoger is dan 15min zodat de planners van de NS *voor* de prognose van de aannemer al het treinverkeer kunnen gaan hervatten, indien de storing erg kort is.\n",
    "\n",
    "\n",
    "#### Data-preparation 4\n",
    "\n",
    "Hiervoor moeten we eerst een nieuwe target variabele maken, namelijk een label met als waarde of de reparatie duur lager gelijk is dan 15 minuten."
   ],
   "metadata": {
    "collapsed": false,
    "pycharm": {
     "name": "#%% md\n"
    }
   }
  },
  {
   "cell_type": "code",
   "execution_count": 91,
   "outputs": [],
   "source": [
    "dataset_m4 = dataset_m3.copy()"
   ],
   "metadata": {
    "collapsed": false,
    "pycharm": {
     "name": "#%%\n"
    }
   }
  },
  {
   "cell_type": "code",
   "execution_count": 92,
   "outputs": [],
   "source": [
    "dataset_m4['reparatie_duur_<=15'] = (dataset_m4['reparatie_duur'] <= 15).astype('int').copy() # boolean to int"
   ],
   "metadata": {
    "collapsed": false,
    "pycharm": {
     "name": "#%%\n"
    }
   }
  },
  {
   "cell_type": "code",
   "execution_count": 93,
   "outputs": [
    {
     "data": {
      "text/plain": "592816    0\n680751    0\n237571    0\n679491    0\n341653    1\n515604    1\n498789    0\n345916    0\n809023    0\n646478    1\nName: reparatie_duur_<=15, dtype: int32"
     },
     "execution_count": 93,
     "metadata": {},
     "output_type": "execute_result"
    }
   ],
   "source": [
    "dataset_m4['reparatie_duur_<=15'].head(10)"
   ],
   "metadata": {
    "collapsed": false,
    "pycharm": {
     "name": "#%%\n"
    }
   }
  },
  {
   "cell_type": "markdown",
   "source": [
    "#### Baseline classificatie\n",
    "\n",
    "Omdat we nu een andere target proberen te voorspellen moeten we hier ook een nieuwe baseline voor maken.\n",
    "Hiervoor gebruiken we een DummyClassifier omdat we met een classificatie probleem werken."
   ],
   "metadata": {
    "collapsed": false,
    "pycharm": {
     "name": "#%% md\n"
    }
   }
  },
  {
   "cell_type": "code",
   "execution_count": 94,
   "outputs": [],
   "source": [
    "X = dataset_m4.drop(target ,axis=1)\n",
    "y = dataset_m4['reparatie_duur_<=15']\n",
    "X_train, X_test, y_train, y_test = train_test_split(X, y, random_state=0)"
   ],
   "metadata": {
    "collapsed": false,
    "pycharm": {
     "name": "#%%\n"
    }
   }
  },
  {
   "cell_type": "code",
   "execution_count": 95,
   "outputs": [
    {
     "name": "stdout",
     "output_type": "stream",
     "text": [
      "Accuracy Baseline model: 74% door altijd te voorspellen dat een reparatie duur niet korter gelijk aan 15 minuten is.\n"
     ]
    }
   ],
   "source": [
    "baseline = DummyClassifier(strategy='most_frequent').fit(X_train, y_train)\n",
    "y_predict = baseline.predict(X_test)\n",
    "\n",
    "baseline_acc = round(accuracy_score(y_test, y_predict),6)\n",
    "print(f\"Accuracy Baseline model: {round(baseline_acc*100)}% door altijd te voorspellen dat een reparatie duur niet korter gelijk aan 15 minuten is.\")"
   ],
   "metadata": {
    "collapsed": false,
    "pycharm": {
     "name": "#%%\n"
    }
   }
  },
  {
   "cell_type": "markdown",
   "source": [
    "Een accuracy score van 74% proberen wij te verbeteren met een machine learning model."
   ],
   "metadata": {
    "collapsed": false,
    "pycharm": {
     "name": "#%% md\n"
    }
   }
  },
  {
   "cell_type": "markdown",
   "source": [
    "#### Data understanding\n",
    "We analyseren de volgende features die bekend zijn **voor** dat de aannemer een prognose heeft gedaan:\n",
    "- Prioriteit indicatie\n",
    "- Aannemer ter plaatse dagdeel\n",
    "- Techniekveld\n",
    "- Contractgebied aannemer\n",
    "- Functieherstel status"
   ],
   "metadata": {
    "collapsed": false,
    "pycharm": {
     "name": "#%% md\n"
    }
   }
  },
  {
   "cell_type": "code",
   "execution_count": 96,
   "outputs": [],
   "source": [
    "features = ['stm_prioriteit', 'aanntpl_dagdeel', 'stm_techn_gst', 'stm_contractgeb_mld', 'stm_fh_status']"
   ],
   "metadata": {
    "collapsed": false,
    "pycharm": {
     "name": "#%%\n"
    }
   }
  },
  {
   "cell_type": "markdown",
   "source": [
    "Eerste paar rijen van de features voor model 4 bekijken."
   ],
   "metadata": {
    "collapsed": false,
    "pycharm": {
     "name": "#%% md\n"
    }
   }
  },
  {
   "cell_type": "code",
   "execution_count": 97,
   "outputs": [
    {
     "data": {
      "text/plain": "        stm_prioriteit aanntpl_dagdeel stm_techn_gst  stm_contractgeb_mld  \\\n592816             5.0         ochtend             T                  3.0   \n680751             2.0           avond             E                 11.0   \n237571             5.0         ochtend             S                  4.0   \n679491             4.0           avond             S                 81.0   \n341653             4.0           avond             S                  6.0   \n515604             4.0         ochtend             S                  NaN   \n498789             2.0         ochtend             B                  NaN   \n345916             2.0         ochtend             G                 12.0   \n809023             2.0           nacht             B                 27.0   \n646478             4.0          middag             K                 71.0   \n\n        stm_fh_status  \n592816            4.0  \n680751            4.0  \n237571            1.0  \n679491            1.0  \n341653            4.0  \n515604            4.0  \n498789            1.0  \n345916            2.0  \n809023            1.0  \n646478            1.0  ",
      "text/html": "<div>\n<style scoped>\n    .dataframe tbody tr th:only-of-type {\n        vertical-align: middle;\n    }\n\n    .dataframe tbody tr th {\n        vertical-align: top;\n    }\n\n    .dataframe thead th {\n        text-align: right;\n    }\n</style>\n<table border=\"1\" class=\"dataframe\">\n  <thead>\n    <tr style=\"text-align: right;\">\n      <th></th>\n      <th>stm_prioriteit</th>\n      <th>aanntpl_dagdeel</th>\n      <th>stm_techn_gst</th>\n      <th>stm_contractgeb_mld</th>\n      <th>stm_fh_status</th>\n    </tr>\n  </thead>\n  <tbody>\n    <tr>\n      <th>592816</th>\n      <td>5.0</td>\n      <td>ochtend</td>\n      <td>T</td>\n      <td>3.0</td>\n      <td>4.0</td>\n    </tr>\n    <tr>\n      <th>680751</th>\n      <td>2.0</td>\n      <td>avond</td>\n      <td>E</td>\n      <td>11.0</td>\n      <td>4.0</td>\n    </tr>\n    <tr>\n      <th>237571</th>\n      <td>5.0</td>\n      <td>ochtend</td>\n      <td>S</td>\n      <td>4.0</td>\n      <td>1.0</td>\n    </tr>\n    <tr>\n      <th>679491</th>\n      <td>4.0</td>\n      <td>avond</td>\n      <td>S</td>\n      <td>81.0</td>\n      <td>1.0</td>\n    </tr>\n    <tr>\n      <th>341653</th>\n      <td>4.0</td>\n      <td>avond</td>\n      <td>S</td>\n      <td>6.0</td>\n      <td>4.0</td>\n    </tr>\n    <tr>\n      <th>515604</th>\n      <td>4.0</td>\n      <td>ochtend</td>\n      <td>S</td>\n      <td>NaN</td>\n      <td>4.0</td>\n    </tr>\n    <tr>\n      <th>498789</th>\n      <td>2.0</td>\n      <td>ochtend</td>\n      <td>B</td>\n      <td>NaN</td>\n      <td>1.0</td>\n    </tr>\n    <tr>\n      <th>345916</th>\n      <td>2.0</td>\n      <td>ochtend</td>\n      <td>G</td>\n      <td>12.0</td>\n      <td>2.0</td>\n    </tr>\n    <tr>\n      <th>809023</th>\n      <td>2.0</td>\n      <td>nacht</td>\n      <td>B</td>\n      <td>27.0</td>\n      <td>1.0</td>\n    </tr>\n    <tr>\n      <th>646478</th>\n      <td>4.0</td>\n      <td>middag</td>\n      <td>K</td>\n      <td>71.0</td>\n      <td>1.0</td>\n    </tr>\n  </tbody>\n</table>\n</div>"
     },
     "execution_count": 97,
     "metadata": {},
     "output_type": "execute_result"
    }
   ],
   "source": [
    "dataset_m4[features].head(10)"
   ],
   "metadata": {
    "collapsed": false,
    "pycharm": {
     "name": "#%%\n"
    }
   }
  },
  {
   "cell_type": "markdown",
   "source": [
    "##### Meetniveaus"
   ],
   "metadata": {
    "collapsed": false,
    "pycharm": {
     "name": "#%% md\n"
    }
   }
  },
  {
   "cell_type": "code",
   "source": [
    "pd.DataFrame({'Kolom': features, 'Meetniveau': ['Ordinaal','Ordinaal','Nominaal','Nominaal', 'Ordinaal']})"
   ],
   "metadata": {
    "collapsed": false,
    "pycharm": {
     "name": "#%%\n"
    }
   },
   "execution_count": 98,
   "outputs": [
    {
     "data": {
      "text/plain": "                 Kolom Meetniveau\n0       stm_prioriteit   Ordinaal\n1      aanntpl_dagdeel   Ordinaal\n2        stm_techn_gst   Nominaal\n3  stm_contractgeb_mld   Nominaal\n4        stm_fh_status   Ordinaal",
      "text/html": "<div>\n<style scoped>\n    .dataframe tbody tr th:only-of-type {\n        vertical-align: middle;\n    }\n\n    .dataframe tbody tr th {\n        vertical-align: top;\n    }\n\n    .dataframe thead th {\n        text-align: right;\n    }\n</style>\n<table border=\"1\" class=\"dataframe\">\n  <thead>\n    <tr style=\"text-align: right;\">\n      <th></th>\n      <th>Kolom</th>\n      <th>Meetniveau</th>\n    </tr>\n  </thead>\n  <tbody>\n    <tr>\n      <th>0</th>\n      <td>stm_prioriteit</td>\n      <td>Ordinaal</td>\n    </tr>\n    <tr>\n      <th>1</th>\n      <td>aanntpl_dagdeel</td>\n      <td>Ordinaal</td>\n    </tr>\n    <tr>\n      <th>2</th>\n      <td>stm_techn_gst</td>\n      <td>Nominaal</td>\n    </tr>\n    <tr>\n      <th>3</th>\n      <td>stm_contractgeb_mld</td>\n      <td>Nominaal</td>\n    </tr>\n    <tr>\n      <th>4</th>\n      <td>stm_fh_status</td>\n      <td>Ordinaal</td>\n    </tr>\n  </tbody>\n</table>\n</div>"
     },
     "execution_count": 98,
     "metadata": {},
     "output_type": "execute_result"
    }
   ]
  },
  {
   "cell_type": "markdown",
   "source": [
    "##### NA waardes controleren"
   ],
   "metadata": {
    "collapsed": false,
    "pycharm": {
     "name": "#%% md\n"
    }
   }
  },
  {
   "cell_type": "code",
   "execution_count": 99,
   "outputs": [
    {
     "data": {
      "text/plain": "stm_prioriteit            0\naanntpl_dagdeel           0\nstm_techn_gst            21\nstm_contractgeb_mld    7784\nstm_fh_status             5\ndtype: int64"
     },
     "execution_count": 99,
     "metadata": {},
     "output_type": "execute_result"
    }
   ],
   "source": [
    "dataset_m4[features].isna().sum()"
   ],
   "metadata": {
    "collapsed": false,
    "pycharm": {
     "name": "#%%\n"
    }
   }
  },
  {
   "cell_type": "markdown",
   "source": [
    "Alleen contractgebied heeft veel NAN waardes. In de data-dictionary staat ook een kolom stm_oh_pg_gst: Contract gebied storing + aanduiding techniekveld.\n",
    "Laten we deze ook controleren."
   ],
   "metadata": {
    "collapsed": false,
    "pycharm": {
     "name": "#%% md\n"
    }
   }
  },
  {
   "cell_type": "code",
   "execution_count": 100,
   "outputs": [
    {
     "data": {
      "text/plain": "        stm_contractgeb_mld stm_oh_pg_gst\n592816                  3.0           03T\n680751                 11.0           11E\n237571                  4.0           04S\n679491                 81.0           81S\n341653                  6.0           06S\n...                     ...           ...\n372093                 24.0           24T\n409610                 32.0           32B\n601257                  NaN           29B\n490991                 71.0           71E\n827324                  2.0           02B\n\n[47132 rows x 2 columns]",
      "text/html": "<div>\n<style scoped>\n    .dataframe tbody tr th:only-of-type {\n        vertical-align: middle;\n    }\n\n    .dataframe tbody tr th {\n        vertical-align: top;\n    }\n\n    .dataframe thead th {\n        text-align: right;\n    }\n</style>\n<table border=\"1\" class=\"dataframe\">\n  <thead>\n    <tr style=\"text-align: right;\">\n      <th></th>\n      <th>stm_contractgeb_mld</th>\n      <th>stm_oh_pg_gst</th>\n    </tr>\n  </thead>\n  <tbody>\n    <tr>\n      <th>592816</th>\n      <td>3.0</td>\n      <td>03T</td>\n    </tr>\n    <tr>\n      <th>680751</th>\n      <td>11.0</td>\n      <td>11E</td>\n    </tr>\n    <tr>\n      <th>237571</th>\n      <td>4.0</td>\n      <td>04S</td>\n    </tr>\n    <tr>\n      <th>679491</th>\n      <td>81.0</td>\n      <td>81S</td>\n    </tr>\n    <tr>\n      <th>341653</th>\n      <td>6.0</td>\n      <td>06S</td>\n    </tr>\n    <tr>\n      <th>...</th>\n      <td>...</td>\n      <td>...</td>\n    </tr>\n    <tr>\n      <th>372093</th>\n      <td>24.0</td>\n      <td>24T</td>\n    </tr>\n    <tr>\n      <th>409610</th>\n      <td>32.0</td>\n      <td>32B</td>\n    </tr>\n    <tr>\n      <th>601257</th>\n      <td>NaN</td>\n      <td>29B</td>\n    </tr>\n    <tr>\n      <th>490991</th>\n      <td>71.0</td>\n      <td>71E</td>\n    </tr>\n    <tr>\n      <th>827324</th>\n      <td>2.0</td>\n      <td>02B</td>\n    </tr>\n  </tbody>\n</table>\n<p>47132 rows × 2 columns</p>\n</div>"
     },
     "execution_count": 100,
     "metadata": {},
     "output_type": "execute_result"
    }
   ],
   "source": [
    "dataset_m4[['stm_contractgeb_mld', 'stm_oh_pg_gst']]"
   ],
   "metadata": {
    "collapsed": false,
    "pycharm": {
     "name": "#%%\n"
    }
   }
  },
  {
   "cell_type": "markdown",
   "source": [
    "De contractgebieden lijken overeen te komen en stm_oh_pg_gst heeft wel valide waardes waar stm_contractgeb_mld een NAN waarde heeft."
   ],
   "metadata": {
    "collapsed": false,
    "pycharm": {
     "name": "#%% md\n"
    }
   }
  },
  {
   "cell_type": "code",
   "execution_count": 101,
   "outputs": [
    {
     "data": {
      "text/plain": "stm_contractgeb_mld    7784\nstm_oh_pg_gst            21\ndtype: int64"
     },
     "execution_count": 101,
     "metadata": {},
     "output_type": "execute_result"
    }
   ],
   "source": [
    "dataset_m4[['stm_contractgeb_mld', 'stm_oh_pg_gst']].isna().sum()"
   ],
   "metadata": {
    "collapsed": false,
    "pycharm": {
     "name": "#%%\n"
    }
   }
  },
  {
   "cell_type": "markdown",
   "source": [
    "De kolom voor contract gebied + aanduiding techniek veld heeft aanzienlijk minder NAN waardes dan de kolom die alleen het contractgebied bevat.\n",
    "Laten we daarom een nieuwe kolom maken voor contract gebied die geconstrueerd is uit de kolom stm_oh_pg_gst."
   ],
   "metadata": {
    "collapsed": false,
    "pycharm": {
     "name": "#%% md\n"
    }
   }
  },
  {
   "cell_type": "markdown",
   "source": [
    "#### Data preparation 4\n",
    "\n",
    "##### Contractgebied kolom aanmaken\n",
    "\n",
    "De eerste 2 indexen van de kolom stm_oh_pg_gst is het contractgebied, hiervan maken we een nieuwe kolom."
   ],
   "metadata": {
    "collapsed": false,
    "pycharm": {
     "name": "#%% md\n"
    }
   }
  },
  {
   "cell_type": "code",
   "execution_count": 102,
   "outputs": [],
   "source": [
    "dataset_m4['contract_gebied'] = dataset_m4['stm_oh_pg_gst'].str.slice(stop=2)"
   ],
   "metadata": {
    "collapsed": false,
    "pycharm": {
     "name": "#%%\n"
    }
   }
  },
  {
   "cell_type": "code",
   "execution_count": 103,
   "outputs": [
    {
     "data": {
      "text/plain": "592816    03\n680751    11\n237571    04\n679491    81\n341653    06\nName: contract_gebied, dtype: object"
     },
     "execution_count": 103,
     "metadata": {},
     "output_type": "execute_result"
    }
   ],
   "source": [
    "dataset_m4['contract_gebied'].head(5)"
   ],
   "metadata": {
    "collapsed": false,
    "pycharm": {
     "name": "#%%\n"
    }
   }
  },
  {
   "cell_type": "code",
   "execution_count": 104,
   "outputs": [],
   "source": [
    "# features updaten\n",
    "features = ['stm_prioriteit', 'aanntpl_dagdeel', 'stm_techn_gst', 'contract_gebied', 'stm_fh_status']"
   ],
   "metadata": {
    "collapsed": false,
    "pycharm": {
     "name": "#%%\n"
    }
   }
  },
  {
   "cell_type": "markdown",
   "source": [
    "#### Data understanding 4\n",
    "\n",
    "Alleen de kolommen over de prioriteits indicatie, dagdeel aannemer ter plaatse en functieherstel status hebben weinig genoeg permutaties om een boxplot van te maken."
   ],
   "metadata": {
    "collapsed": false,
    "pycharm": {
     "name": "#%% md\n"
    }
   }
  },
  {
   "cell_type": "code",
   "execution_count": 105,
   "outputs": [
    {
     "data": {
      "text/plain": "<Figure size 432x288 with 1 Axes>",
      "image/png": "[encoded data removed]"
     },
     "metadata": {
      "needs_background": "light"
     },
     "output_type": "display_data"
    },
    {
     "data": {
      "text/plain": "<Figure size 432x288 with 1 Axes>",
      "image/png": "[encoded data removed]"
     },
     "metadata": {
      "needs_background": "light"
     },
     "output_type": "display_data"
    }
   ],
   "source": [
    "sns.boxplot(y='reparatie_duur', x='stm_prioriteit', data=dataset_m4)\n",
    "plt.title('Boxplot prioriteit indicatie')\n",
    "plt.show()\n",
    "sns.countplot(x='stm_prioriteit', data=dataset_m4)\n",
    "plt.title('Countplot prioriteit indicatie')\n",
    "plt.show()"
   ],
   "metadata": {
    "collapsed": false,
    "pycharm": {
     "name": "#%%\n"
    }
   }
  },
  {
   "cell_type": "markdown",
   "source": [
    "Er is tegen verwachting in geen verband te zien in de boxplots tussen de prioriteits indicatie en hoelang de reparatie duur is, echter valt wel op dat prioriteits indicatie van 9 lager verdeeld ligt. Maar hier zijn niet genoeg samples van om een verband te leggen.\n",
    "De meest voorkomende prioriteits indicaties zijn 2, 4 en 5.\n",
    "Deze staan voor: urgent, urgent met tijd afspraak en niet urgent met tijd afspraak."
   ],
   "metadata": {
    "collapsed": false,
    "pycharm": {
     "name": "#%% md\n"
    }
   }
  },
  {
   "cell_type": "markdown",
   "source": [],
   "metadata": {
    "collapsed": false,
    "pycharm": {
     "name": "#%% md\n"
    }
   }
  },
  {
   "cell_type": "code",
   "execution_count": 106,
   "outputs": [
    {
     "data": {
      "text/plain": "<Figure size 432x288 with 1 Axes>",
      "image/png": "[encoded data removed]"
     },
     "metadata": {
      "needs_background": "light"
     },
     "output_type": "display_data"
    },
    {
     "data": {
      "text/plain": "<Figure size 432x288 with 1 Axes>",
      "image/png": "[encoded data removed]"
     },
     "metadata": {
      "needs_background": "light"
     },
     "output_type": "display_data"
    }
   ],
   "source": [
    "sns.boxplot(y='reparatie_duur', x='stm_fh_status', data=dataset_m4)\n",
    "plt.title('Boxplot functieherstel status')\n",
    "plt.show()\n",
    "sns.countplot(x='stm_fh_status', data=dataset_m4)\n",
    "plt.title('Countplot functieherstel status')\n",
    "plt.show()"
   ],
   "metadata": {
    "collapsed": false,
    "pycharm": {
     "name": "#%%\n"
    }
   }
  },
  {
   "cell_type": "markdown",
   "source": [
    "Ook is er bij de functieherstel status geen duidelijk verband te zien tussen reparatie duur en welke status de functieherstel heeft.\n",
    "Een status van 1. (Volledig Functieherstel) en 5. (Geen functieherstel), lijken apart genoeg niet aanzienlijk te verschillen in reparatieduren.\n",
    "Een functieherstel status van 1 komt het vaakst voor en 50% van de gevallen reparatie duren met status 1 vallen binnen 25+- en 80 minuten. Dit is vreemd aangezien status 1 in de data dictionary als uitleg heeft:\n",
    "- \"1.Volledig Functieherstel, alleen vermelden als er geen afwijkingenmeer zijn van de ontworpen functionaliteit van het infraobject en welhandelingen zijn verricht;\""
   ],
   "metadata": {
    "collapsed": false,
    "pycharm": {
     "name": "#%% md\n"
    }
   }
  },
  {
   "cell_type": "markdown",
   "source": [
    "#### Data preparation\n",
    "\n",
    "##### NAN waardes controlers"
   ],
   "metadata": {
    "collapsed": false,
    "pycharm": {
     "name": "#%% md\n"
    }
   }
  },
  {
   "cell_type": "code",
   "execution_count": 107,
   "outputs": [
    {
     "data": {
      "text/plain": "stm_prioriteit      0\naanntpl_dagdeel     0\nstm_techn_gst      21\ncontract_gebied    21\nstm_fh_status       5\ndtype: int64"
     },
     "execution_count": 107,
     "metadata": {},
     "output_type": "execute_result"
    }
   ],
   "source": [
    "dataset_m4[features].isna().sum()"
   ],
   "metadata": {
    "collapsed": false,
    "pycharm": {
     "name": "#%%\n"
    }
   }
  },
  {
   "cell_type": "markdown",
   "source": [
    "Verhouding NAN waardes is laag genoeg om te droppen."
   ],
   "metadata": {
    "collapsed": false,
    "pycharm": {
     "name": "#%% md\n"
    }
   }
  },
  {
   "cell_type": "code",
   "execution_count": 108,
   "outputs": [],
   "source": [
    "dataset_m4.dropna(subset=features, inplace=True)"
   ],
   "metadata": {
    "collapsed": false,
    "pycharm": {
     "name": "#%%\n"
    }
   }
  },
  {
   "cell_type": "markdown",
   "source": [
    "##### Dtypes\n",
    "\n",
    "Dtypes controleren"
   ],
   "metadata": {
    "collapsed": false,
    "pycharm": {
     "name": "#%% md\n"
    }
   }
  },
  {
   "cell_type": "code",
   "execution_count": 109,
   "outputs": [
    {
     "data": {
      "text/plain": "stm_prioriteit      float64\naanntpl_dagdeel    category\nstm_techn_gst        object\ncontract_gebied      object\nstm_fh_status       float64\ndtype: object"
     },
     "execution_count": 109,
     "metadata": {},
     "output_type": "execute_result"
    }
   ],
   "source": [
    "dataset_m4[features].dtypes"
   ],
   "metadata": {
    "collapsed": false,
    "pycharm": {
     "name": "#%%\n"
    }
   }
  },
  {
   "cell_type": "markdown",
   "source": [
    "Nog niet alle dtypes kloppen, alle gebruikte feature variabelen zijn categoriaal en worden van het type category gemaakt."
   ],
   "metadata": {
    "collapsed": false,
    "pycharm": {
     "name": "#%% md\n"
    }
   }
  },
  {
   "cell_type": "code",
   "execution_count": 110,
   "outputs": [],
   "source": [
    "dataset_m4[features] = dataset_m4[features].astype('category')"
   ],
   "metadata": {
    "collapsed": false,
    "pycharm": {
     "name": "#%%\n"
    }
   }
  },
  {
   "cell_type": "markdown",
   "source": [
    "#### Modeling model 4\n",
    "\n",
    "Voor model 4 hebben we een classificatie algoritme nodig. Hiervoor gebruiken we ook een beslisboom omdat we nog niet precies weten welke variabelen veel invloed hebben en zoals eerder beschreven een beslisboom zelf de meest invloedrijke features gebruikt om een voorspelling te maken.\n",
    "\n",
    "Eerst encoden we de categoriale features met get_dummies en maken we een train en test set."
   ],
   "metadata": {
    "collapsed": false,
    "pycharm": {
     "name": "#%% md\n"
    }
   }
  },
  {
   "cell_type": "code",
   "execution_count": 111,
   "outputs": [],
   "source": [
    "X = pd.get_dummies(dataset_m4[features], drop_first=True)\n",
    "y = dataset_m4['reparatie_duur_<=15']\n",
    "X_train, X_test, y_train, y_test = train_test_split(X, y, random_state=0)"
   ],
   "metadata": {
    "collapsed": false,
    "pycharm": {
     "name": "#%%\n"
    }
   }
  },
  {
   "cell_type": "markdown",
   "source": [
    "#### Model maken en Hyper-parameter tuning\n",
    "\n",
    "Om de optimale beslis boom te vinden, testen we de accuracy score van een beslis boom met dieptes 1 t/m 14."
   ],
   "metadata": {
    "collapsed": false,
    "pycharm": {
     "name": "#%% md\n"
    }
   }
  },
  {
   "cell_type": "code",
   "execution_count": 112,
   "outputs": [
    {
     "data": {
      "text/plain": "<Figure size 432x288 with 1 Axes>",
      "image/png": "[encoded data removed]"
     },
     "metadata": {
      "needs_background": "light"
     },
     "output_type": "display_data"
    },
    {
     "name": "stdout",
     "output_type": "stream",
     "text": [
      "Accuracy: 0.737964, Accuracy is 0% lager in verhouding met de baseline\n"
     ]
    }
   ],
   "source": [
    "depths = np.arange(1, 20)\n",
    "scores =  [round(accuracy_score(y_test,DecisionTreeClassifier(max_depth=d).fit(X_train,y_train).predict(X_test)),6) for d in depths]\n",
    "acc_tree = min(scores)\n",
    "plt.plot(depths, scores)\n",
    "plt.xlabel(\"Beslis boom diepte\")\n",
    "plt.ylabel(\"Accuracy\")\n",
    "plt.title(\"Diepte van beslis boom vs Accuracy\")\n",
    "plt.show()\n",
    "dict((zip(map(lambda x: f\"diepte {x}\", depths), scores)))\n",
    "print(f\"Accuracy: {acc_tree}, Accuracy is {100 - round(acc_tree/baseline_acc*100)}% lager in verhouding met de baseline\")"
   ],
   "metadata": {
    "collapsed": false,
    "pycharm": {
     "name": "#%%\n"
    }
   }
  },
  {
   "cell_type": "markdown",
   "source": [
    "#### Conclusie\n",
    "\n",
    "Aan de hand van variabelen die bekend zijn voordat de aannemer een prognose heeft gedaan namelijk:\n",
    "   - Prioriteit indicatie\n",
    "   - Aannemer ter plaatse tijd\n",
    "   - Techniekveld\n",
    "   - Contractgebied aannemer\n",
    "   - Functieherstel status\n",
    "\n",
    "Is geen betere voorspelling te maken dan de baseline. Hieruit kunnen we concluderen dat deze genoemde variabelen niet genoeg voorspelkracht hebben om te classificeren of een reparatie korter of langer duur dan 15 minuten.\n",
    "Vanuit deze bevinding is ondervonden dat het vroegste moment in het proces van een storing om een nuttige voorspelling te doen. Op het moment is wanneer de aannemer een prognose heeft gedaan, data beschikbaar voordat deze prognose is gedaan heeft weinig tot geen voorspelkracht."
   ],
   "metadata": {
    "collapsed": false,
    "pycharm": {
     "name": "#%% md\n"
    }
   }
  },
  {
   "cell_type": "markdown",
   "source": [
    "### Eind conclusie\n",
    "\n",
    "Alleen de prognose van de aannemer is in de huidige dataset van ProRail nuttige informatie om een voorspellend model te construeren.\n",
    "Uit de modellen die alleen de prognose van de aannemer gebruiken adviseren wij het eenvoudige lineaire regressie model. Dit model heeft een 14% lagere RMSE dan de RMSE van de prognose, dit betekend dat ons model gemiddeld 14% minder afwijkt van de daadwerkelijke reparatieduur.\n",
    "Ook hebben we aangetoond dat de prognoses pessimistisch zijn, ons lineair regressie model voorspelt dan ook kortere reparatie duren dan de prognose van de aannemer."
   ],
   "metadata": {
    "collapsed": false,
    "pycharm": {
     "name": "#%% md\n"
    }
   }
  }
 ],
 "metadata": {
  "kernelspec": {
   "display_name": "Python 3",
   "language": "python",
   "name": "python3"
  },
  "language_info": {
   "codemirror_mode": {
    "name": "ipython",
    "version": 2
   },
   "file_extension": ".py",
   "mimetype": "text/x-python",
   "name": "python",
   "nbconvert_exporter": "python",
   "pygments_lexer": "ipython2",
   "version": "2.7.6"
  }
 },
 "nbformat": 4,
 "nbformat_minor": 0
}
