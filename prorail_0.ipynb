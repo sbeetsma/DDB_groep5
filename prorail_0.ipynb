{
 "cells": [
  {
   "cell_type": "markdown",
   "id": "303d8c06",
   "metadata": {
    "pycharm": {
     "name": "#%% md\n"
    }
   },
   "source": [
    "### Business Understanding\n",
    "\n",
    "Onderzoeksvraag:\n",
    "Kan er een voorspelling worden gedaan over de vertragingstijd om treinverkeersleiders efficiënter de treinplanning te hervatten.\n",
    "\n",
    "\n",
    "\n",
    "\n",
    "-------------------------------------"
   ]
  },
  {
   "cell_type": "markdown",
   "id": "6e117647",
   "metadata": {
    "pycharm": {
     "name": "#%% md\n"
    }
   },
   "source": [
    "### Data Understanding\n",
    "Van ProRail hebben we een [data dictionary](https://canvas.hu.nl/courses/27143/pages/data?module_item_id=588747) gekregen.\n",
    "Hierin staan alle kolommen uit de dataset met een beschrijving over de kolom indien van toepassing.\n",
    "\n",
    "We beginnen met een aantal modules te importeren om de data te analyseren."
   ]
  },
  {
   "cell_type": "code",
   "execution_count": 1,
   "id": "66db6632",
   "metadata": {
    "pycharm": {
     "name": "#%%\n"
    }
   },
   "outputs": [],
   "source": [
    "import numpy as np\n",
    "import pandas as pd\n",
    "\n",
    "import sklearn as sk\n",
    "from sklearn.model_selection import train_test_split\n",
    "from sklearn.dummy import DummyRegressor\n",
    "from sklearn.metrics import mean_squared_error\n",
    "from sklearn.tree import DecisionTreeRegressor, DecisionTreeClassifier\n",
    "from sklearn.ensemble import RandomForestRegressor\n",
    "\n",
    "from scipy.interpolate import interp1d\n",
    "\n",
    "\n",
    "import matplotlib.pyplot as plt\n",
    "import seaborn as sns\n",
    "\n",
    "pd.set_option(\"display.max_columns\", None)\n",
    "\n",
    "pd.options.display.max_columns = None\n",
    "pd.options.display.max_rows = 1000\n",
    "\n",
    "%matplotlib inline"
   ]
  },
  {
   "cell_type": "markdown",
   "id": "108a1bb2",
   "metadata": {
    "pycharm": {
     "name": "#%% md\n"
    }
   },
   "source": [
    "#### Dataset inladen\n",
    "Ten eerste laden we het csv-bestand in."
   ]
  },
  {
   "cell_type": "code",
   "execution_count": 2,
   "id": "a45cf58d",
   "metadata": {
    "pycharm": {
     "name": "#%%\n"
    }
   },
   "outputs": [],
   "source": [
    "dataset_complete = pd.read_csv(\"sap_storing_data_hu_project.csv\", low_memory=False)"
   ]
  },
  {
   "cell_type": "code",
   "execution_count": 28,
   "id": "2b1211fa",
   "metadata": {
    "pycharm": {
     "name": "#%%\n"
    }
   },
   "outputs": [],
   "source": [
    "# todo later verwijderen en hele dataset pakken\n",
    "# 10% (1 jaar +- aan datapunten) van data inladen is tijdelijk, om efficiënter te werk te gaan tijdens de onderzoek fase\n",
    "ten_percent = int(dataset_complete.shape[0]*.1)\n",
    "dataset = dataset_complete.sample(ten_percent, random_state=0)"
   ]
  },
  {
   "cell_type": "markdown",
   "id": "4aa2160e",
   "metadata": {
    "pycharm": {
     "name": "#%% md\n"
    }
   },
   "source": [
    "We bekijken de eerste paar rijen om een eerste inzicht te krijgen over de daadwerkelijke data."
   ]
  },
  {
   "cell_type": "code",
   "execution_count": 29,
   "id": "2f65807e",
   "metadata": {
    "pycharm": {
     "name": "#%%\n"
    }
   },
   "outputs": [
    {
     "data": {
      "text/plain": "       Unnamed: 0  #stm_sap_meldnr  stm_mon_nr stm_vl_post  \\\n592816     599985         80749741         0.0         NaN   \n680751     688480         80794767         0.0         NaN   \n760628     769230         80845077         0.0         NaN   \n237571     243531         80370943         0.0         NaN   \n849077     858588         80896707         0.0         NaN   \n\n           stm_sap_meld_ddt stm_sap_mon_meld_ddt  \\\n592816  12/01/2014 14:10:00  12/01/2014 14:10:00   \n680751  30/01/2015 17:32:00  30/01/2015 17:32:00   \n760628  20/04/2016 08:25:04  20/04/2016 08:25:04   \n237571  06/08/2006 10:23:00  06/08/2006 10:23:00   \n849077  19/09/2017 11:50:21  19/09/2017 11:50:21   \n\n                                 stm_sap_meldtekst_lang stm_mon_begin_ddt  \\\n592816                            Rtd : Omroep te hard.               NaN   \n680751                ss kamp : O spanning 230V en 48V.               NaN   \n760628                          Ass : Bord 10670 zwart.               NaN   \n237571   ERP wissel 431 noc RL. Voor 12.00 uur reparen.               NaN   \n849077        Hgv : V-bord onder vertrekbord afgebroken               NaN   \n\n                               stm_sap_meldtekst stm_mon_toelichting_trdl  \\\n592816                     Rtd : Omroep te hard.                      NaN   \n680751         ss kamp : O spanning 230V en 48V.                      NaN   \n760628                   Ass : Bord 10670 zwart.                      NaN   \n237571  ERP wissel 431 noc RL. Voor 12.00 uur re                      NaN   \n849077  Hgv : V-bord onder vertrekbord afgebroke                      NaN   \n\n       stm_oh_pg_mld stm_geo_mld  stm_geo_mld_uit_functiepl  \\\n592816           03T         555                      555.0   \n680751           11E         161                      161.0   \n760628           53T         523                      523.0   \n237571           04B         950                      950.0   \n849077           35S          12                       12.0   \n\n        stm_equipm_nr_mld stm_equipm_soort_mld  \\\n592816         11293780.0             OMROEPHP   \n680751         11472994.0                 LBDV   \n760628         11083597.0           VISUELERIS   \n237571         10646039.0               WISSEL   \n849077         10538385.0                 SEIN   \n\n                     stm_equipm_omschr_mld  stm_km_van_mld  stm_km_tot_mld  \\\n592816                Rtd Omroep Hoofdpost         84200.0             0.0   \n680751  SS Kamp  Lokale bedr. Voer. Instal         31900.0             0.0   \n760628             Ass TBP-CG-sp3-2(10670)         52465.0         52465.0   \n237571    950 Erp wl 431  km 27.816 wissel             0.0             0.0   \n849077                    SEIN VL316/2 HGV         19708.0         19708.0   \n\n        stm_prioriteit stm_scenario_mon stm_status_melding_sap  \\\n592816             5.0              NaN                   MAFS   \n680751             2.0              NaN                   MAFS   \n760628             4.0              NaN                   MAFS   \n237571             5.0              NaN                   MAFS   \n849077             5.0              NaN              MINB PAGE   \n\n       stm_mon_nr_status_omschr  stm_mon_nr__statuscode  \\\n592816                      NaN                     NaN   \n680751                      NaN                     NaN   \n760628                      NaN                     NaN   \n237571                      NaN                     NaN   \n849077                      NaN                     NaN   \n\n       stm_mon_nr_status_wijzdd      stm_aanngeb_ddt      stm_aanntpl_ddt  \\\n592816               00/00/0000  12/01/2014 14:10:00  13/01/2014 09:50:00   \n680751               00/00/0000  30/01/2015 17:32:00  30/01/2015 18:46:00   \n760628               00/00/0000  20/04/2016 08:25:04  20/04/2016 08:25:39   \n237571               00/00/0000  06/08/2006 10:23:00  06/08/2006 11:27:00   \n849077               00/00/0000  19/09/2017 11:50:22  19/09/2017 13:00:01   \n\n       stm_oh_pg_gst stm_geo_gst  stm_geo_gst_uit_functiepl  \\\n592816           03T       555.0                      555.0   \n680751           11E         161                      161.0   \n760628           53T         523                      523.0   \n237571           04S       950.0                      950.0   \n849077           35S          12                       12.0   \n\n        stm_equipm_nr_gst stm_equipm_soort_gst  \\\n592816         10763622.0             OMROEPOP   \n680751         11302086.0               GEBOUW   \n760628         11083597.0           VISUELERIS   \n237571         10646039.0               WISSEL   \n849077         10538385.0                 SEIN   \n\n                   stm_equipm_omschr_gst stm_objectdl_code_gst  \\\n592816                     Rtd Omroep OP                   NaN   \n680751    161 km 31.900 SS Kampen (HZL6)                   NaN   \n760628           Ass TBP-CG-sp3-2(10670)                   NaN   \n237571  950 Erp wl 431  km 27.816 wissel                8161.0   \n849077                  SEIN VL316/2 HGV                  S381   \n\n       stm_objectdl_groep_gst  stm_km_van_gst  stm_km_tot_gst  \\\n592816                    NaN         84200.0             0.0   \n680751                    NaN         31900.0             0.0   \n760628                    NaN         52465.0         52465.0   \n237571                WIS-CON             0.0             0.0   \n849077               SALG0023         19708.0         19708.0   \n\n          stm_progfh_in_ddt stm_progfh_in_invoer_ddt stm_progfh_gw_ddt  \\\n592816  13/01/2014 10:50:00      13/01/2014 09:50:58               NaN   \n680751  30/01/2015 19:45:00      30/01/2015 19:21:50               NaN   \n760628                  NaN                      NaN               NaN   \n237571  06/08/2006 12:27:00      06/08/2006 11:29:29               NaN   \n849077  26/09/2017 13:31:00      19/09/2017 13:33:37               NaN   \n\n       stm_progfh_gw_lwd_ddt stm_progfh_hz stm_oorz_groep  stm_oorz_code  \\\n592816                   NaN             Z        TECHONV          218.0   \n680751                   NaN             Z       ONR-DERD          149.0   \n760628                   NaN           NaN        TECHONV          221.0   \n237571                   NaN             Z        TECHONV          241.0   \n849077                   NaN           NaN       ONR-DERD          145.0   \n\n                                            stm_oorz_tkst stm_veroorz_groep  \\\n592816   bij onderzoek geen onregelmatigheden aangetro...               NaN   \n680751      Bij aankomst storing eruit. Dip in energienet          ONREGDER   \n760628                        Modem gereset Modem gereset               NaN   \n237571   grind onder tongen van het wissel.  stopblok ...               NaN   \n849077                                                NaN          ONREGDER   \n\n       stm_veroorz_code stm_veroorz_tekst_kort stm_effect  \\\n592816              NaN                    NaN        NaN   \n680751                T                    NaN        NaN   \n760628              NaN                    NaN        NaN   \n237571              NaN                    NaN        NaN   \n849077                T                    NaN        NaN   \n\n       stm_afspr_aanvangddt           stm_fh_ddt  stm_fh_status  \\\n592816                  NaN  13/01/2014 10:29:00            4.0   \n680751                  NaN  30/01/2015 19:20:00            4.0   \n760628                  NaN  20/04/2016 12:20:48            1.0   \n237571                  NaN  06/08/2006 12:19:00            1.0   \n849077  19/09/2017 11:50:21  19/09/2017 13:34:00            5.0   \n\n       stm_sap_storeind_ddt stm_mon_eind_ddt stm_mon_vhdsincident  \\\n592816  13/01/2014 10:30:00              NaN                  NaN   \n680751  30/01/2015 19:20:00              NaN                  NaN   \n760628  20/04/2016 12:21:44              NaN                  NaN   \n237571  06/08/2006 12:19:00              NaN                  NaN   \n849077  26/09/2017 15:50:00              NaN                  NaN   \n\n       stm_tao_indicator stm_tao_indicator_vorige stm_tao_soort_mutatie  \\\n592816                 N                      NaN                   NaN   \n680751                 N                        N                   NaN   \n760628                 N                        N                   NaN   \n237571                 N                      NaN                   NaN   \n849077                 N                        N                   NaN   \n\n        stm_tao_telling_mutatie stm_tao_beinvloedbaar_indicator stm_evb  \\\n592816                        0                               B    0,00   \n680751                        0                              NB    0,00   \n760628                        0                               B    0,00   \n237571                        0                               B    0,00   \n849077                        0                              NB    0,00   \n\n       stm_dir_betrok_tr stm_aangelegd_dd stm_aangelegd_tijd  \\\n592816               NaN       12/01/2014           14:10:20   \n680751               NaN       30/01/2015           17:32:27   \n760628               NaN       20/04/2016           08:25:04   \n237571               NaN       06/08/2006           10:23:58   \n849077               NaN       19/09/2017           11:50:21   \n\n       stm_sap_melddatum stm_sap_meldtijd stm_mon_begindatum  \\\n592816        12/01/2014         14:10:00                NaN   \n680751        30/01/2015         17:32:00                NaN   \n760628        20/04/2016         08:25:04                NaN   \n237571        06/08/2006         10:23:00                NaN   \n849077        19/09/2017         11:50:21                NaN   \n\n       stm_mon_begintijd  stm_contractgeb_mld       stm_functiepl_mld  \\\n592816               NaN                  3.0      555-802-1000115114   \n680751               NaN                 11.0      161-407-1000187952   \n760628               NaN                 53.0      523-808-1000105618   \n237571               NaN                  4.0  950- 431  -   .   -302   \n849077               NaN                 35.0      012-603-1000065796   \n\n       stm_techn_mld  stm_contractgeb_gst       stm_functiepl_gst  \\\n592816             T                  3.0      555-802-1000115114   \n680751             E                 11.0      161-105-1000135187   \n760628             T                 53.0      523-808-1000105618   \n237571             B                  4.0  950- 431  -   .   -302   \n849077             S                 35.0      012-603-1000065796   \n\n       stm_techn_gst stm_aanngeb_dd stm_aanngeb_tijd stm_aanntpl_dd  \\\n592816             T     12/01/2014         14:10:00     13/01/2014   \n680751             E     30/01/2015         17:32:00     30/01/2015   \n760628             T     20/04/2016         08:25:04     20/04/2016   \n237571             S     06/08/2006         10:23:00     06/08/2006   \n849077             S     19/09/2017         11:50:22     19/09/2017   \n\n       stm_aanntpl_tijd  stm_arbeid stm_progfh_in_datum stm_progfh_in_tijd  \\\n592816         09:50:00        39.0          13/01/2014           10:50:00   \n680751         18:46:00        34.0          30/01/2015           19:45:00   \n760628         08:25:39         0.0                 NaN           00:00:00   \n237571         11:27:00        52.0          06/08/2006           12:27:00   \n849077         13:00:01         0.0          26/09/2017           13:31:00   \n\n       stm_progfh_in_invoer_dat stm_progfh_in_invoer_tijd stm_progfh_in_duur  \\\n592816               13/01/2014                  09:50:58                 60   \n680751               30/01/2015                  19:21:50                 59   \n760628                      NaN                  00:00:00                  0   \n237571               06/08/2006                  11:29:29                 60   \n849077               19/09/2017                  13:33:37              10181   \n\n       stm_progfh_gw_datum stm_progfh_gw_tijd  stm_progfh_gw_lwd_datum  \\\n592816                 NaN           00:00:00                      NaN   \n680751                 NaN           00:00:00                      NaN   \n760628                 NaN           00:00:00                      NaN   \n237571                 NaN           00:00:00                      NaN   \n849077          26/09/2017           13:31:00                      NaN   \n\n       stm_progfh_gw_lwd_tijd stm_progfh_gw_duur  stm_progfh_gw_teller  \\\n592816                    NaN           99999999                   0.0   \n680751                    NaN           99999999                   0.0   \n760628                    NaN           99999999                   0.0   \n237571                    NaN           99999999                   0.0   \n849077                    NaN                  0                   1.0   \n\n       stm_afspr_aanvangdd stm_afspr_aanvangtijd   stm_fh_dd stm_fh_tijd  \\\n592816          00/00/0000              00:00:00  13/01/2014    10:29:00   \n680751          00/00/0000              00:00:00  30/01/2015    19:20:00   \n760628          00/00/0000              00:00:00  20/04/2016    12:20:48   \n237571          00/00/0000              00:00:00  06/08/2006    12:19:00   \n849077          19/09/2017              11:50:21  19/09/2017    13:34:00   \n\n        stm_fh_duur  stm_reactie_duur stm_sap_storeinddatum  \\\n592816       1219.0      1.180000e+03            13/01/2014   \n680751        108.0      7.400000e+01            30/01/2015   \n760628        236.0      1.059949e+09            20/04/2016   \n237571        116.0      6.400000e+01            06/08/2006   \n849077        104.0      7.000000e+01            26/09/2017   \n\n       stm_sap_storeindtijd stm_mon_eind_datum stm_mon_eind_tijd  \\\n592816             10:30:00                NaN               NaN   \n680751             19:20:00                NaN               NaN   \n760628             12:21:44                NaN               NaN   \n237571             12:19:00                NaN               NaN   \n849077             15:50:00                NaN               NaN   \n\n       stm_controle_dd stm_akkoord_mon_toewijz  stm_status_sapnaarmon  \\\n592816      21/01/2014                     NaN                    NaN   \n680751      10/02/2015                     NaN                    NaN   \n760628             NaN                     NaN                    NaN   \n237571      10/08/2006                       J                    NaN   \n849077             NaN                     NaN                    NaN   \n\n       stm_fact_jn stm_akkoord_melding_jn      stm_afsluit_ddt stm_afsluit_dd  \\\n592816           J                    2.0                  NaN       07:53:54   \n680751           N                      J  10/02/2015 13:39:40     10/02/2015   \n760628         NaN                      N  21/04/2016 16:27:22     21/04/2016   \n237571           N                      J  14/08/2006 09:07:38     14/08/2006   \n849077         NaN                      N                  NaN            NaN   \n\n       stm_afsluit_tijd   stm_rec_toegev_ddt stm_hinderwaarde stm_actie  \\\n592816         12/01/20                  NaN             50.0       0.0   \n680751         13:39:40  30/01/2015 17:32:27              0.0        80   \n760628         16:27:22  20/04/2016 08:25:04              0.0       NaN   \n237571         09:07:38  06/08/2006 10:23:58             1.93      10.0   \n849077         00:00:00  19/09/2017 11:50:21              0.0       NaN   \n\n       stm_standplaats      stm_status_gebr stm_wbi_nummer stm_projnr  \\\n592816             IN5                  NaN            NaN        NaN   \n680751             4.0                  IN5            NaN        NaN   \n760628             4.0                 AKOG            NaN        NaN   \n237571             5.0                  IN5            NaN        NaN   \n849077             2.0  TAOG CAOG CAON AKOG            NaN        NaN   \n\n                             stm_oorz_tekst_kort stm_historie_toelichting  \\\n592816                                       NaN                      NaN   \n680751  Bij aankomst storing eruit. Dip in energ                      NaN   \n760628                             Modem gereset                      NaN   \n237571                                       NaN                      NaN   \n849077                                       NaN                      NaN   \n\n       stm_schade_verhaalb_jn  stm_schadenr stm_schade_status_ga  \\\n592816                      0           NaN                    0   \n680751                      N           0.0                  NaN   \n760628                    NaN           0.0                  NaN   \n237571                    NaN           0.0                  NaN   \n849077                    NaN           0.0                  NaN   \n\n       stm_schade_statusdatum stm_relatiervo_vorig stm_relatiervo_volgend  \\\n592816                    NaN                  NaN                    NaN   \n680751                      0                  NaN                    NaN   \n760628                    0.0                  NaN                    NaN   \n237571                      0                  NaN                    NaN   \n849077                    NaN                  NaN                    NaN   \n\n       stm_relatiervo stm_pplg_van stm_pplg_naar stm_dstrglp_van  \\\n592816            NaN          NaN           NaN             NaN   \n680751       80794767          NaN           NaN             NaN   \n760628       80845077          NaN           NaN             NaN   \n237571       80370943          NaN           NaN             NaN   \n849077            NaN          NaN           NaN             NaN   \n\n       stm_dstrglp_naar stm_afspr_func_hersteldd stm_afspr_func_hersteltijd  \\\n592816       13/01/2014                 12:00:00                        NaN   \n680751              NaN               00/00/0000                   00:00:00   \n760628              NaN               00/00/0000                   00:00:00   \n237571              NaN               00/00/0000                   00:00:00   \n849077              NaN               22/09/2017                   15:48:01   \n\n       stm_sorteerveld  stm_rapportage_maand  stm_rapportage_jaar  \\\n592816             NaN                     1                 2014   \n680751             NaN                     2                 2015   \n760628             ASS                     7                 2016   \n237571             NaN                     8                 2006   \n849077         VL316/2                    11                 2017   \n\n         stm_x_bron_publ_dt  \\\n592816  13/01/2014 01:00:21   \n680751  05/02/2015 06:00:24   \n760628  11/07/2016 06:00:35   \n237571  06/08/2006 10:23:00   \n849077  27/11/2017 06:00:07   \n\n                                  stm_x_bron_bestandsnaam  \\\n592816  \\\\PUHAPS0149\\Informatica_Prod\\Inbox\\Informatic...   \n680751  \\\\PUHAPS0149\\Informatica_Prod\\Inbox\\Informatic...   \n760628  \\\\PUHAPS0149\\Informatica_Prod\\Inbox\\Informatic...   \n237571  \\\\PUHAPS0149\\Informatica_Prod\\Inbox\\Informatic...   \n849077  E:\\Informatica\\Inbox\\Informatica\\SAP\\Storingen...   \n\n         stm_x_bron_arch_dt  stm_x_actueel_ind  stm_x_run_id  stm_x_bk  \\\n592816  02/06/2014 05:30:02                  0         15325   2526857   \n680751  23/03/2015 06:00:26                  0        128360   3646288   \n760628  31/12/9999 00:00:00                  1        411816   3696370   \n237571  31/12/9999 00:00:00                  1          1518  12694035   \n849077  31/12/9999 00:00:00                  1        292192   3752213   \n\n       stm_x_start_sessie_dt  stm_x_vervallen_ind  \n592816   23/01/2014 08:47:08                    0  \n680751   23/02/2015 06:02:34                    0  \n760628   11/07/2016 06:10:29                    0  \n237571   13/06/2013 13:37:52                    0  \n849077   27/11/2017 06:06:34                    0  ",
      "text/html": "<div>\n<style scoped>\n    .dataframe tbody tr th:only-of-type {\n        vertical-align: middle;\n    }\n\n    .dataframe tbody tr th {\n        vertical-align: top;\n    }\n\n    .dataframe thead th {\n        text-align: right;\n    }\n</style>\n<table border=\"1\" class=\"dataframe\">\n  <thead>\n    <tr style=\"text-align: right;\">\n      <th></th>\n      <th>Unnamed: 0</th>\n      <th>#stm_sap_meldnr</th>\n      <th>stm_mon_nr</th>\n      <th>stm_vl_post</th>\n      <th>stm_sap_meld_ddt</th>\n      <th>stm_sap_mon_meld_ddt</th>\n      <th>stm_sap_meldtekst_lang</th>\n      <th>stm_mon_begin_ddt</th>\n      <th>stm_sap_meldtekst</th>\n      <th>stm_mon_toelichting_trdl</th>\n      <th>stm_oh_pg_mld</th>\n      <th>stm_geo_mld</th>\n      <th>stm_geo_mld_uit_functiepl</th>\n      <th>stm_equipm_nr_mld</th>\n      <th>stm_equipm_soort_mld</th>\n      <th>stm_equipm_omschr_mld</th>\n      <th>stm_km_van_mld</th>\n      <th>stm_km_tot_mld</th>\n      <th>stm_prioriteit</th>\n      <th>stm_scenario_mon</th>\n      <th>stm_status_melding_sap</th>\n      <th>stm_mon_nr_status_omschr</th>\n      <th>stm_mon_nr__statuscode</th>\n      <th>stm_mon_nr_status_wijzdd</th>\n      <th>stm_aanngeb_ddt</th>\n      <th>stm_aanntpl_ddt</th>\n      <th>stm_oh_pg_gst</th>\n      <th>stm_geo_gst</th>\n      <th>stm_geo_gst_uit_functiepl</th>\n      <th>stm_equipm_nr_gst</th>\n      <th>stm_equipm_soort_gst</th>\n      <th>stm_equipm_omschr_gst</th>\n      <th>stm_objectdl_code_gst</th>\n      <th>stm_objectdl_groep_gst</th>\n      <th>stm_km_van_gst</th>\n      <th>stm_km_tot_gst</th>\n      <th>stm_progfh_in_ddt</th>\n      <th>stm_progfh_in_invoer_ddt</th>\n      <th>stm_progfh_gw_ddt</th>\n      <th>stm_progfh_gw_lwd_ddt</th>\n      <th>stm_progfh_hz</th>\n      <th>stm_oorz_groep</th>\n      <th>stm_oorz_code</th>\n      <th>stm_oorz_tkst</th>\n      <th>stm_veroorz_groep</th>\n      <th>stm_veroorz_code</th>\n      <th>stm_veroorz_tekst_kort</th>\n      <th>stm_effect</th>\n      <th>stm_afspr_aanvangddt</th>\n      <th>stm_fh_ddt</th>\n      <th>stm_fh_status</th>\n      <th>stm_sap_storeind_ddt</th>\n      <th>stm_mon_eind_ddt</th>\n      <th>stm_mon_vhdsincident</th>\n      <th>stm_tao_indicator</th>\n      <th>stm_tao_indicator_vorige</th>\n      <th>stm_tao_soort_mutatie</th>\n      <th>stm_tao_telling_mutatie</th>\n      <th>stm_tao_beinvloedbaar_indicator</th>\n      <th>stm_evb</th>\n      <th>stm_dir_betrok_tr</th>\n      <th>stm_aangelegd_dd</th>\n      <th>stm_aangelegd_tijd</th>\n      <th>stm_sap_melddatum</th>\n      <th>stm_sap_meldtijd</th>\n      <th>stm_mon_begindatum</th>\n      <th>stm_mon_begintijd</th>\n      <th>stm_contractgeb_mld</th>\n      <th>stm_functiepl_mld</th>\n      <th>stm_techn_mld</th>\n      <th>stm_contractgeb_gst</th>\n      <th>stm_functiepl_gst</th>\n      <th>stm_techn_gst</th>\n      <th>stm_aanngeb_dd</th>\n      <th>stm_aanngeb_tijd</th>\n      <th>stm_aanntpl_dd</th>\n      <th>stm_aanntpl_tijd</th>\n      <th>stm_arbeid</th>\n      <th>stm_progfh_in_datum</th>\n      <th>stm_progfh_in_tijd</th>\n      <th>stm_progfh_in_invoer_dat</th>\n      <th>stm_progfh_in_invoer_tijd</th>\n      <th>stm_progfh_in_duur</th>\n      <th>stm_progfh_gw_datum</th>\n      <th>stm_progfh_gw_tijd</th>\n      <th>stm_progfh_gw_lwd_datum</th>\n      <th>stm_progfh_gw_lwd_tijd</th>\n      <th>stm_progfh_gw_duur</th>\n      <th>stm_progfh_gw_teller</th>\n      <th>stm_afspr_aanvangdd</th>\n      <th>stm_afspr_aanvangtijd</th>\n      <th>stm_fh_dd</th>\n      <th>stm_fh_tijd</th>\n      <th>stm_fh_duur</th>\n      <th>stm_reactie_duur</th>\n      <th>stm_sap_storeinddatum</th>\n      <th>stm_sap_storeindtijd</th>\n      <th>stm_mon_eind_datum</th>\n      <th>stm_mon_eind_tijd</th>\n      <th>stm_controle_dd</th>\n      <th>stm_akkoord_mon_toewijz</th>\n      <th>stm_status_sapnaarmon</th>\n      <th>stm_fact_jn</th>\n      <th>stm_akkoord_melding_jn</th>\n      <th>stm_afsluit_ddt</th>\n      <th>stm_afsluit_dd</th>\n      <th>stm_afsluit_tijd</th>\n      <th>stm_rec_toegev_ddt</th>\n      <th>stm_hinderwaarde</th>\n      <th>stm_actie</th>\n      <th>stm_standplaats</th>\n      <th>stm_status_gebr</th>\n      <th>stm_wbi_nummer</th>\n      <th>stm_projnr</th>\n      <th>stm_oorz_tekst_kort</th>\n      <th>stm_historie_toelichting</th>\n      <th>stm_schade_verhaalb_jn</th>\n      <th>stm_schadenr</th>\n      <th>stm_schade_status_ga</th>\n      <th>stm_schade_statusdatum</th>\n      <th>stm_relatiervo_vorig</th>\n      <th>stm_relatiervo_volgend</th>\n      <th>stm_relatiervo</th>\n      <th>stm_pplg_van</th>\n      <th>stm_pplg_naar</th>\n      <th>stm_dstrglp_van</th>\n      <th>stm_dstrglp_naar</th>\n      <th>stm_afspr_func_hersteldd</th>\n      <th>stm_afspr_func_hersteltijd</th>\n      <th>stm_sorteerveld</th>\n      <th>stm_rapportage_maand</th>\n      <th>stm_rapportage_jaar</th>\n      <th>stm_x_bron_publ_dt</th>\n      <th>stm_x_bron_bestandsnaam</th>\n      <th>stm_x_bron_arch_dt</th>\n      <th>stm_x_actueel_ind</th>\n      <th>stm_x_run_id</th>\n      <th>stm_x_bk</th>\n      <th>stm_x_start_sessie_dt</th>\n      <th>stm_x_vervallen_ind</th>\n    </tr>\n  </thead>\n  <tbody>\n    <tr>\n      <th>592816</th>\n      <td>599985</td>\n      <td>80749741</td>\n      <td>0.0</td>\n      <td>NaN</td>\n      <td>12/01/2014 14:10:00</td>\n      <td>12/01/2014 14:10:00</td>\n      <td>Rtd : Omroep te hard.</td>\n      <td>NaN</td>\n      <td>Rtd : Omroep te hard.</td>\n      <td>NaN</td>\n      <td>03T</td>\n      <td>555</td>\n      <td>555.0</td>\n      <td>11293780.0</td>\n      <td>OMROEPHP</td>\n      <td>Rtd Omroep Hoofdpost</td>\n      <td>84200.0</td>\n      <td>0.0</td>\n      <td>5.0</td>\n      <td>NaN</td>\n      <td>MAFS</td>\n      <td>NaN</td>\n      <td>NaN</td>\n      <td>00/00/0000</td>\n      <td>12/01/2014 14:10:00</td>\n      <td>13/01/2014 09:50:00</td>\n      <td>03T</td>\n      <td>555.0</td>\n      <td>555.0</td>\n      <td>10763622.0</td>\n      <td>OMROEPOP</td>\n      <td>Rtd Omroep OP</td>\n      <td>NaN</td>\n      <td>NaN</td>\n      <td>84200.0</td>\n      <td>0.0</td>\n      <td>13/01/2014 10:50:00</td>\n      <td>13/01/2014 09:50:58</td>\n      <td>NaN</td>\n      <td>NaN</td>\n      <td>Z</td>\n      <td>TECHONV</td>\n      <td>218.0</td>\n      <td>bij onderzoek geen onregelmatigheden aangetro...</td>\n      <td>NaN</td>\n      <td>NaN</td>\n      <td>NaN</td>\n      <td>NaN</td>\n      <td>NaN</td>\n      <td>13/01/2014 10:29:00</td>\n      <td>4.0</td>\n      <td>13/01/2014 10:30:00</td>\n      <td>NaN</td>\n      <td>NaN</td>\n      <td>N</td>\n      <td>NaN</td>\n      <td>NaN</td>\n      <td>0</td>\n      <td>B</td>\n      <td>0,00</td>\n      <td>NaN</td>\n      <td>12/01/2014</td>\n      <td>14:10:20</td>\n      <td>12/01/2014</td>\n      <td>14:10:00</td>\n      <td>NaN</td>\n      <td>NaN</td>\n      <td>3.0</td>\n      <td>555-802-1000115114</td>\n      <td>T</td>\n      <td>3.0</td>\n      <td>555-802-1000115114</td>\n      <td>T</td>\n      <td>12/01/2014</td>\n      <td>14:10:00</td>\n      <td>13/01/2014</td>\n      <td>09:50:00</td>\n      <td>39.0</td>\n      <td>13/01/2014</td>\n      <td>10:50:00</td>\n      <td>13/01/2014</td>\n      <td>09:50:58</td>\n      <td>60</td>\n      <td>NaN</td>\n      <td>00:00:00</td>\n      <td>NaN</td>\n      <td>NaN</td>\n      <td>99999999</td>\n      <td>0.0</td>\n      <td>00/00/0000</td>\n      <td>00:00:00</td>\n      <td>13/01/2014</td>\n      <td>10:29:00</td>\n      <td>1219.0</td>\n      <td>1.180000e+03</td>\n      <td>13/01/2014</td>\n      <td>10:30:00</td>\n      <td>NaN</td>\n      <td>NaN</td>\n      <td>21/01/2014</td>\n      <td>NaN</td>\n      <td>NaN</td>\n      <td>J</td>\n      <td>2.0</td>\n      <td>NaN</td>\n      <td>07:53:54</td>\n      <td>12/01/20</td>\n      <td>NaN</td>\n      <td>50.0</td>\n      <td>0.0</td>\n      <td>IN5</td>\n      <td>NaN</td>\n      <td>NaN</td>\n      <td>NaN</td>\n      <td>NaN</td>\n      <td>NaN</td>\n      <td>0</td>\n      <td>NaN</td>\n      <td>0</td>\n      <td>NaN</td>\n      <td>NaN</td>\n      <td>NaN</td>\n      <td>NaN</td>\n      <td>NaN</td>\n      <td>NaN</td>\n      <td>NaN</td>\n      <td>13/01/2014</td>\n      <td>12:00:00</td>\n      <td>NaN</td>\n      <td>NaN</td>\n      <td>1</td>\n      <td>2014</td>\n      <td>13/01/2014 01:00:21</td>\n      <td>\\\\PUHAPS0149\\Informatica_Prod\\Inbox\\Informatic...</td>\n      <td>02/06/2014 05:30:02</td>\n      <td>0</td>\n      <td>15325</td>\n      <td>2526857</td>\n      <td>23/01/2014 08:47:08</td>\n      <td>0</td>\n    </tr>\n    <tr>\n      <th>680751</th>\n      <td>688480</td>\n      <td>80794767</td>\n      <td>0.0</td>\n      <td>NaN</td>\n      <td>30/01/2015 17:32:00</td>\n      <td>30/01/2015 17:32:00</td>\n      <td>ss kamp : O spanning 230V en 48V.</td>\n      <td>NaN</td>\n      <td>ss kamp : O spanning 230V en 48V.</td>\n      <td>NaN</td>\n      <td>11E</td>\n      <td>161</td>\n      <td>161.0</td>\n      <td>11472994.0</td>\n      <td>LBDV</td>\n      <td>SS Kamp  Lokale bedr. Voer. Instal</td>\n      <td>31900.0</td>\n      <td>0.0</td>\n      <td>2.0</td>\n      <td>NaN</td>\n      <td>MAFS</td>\n      <td>NaN</td>\n      <td>NaN</td>\n      <td>00/00/0000</td>\n      <td>30/01/2015 17:32:00</td>\n      <td>30/01/2015 18:46:00</td>\n      <td>11E</td>\n      <td>161</td>\n      <td>161.0</td>\n      <td>11302086.0</td>\n      <td>GEBOUW</td>\n      <td>161 km 31.900 SS Kampen (HZL6)</td>\n      <td>NaN</td>\n      <td>NaN</td>\n      <td>31900.0</td>\n      <td>0.0</td>\n      <td>30/01/2015 19:45:00</td>\n      <td>30/01/2015 19:21:50</td>\n      <td>NaN</td>\n      <td>NaN</td>\n      <td>Z</td>\n      <td>ONR-DERD</td>\n      <td>149.0</td>\n      <td>Bij aankomst storing eruit. Dip in energienet</td>\n      <td>ONREGDER</td>\n      <td>T</td>\n      <td>NaN</td>\n      <td>NaN</td>\n      <td>NaN</td>\n      <td>30/01/2015 19:20:00</td>\n      <td>4.0</td>\n      <td>30/01/2015 19:20:00</td>\n      <td>NaN</td>\n      <td>NaN</td>\n      <td>N</td>\n      <td>N</td>\n      <td>NaN</td>\n      <td>0</td>\n      <td>NB</td>\n      <td>0,00</td>\n      <td>NaN</td>\n      <td>30/01/2015</td>\n      <td>17:32:27</td>\n      <td>30/01/2015</td>\n      <td>17:32:00</td>\n      <td>NaN</td>\n      <td>NaN</td>\n      <td>11.0</td>\n      <td>161-407-1000187952</td>\n      <td>E</td>\n      <td>11.0</td>\n      <td>161-105-1000135187</td>\n      <td>E</td>\n      <td>30/01/2015</td>\n      <td>17:32:00</td>\n      <td>30/01/2015</td>\n      <td>18:46:00</td>\n      <td>34.0</td>\n      <td>30/01/2015</td>\n      <td>19:45:00</td>\n      <td>30/01/2015</td>\n      <td>19:21:50</td>\n      <td>59</td>\n      <td>NaN</td>\n      <td>00:00:00</td>\n      <td>NaN</td>\n      <td>NaN</td>\n      <td>99999999</td>\n      <td>0.0</td>\n      <td>00/00/0000</td>\n      <td>00:00:00</td>\n      <td>30/01/2015</td>\n      <td>19:20:00</td>\n      <td>108.0</td>\n      <td>7.400000e+01</td>\n      <td>30/01/2015</td>\n      <td>19:20:00</td>\n      <td>NaN</td>\n      <td>NaN</td>\n      <td>10/02/2015</td>\n      <td>NaN</td>\n      <td>NaN</td>\n      <td>N</td>\n      <td>J</td>\n      <td>10/02/2015 13:39:40</td>\n      <td>10/02/2015</td>\n      <td>13:39:40</td>\n      <td>30/01/2015 17:32:27</td>\n      <td>0.0</td>\n      <td>80</td>\n      <td>4.0</td>\n      <td>IN5</td>\n      <td>NaN</td>\n      <td>NaN</td>\n      <td>Bij aankomst storing eruit. Dip in energ</td>\n      <td>NaN</td>\n      <td>N</td>\n      <td>0.0</td>\n      <td>NaN</td>\n      <td>0</td>\n      <td>NaN</td>\n      <td>NaN</td>\n      <td>80794767</td>\n      <td>NaN</td>\n      <td>NaN</td>\n      <td>NaN</td>\n      <td>NaN</td>\n      <td>00/00/0000</td>\n      <td>00:00:00</td>\n      <td>NaN</td>\n      <td>2</td>\n      <td>2015</td>\n      <td>05/02/2015 06:00:24</td>\n      <td>\\\\PUHAPS0149\\Informatica_Prod\\Inbox\\Informatic...</td>\n      <td>23/03/2015 06:00:26</td>\n      <td>0</td>\n      <td>128360</td>\n      <td>3646288</td>\n      <td>23/02/2015 06:02:34</td>\n      <td>0</td>\n    </tr>\n    <tr>\n      <th>760628</th>\n      <td>769230</td>\n      <td>80845077</td>\n      <td>0.0</td>\n      <td>NaN</td>\n      <td>20/04/2016 08:25:04</td>\n      <td>20/04/2016 08:25:04</td>\n      <td>Ass : Bord 10670 zwart.</td>\n      <td>NaN</td>\n      <td>Ass : Bord 10670 zwart.</td>\n      <td>NaN</td>\n      <td>53T</td>\n      <td>523</td>\n      <td>523.0</td>\n      <td>11083597.0</td>\n      <td>VISUELERIS</td>\n      <td>Ass TBP-CG-sp3-2(10670)</td>\n      <td>52465.0</td>\n      <td>52465.0</td>\n      <td>4.0</td>\n      <td>NaN</td>\n      <td>MAFS</td>\n      <td>NaN</td>\n      <td>NaN</td>\n      <td>00/00/0000</td>\n      <td>20/04/2016 08:25:04</td>\n      <td>20/04/2016 08:25:39</td>\n      <td>53T</td>\n      <td>523</td>\n      <td>523.0</td>\n      <td>11083597.0</td>\n      <td>VISUELERIS</td>\n      <td>Ass TBP-CG-sp3-2(10670)</td>\n      <td>NaN</td>\n      <td>NaN</td>\n      <td>52465.0</td>\n      <td>52465.0</td>\n      <td>NaN</td>\n      <td>NaN</td>\n      <td>NaN</td>\n      <td>NaN</td>\n      <td>NaN</td>\n      <td>TECHONV</td>\n      <td>221.0</td>\n      <td>Modem gereset Modem gereset</td>\n      <td>NaN</td>\n      <td>NaN</td>\n      <td>NaN</td>\n      <td>NaN</td>\n      <td>NaN</td>\n      <td>20/04/2016 12:20:48</td>\n      <td>1.0</td>\n      <td>20/04/2016 12:21:44</td>\n      <td>NaN</td>\n      <td>NaN</td>\n      <td>N</td>\n      <td>N</td>\n      <td>NaN</td>\n      <td>0</td>\n      <td>B</td>\n      <td>0,00</td>\n      <td>NaN</td>\n      <td>20/04/2016</td>\n      <td>08:25:04</td>\n      <td>20/04/2016</td>\n      <td>08:25:04</td>\n      <td>NaN</td>\n      <td>NaN</td>\n      <td>53.0</td>\n      <td>523-808-1000105618</td>\n      <td>T</td>\n      <td>53.0</td>\n      <td>523-808-1000105618</td>\n      <td>T</td>\n      <td>20/04/2016</td>\n      <td>08:25:04</td>\n      <td>20/04/2016</td>\n      <td>08:25:39</td>\n      <td>0.0</td>\n      <td>NaN</td>\n      <td>00:00:00</td>\n      <td>NaN</td>\n      <td>00:00:00</td>\n      <td>0</td>\n      <td>NaN</td>\n      <td>00:00:00</td>\n      <td>NaN</td>\n      <td>NaN</td>\n      <td>99999999</td>\n      <td>0.0</td>\n      <td>00/00/0000</td>\n      <td>00:00:00</td>\n      <td>20/04/2016</td>\n      <td>12:20:48</td>\n      <td>236.0</td>\n      <td>1.059949e+09</td>\n      <td>20/04/2016</td>\n      <td>12:21:44</td>\n      <td>NaN</td>\n      <td>NaN</td>\n      <td>NaN</td>\n      <td>NaN</td>\n      <td>NaN</td>\n      <td>NaN</td>\n      <td>N</td>\n      <td>21/04/2016 16:27:22</td>\n      <td>21/04/2016</td>\n      <td>16:27:22</td>\n      <td>20/04/2016 08:25:04</td>\n      <td>0.0</td>\n      <td>NaN</td>\n      <td>4.0</td>\n      <td>AKOG</td>\n      <td>NaN</td>\n      <td>NaN</td>\n      <td>Modem gereset</td>\n      <td>NaN</td>\n      <td>NaN</td>\n      <td>0.0</td>\n      <td>NaN</td>\n      <td>0.0</td>\n      <td>NaN</td>\n      <td>NaN</td>\n      <td>80845077</td>\n      <td>NaN</td>\n      <td>NaN</td>\n      <td>NaN</td>\n      <td>NaN</td>\n      <td>00/00/0000</td>\n      <td>00:00:00</td>\n      <td>ASS</td>\n      <td>7</td>\n      <td>2016</td>\n      <td>11/07/2016 06:00:35</td>\n      <td>\\\\PUHAPS0149\\Informatica_Prod\\Inbox\\Informatic...</td>\n      <td>31/12/9999 00:00:00</td>\n      <td>1</td>\n      <td>411816</td>\n      <td>3696370</td>\n      <td>11/07/2016 06:10:29</td>\n      <td>0</td>\n    </tr>\n    <tr>\n      <th>237571</th>\n      <td>243531</td>\n      <td>80370943</td>\n      <td>0.0</td>\n      <td>NaN</td>\n      <td>06/08/2006 10:23:00</td>\n      <td>06/08/2006 10:23:00</td>\n      <td>ERP wissel 431 noc RL. Voor 12.00 uur reparen.</td>\n      <td>NaN</td>\n      <td>ERP wissel 431 noc RL. Voor 12.00 uur re</td>\n      <td>NaN</td>\n      <td>04B</td>\n      <td>950</td>\n      <td>950.0</td>\n      <td>10646039.0</td>\n      <td>WISSEL</td>\n      <td>950 Erp wl 431  km 27.816 wissel</td>\n      <td>0.0</td>\n      <td>0.0</td>\n      <td>5.0</td>\n      <td>NaN</td>\n      <td>MAFS</td>\n      <td>NaN</td>\n      <td>NaN</td>\n      <td>00/00/0000</td>\n      <td>06/08/2006 10:23:00</td>\n      <td>06/08/2006 11:27:00</td>\n      <td>04S</td>\n      <td>950.0</td>\n      <td>950.0</td>\n      <td>10646039.0</td>\n      <td>WISSEL</td>\n      <td>950 Erp wl 431  km 27.816 wissel</td>\n      <td>8161.0</td>\n      <td>WIS-CON</td>\n      <td>0.0</td>\n      <td>0.0</td>\n      <td>06/08/2006 12:27:00</td>\n      <td>06/08/2006 11:29:29</td>\n      <td>NaN</td>\n      <td>NaN</td>\n      <td>Z</td>\n      <td>TECHONV</td>\n      <td>241.0</td>\n      <td>grind onder tongen van het wissel.  stopblok ...</td>\n      <td>NaN</td>\n      <td>NaN</td>\n      <td>NaN</td>\n      <td>NaN</td>\n      <td>NaN</td>\n      <td>06/08/2006 12:19:00</td>\n      <td>1.0</td>\n      <td>06/08/2006 12:19:00</td>\n      <td>NaN</td>\n      <td>NaN</td>\n      <td>N</td>\n      <td>NaN</td>\n      <td>NaN</td>\n      <td>0</td>\n      <td>B</td>\n      <td>0,00</td>\n      <td>NaN</td>\n      <td>06/08/2006</td>\n      <td>10:23:58</td>\n      <td>06/08/2006</td>\n      <td>10:23:00</td>\n      <td>NaN</td>\n      <td>NaN</td>\n      <td>4.0</td>\n      <td>950- 431  -   .   -302</td>\n      <td>B</td>\n      <td>4.0</td>\n      <td>950- 431  -   .   -302</td>\n      <td>S</td>\n      <td>06/08/2006</td>\n      <td>10:23:00</td>\n      <td>06/08/2006</td>\n      <td>11:27:00</td>\n      <td>52.0</td>\n      <td>06/08/2006</td>\n      <td>12:27:00</td>\n      <td>06/08/2006</td>\n      <td>11:29:29</td>\n      <td>60</td>\n      <td>NaN</td>\n      <td>00:00:00</td>\n      <td>NaN</td>\n      <td>NaN</td>\n      <td>99999999</td>\n      <td>0.0</td>\n      <td>00/00/0000</td>\n      <td>00:00:00</td>\n      <td>06/08/2006</td>\n      <td>12:19:00</td>\n      <td>116.0</td>\n      <td>6.400000e+01</td>\n      <td>06/08/2006</td>\n      <td>12:19:00</td>\n      <td>NaN</td>\n      <td>NaN</td>\n      <td>10/08/2006</td>\n      <td>J</td>\n      <td>NaN</td>\n      <td>N</td>\n      <td>J</td>\n      <td>14/08/2006 09:07:38</td>\n      <td>14/08/2006</td>\n      <td>09:07:38</td>\n      <td>06/08/2006 10:23:58</td>\n      <td>1.93</td>\n      <td>10.0</td>\n      <td>5.0</td>\n      <td>IN5</td>\n      <td>NaN</td>\n      <td>NaN</td>\n      <td>NaN</td>\n      <td>NaN</td>\n      <td>NaN</td>\n      <td>0.0</td>\n      <td>NaN</td>\n      <td>0</td>\n      <td>NaN</td>\n      <td>NaN</td>\n      <td>80370943</td>\n      <td>NaN</td>\n      <td>NaN</td>\n      <td>NaN</td>\n      <td>NaN</td>\n      <td>00/00/0000</td>\n      <td>00:00:00</td>\n      <td>NaN</td>\n      <td>8</td>\n      <td>2006</td>\n      <td>06/08/2006 10:23:00</td>\n      <td>\\\\PUHAPS0149\\Informatica_Prod\\Inbox\\Informatic...</td>\n      <td>31/12/9999 00:00:00</td>\n      <td>1</td>\n      <td>1518</td>\n      <td>12694035</td>\n      <td>13/06/2013 13:37:52</td>\n      <td>0</td>\n    </tr>\n    <tr>\n      <th>849077</th>\n      <td>858588</td>\n      <td>80896707</td>\n      <td>0.0</td>\n      <td>NaN</td>\n      <td>19/09/2017 11:50:21</td>\n      <td>19/09/2017 11:50:21</td>\n      <td>Hgv : V-bord onder vertrekbord afgebroken</td>\n      <td>NaN</td>\n      <td>Hgv : V-bord onder vertrekbord afgebroke</td>\n      <td>NaN</td>\n      <td>35S</td>\n      <td>12</td>\n      <td>12.0</td>\n      <td>10538385.0</td>\n      <td>SEIN</td>\n      <td>SEIN VL316/2 HGV</td>\n      <td>19708.0</td>\n      <td>19708.0</td>\n      <td>5.0</td>\n      <td>NaN</td>\n      <td>MINB PAGE</td>\n      <td>NaN</td>\n      <td>NaN</td>\n      <td>00/00/0000</td>\n      <td>19/09/2017 11:50:22</td>\n      <td>19/09/2017 13:00:01</td>\n      <td>35S</td>\n      <td>12</td>\n      <td>12.0</td>\n      <td>10538385.0</td>\n      <td>SEIN</td>\n      <td>SEIN VL316/2 HGV</td>\n      <td>S381</td>\n      <td>SALG0023</td>\n      <td>19708.0</td>\n      <td>19708.0</td>\n      <td>26/09/2017 13:31:00</td>\n      <td>19/09/2017 13:33:37</td>\n      <td>NaN</td>\n      <td>NaN</td>\n      <td>NaN</td>\n      <td>ONR-DERD</td>\n      <td>145.0</td>\n      <td>NaN</td>\n      <td>ONREGDER</td>\n      <td>T</td>\n      <td>NaN</td>\n      <td>NaN</td>\n      <td>19/09/2017 11:50:21</td>\n      <td>19/09/2017 13:34:00</td>\n      <td>5.0</td>\n      <td>26/09/2017 15:50:00</td>\n      <td>NaN</td>\n      <td>NaN</td>\n      <td>N</td>\n      <td>N</td>\n      <td>NaN</td>\n      <td>0</td>\n      <td>NB</td>\n      <td>0,00</td>\n      <td>NaN</td>\n      <td>19/09/2017</td>\n      <td>11:50:21</td>\n      <td>19/09/2017</td>\n      <td>11:50:21</td>\n      <td>NaN</td>\n      <td>NaN</td>\n      <td>35.0</td>\n      <td>012-603-1000065796</td>\n      <td>S</td>\n      <td>35.0</td>\n      <td>012-603-1000065796</td>\n      <td>S</td>\n      <td>19/09/2017</td>\n      <td>11:50:22</td>\n      <td>19/09/2017</td>\n      <td>13:00:01</td>\n      <td>0.0</td>\n      <td>26/09/2017</td>\n      <td>13:31:00</td>\n      <td>19/09/2017</td>\n      <td>13:33:37</td>\n      <td>10181</td>\n      <td>26/09/2017</td>\n      <td>13:31:00</td>\n      <td>NaN</td>\n      <td>NaN</td>\n      <td>0</td>\n      <td>1.0</td>\n      <td>19/09/2017</td>\n      <td>11:50:21</td>\n      <td>19/09/2017</td>\n      <td>13:34:00</td>\n      <td>104.0</td>\n      <td>7.000000e+01</td>\n      <td>26/09/2017</td>\n      <td>15:50:00</td>\n      <td>NaN</td>\n      <td>NaN</td>\n      <td>NaN</td>\n      <td>NaN</td>\n      <td>NaN</td>\n      <td>NaN</td>\n      <td>N</td>\n      <td>NaN</td>\n      <td>NaN</td>\n      <td>00:00:00</td>\n      <td>19/09/2017 11:50:21</td>\n      <td>0.0</td>\n      <td>NaN</td>\n      <td>2.0</td>\n      <td>TAOG CAOG CAON AKOG</td>\n      <td>NaN</td>\n      <td>NaN</td>\n      <td>NaN</td>\n      <td>NaN</td>\n      <td>NaN</td>\n      <td>0.0</td>\n      <td>NaN</td>\n      <td>NaN</td>\n      <td>NaN</td>\n      <td>NaN</td>\n      <td>NaN</td>\n      <td>NaN</td>\n      <td>NaN</td>\n      <td>NaN</td>\n      <td>NaN</td>\n      <td>22/09/2017</td>\n      <td>15:48:01</td>\n      <td>VL316/2</td>\n      <td>11</td>\n      <td>2017</td>\n      <td>27/11/2017 06:00:07</td>\n      <td>E:\\Informatica\\Inbox\\Informatica\\SAP\\Storingen...</td>\n      <td>31/12/9999 00:00:00</td>\n      <td>1</td>\n      <td>292192</td>\n      <td>3752213</td>\n      <td>27/11/2017 06:06:34</td>\n      <td>0</td>\n    </tr>\n  </tbody>\n</table>\n</div>"
     },
     "execution_count": 29,
     "metadata": {},
     "output_type": "execute_result"
    }
   ],
   "source": [
    "dataset.head()"
   ]
  },
  {
   "cell_type": "markdown",
   "id": "b1a6c875",
   "metadata": {
    "pycharm": {
     "name": "#%% md\n"
    }
   },
   "source": [
    "Bekijken van het aantal datapunten en kolommen in de data."
   ]
  },
  {
   "cell_type": "code",
   "execution_count": 30,
   "id": "5a772f6e",
   "metadata": {
    "pycharm": {
     "name": "#%%\n"
    }
   },
   "outputs": [
    {
     "name": "stdout",
     "output_type": "stream",
     "text": [
      "De dataset bevat 89852 rijen en 140 kolommen\n"
     ]
    }
   ],
   "source": [
    "rows, cols = dataset.shape\n",
    "print(f'De dataset bevat {rows} rijen en {cols} kolommen')"
   ]
  },
  {
   "cell_type": "markdown",
   "id": "58df28de",
   "metadata": {
    "pycharm": {
     "name": "#%% md\n"
    }
   },
   "source": [
    "#### Interessante kolommen om de target variabele te construeren.\n",
    "We gaan eerst de kolommen analyseren die mogelijk van toepassing kunnen zijn bij het bepalen van een target variabele voor de onderzoeksvraag.\n",
    "\n",
    "Hiervoor gebruiken we het tijdstip van de functieherstel.\n",
    "Functieherstel tijdstip is het moment dat een storing is opgelost, maar het treinverkeer nog niet per definitie hervat is.\n",
    "De functieherstel duur is de tijd vanaf de initiële melding tot de tijdstip van functieherstel.\n",
    "\n",
    "Volgens het interview met ProRail is het vaak lastig om te bepalen hoelang het duurt voordat een aanemer ter plaatse is om een storing te verhelpen.\n",
    "Om deze reden is de duur van de complete storing (functieherstel duur) lastig te voorspellen. Daarom kijken we ook naar de tijd dat de aannemer ter plaatse is. De duur van dit tijdstip tot het tijdstip van de functieherstel tijd is interessant om te onderzoeken, omdat vanaf het moment dat de aannemer aanwezig is er **waarschijnlijk** meer te zeggen valt over hoelang de vertraging nog duurt.\n",
    "\n",
    "Ook heeft ProRail ons laten weten dat ze het vooral interessant vinden om storingen te bekijken/voorspellen die niet langer duren dan een werkdag.\n",
    "\n",
    "Voor de meld-, aannemer-ter-plaatse- en functiehersteltijd zijn 2 verschillende kolommen aanwezig in de data dictionary. Laten we ze allemaal bekijken om het verschil te zien.\n",
    "Er lijkt ook een herstelduur te staan in de data dictionary maar met een '?' erbij we gaan er vanuit dat dit niet een correcte functieherstel duur is en we zelf de herstelduur gaan berekenen."
   ]
  },
  {
   "cell_type": "code",
   "execution_count": 31,
   "id": "c51bf32d",
   "metadata": {
    "pycharm": {
     "name": "#%%\n"
    }
   },
   "outputs": [],
   "source": [
    "target_selection = ['stm_sap_meldtijd','stm_sap_meld_ddt', 'stm_aanntpl_tijd', 'stm_aanntpl_ddt', 'stm_fh_tijd', 'stm_fh_ddt','stm_fh_duur']"
   ]
  },
  {
   "cell_type": "code",
   "execution_count": 32,
   "id": "94b2f382",
   "metadata": {
    "pycharm": {
     "name": "#%%\n"
    }
   },
   "outputs": [
    {
     "data": {
      "text/plain": "       stm_sap_meldtijd     stm_sap_meld_ddt stm_aanntpl_tijd  \\\n861252         17:38:45  08/02/2018 17:38:45         20:35:01   \n408503         12:45:00  06/11/2010 12:45:00         12:47:00   \n741181         12:13:40  01/02/2016 12:13:40         02:00:00   \n35918          10:34:00  07/02/2013 10:34:00         00:00:00   \n361408         12:18:00  14/10/2009 12:18:00         12:30:00   \n125336         07:35:00  04/05/2018 07:35:00         00:00:00   \n453484         11:01:00  17/11/2011 11:01:00         11:47:00   \n677282         20:24:00  12/01/2015 20:24:00         00:00:00   \n351136         07:11:00  06/07/2009 07:11:00         08:21:00   \n1111           12:10:00  15/04/2006 12:10:00         00:00:00   \n\n            stm_aanntpl_ddt stm_fh_tijd           stm_fh_ddt  stm_fh_duur  \n861252  08/02/2018 20:35:01    22:51:01  08/02/2018 22:51:01        312.0  \n408503  06/11/2010 12:47:00    13:07:00  06/11/2010 13:07:00         22.0  \n741181  02/02/2016 02:00:00    06:40:00  03/02/2016 06:40:00       2546.0  \n35918                   NaN    00:00:00                  NaN          0.0  \n361408  14/10/2009 12:30:00    12:59:00  14/10/2009 12:59:00         41.0  \n125336                  NaN    00:00:00                  NaN          0.0  \n453484  17/11/2011 11:47:00    14:09:00  17/11/2011 14:09:00        179.0  \n677282                  NaN    21:54:00  14/01/2015 21:54:00       2970.0  \n351136  06/07/2009 08:21:00    08:24:00  06/07/2009 08:24:00         10.0  \n1111                    NaN    13:15:00  15/04/2006 13:15:00         65.0  ",
      "text/html": "<div>\n<style scoped>\n    .dataframe tbody tr th:only-of-type {\n        vertical-align: middle;\n    }\n\n    .dataframe tbody tr th {\n        vertical-align: top;\n    }\n\n    .dataframe thead th {\n        text-align: right;\n    }\n</style>\n<table border=\"1\" class=\"dataframe\">\n  <thead>\n    <tr style=\"text-align: right;\">\n      <th></th>\n      <th>stm_sap_meldtijd</th>\n      <th>stm_sap_meld_ddt</th>\n      <th>stm_aanntpl_tijd</th>\n      <th>stm_aanntpl_ddt</th>\n      <th>stm_fh_tijd</th>\n      <th>stm_fh_ddt</th>\n      <th>stm_fh_duur</th>\n    </tr>\n  </thead>\n  <tbody>\n    <tr>\n      <th>861252</th>\n      <td>17:38:45</td>\n      <td>08/02/2018 17:38:45</td>\n      <td>20:35:01</td>\n      <td>08/02/2018 20:35:01</td>\n      <td>22:51:01</td>\n      <td>08/02/2018 22:51:01</td>\n      <td>312.0</td>\n    </tr>\n    <tr>\n      <th>408503</th>\n      <td>12:45:00</td>\n      <td>06/11/2010 12:45:00</td>\n      <td>12:47:00</td>\n      <td>06/11/2010 12:47:00</td>\n      <td>13:07:00</td>\n      <td>06/11/2010 13:07:00</td>\n      <td>22.0</td>\n    </tr>\n    <tr>\n      <th>741181</th>\n      <td>12:13:40</td>\n      <td>01/02/2016 12:13:40</td>\n      <td>02:00:00</td>\n      <td>02/02/2016 02:00:00</td>\n      <td>06:40:00</td>\n      <td>03/02/2016 06:40:00</td>\n      <td>2546.0</td>\n    </tr>\n    <tr>\n      <th>35918</th>\n      <td>10:34:00</td>\n      <td>07/02/2013 10:34:00</td>\n      <td>00:00:00</td>\n      <td>NaN</td>\n      <td>00:00:00</td>\n      <td>NaN</td>\n      <td>0.0</td>\n    </tr>\n    <tr>\n      <th>361408</th>\n      <td>12:18:00</td>\n      <td>14/10/2009 12:18:00</td>\n      <td>12:30:00</td>\n      <td>14/10/2009 12:30:00</td>\n      <td>12:59:00</td>\n      <td>14/10/2009 12:59:00</td>\n      <td>41.0</td>\n    </tr>\n    <tr>\n      <th>125336</th>\n      <td>07:35:00</td>\n      <td>04/05/2018 07:35:00</td>\n      <td>00:00:00</td>\n      <td>NaN</td>\n      <td>00:00:00</td>\n      <td>NaN</td>\n      <td>0.0</td>\n    </tr>\n    <tr>\n      <th>453484</th>\n      <td>11:01:00</td>\n      <td>17/11/2011 11:01:00</td>\n      <td>11:47:00</td>\n      <td>17/11/2011 11:47:00</td>\n      <td>14:09:00</td>\n      <td>17/11/2011 14:09:00</td>\n      <td>179.0</td>\n    </tr>\n    <tr>\n      <th>677282</th>\n      <td>20:24:00</td>\n      <td>12/01/2015 20:24:00</td>\n      <td>00:00:00</td>\n      <td>NaN</td>\n      <td>21:54:00</td>\n      <td>14/01/2015 21:54:00</td>\n      <td>2970.0</td>\n    </tr>\n    <tr>\n      <th>351136</th>\n      <td>07:11:00</td>\n      <td>06/07/2009 07:11:00</td>\n      <td>08:21:00</td>\n      <td>06/07/2009 08:21:00</td>\n      <td>08:24:00</td>\n      <td>06/07/2009 08:24:00</td>\n      <td>10.0</td>\n    </tr>\n    <tr>\n      <th>1111</th>\n      <td>12:10:00</td>\n      <td>15/04/2006 12:10:00</td>\n      <td>00:00:00</td>\n      <td>NaN</td>\n      <td>13:15:00</td>\n      <td>15/04/2006 13:15:00</td>\n      <td>65.0</td>\n    </tr>\n  </tbody>\n</table>\n</div>"
     },
     "execution_count": 32,
     "metadata": {},
     "output_type": "execute_result"
    }
   ],
   "source": [
    "dataset[target_selection].sample(10, random_state=2)"
   ]
  },
  {
   "cell_type": "markdown",
   "id": "6d9542c1",
   "metadata": {
    "pycharm": {
     "name": "#%% md\n"
    }
   },
   "source": [
    "Opvallend is dat de functieherstel duur in veel gevallen aanzienlijk langer is dan de duur tussen het tijdstip dat de aannemer ter plaatse is en het functieherstel tijdstip.\n",
    "\n",
    "De kolommen eindigend op ddt bevatten een datum en tijd in Dag/Maand/Jaar Uur:Minuten:Seconden.\n",
    "En de kolommen eindigend op tijd bevatten alleen de tijd in Uur:Minuten:Seconden.\n",
    "\n",
    "Wat ook opvalt is dat de kolommen eindigend met ddt NaN waardes bevat maar op eerste blik alleen bij rijen waar de functieherstel duur 0 is of wanneer de aannemer ter plaatse tijd 00:00:00 is. Dit duidt erop dat NaN waardes die altijd gecombineerd lijken te zijn met een tijdstip 00:00:00 alleen in rijen voorkomt waar er geen aannemer ter plaatse nodig was om de storing te verhelpen."
   ]
  },
  {
   "cell_type": "markdown",
   "id": "0d0353d5",
   "metadata": {
    "pycharm": {
     "name": "#%% md\n"
    }
   },
   "source": [
    "### Meetniveau\n",
    "\n",
    "De target variabele kolom is nog niet aanwezig maar dit zal in dezelfde eenheid zijn als functieherstel duur, namelijk duur in minuten.\n",
    "\n",
    "Minuten zijn van een continue meetniveau omdat je tot oneindige precisie tussen 2 verschillende waardes in minuten kan meten"
   ]
  },
  {
   "cell_type": "markdown",
   "id": "56fb6b29",
   "metadata": {},
   "source": [
    "### Centrum- en spreidingsmaten"
   ]
  },
  {
   "cell_type": "code",
   "execution_count": 33,
   "outputs": [
    {
     "data": {
      "text/plain": "count     89851.0\nmean        936.0\nstd        6510.0\nmin           0.0\n25%          11.0\n50%          83.0\n75%         256.0\nmax      525621.0\nName: stm_fh_duur, dtype: float64"
     },
     "execution_count": 33,
     "metadata": {},
     "output_type": "execute_result"
    }
   ],
   "source": [
    "dataset['stm_fh_duur'].describe().round()"
   ],
   "metadata": {
    "collapsed": false,
    "pycharm": {
     "name": "#%%\n"
    }
   }
  },
  {
   "cell_type": "markdown",
   "id": "e3f42698",
   "metadata": {
    "pycharm": {
     "name": "#%% md\n"
    }
   },
   "source": [
    "In de tabel hierboven is te zien:\n",
    "- Aantal observaties\n",
    "- Gemiddelde\n",
    "- Standaardafwijking\n",
    "- Minimale observatie\n",
    "- 25% (Kwartiel 1)\n",
    "- 50% (Kwartiel 2, ookwel de mediaan)\n",
    "- 75% (Kwartiel 3)\n",
    "- Maximale observatie\n",
    "\n",
    "We kunnen hier uit een aantal dingen opmerken:\n",
    "- Groot verschil tussen min en max observaties.\n",
    "- Het gemiddelde ligt veel hoger dan de mediaan, dit duidt op uitschieters.\n",
    "- Minimale observatie is 0: dit zouden storingen kunnen zijn die niet voor vertraging zorgen (zoals een ICT storing).\n",
    "- Grote standaardafwijking: dit duidt erop dat de observaties breed verdeeld zijn om het gemiddelde."
   ]
  },
  {
   "cell_type": "markdown",
   "id": "84c107c8",
   "metadata": {
    "pycharm": {
     "name": "#%% md\n"
    }
   },
   "source": [
    "Om een visuele blik te krijgen op de verdeling van de data plotten we een histogram."
   ]
  },
  {
   "cell_type": "code",
   "execution_count": 34,
   "id": "b9df1d69",
   "metadata": {
    "pycharm": {
     "name": "#%%\n"
    }
   },
   "outputs": [
    {
     "data": {
      "text/plain": "<Figure size 360x360 with 1 Axes>",
      "image/png": "[encoded data removed]"
     },
     "metadata": {
      "needs_background": "light"
     },
     "output_type": "display_data"
    }
   ],
   "source": [
    "dataset[target_selection].hist(figsize=(5,5), bins=40) # hist\n",
    "plt.axvline(dataset['stm_fh_duur'].mean(), color='black', linestyle='dashed', linewidth=2) # add mean line\n",
    "plt.legend([\"Gemiddelde FH duur.\", \"Aantal observaties.\"], loc=\"upper right\") # legend\n",
    "plt.title(\"FH duur vs Aantal observaties.\"), plt.xlabel(\"FH duur.\"), plt.ylabel(\"Aantal observaties.\") # title, x & y labels\n",
    "\n",
    "plt.show()"
   ]
  },
  {
   "cell_type": "markdown",
   "id": "23ce20c4",
   "metadata": {
    "pycharm": {
     "name": "#%% md\n"
    }
   },
   "source": [
    "Zoals te zien en omschreven bij de describe is de FH duur erg verspreidt en bevat outliers die de histogram onleesbaar maakt.\n",
    "\n",
    "Laten we daarom opnieuw een histogram plotten die alleen naar storingen kijkt die binnen de acceptabele marge (6 uur volgens ProRail) zijn opgelost en die voor een vertraging hebben gezorgd (FH duur groter zijn dan 0). Dit zijn volgens ProRail de meest interessante storingen om een voorspellingen over te kunnen doen."
   ]
  },
  {
   "cell_type": "code",
   "execution_count": 35,
   "id": "f67149d6",
   "metadata": {
    "pycharm": {
     "name": "#%%\n"
    }
   },
   "outputs": [],
   "source": [
    "zero_360_filter = (dataset['stm_fh_duur'] > 0) & (\n",
    "            dataset['stm_fh_duur'] <= 360)  # boolean mask to filter on FH > 0 and <= 360."
   ]
  },
  {
   "cell_type": "code",
   "execution_count": 36,
   "id": "b89f4774",
   "metadata": {
    "pycharm": {
     "name": "#%%\n"
    }
   },
   "outputs": [
    {
     "data": {
      "text/plain": "<Figure size 360x360 with 1 Axes>",
      "image/png": "[encoded data removed]"
     },
     "metadata": {
      "needs_background": "light"
     },
     "output_type": "display_data"
    }
   ],
   "source": [
    "dataset[zero_360_filter][target_selection].hist(figsize=(5,5), bins = 40)# hist\n",
    "plt.axvline(dataset[zero_360_filter]['stm_fh_duur'].mean(), color='black', linestyle='dashed', linewidth=2) # add mean line\n",
    "plt.legend([\"Gemiddelde FH duur.\", \"Aantal observaties.\"], loc=\"upper right\") # legend\n",
    "plt.title(\"0min < FH duur < 6 uur vs Aantal observaties.\"), plt.xlabel(\"FH duur.\"), plt.ylabel(\"Aantal observaties.\") # title, x & y labels\n",
    "\n",
    "plt.show()"
   ]
  },
  {
   "cell_type": "markdown",
   "id": "83935697",
   "metadata": {
    "pycharm": {
     "name": "#%% md\n"
    }
   },
   "source": [
    "FH duur boven de 0 minuten en tot en met 6 uur, heeft een rechtscheve verdeling."
   ]
  },
  {
   "cell_type": "markdown",
   "id": "00722a3d",
   "metadata": {
    "pycharm": {
     "name": "#%% md\n"
    }
   },
   "source": [
    "#### Uitschieters\n",
    "\n",
    "Om een visueel beeld te krijgen van de spreiding/uitschieters van de functieherstel duur wordt deze getoond in een boxplot."
   ]
  },
  {
   "cell_type": "code",
   "execution_count": 37,
   "id": "55dede53",
   "metadata": {
    "pycharm": {
     "name": "#%%\n"
    }
   },
   "outputs": [
    {
     "data": {
      "text/plain": "<Figure size 432x288 with 1 Axes>",
      "image/png": "[encoded data removed]"
     },
     "metadata": {
      "needs_background": "light"
     },
     "output_type": "display_data"
    }
   ],
   "source": [
    "dataset.boxplot('stm_fh_duur')\n",
    "plt.title(\"Boxplot FH duur\")\n",
    "plt.show()"
   ]
  },
  {
   "cell_type": "markdown",
   "id": "51f6770b",
   "metadata": {
    "pycharm": {
     "name": "#%% md\n"
    }
   },
   "source": [
    "Er zijn erg veel extreem hoge uitschieters terwijl het mediaan laag ligt.\n",
    "Om een beter overzicht te krijgen, kijken we in een nieuwe boxplot alleen naar functieherstel duur boven de 0 en onder de 360 minuten."
   ]
  },
  {
   "cell_type": "code",
   "execution_count": 38,
   "id": "bffaa562",
   "metadata": {
    "pycharm": {
     "name": "#%%\n"
    }
   },
   "outputs": [
    {
     "data": {
      "text/plain": "<Figure size 432x288 with 1 Axes>",
      "image/png": "[encoded data removed]"
     },
     "metadata": {
      "needs_background": "light"
     },
     "output_type": "display_data"
    }
   ],
   "source": [
    "dataset[zero_360_filter].boxplot('stm_fh_duur')\n",
    "plt.title(\"Boxplot FH duur\")\n",
    "plt.show()"
   ]
  },
  {
   "cell_type": "markdown",
   "id": "e4f50530",
   "metadata": {
    "pycharm": {
     "name": "#%% md\n"
    }
   },
   "source": [
    "Er liggen alleen uitschieters aan de rechterkant.\n",
    "De maximale niet-uitschieter is ongeveer 300 minuten en de kleinste niet uitschieter 1 minuut.\n",
    "De helft van de vertagingen tussen 1 en 360 minuten valt binnen ongeveer 40 en 145 minuten."
   ]
  },
  {
   "cell_type": "markdown",
   "id": "39100b0c",
   "metadata": {
    "pycharm": {
     "name": "#%% md\n"
    }
   },
   "source": [
    "### Data Preparation\n",
    "Als eerst gaan we een kolom maken voor de functieherstel duur en de target kolom, functieherstel duur vanaf het moment dat de aannemer ter plaatse is.\n"
   ]
  },
  {
   "cell_type": "code",
   "execution_count": 81,
   "id": "a57b5b2a",
   "metadata": {
    "pycharm": {
     "name": "#%%\n"
    }
   },
   "outputs": [],
   "source": [
    "df_target = dataset.copy()"
   ]
  },
  {
   "cell_type": "markdown",
   "source": [
    "#### NA waardes\n",
    "Eerst controleren we op lege velden, ofwel NaN waarden."
   ],
   "metadata": {
    "collapsed": false,
    "pycharm": {
     "name": "#%% md\n"
    }
   }
  },
  {
   "cell_type": "code",
   "execution_count": 82,
   "outputs": [
    {
     "data": {
      "text/plain": "stm_sap_meldtijd        1\nstm_sap_meld_ddt        0\nstm_aanntpl_tijd        1\nstm_aanntpl_ddt     20926\nstm_fh_tijd             1\nstm_fh_ddt          16599\nstm_fh_duur             1\ndtype: int64"
     },
     "execution_count": 82,
     "metadata": {},
     "output_type": "execute_result"
    }
   ],
   "source": [
    "df_target[target_selection].isna().sum()"
   ],
   "metadata": {
    "collapsed": false,
    "pycharm": {
     "name": "#%%\n"
    }
   }
  },
  {
   "cell_type": "markdown",
   "id": "ffecfacc",
   "metadata": {
    "pycharm": {
     "name": "#%% md\n"
    }
   },
   "source": [
    "Alleen de kolommen aannemer ter plaatse ddt en functie herstel ddt bevatten een merkwaardig aantal NaN waardes.\n",
    "Laten we kijken hoeveel van deze NaN waardes overeen komen met een functieherstel tijd van 0 minuten. En ook hoeveel er overeen komen met een aannemer ter plaatse tijdstip van 00:00:00 omdat dit in de data understanding fase opviel."
   ]
  },
  {
   "cell_type": "code",
   "execution_count": 83,
   "id": "a688f19e",
   "metadata": {
    "pycharm": {
     "name": "#%%\n"
    }
   },
   "outputs": [
    {
     "data": {
      "text/plain": "20990"
     },
     "execution_count": 83,
     "metadata": {},
     "output_type": "execute_result"
    }
   ],
   "source": [
    "(df_target['stm_aanntpl_tijd'] == '00:00:00').sum()"
   ]
  },
  {
   "cell_type": "markdown",
   "id": "790c9f4f",
   "metadata": {
    "pycharm": {
     "name": "#%% md\n"
    }
   },
   "source": [
    "Bijna alle aannemer ter plaatse tijdstippen komen overeen met 00:00:00 waar der een NaN is voor de ddt variant van de kolom."
   ]
  },
  {
   "cell_type": "code",
   "execution_count": 84,
   "id": "fb24f24f",
   "metadata": {
    "pycharm": {
     "name": "#%%\n"
    }
   },
   "outputs": [
    {
     "data": {
      "text/plain": "17206"
     },
     "execution_count": 84,
     "metadata": {},
     "output_type": "execute_result"
    }
   ],
   "source": [
    "(df_target['stm_fh_duur'] == 0).sum()"
   ]
  },
  {
   "cell_type": "markdown",
   "id": "8ba30ff9",
   "metadata": {
    "pycharm": {
     "name": "#%% md\n"
    }
   },
   "source": [
    "Deze datapunten zijn niet van belang bij het maken van een voorspelling, dus zullen we uit onze dataset verwijderen."
   ]
  },
  {
   "cell_type": "code",
   "execution_count": 85,
   "id": "6db6553a",
   "metadata": {
    "pycharm": {
     "name": "#%%\n"
    }
   },
   "outputs": [],
   "source": [
    "df_target.dropna(subset=target_selection, inplace=True)"
   ]
  },
  {
   "cell_type": "code",
   "execution_count": 88,
   "outputs": [
    {
     "data": {
      "text/plain": "stm_sap_meldtijd    0\nstm_sap_meld_ddt    0\nstm_aanntpl_tijd    0\nstm_aanntpl_ddt     0\nstm_fh_tijd         0\nstm_fh_ddt          0\nstm_fh_duur         0\ndtype: int64"
     },
     "execution_count": 88,
     "metadata": {},
     "output_type": "execute_result"
    }
   ],
   "source": [
    "df_target[target_selection].isna().sum()"
   ],
   "metadata": {
    "collapsed": false,
    "pycharm": {
     "name": "#%%\n"
    }
   }
  },
  {
   "cell_type": "markdown",
   "id": "cceb66d8",
   "metadata": {
    "pycharm": {
     "name": "#%% md\n"
    }
   },
   "source": [
    "##### Duplicate rijen\n",
    "Daarnaast moeten we controleren of we te maken hebben met duplicate rijen, ofwel rijen die meerdere keren in de dataset staan."
   ]
  },
  {
   "cell_type": "code",
   "execution_count": 89,
   "id": "dd84aa5b",
   "metadata": {
    "pycharm": {
     "name": "#%%\n"
    }
   },
   "outputs": [
    {
     "data": {
      "text/plain": "0"
     },
     "execution_count": 89,
     "metadata": {},
     "output_type": "execute_result"
    }
   ],
   "source": [
    "df_target.duplicated().sum()"
   ]
  },
  {
   "cell_type": "markdown",
   "source": [
    "We hebben niet te maken met duplicates. Hier hoeven we dus niets mee te doen.We hebben niet te maken met duplicates. Hier hoeven we dus niets mee te doen."
   ],
   "metadata": {
    "collapsed": false,
    "pycharm": {
     "name": "#%% md\n"
    }
   }
  },
  {
   "cell_type": "code",
   "execution_count": 90,
   "id": "3c2ee90d",
   "metadata": {
    "pycharm": {
     "name": "#%%\n"
    }
   },
   "outputs": [],
   "source": [
    "df_target[target_selection] = df_target[target_selection].drop_duplicates()"
   ]
  },
  {
   "cell_type": "markdown",
   "id": "95b4ad6e",
   "metadata": {
    "pycharm": {
     "name": "#%% md\n"
    }
   },
   "source": [
    "##### Dtypes\n",
    "We controleren de datatypes en zetten deze om waar dat nodig is."
   ]
  },
  {
   "cell_type": "code",
   "execution_count": 91,
   "id": "f01d2258",
   "metadata": {
    "pycharm": {
     "name": "#%%\n"
    }
   },
   "outputs": [
    {
     "data": {
      "text/plain": "stm_sap_meldtijd     object\nstm_sap_meld_ddt     object\nstm_aanntpl_tijd     object\nstm_aanntpl_ddt      object\nstm_fh_tijd          object\nstm_fh_ddt           object\nstm_fh_duur         float64\ndtype: object"
     },
     "execution_count": 91,
     "metadata": {},
     "output_type": "execute_result"
    }
   ],
   "source": [
    "df_target[target_selection].dtypes"
   ]
  },
  {
   "cell_type": "markdown",
   "id": "f488ac9f",
   "metadata": {
    "pycharm": {
     "name": "#%% md\n"
    }
   },
   "source": [
    "Zoals te zien zijn de data en tijden momenteel objecten. We veranderen alle dtypes van tijd en datum kolommen naar een datetime datatype. Dit doen we door gebruik te maken van een lambda die controleert of 'ddt' in de kolomnaam zit."
   ]
  },
  {
   "cell_type": "code",
   "execution_count": 92,
   "id": "d45273e0",
   "metadata": {
    "pycharm": {
     "name": "#%%\n"
    }
   },
   "outputs": [],
   "source": [
    "ddt_cols = list(filter(lambda x: 'ddt' in x, dataset.columns)) # filter columns on containing 'ddt' in their name\n",
    "df_target[ddt_cols] = df_target[ddt_cols].apply(lambda ddt_col: pd.to_datetime(ddt_col, format='%d/%m/%Y %H:%M:%S', errors='coerce')) # apply to_datetime to every ddt column"
   ]
  },
  {
   "cell_type": "code",
   "execution_count": 93,
   "id": "1f5f45c1",
   "metadata": {
    "pycharm": {
     "name": "#%%\n"
    }
   },
   "outputs": [],
   "source": [
    "tijd_cols = list(filter(lambda x: 'tijd' in x, dataset.columns))\n",
    "df_target[tijd_cols] = df_target[tijd_cols].apply(lambda tijd_col: pd.to_datetime(tijd_col,format= '%H:%M:%S', errors='coerce').dt.time)"
   ]
  },
  {
   "cell_type": "code",
   "execution_count": 74,
   "id": "2a5e5ac7",
   "metadata": {
    "pycharm": {
     "name": "#%%\n"
    }
   },
   "outputs": [
    {
     "data": {
      "text/plain": "stm_sap_meldtijd            object\nstm_sap_meld_ddt    datetime64[ns]\nstm_aanntpl_tijd            object\nstm_aanntpl_ddt     datetime64[ns]\nstm_fh_tijd                 object\nstm_fh_ddt          datetime64[ns]\nstm_fh_duur                float64\ndtype: object"
     },
     "execution_count": 74,
     "metadata": {},
     "output_type": "execute_result"
    }
   ],
   "source": [
    "df_target[target_selection].dtypes # note just the timestamps in H:M:S stay a object but is actually a time object"
   ]
  },
  {
   "cell_type": "code",
   "execution_count": 95,
   "outputs": [
    {
     "data": {
      "text/plain": "stm_sap_meldtijd    3623\nstm_sap_meld_ddt    3619\nstm_aanntpl_tijd    3619\nstm_aanntpl_ddt     3619\nstm_fh_tijd         3619\nstm_fh_ddt          3619\nstm_fh_duur         3619\ndtype: int64"
     },
     "execution_count": 95,
     "metadata": {},
     "output_type": "execute_result"
    }
   ],
   "source": [
    "df_target[target_selection].isna().sum()"
   ],
   "metadata": {
    "collapsed": false,
    "pycharm": {
     "name": "#%%\n"
    }
   }
  },
  {
   "cell_type": "code",
   "execution_count": 98,
   "outputs": [],
   "source": [
    "df_target.dropna(subset=target_selection, inplace=True)"
   ],
   "metadata": {
    "collapsed": false,
    "pycharm": {
     "name": "#%%\n"
    }
   }
  },
  {
   "cell_type": "markdown",
   "source": [
    "De benodigde kolommen hebben nu kloppende datatypes. Hoewel er bij tijden, zoals bijvoorbeeld stm_sap_meldtijd, nog steeds 'object' staat, zijn deze nu wel te manipuleren met bijvoorbeeld sorteerfuncties.\n",
    "\n",
    "We kunnen nu de kolommen maken voor functieherstel duur, en de functieherstel duur vanaf het moment dat de aannemer ter plaatse is (onze target)."
   ],
   "metadata": {
    "collapsed": false,
    "pycharm": {
     "name": "#%% md\n"
    }
   }
  },
  {
   "cell_type": "code",
   "execution_count": 99,
   "outputs": [],
   "source": [
    "df_target['aanntpl_fh_duur'] = ((df_target['stm_fh_ddt'] - df_target['stm_aanntpl_ddt']).dt.total_seconds() / 60).astype('int')\n",
    "df_target['fh_duur'] = ((df_target['stm_fh_ddt'] - df_target['stm_sap_meld_ddt']).dt.total_seconds() / 60).astype('int')"
   ],
   "metadata": {
    "collapsed": false,
    "pycharm": {
     "name": "#%%\n"
    }
   }
  },
  {
   "cell_type": "code",
   "execution_count": 100,
   "outputs": [
    {
     "data": {
      "text/plain": "        fh_duur  aanntpl_fh_duur\n592816     1219               39\n680751      108               34\n760628      235              235\n237571      116               52\n849077      103               33\n...         ...              ...\n819633      255              109\n482955       34                3\n601257       74               35\n490991       18                3\n827324      598               72\n\n[64707 rows x 2 columns]",
      "text/html": "<div>\n<style scoped>\n    .dataframe tbody tr th:only-of-type {\n        vertical-align: middle;\n    }\n\n    .dataframe tbody tr th {\n        vertical-align: top;\n    }\n\n    .dataframe thead th {\n        text-align: right;\n    }\n</style>\n<table border=\"1\" class=\"dataframe\">\n  <thead>\n    <tr style=\"text-align: right;\">\n      <th></th>\n      <th>fh_duur</th>\n      <th>aanntpl_fh_duur</th>\n    </tr>\n  </thead>\n  <tbody>\n    <tr>\n      <th>592816</th>\n      <td>1219</td>\n      <td>39</td>\n    </tr>\n    <tr>\n      <th>680751</th>\n      <td>108</td>\n      <td>34</td>\n    </tr>\n    <tr>\n      <th>760628</th>\n      <td>235</td>\n      <td>235</td>\n    </tr>\n    <tr>\n      <th>237571</th>\n      <td>116</td>\n      <td>52</td>\n    </tr>\n    <tr>\n      <th>849077</th>\n      <td>103</td>\n      <td>33</td>\n    </tr>\n    <tr>\n      <th>...</th>\n      <td>...</td>\n      <td>...</td>\n    </tr>\n    <tr>\n      <th>819633</th>\n      <td>255</td>\n      <td>109</td>\n    </tr>\n    <tr>\n      <th>482955</th>\n      <td>34</td>\n      <td>3</td>\n    </tr>\n    <tr>\n      <th>601257</th>\n      <td>74</td>\n      <td>35</td>\n    </tr>\n    <tr>\n      <th>490991</th>\n      <td>18</td>\n      <td>3</td>\n    </tr>\n    <tr>\n      <th>827324</th>\n      <td>598</td>\n      <td>72</td>\n    </tr>\n  </tbody>\n</table>\n<p>64707 rows × 2 columns</p>\n</div>"
     },
     "execution_count": 100,
     "metadata": {},
     "output_type": "execute_result"
    }
   ],
   "source": [
    "df_target[['fh_duur', 'aanntpl_fh_duur']]"
   ],
   "metadata": {
    "collapsed": false,
    "pycharm": {
     "name": "#%%\n"
    }
   }
  },
  {
   "cell_type": "markdown",
   "source": [
    "#### Uitschieters\n",
    "\n",
    "Zoals eerder beschreven tijdens de data understanding fase heeft ProRail laten weten vooral geïnteresseerd te zijn in de vertragingen waarvan de oorzakende storing maximaal één werkdag lang is.\n",
    "\n",
    "Daarom halen we alle rijen weg die **niet** een functieherstel duur hebben van kleiner dan of gelijk aan 360 minuten (6 uur).\n",
    "Hiermee wordt gelijk een groot gedeelte van de uitschieters verwijderd."
   ],
   "metadata": {
    "collapsed": false
   }
  },
  {
   "cell_type": "code",
   "execution_count": 101,
   "id": "1f44e82e",
   "metadata": {
    "pycharm": {
     "name": "#%%\n"
    }
   },
   "outputs": [],
   "source": [
    "df_target = df_target[(df_target['fh_duur'] <= 360) & (df_target['stm_fh_duur'] <= 360)]"
   ]
  },
  {
   "cell_type": "markdown",
   "id": "855488c5",
   "metadata": {
    "pycharm": {
     "name": "#%% md\n"
    }
   },
   "source": [
    "Omdat niet elk model gevoelig is voor uitschieters laten we de uitschieters die zijn overgebleven in de data zitten.\n",
    "De overgebleven outliers worden behandeld indien nodig voor een desbetreffend model tijdens de modelleringsfase."
   ]
  },
  {
   "cell_type": "markdown",
   "id": "eefdc657",
   "metadata": {
    "pycharm": {
     "name": "#%% md\n"
    }
   },
   "source": [
    "Ook worden alle rijen met een functieherstel tijd van 0 minuten verwijderd omdat dit geen vertragingen zijn."
   ]
  },
  {
   "cell_type": "code",
   "execution_count": 102,
   "id": "e1cc0cdc",
   "metadata": {
    "pycharm": {
     "name": "#%%\n"
    }
   },
   "outputs": [],
   "source": [
    "df_target = df_target[(df_target['fh_duur'] > 0) & (df_target['stm_fh_duur'] > 0)]"
   ]
  },
  {
   "cell_type": "markdown",
   "id": "4126faa0",
   "metadata": {
    "pycharm": {
     "name": "#%% md\n"
    }
   },
   "source": [
    "Als target willen we bepalen de duur van het moment dat een aannemer ter plaatse is tot het moment dat de functieherstel is afgerond.\n",
    "\n",
    "Het is handig om eerst te controleren of de aanntpl ddt altijd eerder is dan de fh ddt."
   ]
  },
  {
   "cell_type": "code",
   "execution_count": 103,
   "id": "05ad6ae4",
   "metadata": {
    "pycharm": {
     "name": "#%%\n"
    }
   },
   "outputs": [
    {
     "name": "stdout",
     "output_type": "stream",
     "text": [
      "154 Rijen waar de FH tijd eerder was dan de aannemer ter plaatse tijd\n"
     ]
    }
   ],
   "source": [
    "print(np.sum(df_target['stm_fh_ddt'] < df_target['stm_aanntpl_ddt']), 'Rijen waar de FH tijd eerder was dan de aannemer ter plaatse tijd')"
   ]
  },
  {
   "cell_type": "markdown",
   "id": "b3fb3225",
   "metadata": {
    "pycharm": {
     "name": "#%% md\n"
    }
   },
   "source": [
    "Deze rijen gaan we droppen, omdat we voorspellingen willen doen over vertragingen waar een aannemer ter plaatse kwam vóórdat de functie hersteltijd was."
   ]
  },
  {
   "cell_type": "code",
   "execution_count": 104,
   "id": "51d79adb",
   "metadata": {
    "pycharm": {
     "name": "#%%\n"
    }
   },
   "outputs": [],
   "source": [
    "df_target = df_target[df_target['stm_fh_ddt'] > df_target['stm_aanntpl_ddt']]"
   ]
  },
  {
   "cell_type": "markdown",
   "id": "cb2bd1af",
   "metadata": {
    "pycharm": {
     "name": "#%% md\n"
    }
   },
   "source": [
    "Waardes verwijderen van 0 of lager door dat de functieherstel tijd in de data eerder was dan het tijdstip dat de aannemer ter plaatse kwam volgens de data."
   ]
  },
  {
   "cell_type": "code",
   "execution_count": 105,
   "id": "66a51f04",
   "metadata": {
    "pycharm": {
     "name": "#%%\n"
    }
   },
   "outputs": [],
   "source": [
    "df_target = df_target[( df_target['aanntpl_fh_duur'] > 0 ) & ( df_target['aanntpl_fh_duur'] <= 360 )]"
   ]
  },
  {
   "cell_type": "markdown",
   "id": "6d41cd3c",
   "metadata": {
    "pycharm": {
     "name": "#%% md\n"
    }
   },
   "source": [
    "#### Target variabele gereed.\n",
    "Target variabele aantpl_fh_duur, de duur vanaf het moment dat de aannemer ter plaatse is tot de functieherstel tijd, is nu opgeschoond en de originele dataset kan worden gemerged. Om een nieuw dataframe te maken met alle kolommen maar alleen de rijen die zijn overgebleven na het huidige proces."
   ]
  },
  {
   "cell_type": "code",
   "execution_count": 106,
   "id": "220016ef",
   "metadata": {
    "pycharm": {
     "name": "#%%\n"
    }
   },
   "outputs": [],
   "source": [
    "dataset = df_target.copy()"
   ]
  },
  {
   "cell_type": "code",
   "execution_count": 107,
   "id": "f0fd5b87",
   "metadata": {
    "pycharm": {
     "name": "#%%\n"
    }
   },
   "outputs": [
    {
     "data": {
      "text/plain": "680751     34\n760628    235\n237571     52\n849077     33\n304567      6\n         ... \n372093     79\n819633    109\n482955      3\n601257     35\n490991      3\nName: aanntpl_fh_duur, Length: 46018, dtype: int32"
     },
     "execution_count": 107,
     "metadata": {},
     "output_type": "execute_result"
    }
   ],
   "source": [
    "dataset['aanntpl_fh_duur']"
   ]
  },
  {
   "cell_type": "markdown",
   "source": [
    "### Data Understanding\n",
    "\n",
    "Nu de target \"aanntpl_fh_duur\" is aangemaakt en we een accuratere totale FH_duur hebben gemaakt kunnen we opnieuwe een aantal stappen van data-understanding doorlopen."
   ],
   "metadata": {
    "collapsed": false,
    "pycharm": {
     "name": "#%% md\n"
    }
   }
  },
  {
   "cell_type": "code",
   "execution_count": 108,
   "outputs": [
    {
     "data": {
      "text/plain": "       aanntpl_fh_duur  fh_duur  stm_fh_duur\ncount          46018.0  46018.0      46018.0\nmean              49.0    108.0        105.0\nstd               56.0     83.0         82.0\nmin                1.0      1.0          1.0\n25%               11.0     46.0         44.0\n50%               30.0     88.0         85.0\n75%               64.0    151.0        148.0\nmax              358.0    360.0        360.0",
      "text/html": "<div>\n<style scoped>\n    .dataframe tbody tr th:only-of-type {\n        vertical-align: middle;\n    }\n\n    .dataframe tbody tr th {\n        vertical-align: top;\n    }\n\n    .dataframe thead th {\n        text-align: right;\n    }\n</style>\n<table border=\"1\" class=\"dataframe\">\n  <thead>\n    <tr style=\"text-align: right;\">\n      <th></th>\n      <th>aanntpl_fh_duur</th>\n      <th>fh_duur</th>\n      <th>stm_fh_duur</th>\n    </tr>\n  </thead>\n  <tbody>\n    <tr>\n      <th>count</th>\n      <td>46018.0</td>\n      <td>46018.0</td>\n      <td>46018.0</td>\n    </tr>\n    <tr>\n      <th>mean</th>\n      <td>49.0</td>\n      <td>108.0</td>\n      <td>105.0</td>\n    </tr>\n    <tr>\n      <th>std</th>\n      <td>56.0</td>\n      <td>83.0</td>\n      <td>82.0</td>\n    </tr>\n    <tr>\n      <th>min</th>\n      <td>1.0</td>\n      <td>1.0</td>\n      <td>1.0</td>\n    </tr>\n    <tr>\n      <th>25%</th>\n      <td>11.0</td>\n      <td>46.0</td>\n      <td>44.0</td>\n    </tr>\n    <tr>\n      <th>50%</th>\n      <td>30.0</td>\n      <td>88.0</td>\n      <td>85.0</td>\n    </tr>\n    <tr>\n      <th>75%</th>\n      <td>64.0</td>\n      <td>151.0</td>\n      <td>148.0</td>\n    </tr>\n    <tr>\n      <th>max</th>\n      <td>358.0</td>\n      <td>360.0</td>\n      <td>360.0</td>\n    </tr>\n  </tbody>\n</table>\n</div>"
     },
     "execution_count": 108,
     "metadata": {},
     "output_type": "execute_result"
    }
   ],
   "source": [
    "dataset[['aanntpl_fh_duur', 'fh_duur', 'stm_fh_duur']].describe().round()"
   ],
   "metadata": {
    "collapsed": false,
    "pycharm": {
     "name": "#%%\n"
    }
   }
  },
  {
   "cell_type": "markdown",
   "source": [
    "De verdeling van de functieherstel duur lijkt nu normaler, alles ligt tussen 1 en 360 minuten.\n",
    "Een gemiddelde van 109 minuten met een standaarddeviatie van 83. De al beschikbare kolom voor stm_fh_duur die we als eerst hebben onderzocht lijkt qua spreidings-en centrum maten erg op onze eigen kolom voor fh_duur.\n",
    "We nemen onze eigen gemaakte kolom als de daadwerkelijke fh_duur omdat we hiervan weten hoe de duur is uitgerekend.\n",
    "Ook zien we nu de centrums-spreiding maten van de target variabele aanntpl_fh_duur, de fh_duur vanaf het moment dat de aannemer ter plaatse is.\n",
    "De fh duur vanaf dit moment lijkt zoals naar verwachting lager en zitten meer strak verdeeld om het gemiddelde te zien aan de lagere standaarddeviatie.\n",
    "Het gemiddelde ligt rond de 49 met een standaarddeviatie van 56. De minimale, maximale observatie zijn 1 en 358.\n",
    "De mediaan oftwel de meest voorkomende is 30 min, 75% van de storingen lijken binnen ongeveer 65 minuten opgelost te zijn vanaf het moment dat de aannemer ter plaatse is."
   ],
   "metadata": {
    "collapsed": false,
    "pycharm": {
     "name": "#%% md\n"
    }
   }
  },
  {
   "cell_type": "markdown",
   "source": [
    "We plotten opnieuw een histogram om de verdeling te zien van de opgeschoonde fh_duur en de target variabele aanntpl_fh_duur."
   ],
   "metadata": {
    "collapsed": false,
    "pycharm": {
     "name": "#%% md\n"
    }
   }
  },
  {
   "cell_type": "code",
   "execution_count": 109,
   "outputs": [
    {
     "data": {
      "text/plain": "<Figure size 360x360 with 1 Axes>",
      "image/png": "[encoded data removed]"
     },
     "metadata": {
      "needs_background": "light"
     },
     "output_type": "display_data"
    }
   ],
   "source": [
    "dataset['aanntpl_fh_duur'].hist(figsize=(7,7), bins=40, alpha = 1, color='blue') # hist\n",
    "dataset['fh_duur'].hist(figsize=(5,5), bins=40,alpha = 0.6, color='red') # hist\n",
    "\n",
    "\n",
    "plt.axvline(dataset['fh_duur'].mean(), color='red', linestyle='dashed', linewidth=2) # add mean line\n",
    "plt.axvline(dataset['aanntpl_fh_duur'].mean(), color='blue', linestyle='dashed', linewidth=2) # add mean line\n",
    "\n",
    "plt.legend([\"Gemiddelde FH duur.\", \"Gemiddelde aanntpl FH duur\", \"aanntpl_fh_duur.\", \"fh_duur\"], loc=\"upper right\") # legend\n",
    "plt.title(\"(aanntpl-)FH duur vs Aantal observaties.\"), plt.xlabel(\"Minuten\"), plt.ylabel(\"Aantal observaties.\") # title, x & y labels\n",
    "\n",
    "plt.show()"
   ],
   "metadata": {
    "collapsed": false,
    "pycharm": {
     "name": "#%%\n"
    }
   }
  },
  {
   "cell_type": "markdown",
   "source": [
    "In het blauw is de fh duur te zien vanaf aanntpl en in het rood de totale fh duur.\n",
    "De fh duur vanaf aanntpl heeft een exponentiële verdeling. En totale fh duur lijkt een rechts-scheve lognormale verdeeld te zijn."
   ],
   "metadata": {
    "collapsed": false,
    "pycharm": {
     "name": "#%% md\n"
    }
   }
  },
  {
   "cell_type": "markdown",
   "id": "1281aac4",
   "metadata": {
    "pycharm": {
     "name": "#%% md\n"
    }
   },
   "source": [
    "### Baseline Model\n",
    "\n",
    "Het is belangrijk om een baseline te hebben. Dit is een rudimentaire voorspelling, die we als lat leggen voor onze andere modellen.\n",
    "Omdat het meetniveau van de target variabele continue is wordt voor een uiteindelijk een regressie model gebruikt. Voor een baseline voor een regressie model kunnen we een centrummaat zoals het gemiddelde of de mediaan."
   ]
  },
  {
   "cell_type": "markdown",
   "id": "1235f52c",
   "metadata": {
    "pycharm": {
     "name": "#%% md\n"
    }
   },
   "source": [
    "##### Het splitsen van de dataset\n",
    "We splitsen de data op in een train- en testset."
   ]
  },
  {
   "cell_type": "code",
   "execution_count": 110,
   "id": "ad7f1a27",
   "metadata": {
    "pycharm": {
     "name": "#%%\n"
    }
   },
   "outputs": [],
   "source": [
    "target = 'aanntpl_fh_duur'\n",
    "X = dataset.drop(target ,axis=1)\n",
    "y = dataset[target]\n",
    "X_train, X_test, y_train, y_test = train_test_split(X, y, random_state=0)"
   ]
  },
  {
   "cell_type": "markdown",
   "id": "4a056418",
   "metadata": {
    "pycharm": {
     "name": "#%% md\n"
    }
   },
   "source": [
    "#### Baseline model maken en fitten\n",
    "Als baseline strategy raden we steeds het gemiddelde van onze nieuwe targetkolom, aanntpl_fh_duur."
   ]
  },
  {
   "cell_type": "code",
   "execution_count": 111,
   "id": "d99b2092",
   "metadata": {
    "pycharm": {
     "name": "#%%\n"
    }
   },
   "outputs": [],
   "source": [
    "baseline = DummyRegressor(strategy = 'mean').fit(X_train, y_train)"
   ]
  },
  {
   "cell_type": "code",
   "execution_count": 112,
   "id": "a3ff486c",
   "metadata": {
    "pycharm": {
     "name": "#%%\n"
    }
   },
   "outputs": [],
   "source": [
    "y_predict = baseline.predict(X_test)"
   ]
  },
  {
   "cell_type": "code",
   "execution_count": 113,
   "id": "f2a7f0cf",
   "metadata": {
    "pycharm": {
     "name": "#%%\n"
    }
   },
   "outputs": [
    {
     "data": {
      "text/plain": "<Figure size 432x288 with 1 Axes>",
      "image/png": "[encoded data removed]"
     },
     "metadata": {
      "needs_background": "light"
     },
     "output_type": "display_data"
    },
    {
     "name": "stdout",
     "output_type": "stream",
     "text": [
      " RMSE Baseline model: 57\n"
     ]
    }
   ],
   "source": [
    "plt.plot(y_predict, c='r', linewidth=3)\n",
    "plt.scatter(x=np.arange(len(X_test)), y=y_test, s=1)\n",
    "\n",
    "plt.title(\"Baseline voorspelling tegen de echte waardes\")\n",
    "plt.xlabel(\"Datapunt\")\n",
    "plt.ylabel(\"Herstelduur vanaf aannemer ter plaatse\")\n",
    "plt.legend([\"Baseline\", \"Actual value\"], loc=\"upper right\")\n",
    "plt.show()\n",
    "\n",
    "baseline_rmse = round(mean_squared_error(y_test, y_predict, squared=False))\n",
    "print(f\" RMSE Baseline model: {baseline_rmse}\")"
   ]
  },
  {
   "cell_type": "markdown",
   "id": "bfa33584",
   "metadata": {
    "pycharm": {
     "name": "#%% md\n"
    }
   },
   "source": [
    "Voor elke voorspelling die we doen, door het gemiddelde steeds te raden, zitten we er gemiddeld 57 naast. Dit is een lange tijd maar dat is ook te verwachten, zoals in de grafiek te zien. De spreiding van de punten is erg verdeeld ten opzichte van de rode lijn, onze voorspelling."
   ]
  },
  {
   "cell_type": "markdown",
   "id": "4c0023d3",
   "metadata": {
    "pycharm": {
     "name": "#%% md\n"
    }
   },
   "source": [
    "### Business Understanding\n",
    "\n",
    "In het interview met ProRail hebben we gevraagd naar de mogelijk belangrijke attributen die mee kunnen helpen bij het voorspellen van de functiehersteltijd.\n",
    "Hierop kregen we de volgende paar attributen:\n",
    "    - Type storing.\n",
    "    - Tijdstip dat de aannemer ter plaatse er is.\n",
    "    - Prognose van de storingsduur.\n",
    "    - Misschien het contractgebied en aannemer.\n",
    "\n",
    "De laatste twee attributen contractgebied en aannemer houden we voor het eerste model buiten beschouwing."
   ]
  },
  {
   "cell_type": "markdown",
   "id": "34f052ea",
   "metadata": {
    "pycharm": {
     "name": "#%% md\n"
    }
   },
   "source": [
    "### Data understanding model 1\n",
    "\n",
    "Met behulp van de [data dictionary](https://canvas.hu.nl/courses/27143/pages/data?module_item_id=588747) hebben we de volgende kolommen gevonden die overeen lijken te komen met de mogelijk belangrijke attributen volgens ProRail.\n",
    "\n",
    "Namelijk de volgende kolommen:\n",
    "-tm_oorz_code, Oorzaak code\n",
    "-stm_aanntpl_ddt, Aannemer ter plaatse datumtijd\n",
    "-stm_progfh_in_ddt, Prognose functieherstel datumtijd\n",
    "\n",
    "We willen hier de volgende features van maken:\n",
    "- Oorzaak code.\n",
    "- Dagdeel aannemer ter plaatse (bijv s'ochtends).\n",
    "- Functieherstel duur prognose vanaf het moment dat de aannemer ter plaatse is."
   ]
  },
  {
   "cell_type": "markdown",
   "source": [
    "Eerst maken we een aparte lijst met feature namen waarmee we ons onderzoek voor het eerste model gaan doen."
   ],
   "metadata": {
    "collapsed": false
   }
  },
  {
   "cell_type": "code",
   "execution_count": 114,
   "outputs": [],
   "source": [
    "m1_cols = ['stm_oorz_code', 'stm_aanntpl_ddt', 'stm_progfh_in_ddt', target]"
   ],
   "metadata": {
    "collapsed": false,
    "pycharm": {
     "name": "#%%\n"
    }
   }
  },
  {
   "cell_type": "code",
   "execution_count": 115,
   "outputs": [
    {
     "data": {
      "text/plain": "        stm_oorz_code     stm_aanntpl_ddt   stm_progfh_in_ddt  aanntpl_fh_duur\n680751          149.0 2015-01-30 18:46:00 2015-01-30 19:45:00               34\n760628          221.0 2016-04-20 08:25:39                 NaT              235\n237571          241.0 2006-08-06 11:27:00 2006-08-06 12:27:00               52\n849077          145.0 2017-09-19 13:00:01 2017-09-26 13:31:00               33\n304567          181.0 2008-05-06 12:01:00 2008-05-06 12:01:00                6",
      "text/html": "<div>\n<style scoped>\n    .dataframe tbody tr th:only-of-type {\n        vertical-align: middle;\n    }\n\n    .dataframe tbody tr th {\n        vertical-align: top;\n    }\n\n    .dataframe thead th {\n        text-align: right;\n    }\n</style>\n<table border=\"1\" class=\"dataframe\">\n  <thead>\n    <tr style=\"text-align: right;\">\n      <th></th>\n      <th>stm_oorz_code</th>\n      <th>stm_aanntpl_ddt</th>\n      <th>stm_progfh_in_ddt</th>\n      <th>aanntpl_fh_duur</th>\n    </tr>\n  </thead>\n  <tbody>\n    <tr>\n      <th>680751</th>\n      <td>149.0</td>\n      <td>2015-01-30 18:46:00</td>\n      <td>2015-01-30 19:45:00</td>\n      <td>34</td>\n    </tr>\n    <tr>\n      <th>760628</th>\n      <td>221.0</td>\n      <td>2016-04-20 08:25:39</td>\n      <td>NaT</td>\n      <td>235</td>\n    </tr>\n    <tr>\n      <th>237571</th>\n      <td>241.0</td>\n      <td>2006-08-06 11:27:00</td>\n      <td>2006-08-06 12:27:00</td>\n      <td>52</td>\n    </tr>\n    <tr>\n      <th>849077</th>\n      <td>145.0</td>\n      <td>2017-09-19 13:00:01</td>\n      <td>2017-09-26 13:31:00</td>\n      <td>33</td>\n    </tr>\n    <tr>\n      <th>304567</th>\n      <td>181.0</td>\n      <td>2008-05-06 12:01:00</td>\n      <td>2008-05-06 12:01:00</td>\n      <td>6</td>\n    </tr>\n  </tbody>\n</table>\n</div>"
     },
     "execution_count": 115,
     "metadata": {},
     "output_type": "execute_result"
    }
   ],
   "source": [
    "dataset[m1_cols].head(5)"
   ],
   "metadata": {
    "collapsed": false,
    "pycharm": {
     "name": "#%%\n"
    }
   }
  },
  {
   "cell_type": "markdown",
   "source": [
    "Oorzaak code lijkt een getal te zijn, in de data dictionary staat beschreven welke oorzaak hoort bij welke code.\n",
    "De aannemer ter plaatse en de prognose zijn beide een datum-tijdstippen."
   ],
   "metadata": {
    "collapsed": false,
    "pycharm": {
     "name": "#%% md\n"
    }
   }
  },
  {
   "cell_type": "markdown",
   "source": [
    "### Meetniveaus"
   ],
   "metadata": {
    "collapsed": false,
    "pycharm": {
     "name": "#%% md\n"
    }
   }
  },
  {
   "cell_type": "code",
   "execution_count": 116,
   "outputs": [
    {
     "data": {
      "text/plain": "               Kolom Meetniveau\n0      stm_oorz_code   Nominaal\n1    stm_aanntpl_ddt   Continue\n2  stm_progfh_in_ddt   Continue\n3    aanntpl_fh_duur   Continue",
      "text/html": "<div>\n<style scoped>\n    .dataframe tbody tr th:only-of-type {\n        vertical-align: middle;\n    }\n\n    .dataframe tbody tr th {\n        vertical-align: top;\n    }\n\n    .dataframe thead th {\n        text-align: right;\n    }\n</style>\n<table border=\"1\" class=\"dataframe\">\n  <thead>\n    <tr style=\"text-align: right;\">\n      <th></th>\n      <th>Kolom</th>\n      <th>Meetniveau</th>\n    </tr>\n  </thead>\n  <tbody>\n    <tr>\n      <th>0</th>\n      <td>stm_oorz_code</td>\n      <td>Nominaal</td>\n    </tr>\n    <tr>\n      <th>1</th>\n      <td>stm_aanntpl_ddt</td>\n      <td>Continue</td>\n    </tr>\n    <tr>\n      <th>2</th>\n      <td>stm_progfh_in_ddt</td>\n      <td>Continue</td>\n    </tr>\n    <tr>\n      <th>3</th>\n      <td>aanntpl_fh_duur</td>\n      <td>Continue</td>\n    </tr>\n  </tbody>\n</table>\n</div>"
     },
     "execution_count": 116,
     "metadata": {},
     "output_type": "execute_result"
    }
   ],
   "source": [
    "pd.DataFrame({'Kolom': m1_cols, 'Meetniveau': ['Nominaal', 'Continue', 'Continue', 'Continue']})"
   ],
   "metadata": {
    "collapsed": false,
    "pycharm": {
     "name": "#%%\n"
    }
   }
  },
  {
   "cell_type": "markdown",
   "source": [
    "#### Centrum-en spreiding maten\n",
    "\n",
    "Laten we de oorzaak codes grouperen en kijken hoelang een storing gemiddeld duurd bij behorend storingcode."
   ],
   "metadata": {
    "collapsed": false,
    "pycharm": {
     "name": "#%% md\n"
    }
   }
  },
  {
   "cell_type": "code",
   "execution_count": 121,
   "outputs": [
    {
     "data": {
      "text/plain": "       aanntpl_fh_duur  count\n202.0         2.000000      1\n298.0        11.949969   1639\n239.0        20.888889      9\n299.0        20.949580    238\n225.0        25.864333    914\n148.0        29.011696    171\n134.0        29.500000     10\n143.0        32.189127   1306\n145.0        34.152654   2129\n136.0        35.500000      2\n146.0        36.042918    466\n242.0        38.883333     60\n147.0        42.152888    883\n141.0        42.460000     50\n294.0        42.945025   2583\n182.0        43.319372    382\n218.0        43.592872   5163\n151.0        43.684764   2284\n149.0        44.306991    329\n130.0        45.000000      9\n250.0        45.043478     46\n183.0        45.314286    455\n241.0        45.465347    404\n135.0        47.243412   2239\n184.0        47.948052    385\n212.0        48.484751    623\n229.0        49.846939     98\n228.0        50.386792    212\n210.0        50.786667     75\n132.0        51.241935    124\n201.0        51.277778     90\n204.0        51.653846     52\n150.0        51.768293    328\n219.0        52.568733    371\n222.0        52.874126    143\n999.0        53.500000      4\n234.0        53.540541     37\n221.0        53.906672   7629\n235.0        54.000000     17\n220.0        54.258427    178\n213.0        54.518219    988\n226.0        54.568106    301\n240.0        55.250000    108\n186.0        55.318033    305\n133.0        56.006032   2155\n142.0        56.777778     27\n188.0        56.842105     57\n203.0        57.840136    588\n223.0        58.189655    174\n187.0        59.044025    159\n231.0        59.473684     19\n209.0        59.746212    264\n185.0        60.365854     41\n208.0        60.981818     55\n140.0        61.309800    949\n211.0        61.681319     91\n230.0        62.152632    380\n205.0        63.000000      1\n215.0        64.547021   4817\n181.0        65.933862    378\n207.0        67.647482    417\n214.0        67.654206    214\n131.0        68.250000      8\n227.0        68.443686    293\n154.0        70.722222    198\n206.0        72.333333      6\n224.0        79.595238     42\n144.0        80.898551    138\n189.0        83.700000     10\n233.0       105.000000      2",
      "text/html": "<div>\n<style scoped>\n    .dataframe tbody tr th:only-of-type {\n        vertical-align: middle;\n    }\n\n    .dataframe tbody tr th {\n        vertical-align: top;\n    }\n\n    .dataframe thead th {\n        text-align: right;\n    }\n</style>\n<table border=\"1\" class=\"dataframe\">\n  <thead>\n    <tr style=\"text-align: right;\">\n      <th></th>\n      <th>aanntpl_fh_duur</th>\n      <th>count</th>\n    </tr>\n  </thead>\n  <tbody>\n    <tr>\n      <th>202.0</th>\n      <td>2.000000</td>\n      <td>1</td>\n    </tr>\n    <tr>\n      <th>298.0</th>\n      <td>11.949969</td>\n      <td>1639</td>\n    </tr>\n    <tr>\n      <th>239.0</th>\n      <td>20.888889</td>\n      <td>9</td>\n    </tr>\n    <tr>\n      <th>299.0</th>\n      <td>20.949580</td>\n      <td>238</td>\n    </tr>\n    <tr>\n      <th>225.0</th>\n      <td>25.864333</td>\n      <td>914</td>\n    </tr>\n    <tr>\n      <th>148.0</th>\n      <td>29.011696</td>\n      <td>171</td>\n    </tr>\n    <tr>\n      <th>134.0</th>\n      <td>29.500000</td>\n      <td>10</td>\n    </tr>\n    <tr>\n      <th>143.0</th>\n      <td>32.189127</td>\n      <td>1306</td>\n    </tr>\n    <tr>\n      <th>145.0</th>\n      <td>34.152654</td>\n      <td>2129</td>\n    </tr>\n    <tr>\n      <th>136.0</th>\n      <td>35.500000</td>\n      <td>2</td>\n    </tr>\n    <tr>\n      <th>146.0</th>\n      <td>36.042918</td>\n      <td>466</td>\n    </tr>\n    <tr>\n      <th>242.0</th>\n      <td>38.883333</td>\n      <td>60</td>\n    </tr>\n    <tr>\n      <th>147.0</th>\n      <td>42.152888</td>\n      <td>883</td>\n    </tr>\n    <tr>\n      <th>141.0</th>\n      <td>42.460000</td>\n      <td>50</td>\n    </tr>\n    <tr>\n      <th>294.0</th>\n      <td>42.945025</td>\n      <td>2583</td>\n    </tr>\n    <tr>\n      <th>182.0</th>\n      <td>43.319372</td>\n      <td>382</td>\n    </tr>\n    <tr>\n      <th>218.0</th>\n      <td>43.592872</td>\n      <td>5163</td>\n    </tr>\n    <tr>\n      <th>151.0</th>\n      <td>43.684764</td>\n      <td>2284</td>\n    </tr>\n    <tr>\n      <th>149.0</th>\n      <td>44.306991</td>\n      <td>329</td>\n    </tr>\n    <tr>\n      <th>130.0</th>\n      <td>45.000000</td>\n      <td>9</td>\n    </tr>\n    <tr>\n      <th>250.0</th>\n      <td>45.043478</td>\n      <td>46</td>\n    </tr>\n    <tr>\n      <th>183.0</th>\n      <td>45.314286</td>\n      <td>455</td>\n    </tr>\n    <tr>\n      <th>241.0</th>\n      <td>45.465347</td>\n      <td>404</td>\n    </tr>\n    <tr>\n      <th>135.0</th>\n      <td>47.243412</td>\n      <td>2239</td>\n    </tr>\n    <tr>\n      <th>184.0</th>\n      <td>47.948052</td>\n      <td>385</td>\n    </tr>\n    <tr>\n      <th>212.0</th>\n      <td>48.484751</td>\n      <td>623</td>\n    </tr>\n    <tr>\n      <th>229.0</th>\n      <td>49.846939</td>\n      <td>98</td>\n    </tr>\n    <tr>\n      <th>228.0</th>\n      <td>50.386792</td>\n      <td>212</td>\n    </tr>\n    <tr>\n      <th>210.0</th>\n      <td>50.786667</td>\n      <td>75</td>\n    </tr>\n    <tr>\n      <th>132.0</th>\n      <td>51.241935</td>\n      <td>124</td>\n    </tr>\n    <tr>\n      <th>201.0</th>\n      <td>51.277778</td>\n      <td>90</td>\n    </tr>\n    <tr>\n      <th>204.0</th>\n      <td>51.653846</td>\n      <td>52</td>\n    </tr>\n    <tr>\n      <th>150.0</th>\n      <td>51.768293</td>\n      <td>328</td>\n    </tr>\n    <tr>\n      <th>219.0</th>\n      <td>52.568733</td>\n      <td>371</td>\n    </tr>\n    <tr>\n      <th>222.0</th>\n      <td>52.874126</td>\n      <td>143</td>\n    </tr>\n    <tr>\n      <th>999.0</th>\n      <td>53.500000</td>\n      <td>4</td>\n    </tr>\n    <tr>\n      <th>234.0</th>\n      <td>53.540541</td>\n      <td>37</td>\n    </tr>\n    <tr>\n      <th>221.0</th>\n      <td>53.906672</td>\n      <td>7629</td>\n    </tr>\n    <tr>\n      <th>235.0</th>\n      <td>54.000000</td>\n      <td>17</td>\n    </tr>\n    <tr>\n      <th>220.0</th>\n      <td>54.258427</td>\n      <td>178</td>\n    </tr>\n    <tr>\n      <th>213.0</th>\n      <td>54.518219</td>\n      <td>988</td>\n    </tr>\n    <tr>\n      <th>226.0</th>\n      <td>54.568106</td>\n      <td>301</td>\n    </tr>\n    <tr>\n      <th>240.0</th>\n      <td>55.250000</td>\n      <td>108</td>\n    </tr>\n    <tr>\n      <th>186.0</th>\n      <td>55.318033</td>\n      <td>305</td>\n    </tr>\n    <tr>\n      <th>133.0</th>\n      <td>56.006032</td>\n      <td>2155</td>\n    </tr>\n    <tr>\n      <th>142.0</th>\n      <td>56.777778</td>\n      <td>27</td>\n    </tr>\n    <tr>\n      <th>188.0</th>\n      <td>56.842105</td>\n      <td>57</td>\n    </tr>\n    <tr>\n      <th>203.0</th>\n      <td>57.840136</td>\n      <td>588</td>\n    </tr>\n    <tr>\n      <th>223.0</th>\n      <td>58.189655</td>\n      <td>174</td>\n    </tr>\n    <tr>\n      <th>187.0</th>\n      <td>59.044025</td>\n      <td>159</td>\n    </tr>\n    <tr>\n      <th>231.0</th>\n      <td>59.473684</td>\n      <td>19</td>\n    </tr>\n    <tr>\n      <th>209.0</th>\n      <td>59.746212</td>\n      <td>264</td>\n    </tr>\n    <tr>\n      <th>185.0</th>\n      <td>60.365854</td>\n      <td>41</td>\n    </tr>\n    <tr>\n      <th>208.0</th>\n      <td>60.981818</td>\n      <td>55</td>\n    </tr>\n    <tr>\n      <th>140.0</th>\n      <td>61.309800</td>\n      <td>949</td>\n    </tr>\n    <tr>\n      <th>211.0</th>\n      <td>61.681319</td>\n      <td>91</td>\n    </tr>\n    <tr>\n      <th>230.0</th>\n      <td>62.152632</td>\n      <td>380</td>\n    </tr>\n    <tr>\n      <th>205.0</th>\n      <td>63.000000</td>\n      <td>1</td>\n    </tr>\n    <tr>\n      <th>215.0</th>\n      <td>64.547021</td>\n      <td>4817</td>\n    </tr>\n    <tr>\n      <th>181.0</th>\n      <td>65.933862</td>\n      <td>378</td>\n    </tr>\n    <tr>\n      <th>207.0</th>\n      <td>67.647482</td>\n      <td>417</td>\n    </tr>\n    <tr>\n      <th>214.0</th>\n      <td>67.654206</td>\n      <td>214</td>\n    </tr>\n    <tr>\n      <th>131.0</th>\n      <td>68.250000</td>\n      <td>8</td>\n    </tr>\n    <tr>\n      <th>227.0</th>\n      <td>68.443686</td>\n      <td>293</td>\n    </tr>\n    <tr>\n      <th>154.0</th>\n      <td>70.722222</td>\n      <td>198</td>\n    </tr>\n    <tr>\n      <th>206.0</th>\n      <td>72.333333</td>\n      <td>6</td>\n    </tr>\n    <tr>\n      <th>224.0</th>\n      <td>79.595238</td>\n      <td>42</td>\n    </tr>\n    <tr>\n      <th>144.0</th>\n      <td>80.898551</td>\n      <td>138</td>\n    </tr>\n    <tr>\n      <th>189.0</th>\n      <td>83.700000</td>\n      <td>10</td>\n    </tr>\n    <tr>\n      <th>233.0</th>\n      <td>105.000000</td>\n      <td>2</td>\n    </tr>\n  </tbody>\n</table>\n</div>"
     },
     "execution_count": 121,
     "metadata": {},
     "output_type": "execute_result"
    }
   ],
   "source": [
    "oorz_grouped = pd.DataFrame({target:dataset.groupby(by='stm_oorz_code').mean()[target], 'count':dataset['stm_oorz_code'].value_counts()}).sort_values(by=target)\n",
    "oorz_grouped"
   ],
   "metadata": {
    "collapsed": false,
    "pycharm": {
     "name": "#%%\n"
    }
   }
  },
  {
   "cell_type": "markdown",
   "source": [
    "Alle oorzaak codes lijken op eerste blik vergelijkbaar te zijn met de oorzaak codes in de data dictionary.\n",
    "Wel valt op dat er in de dataset een oorzaak code 999 is. Deze bestaat niet in de data dictionary, en zal later behandelt moeten worden tijdens de data preparation fase."
   ],
   "metadata": {
    "collapsed": false
   }
  },
  {
   "cell_type": "markdown",
   "source": [
    "Laten we de oorzaak codes bekijken die voor de kortste reparatie zorgen."
   ],
   "metadata": {
    "collapsed": false,
    "pycharm": {
     "name": "#%% md\n"
    }
   }
  },
  {
   "cell_type": "code",
   "execution_count": 122,
   "outputs": [
    {
     "data": {
      "text/plain": "       aanntpl_fh_duur  count\n202.0         2.000000      1\n298.0        11.949969   1639\n239.0        20.888889      9\n299.0        20.949580    238\n225.0        25.864333    914",
      "text/html": "<div>\n<style scoped>\n    .dataframe tbody tr th:only-of-type {\n        vertical-align: middle;\n    }\n\n    .dataframe tbody tr th {\n        vertical-align: top;\n    }\n\n    .dataframe thead th {\n        text-align: right;\n    }\n</style>\n<table border=\"1\" class=\"dataframe\">\n  <thead>\n    <tr style=\"text-align: right;\">\n      <th></th>\n      <th>aanntpl_fh_duur</th>\n      <th>count</th>\n    </tr>\n  </thead>\n  <tbody>\n    <tr>\n      <th>202.0</th>\n      <td>2.000000</td>\n      <td>1</td>\n    </tr>\n    <tr>\n      <th>298.0</th>\n      <td>11.949969</td>\n      <td>1639</td>\n    </tr>\n    <tr>\n      <th>239.0</th>\n      <td>20.888889</td>\n      <td>9</td>\n    </tr>\n    <tr>\n      <th>299.0</th>\n      <td>20.949580</td>\n      <td>238</td>\n    </tr>\n    <tr>\n      <th>225.0</th>\n      <td>25.864333</td>\n      <td>914</td>\n    </tr>\n  </tbody>\n</table>\n</div>"
     },
     "execution_count": 122,
     "metadata": {},
     "output_type": "execute_result"
    }
   ],
   "source": [
    "oorz_grouped.head(5)"
   ],
   "metadata": {
    "collapsed": false,
    "pycharm": {
     "name": "#%%\n"
    }
   }
  },
  {
   "cell_type": "markdown",
   "source": [
    "Oorzaken die vanaf aannemer ter plaatse de kortste hersteltijd hebben:\n",
    "- 202: Golfslijtage\n",
    "- 298: Geenonderzoek\n",
    "- 299: Nietgemeld\n",
    "- 239: Omhoogwerken/verschuiven\n",
    "- 225: Doorbranden\n",
    "\n",
    "En ook de ooraak codes die voor de langste reparatie duur zorgen."
   ],
   "metadata": {
    "collapsed": false,
    "pycharm": {
     "name": "#%% md\n"
    }
   }
  },
  {
   "cell_type": "code",
   "execution_count": 123,
   "outputs": [
    {
     "data": {
      "text/plain": "       aanntpl_fh_duur  count\n206.0        72.333333      6\n224.0        79.595238     42\n144.0        80.898551    138\n189.0        83.700000     10\n233.0       105.000000      2",
      "text/html": "<div>\n<style scoped>\n    .dataframe tbody tr th:only-of-type {\n        vertical-align: middle;\n    }\n\n    .dataframe tbody tr th {\n        vertical-align: top;\n    }\n\n    .dataframe thead th {\n        text-align: right;\n    }\n</style>\n<table border=\"1\" class=\"dataframe\">\n  <thead>\n    <tr style=\"text-align: right;\">\n      <th></th>\n      <th>aanntpl_fh_duur</th>\n      <th>count</th>\n    </tr>\n  </thead>\n  <tbody>\n    <tr>\n      <th>206.0</th>\n      <td>72.333333</td>\n      <td>6</td>\n    </tr>\n    <tr>\n      <th>224.0</th>\n      <td>79.595238</td>\n      <td>42</td>\n    </tr>\n    <tr>\n      <th>144.0</th>\n      <td>80.898551</td>\n      <td>138</td>\n    </tr>\n    <tr>\n      <th>189.0</th>\n      <td>83.700000</td>\n      <td>10</td>\n    </tr>\n    <tr>\n      <th>233.0</th>\n      <td>105.000000</td>\n      <td>2</td>\n    </tr>\n  </tbody>\n</table>\n</div>"
     },
     "execution_count": 123,
     "metadata": {},
     "output_type": "execute_result"
    }
   ],
   "source": [
    "oorz_grouped.tail(5)"
   ],
   "metadata": {
    "collapsed": false,
    "pycharm": {
     "name": "#%%\n"
    }
   }
  },
  {
   "cell_type": "markdown",
   "source": [
    "Oorzaken die vanaf aannemer ter plaatse de langste hersteltijd hebben:\n",
    "- 233: Katterug\n",
    "- 189: Gladdesporen(bladval/chemicalien)\n",
    "- 144: Openrijden/kapotrijden\n",
    "- 224: Overspanning\n",
    "- 206: Inrijden"
   ],
   "metadata": {
    "collapsed": false,
    "pycharm": {
     "name": "#%% md\n"
    }
   }
  },
  {
   "cell_type": "markdown",
   "source": [
    "### Data preparation model 1\n",
    "\n",
    "Voordat we de features kunnen analyseren moeten ze eerst aangemaakt worden.\n",
    "Daarvoor moeten eerst de kolommen stm_oorz_code en stm_progfh_in_ddt opgeschoond worden. De kolom stm_aanntpl_ddt en de target variabele zelf zijn al schoon gemaakt tijdens het data preparation process om de target variabele aan te maken.\n",
    "\n",
    "##### dtypes\n",
    "Eerst worden de dtypes gecontroleerd."
   ],
   "metadata": {
    "collapsed": false,
    "pycharm": {
     "name": "#%% md\n"
    }
   }
  },
  {
   "cell_type": "code",
   "execution_count": 124,
   "outputs": [],
   "source": [
    "df_m1 = dataset.copy()"
   ],
   "metadata": {
    "collapsed": false,
    "pycharm": {
     "name": "#%%\n"
    }
   }
  },
  {
   "cell_type": "code",
   "execution_count": 125,
   "outputs": [
    {
     "data": {
      "text/plain": "stm_oorz_code               float64\nstm_progfh_in_ddt    datetime64[ns]\ndtype: object"
     },
     "execution_count": 125,
     "metadata": {},
     "output_type": "execute_result"
    }
   ],
   "source": [
    "df_m1[['stm_oorz_code', 'stm_progfh_in_ddt']].dtypes"
   ],
   "metadata": {
    "collapsed": false,
    "pycharm": {
     "name": "#%%\n"
    }
   }
  },
  {
   "cell_type": "markdown",
   "source": [
    "Kolom stm_progfh_in_ddt is al van het juiste type gemaakt, tijdens een eerdere fase zijn alle kolommen die te maken hebben met datum-tijd omgezet naar het juiste type.\n",
    "De kolom stm_oorz_code is van het type float64, de oorzaak code is een getal maar we willen het als label beschouwen omdat er geen volgorde/betekenis zit in het verschil tussen de oorzaak codes zelf.\n",
    "\n",
    "Oorzaak code wordt daarom categoriaal gemaakt.\n",
    "Voordat we dit doen laten we ook nog de oorzaak code 999 er uithalen die tijdens de data understanding fase is ontdekt."
   ],
   "metadata": {
    "collapsed": false,
    "pycharm": {
     "name": "#%% md\n"
    }
   }
  },
  {
   "cell_type": "code",
   "execution_count": 126,
   "outputs": [
    {
     "data": {
      "text/plain": "4"
     },
     "execution_count": 126,
     "metadata": {},
     "output_type": "execute_result"
    }
   ],
   "source": [
    "(df_m1['stm_oorz_code'] == 999).sum()"
   ],
   "metadata": {
    "collapsed": false,
    "pycharm": {
     "name": "#%%\n"
    }
   }
  },
  {
   "cell_type": "code",
   "execution_count": 127,
   "outputs": [],
   "source": [
    "df_m1 = df_m1[(df_m1['stm_oorz_code'] != 999)] # keep all values other then 999"
   ],
   "metadata": {
    "collapsed": false,
    "pycharm": {
     "name": "#%%\n"
    }
   }
  },
  {
   "cell_type": "code",
   "execution_count": 128,
   "outputs": [],
   "source": [
    "df_m1['stm_oorz_code'] = df_m1['stm_oorz_code'].astype('category') # convert type to category"
   ],
   "metadata": {
    "collapsed": false,
    "pycharm": {
     "name": "#%%\n"
    }
   }
  },
  {
   "cell_type": "markdown",
   "source": [
    "NA's controleren"
   ],
   "metadata": {
    "collapsed": false,
    "pycharm": {
     "name": "#%% md\n"
    }
   }
  },
  {
   "cell_type": "code",
   "execution_count": 129,
   "outputs": [
    {
     "data": {
      "text/plain": "695"
     },
     "execution_count": 129,
     "metadata": {},
     "output_type": "execute_result"
    }
   ],
   "source": [
    "df_m1['stm_oorz_code'].isna().sum()"
   ],
   "metadata": {
    "collapsed": false,
    "pycharm": {
     "name": "#%%\n"
    }
   }
  },
  {
   "cell_type": "markdown",
   "source": [
    "Er zijn een aantal Na waardes als oorzaak code.\n",
    "Uit de data dictionary blijken er geen andere kolommen te zijn waar we de oorzaak code staat vermeld. We gaan er vanuit dat in deze gevallen er geen oorzaak code is gemeld.\n",
    "Daarom de Na waardes vervangen door de oorzaakscode 299 : Nietgemeld"
   ],
   "metadata": {
    "collapsed": false,
    "pycharm": {
     "name": "#%% md\n"
    }
   }
  },
  {
   "cell_type": "code",
   "execution_count": 130,
   "outputs": [],
   "source": [
    "df_m1['stm_oorz_code'] = df_m1['stm_oorz_code'].fillna(299.0)"
   ],
   "metadata": {
    "collapsed": false,
    "pycharm": {
     "name": "#%%\n"
    }
   }
  },
  {
   "cell_type": "markdown",
   "source": [
    "De kolom oorzaak code is nu schoon.\n",
    "\n",
    "Als volgende stap kan de nieuwe feature aanntpl_dagdeel gemaakt worden.\n",
    "Hiermee willen we onderzoeken of het tijdstip dat de aannemer ter plaatse was invloed heeft op de betrouwbaarheid van hun prognose.\n",
    "Hiervoor verdelen we tijdstippen onder in dagdelen:\n",
    "00:00 t/m 05:00 is nacht\n",
    "06:00 t/m 11:00 is ochtend\n",
    "12:00 t/m 17:00 is middag\n",
    "18:00 t/m 23:00 is avond"
   ],
   "metadata": {
    "collapsed": false,
    "pycharm": {
     "name": "#%% md\n"
    }
   }
  },
  {
   "cell_type": "code",
   "source": [
    "df_m1['aanntpl_dagdeel'] = pd.cut(df_m1['stm_aanntpl_ddt'].dt.hour,bins=[0,5,11,17,23],include_lowest=True,labels=['nacht', 'ochtend', 'middag', 'avond'])"
   ],
   "metadata": {
    "collapsed": false,
    "pycharm": {
     "name": "#%%\n"
    }
   },
   "execution_count": 131,
   "outputs": []
  },
  {
   "cell_type": "code",
   "execution_count": 132,
   "outputs": [
    {
     "data": {
      "text/plain": "           stm_aanntpl_ddt aanntpl_dagdeel\n154976 2017-05-17 15:02:59          middag\n456859 2011-12-16 08:26:00         ochtend\n522523 2013-03-28 13:00:00          middag\n812951 2016-11-30 12:32:00          middag\n393029 2010-06-29 14:30:00          middag",
      "text/html": "<div>\n<style scoped>\n    .dataframe tbody tr th:only-of-type {\n        vertical-align: middle;\n    }\n\n    .dataframe tbody tr th {\n        vertical-align: top;\n    }\n\n    .dataframe thead th {\n        text-align: right;\n    }\n</style>\n<table border=\"1\" class=\"dataframe\">\n  <thead>\n    <tr style=\"text-align: right;\">\n      <th></th>\n      <th>stm_aanntpl_ddt</th>\n      <th>aanntpl_dagdeel</th>\n    </tr>\n  </thead>\n  <tbody>\n    <tr>\n      <th>154976</th>\n      <td>2017-05-17 15:02:59</td>\n      <td>middag</td>\n    </tr>\n    <tr>\n      <th>456859</th>\n      <td>2011-12-16 08:26:00</td>\n      <td>ochtend</td>\n    </tr>\n    <tr>\n      <th>522523</th>\n      <td>2013-03-28 13:00:00</td>\n      <td>middag</td>\n    </tr>\n    <tr>\n      <th>812951</th>\n      <td>2016-11-30 12:32:00</td>\n      <td>middag</td>\n    </tr>\n    <tr>\n      <th>393029</th>\n      <td>2010-06-29 14:30:00</td>\n      <td>middag</td>\n    </tr>\n  </tbody>\n</table>\n</div>"
     },
     "execution_count": 132,
     "metadata": {},
     "output_type": "execute_result"
    }
   ],
   "source": [
    "df_m1[['stm_aanntpl_ddt', 'aanntpl_dagdeel']].sample(5, random_state=6)"
   ],
   "metadata": {
    "collapsed": false,
    "pycharm": {
     "name": "#%%\n"
    }
   }
  },
  {
   "cell_type": "markdown",
   "source": [
    "De nieuwe kolom aanntpl_dagdeel is aangemaakt en de dagdelen komen overeen met het tijdstip.\n",
    "\n",
    "De volgende kolom die aangemaakt moet worden is de prognose van de functieherstel duur vanaf het moment dat de aannemer ter plaatse is, omdat we alleen dit gedeelte voorspellen willen we ook alleen de prognose over dit gedeelte.\n",
    "\n",
    "Om de duur uit te rekenen nemen we het datum-tijdstip van de functieherstel prognose en halen hier het datum-tijdstip van aannemer ter plaatse af."
   ],
   "metadata": {
    "collapsed": false,
    "pycharm": {
     "name": "#%% md\n"
    }
   }
  },
  {
   "cell_type": "markdown",
   "source": [
    "Eerst moet de aanntpl_fh_duur_prog gecontroleerd worden op NaN waardes."
   ],
   "metadata": {
    "collapsed": false,
    "pycharm": {
     "name": "#%% md\n"
    }
   }
  },
  {
   "cell_type": "code",
   "execution_count": 133,
   "outputs": [
    {
     "data": {
      "text/plain": "9392"
     },
     "execution_count": 133,
     "metadata": {},
     "output_type": "execute_result"
    }
   ],
   "source": [
    "df_m1['stm_progfh_in_ddt'].isna().sum()"
   ],
   "metadata": {
    "collapsed": false,
    "pycharm": {
     "name": "#%%\n"
    }
   }
  },
  {
   "cell_type": "code",
   "execution_count": 134,
   "outputs": [
    {
     "data": {
      "text/plain": "       stm_progfh_in_datum stm_progfh_in_tijd\n760628                 NaN           00:00:00\n287734                 NaN           00:00:00\n618494                 NaN           00:00:00\n749343                 NaN           00:00:00\n405458                 NaN           00:00:00\n...                    ...                ...\n846878                 NaN           00:00:00\n162116                 NaN           00:00:00\n478212                 NaN           00:00:00\n660905                 NaN           00:00:00\n819633                 NaN           00:00:00\n\n[9392 rows x 2 columns]",
      "text/html": "<div>\n<style scoped>\n    .dataframe tbody tr th:only-of-type {\n        vertical-align: middle;\n    }\n\n    .dataframe tbody tr th {\n        vertical-align: top;\n    }\n\n    .dataframe thead th {\n        text-align: right;\n    }\n</style>\n<table border=\"1\" class=\"dataframe\">\n  <thead>\n    <tr style=\"text-align: right;\">\n      <th></th>\n      <th>stm_progfh_in_datum</th>\n      <th>stm_progfh_in_tijd</th>\n    </tr>\n  </thead>\n  <tbody>\n    <tr>\n      <th>760628</th>\n      <td>NaN</td>\n      <td>00:00:00</td>\n    </tr>\n    <tr>\n      <th>287734</th>\n      <td>NaN</td>\n      <td>00:00:00</td>\n    </tr>\n    <tr>\n      <th>618494</th>\n      <td>NaN</td>\n      <td>00:00:00</td>\n    </tr>\n    <tr>\n      <th>749343</th>\n      <td>NaN</td>\n      <td>00:00:00</td>\n    </tr>\n    <tr>\n      <th>405458</th>\n      <td>NaN</td>\n      <td>00:00:00</td>\n    </tr>\n    <tr>\n      <th>...</th>\n      <td>...</td>\n      <td>...</td>\n    </tr>\n    <tr>\n      <th>846878</th>\n      <td>NaN</td>\n      <td>00:00:00</td>\n    </tr>\n    <tr>\n      <th>162116</th>\n      <td>NaN</td>\n      <td>00:00:00</td>\n    </tr>\n    <tr>\n      <th>478212</th>\n      <td>NaN</td>\n      <td>00:00:00</td>\n    </tr>\n    <tr>\n      <th>660905</th>\n      <td>NaN</td>\n      <td>00:00:00</td>\n    </tr>\n    <tr>\n      <th>819633</th>\n      <td>NaN</td>\n      <td>00:00:00</td>\n    </tr>\n  </tbody>\n</table>\n<p>9392 rows × 2 columns</p>\n</div>"
     },
     "execution_count": 134,
     "metadata": {},
     "output_type": "execute_result"
    }
   ],
   "source": [
    "# kijken of er wel goede tijd datum apart in zit\n",
    "df_m1[df_m1['stm_progfh_in_ddt'].isna()][['stm_progfh_in_datum', 'stm_progfh_in_tijd']]"
   ],
   "metadata": {
    "collapsed": false,
    "pycharm": {
     "name": "#%%\n"
    }
   }
  },
  {
   "cell_type": "markdown",
   "source": [
    "Ook de aparte kolommen voor datum tijd hebben een NaN waarde of zijn 00:00:00. Deze waardes droppen we."
   ],
   "metadata": {
    "collapsed": false,
    "pycharm": {
     "name": "#%% md\n"
    }
   }
  },
  {
   "cell_type": "code",
   "source": [
    "df_m1.dropna(subset=['stm_progfh_in_ddt'], inplace=True)"
   ],
   "metadata": {
    "collapsed": false,
    "pycharm": {
     "name": "#%%\n"
    }
   },
   "execution_count": 135,
   "outputs": []
  },
  {
   "cell_type": "markdown",
   "source": [
    "Kolom aanntpl_fh_duur_prog aanmaken, de prognose duur vanaf het moment dat de aannemer ter plaatse is."
   ],
   "metadata": {
    "collapsed": false,
    "pycharm": {
     "name": "#%% md\n"
    }
   }
  },
  {
   "cell_type": "code",
   "execution_count": 136,
   "outputs": [],
   "source": [
    "df_m1['aanntpl_fh_duur_prog'] = ((df_m1['stm_progfh_in_ddt'] - df_m1['stm_aanntpl_ddt']).dt.total_seconds()/60).astype('int')\n",
    "# ook maken kolom aan wat de totale duur is van de prognose\n",
    "df_m1['fh_duur_prog'] = ((df_m1['stm_progfh_in_ddt'] - df_m1['stm_sap_meld_ddt']).dt.total_seconds()/60).astype('int')\n"
   ],
   "metadata": {
    "collapsed": false,
    "pycharm": {
     "name": "#%%\n"
    }
   }
  },
  {
   "cell_type": "markdown",
   "source": [
    "We willen geen prognoses meereken die 0 of lager zijn op het moment dat de aannemer ter plaatse is."
   ],
   "metadata": {
    "collapsed": false,
    "pycharm": {
     "name": "#%% md\n"
    }
   }
  },
  {
   "cell_type": "code",
   "execution_count": 137,
   "outputs": [],
   "source": [
    "df_m1 = df_m1[(df_m1['aanntpl_fh_duur_prog'] > 0)]"
   ],
   "metadata": {
    "collapsed": false,
    "pycharm": {
     "name": "#%%\n"
    }
   }
  },
  {
   "cell_type": "markdown",
   "source": [
    "Ook moet de prognose op een later tijdstip zijn dan dat de aannemer ter plaatse is."
   ],
   "metadata": {
    "collapsed": false,
    "pycharm": {
     "name": "#%% md\n"
    }
   }
  },
  {
   "cell_type": "code",
   "execution_count": 138,
   "outputs": [],
   "source": [
    "df_m1 = df_m1[(df_m1['stm_progfh_in_ddt'] > df_m1['stm_aanntpl_ddt'])]"
   ],
   "metadata": {
    "collapsed": false,
    "pycharm": {
     "name": "#%%\n"
    }
   }
  },
  {
   "cell_type": "markdown",
   "source": [
    "Er zijn nu genoeg kolommen schoon om terug te gaan naar data understanding."
   ],
   "metadata": {
    "collapsed": false,
    "pycharm": {
     "name": "#%% md\n"
    }
   }
  },
  {
   "cell_type": "markdown",
   "source": [
    "### Data understanding model 1"
   ],
   "metadata": {
    "collapsed": false,
    "pycharm": {
     "name": "#%% md\n"
    }
   }
  },
  {
   "cell_type": "code",
   "execution_count": 139,
   "outputs": [],
   "source": [
    "m1_features = ['stm_oorz_code', 'aanntpl_dagdeel', 'aanntpl_fh_duur_prog']"
   ],
   "metadata": {
    "collapsed": false,
    "pycharm": {
     "name": "#%%\n"
    }
   }
  },
  {
   "cell_type": "markdown",
   "source": [
    "Eerste kijk in de nieuwe feature kolommen tegenover de target."
   ],
   "metadata": {
    "collapsed": false,
    "pycharm": {
     "name": "#%% md\n"
    }
   }
  },
  {
   "cell_type": "code",
   "execution_count": 140,
   "outputs": [
    {
     "data": {
      "text/plain": "       stm_oorz_code aanntpl_dagdeel  aanntpl_fh_duur_prog  aanntpl_fh_duur\n680751         149.0           avond                    59               34\n237571         241.0         ochtend                    60               52\n849077         145.0          middag                 10110               33\n515604         298.0         ochtend                     5                7\n498789         184.0         ochtend                   185              175",
      "text/html": "<div>\n<style scoped>\n    .dataframe tbody tr th:only-of-type {\n        vertical-align: middle;\n    }\n\n    .dataframe tbody tr th {\n        vertical-align: top;\n    }\n\n    .dataframe thead th {\n        text-align: right;\n    }\n</style>\n<table border=\"1\" class=\"dataframe\">\n  <thead>\n    <tr style=\"text-align: right;\">\n      <th></th>\n      <th>stm_oorz_code</th>\n      <th>aanntpl_dagdeel</th>\n      <th>aanntpl_fh_duur_prog</th>\n      <th>aanntpl_fh_duur</th>\n    </tr>\n  </thead>\n  <tbody>\n    <tr>\n      <th>680751</th>\n      <td>149.0</td>\n      <td>avond</td>\n      <td>59</td>\n      <td>34</td>\n    </tr>\n    <tr>\n      <th>237571</th>\n      <td>241.0</td>\n      <td>ochtend</td>\n      <td>60</td>\n      <td>52</td>\n    </tr>\n    <tr>\n      <th>849077</th>\n      <td>145.0</td>\n      <td>middag</td>\n      <td>10110</td>\n      <td>33</td>\n    </tr>\n    <tr>\n      <th>515604</th>\n      <td>298.0</td>\n      <td>ochtend</td>\n      <td>5</td>\n      <td>7</td>\n    </tr>\n    <tr>\n      <th>498789</th>\n      <td>184.0</td>\n      <td>ochtend</td>\n      <td>185</td>\n      <td>175</td>\n    </tr>\n  </tbody>\n</table>\n</div>"
     },
     "execution_count": 140,
     "metadata": {},
     "output_type": "execute_result"
    }
   ],
   "source": [
    "df_m1[[*m1_features, target]].head()"
   ],
   "metadata": {
    "collapsed": false,
    "pycharm": {
     "name": "#%%\n"
    }
   }
  },
  {
   "cell_type": "markdown",
   "source": [
    "De nieuwe feature kolommen zien er goed, echter valt wel op dat er een functieherstel duur prognose is van 10110 minuten terwijl de functieherstel duur 33 minuten was."
   ],
   "metadata": {
    "collapsed": false,
    "pycharm": {
     "name": "#%% md\n"
    }
   }
  },
  {
   "cell_type": "markdown",
   "source": [
    "### Meetniveau's"
   ],
   "metadata": {
    "collapsed": false,
    "pycharm": {
     "name": "#%% md\n"
    }
   }
  },
  {
   "cell_type": "code",
   "execution_count": 141,
   "outputs": [
    {
     "data": {
      "text/plain": "                  Kolom Meetniveau  \\\n0         stm_oorz_code   Nominaal   \n1       aanntpl_dagdeel   Ordinaal   \n2  aanntpl_fh_duur_prog   Continue   \n3       aanntpl_fh_duur   Continue   \n\n                                        Beschrijving  \n0                                Code van de oorzaak  \n1               Dagdeel wanneer aannemer ter plaatse  \n2  Prognose van de functieherstel duur vanaf aann...  \n3  Target: Functieherstel duur vanaf aannemer ter...  ",
      "text/html": "<div>\n<style scoped>\n    .dataframe tbody tr th:only-of-type {\n        vertical-align: middle;\n    }\n\n    .dataframe tbody tr th {\n        vertical-align: top;\n    }\n\n    .dataframe thead th {\n        text-align: right;\n    }\n</style>\n<table border=\"1\" class=\"dataframe\">\n  <thead>\n    <tr style=\"text-align: right;\">\n      <th></th>\n      <th>Kolom</th>\n      <th>Meetniveau</th>\n      <th>Beschrijving</th>\n    </tr>\n  </thead>\n  <tbody>\n    <tr>\n      <th>0</th>\n      <td>stm_oorz_code</td>\n      <td>Nominaal</td>\n      <td>Code van de oorzaak</td>\n    </tr>\n    <tr>\n      <th>1</th>\n      <td>aanntpl_dagdeel</td>\n      <td>Ordinaal</td>\n      <td>Dagdeel wanneer aannemer ter plaatse</td>\n    </tr>\n    <tr>\n      <th>2</th>\n      <td>aanntpl_fh_duur_prog</td>\n      <td>Continue</td>\n      <td>Prognose van de functieherstel duur vanaf aann...</td>\n    </tr>\n    <tr>\n      <th>3</th>\n      <td>aanntpl_fh_duur</td>\n      <td>Continue</td>\n      <td>Target: Functieherstel duur vanaf aannemer ter...</td>\n    </tr>\n  </tbody>\n</table>\n</div>"
     },
     "execution_count": 141,
     "metadata": {},
     "output_type": "execute_result"
    }
   ],
   "source": [
    "pd.DataFrame({'Kolom': [*m1_features, target], 'Meetniveau': ['Nominaal', 'Ordinaal', 'Continue', 'Continue'], 'Beschrijving':['Code van de oorzaak', 'Dagdeel wanneer aannemer ter plaatse','Prognose van de functieherstel duur vanaf aannemer ter plaatse', 'Target: Functieherstel duur vanaf aannemer ter plaatse']})"
   ],
   "metadata": {
    "collapsed": false,
    "pycharm": {
     "name": "#%%\n"
    }
   }
  },
  {
   "cell_type": "markdown",
   "source": [
    "#### centrum-en spreiding maten\n"
   ],
   "metadata": {
    "collapsed": false,
    "pycharm": {
     "name": "#%% md\n"
    }
   }
  },
  {
   "cell_type": "code",
   "execution_count": 142,
   "outputs": [
    {
     "data": {
      "text/plain": "       aanntpl_fh_duur_prog\ncount          3.594700e+04\nmean           7.386013e+02\nstd            2.305387e+04\nmin            1.000000e+00\n25%            2.500000e+01\n50%            5.400000e+01\n75%            9.100000e+01\nmax            4.122780e+06",
      "text/html": "<div>\n<style scoped>\n    .dataframe tbody tr th:only-of-type {\n        vertical-align: middle;\n    }\n\n    .dataframe tbody tr th {\n        vertical-align: top;\n    }\n\n    .dataframe thead th {\n        text-align: right;\n    }\n</style>\n<table border=\"1\" class=\"dataframe\">\n  <thead>\n    <tr style=\"text-align: right;\">\n      <th></th>\n      <th>aanntpl_fh_duur_prog</th>\n    </tr>\n  </thead>\n  <tbody>\n    <tr>\n      <th>count</th>\n      <td>3.594700e+04</td>\n    </tr>\n    <tr>\n      <th>mean</th>\n      <td>7.386013e+02</td>\n    </tr>\n    <tr>\n      <th>std</th>\n      <td>2.305387e+04</td>\n    </tr>\n    <tr>\n      <th>min</th>\n      <td>1.000000e+00</td>\n    </tr>\n    <tr>\n      <th>25%</th>\n      <td>2.500000e+01</td>\n    </tr>\n    <tr>\n      <th>50%</th>\n      <td>5.400000e+01</td>\n    </tr>\n    <tr>\n      <th>75%</th>\n      <td>9.100000e+01</td>\n    </tr>\n    <tr>\n      <th>max</th>\n      <td>4.122780e+06</td>\n    </tr>\n  </tbody>\n</table>\n</div>"
     },
     "execution_count": 142,
     "metadata": {},
     "output_type": "execute_result"
    }
   ],
   "source": [
    "df_m1[m1_features].describe()"
   ],
   "metadata": {
    "collapsed": false,
    "pycharm": {
     "name": "#%%\n"
    }
   }
  },
  {
   "cell_type": "markdown",
   "source": [
    "Er lijkt nog iets goed mis met de prognose duur laten we dit eerst verder onderzoeken."
   ],
   "metadata": {
    "collapsed": false,
    "pycharm": {
     "name": "#%% md\n"
    }
   }
  },
  {
   "cell_type": "code",
   "execution_count": 143,
   "outputs": [
    {
     "data": {
      "text/plain": "<Figure size 432x288 with 1 Axes>",
      "image/png": "[encoded data removed]"
     },
     "metadata": {
      "needs_background": "light"
     },
     "output_type": "display_data"
    }
   ],
   "source": [
    "df_m1.plot.scatter(x='aanntpl_fh_duur', y='aanntpl_fh_duur_prog')\n",
    "plt.show()"
   ],
   "metadata": {
    "collapsed": false,
    "pycharm": {
     "name": "#%%\n"
    }
   }
  },
  {
   "cell_type": "markdown",
   "source": [
    "Laten we inzoomen op de grafiek door alleen naar prognoses van onder een week te kijken"
   ],
   "metadata": {
    "collapsed": false,
    "pycharm": {
     "name": "#%% md\n"
    }
   }
  },
  {
   "cell_type": "code",
   "execution_count": 147,
   "outputs": [
    {
     "data": {
      "text/plain": "<Figure size 432x288 with 1 Axes>",
      "image/png": "[encoded data removed]"
     },
     "metadata": {
      "needs_background": "light"
     },
     "output_type": "display_data"
    }
   ],
   "source": [
    "df_m1[df_m1['aanntpl_fh_duur_prog']<1440*7].plot.scatter(x='aanntpl_fh_duur', y='aanntpl_fh_duur_prog')\n",
    "plt.show()"
   ],
   "metadata": {
    "collapsed": false,
    "pycharm": {
     "name": "#%%\n"
    }
   }
  },
  {
   "cell_type": "markdown",
   "source": [
    "We zien dat bij relatief lage functieherstel duren vaak bizar hoge prognoses worden opgegeven zoals duizenden minuten wanneer de daadwerkelijke hersteltijd 1 tot enkele minuten duurt.\n",
    "\n",
    "Hiermee zijn we naar onze product owner gestapt, want het lijkt er op alsof er veel foutieve/onrealistiche prognoses zijn ingevuld.\n",
    "De productowner liet weten een afwijking van 2 uur teveel te vinden voor daadwerkelijke hersteltijden van 1 minuut en voor een afwijking van 24 uur teveel voor een hersteltijd van 6 uur.\n",
    "We zijn hierdoor tot de afspraak gekomen om een interpolatie op de data te doen om zo alles boven een lineaire lijn als onzin prognose te beschouwen."
   ],
   "metadata": {
    "collapsed": false,
    "pycharm": {
     "name": "#%% md\n"
    }
   }
  },
  {
   "cell_type": "markdown",
   "source": [],
   "metadata": {
    "collapsed": false,
    "pycharm": {
     "name": "#%% md\n"
    }
   }
  },
  {
   "cell_type": "code",
   "execution_count": 148,
   "outputs": [],
   "source": [
    "interpolater = interp1d([1, 360], [120, 1440])"
   ],
   "metadata": {
    "collapsed": false,
    "pycharm": {
     "name": "#%%\n"
    }
   }
  },
  {
   "cell_type": "markdown",
   "source": [
    "Laten we dit afsnij punt bekijken op een scatterplot waar we alleen naar prognoses kijken van onder de 24 uur omdat dit het hoogste punt in onze afsnijding is."
   ],
   "metadata": {
    "collapsed": false,
    "pycharm": {
     "name": "#%% md\n"
    }
   }
  },
  {
   "cell_type": "code",
   "execution_count": 154,
   "outputs": [
    {
     "data": {
      "text/plain": "<Figure size 432x288 with 1 Axes>",
      "image/png": "[encoded data removed]"
     },
     "metadata": {
      "needs_background": "light"
     },
     "output_type": "display_data"
    }
   ],
   "source": [
    "df_m1[df_m1['aanntpl_fh_duur_prog']<1440].plot.scatter(x='aanntpl_fh_duur', y='aanntpl_fh_duur_prog')\n",
    "plt.plot([1, 360], [120, 1440], c='red', linewidth=3)\n",
    "plt.show()"
   ],
   "metadata": {
    "collapsed": false,
    "pycharm": {
     "name": "#%%\n"
    }
   }
  },
  {
   "cell_type": "code",
   "execution_count": 155,
   "outputs": [],
   "source": [
    "df_m1 = df_m1[(df_m1['aanntpl_fh_duur_prog']) < (interpolater(df_m1['aanntpl_fh_duur']))]"
   ],
   "metadata": {
    "collapsed": false,
    "pycharm": {
     "name": "#%%\n"
    }
   }
  },
  {
   "cell_type": "code",
   "execution_count": 157,
   "outputs": [
    {
     "data": {
      "text/plain": "<Figure size 432x288 with 1 Axes>",
      "image/png": "[encoded data removed]"
     },
     "metadata": {
      "needs_background": "light"
     },
     "output_type": "display_data"
    }
   ],
   "source": [
    "df_m1.plot.scatter(x='aanntpl_fh_duur', y='aanntpl_fh_duur_prog')\n",
    "plt.show()"
   ],
   "metadata": {
    "collapsed": false,
    "pycharm": {
     "name": "#%%\n"
    }
   }
  },
  {
   "cell_type": "markdown",
   "source": [
    "Opvalled is dat er nu een duidelijk lineair verband zit tussen de prognose en de daadwerkelijke fh duur vanaf aanntpl.\n",
    "\n",
    "Nu een groot deel van de foutieve prognoses eruit zijn kunnen we weer verder met het analyseren van de centrums-en spreidingsmaten"
   ],
   "metadata": {
    "collapsed": false,
    "pycharm": {
     "name": "#%% md\n"
    }
   }
  },
  {
   "cell_type": "code",
   "execution_count": null,
   "outputs": [],
   "source": [
    "df_m1['aanntpl_fh_duur'].describe()"
   ],
   "metadata": {
    "collapsed": false,
    "pycharm": {
     "name": "#%%\n"
    }
   }
  },
  {
   "cell_type": "markdown",
   "source": [
    "De centrums-en spreidings maten lijken nu"
   ],
   "metadata": {
    "collapsed": false,
    "pycharm": {
     "name": "#%% md\n"
    }
   }
  },
  {
   "cell_type": "markdown",
   "id": "2d475db1",
   "metadata": {},
   "source": [
    "#### Modeling model 1"
   ]
  },
  {
   "cell_type": "code",
   "execution_count": 158,
   "id": "22298b39",
   "metadata": {
    "pycharm": {
     "name": "#%%\n"
    }
   },
   "outputs": [],
   "source": [
    "features_selection = ['aanntpl_fh_duur_prog']"
   ]
  },
  {
   "cell_type": "code",
   "execution_count": null,
   "id": "c47bd02c",
   "metadata": {
    "pycharm": {
     "name": "#%%\n"
    }
   },
   "outputs": [],
   "source": [
    "dataset_m1 = df_m1[[*features_selection, target]]"
   ]
  },
  {
   "cell_type": "code",
   "execution_count": 159,
   "id": "7d054f00",
   "metadata": {
    "pycharm": {
     "name": "#%%\n"
    }
   },
   "outputs": [],
   "source": [
    "X = df_m1['aanntpl_fh_duur_prog'].values.reshape(-1,1)\n",
    "y = df_m1[target]\n",
    "X_train, X_test, y_train, y_test = train_test_split(X, y, random_state=0)"
   ]
  },
  {
   "cell_type": "code",
   "execution_count": 210,
   "id": "a4ddebc9",
   "metadata": {
    "pycharm": {
     "name": "#%%\n"
    }
   },
   "outputs": [
    {
     "data": {
      "text/plain": "34.67699438029809"
     },
     "execution_count": 210,
     "metadata": {},
     "output_type": "execute_result"
    },
    {
     "data": {
      "text/plain": "<Figure size 432x288 with 1 Axes>",
      "image/png": "[encoded data removed]"
     },
     "metadata": {
      "needs_background": "light"
     },
     "output_type": "display_data"
    }
   ],
   "source": [
    "from sklearn.linear_model import LinearRegression\n",
    "from sklearn.preprocessing import PolynomialFeatures\n",
    "from sklearn.pipeline import make_pipeline\n",
    "\n",
    "reg = LinearRegression().fit(X_train, y_train)\n",
    "y_pred = reg.predict(X_test)\n",
    "mean_squared_error(y_test,y_pred, squared=False)\n",
    "\n",
    "plt.scatter(y_test, X_test)\n",
    "line = np.linspace(min(X_train), 360, 100)\n",
    "plt.plot(line, reg.predict(line),'-r',linewidth=3)\n",
    "mean_squared_error(y_test,y_pred, squared=False)"
   ]
  },
  {
   "cell_type": "code",
   "execution_count": 212,
   "outputs": [
    {
     "name": "stdout",
     "output_type": "stream",
     "text": [
      "Aantal polynomen: 1 RMSE 34.68\n",
      "Aantal polynomen: 2 RMSE 33.35\n",
      "Aantal polynomen: 3 RMSE 33.35\n",
      "Aantal polynomen: 4 RMSE 33.12\n",
      "Aantal polynomen: 5 RMSE 33.07\n",
      "Aantal polynomen: 6 RMSE 33.08\n",
      "Aantal polynomen: 7 RMSE 35.11\n",
      "Aantal polynomen: 8 RMSE 38.93\n",
      "Aantal polynomen: 9 RMSE 44.2\n"
     ]
    },
    {
     "data": {
      "text/plain": "[None, None, None, None, None, None, None, None, None]"
     },
     "execution_count": 212,
     "metadata": {},
     "output_type": "execute_result"
    }
   ],
   "source": [
    "[print(f\"Aantal polynomen: {i} RMSE\", round(mean_squared_error(y_test,make_pipeline(PolynomialFeatures(i),LinearRegression()).fit(X_train,y_train).predict(X_test), squared=False),2)) for i in range(1,10)]"
   ],
   "metadata": {
    "collapsed": false,
    "pycharm": {
     "name": "#%%\n"
    }
   }
  },
  {
   "cell_type": "code",
   "execution_count": 214,
   "id": "f3d6cd1d",
   "metadata": {
    "pycharm": {
     "name": "#%%\n"
    }
   },
   "outputs": [
    {
     "data": {
      "text/plain": "[]"
     },
     "execution_count": 214,
     "metadata": {},
     "output_type": "execute_result"
    },
    {
     "data": {
      "text/plain": "<Figure size 432x288 with 1 Axes>",
      "image/png": "[encoded data removed]"
     },
     "metadata": {
      "needs_background": "light"
     },
     "output_type": "display_data"
    }
   ],
   "source": [
    "poly = make_pipeline(PolynomialFeatures(2),LinearRegression()).fit(X_train,y_train)\n",
    "line = np.linspace(min(X_train), 360, 100)\n",
    "\n",
    "plt.plot(line, poly.predict(line),'-r',linewidth=3)\n",
    "plt.scatter(y_test, X_test)\n",
    "plt.plot()"
   ]
  }
 ],
 "metadata": {
  "kernelspec": {
   "display_name": "Python 3",
   "language": "python",
   "name": "python3"
  },
  "language_info": {
   "codemirror_mode": {
    "name": "ipython",
    "version": 3
   },
   "file_extension": ".py",
   "mimetype": "text/x-python",
   "name": "python",
   "nbconvert_exporter": "python",
   "pygments_lexer": "ipython3",
   "version": "3.9.1"
  }
 },
 "nbformat": 4,
 "nbformat_minor": 5
}