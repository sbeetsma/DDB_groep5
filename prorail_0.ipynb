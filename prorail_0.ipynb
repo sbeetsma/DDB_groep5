{
 "cells": [
  {
   "cell_type": "markdown",
   "id": "303d8c06",
   "metadata": {
    "pycharm": {
     "name": "#%% md\n"
    }
   },
   "source": [
    "### Business Understanding\n",
    "\n",
    "Onderzoeksvraag:\n",
    "Kan er een voorspelling worden gedaan over de vertragingstijd om treinverkeersleiders efficiënter de treinplanning te hervatten.\n",
    "\n",
    "\n",
    "\n",
    "\n",
    "-------------------------------------"
   ]
  },
  {
   "cell_type": "markdown",
   "id": "6e117647",
   "metadata": {
    "pycharm": {
     "name": "#%% md\n"
    }
   },
   "source": [
    "### Data Understanding\n",
    "Van ProRail hebben we een [data dictionary](https://canvas.hu.nl/courses/27143/pages/data?module_item_id=588747) gekregen.\n",
    "Hierin staan alle kolommen in uit de dataset met een beschrijving over de kolom indien van toepassing.\n",
    "\n",
    "We beginnen met een aantal modules te importeren om de data te analyseren."
   ]
  },
  {
   "cell_type": "code",
   "execution_count": 2,
   "id": "66db6632",
   "metadata": {
    "pycharm": {
     "name": "#%%\n"
    }
   },
   "outputs": [],
   "source": [
    "import numpy as np\n",
    "import pandas as pd\n",
    "\n",
    "import sklearn as sk\n",
    "from sklearn.model_selection import train_test_split\n",
    "from sklearn.dummy import DummyRegressor\n",
    "from sklearn.metrics import mean_squared_error\n",
    "from sklearn.tree import DecisionTreeRegressor, DecisionTreeClassifier\n",
    "from sklearn.ensemble import RandomForestRegressor\n",
    "\n",
    "\n",
    "import matplotlib.pyplot as plt\n",
    "import seaborn as sns\n",
    "\n",
    "pd.set_option(\"display.max_columns\", None)\n",
    "#pd.set_option(\"display.max_rows\", 100)\n",
    "\n",
    "pd.options.display.max_columns = None\n",
    "pd.options.display.max_rows = 1000\n",
    "\n",
    "%matplotlib inline"
   ]
  },
  {
   "cell_type": "markdown",
   "id": "108a1bb2",
   "metadata": {
    "pycharm": {
     "name": "#%% md\n"
    }
   },
   "source": [
    "Dataset inladen"
   ]
  },
  {
   "cell_type": "code",
   "execution_count": 3,
   "id": "a45cf58d",
   "metadata": {
    "pycharm": {
     "name": "#%%\n"
    }
   },
   "outputs": [],
   "source": [
    "dataset_complete = pd.read_csv(\"sap_storing_data_hu_project.csv\", low_memory=False)"
   ]
  },
  {
   "cell_type": "code",
   "execution_count": 4,
   "id": "2b1211fa",
   "metadata": {
    "pycharm": {
     "name": "#%%\n"
    }
   },
   "outputs": [],
   "source": [
    "# todo later verwijderen en hele dataset pakken\n",
    "# 10% (1 jaar +- aan datapunten) van data inladen is tijdelijk, om efficiënter te werk te gaan tijdens de onderzoek fase\n",
    "ten_percent = int(dataset_complete.shape[0]*.1)\n",
    "dataset = dataset_complete.sample(ten_percent, random_state=0)"
   ]
  },
  {
   "cell_type": "markdown",
   "id": "4aa2160e",
   "metadata": {
    "pycharm": {
     "name": "#%% md\n"
    }
   },
   "source": [
    "We bekijken de eerste paar rijen om een eerste inzicht te krijgen over de daadwerkelijke data."
   ]
  },
  {
   "cell_type": "code",
   "execution_count": null,
   "id": "2f65807e",
   "metadata": {
    "pycharm": {
     "name": "#%%\n"
    }
   },
   "outputs": [],
   "source": [
    "dataset.head()"
   ]
  },
  {
   "cell_type": "markdown",
   "id": "b1a6c875",
   "metadata": {
    "pycharm": {
     "name": "#%% md\n"
    }
   },
   "source": [
    "Bekijken van het aantal datapunten en kolommen in de data."
   ]
  },
  {
   "cell_type": "code",
   "execution_count": 6,
   "id": "5a772f6e",
   "metadata": {
    "pycharm": {
     "name": "#%%\n"
    }
   },
   "outputs": [
    {
     "name": "stdout",
     "output_type": "stream",
     "text": [
      "De dataset bevat 89852 rijen en 140 kolommen\n"
     ]
    }
   ],
   "source": [
    "rows, cols = dataset.shape\n",
    "print(f'De dataset bevat {rows} rijen en {cols} kolommen')"
   ]
  },
  {
   "cell_type": "markdown",
   "id": "58df28de",
   "metadata": {
    "pycharm": {
     "name": "#%% md\n"
    }
   },
   "source": [
    "#### Interessante kolommen om de target variabele te construeren.\n",
    "We gaan eerst de kolommen analyseren die mogelijk van toepassing kunnen zijn bij het bepalen van een target variabele voor de onderzoeksvraag.\n",
    "\n",
    "Hiervoor gebruiken we het tijdstip van de functieherstel.\n",
    "Functieherstel tijdstip is het moment dat een storing is opgelost, maar het treinverkeer nog niet per definitie hervat is.\n",
    "De functieherstel duur is de tijd vanaf de initiële melding tot de tijdstip van functieherstel.\n",
    "\n",
    "Volgens het interview met Pro Rail is het vaak lastig om te bepalen hoelang het duurt voordat een aanemer ter plaatse is om een storing te verhelpen.\n",
    "Om deze reden is de duur van de complete storing (functieherstel duur) lastig te voorspellen. Daarom kijken we ook naar het tijd dat de aannemer ter plaatse is. De duur van dit tijdstip tot het tijdstip van de functieherstel tijd is interessant om te onderzoeken omdat vanaf het moment dat de aannemer aanwezig is er **waarschijnlijk** meer te zeggen valt over hoelang de vertraging nog duurt.\n",
    "\n",
    "Ook heeft Pro Rail ons laten weten dat ze het vooral interessant vinden om storingen te bekijken/voorspellen die niet langer duren dan een werkdag.\n",
    "\n",
    "Voor de meld, aannemer ter plaatse en functieherstel tijd zijn 2 verschillende kolommen aanwezig in de data dictionary laten we ze allemaal bekijken om het verschil te zien."
   ]
  },
  {
   "cell_type": "code",
   "execution_count": 7,
   "id": "c51bf32d",
   "metadata": {
    "pycharm": {
     "name": "#%%\n"
    }
   },
   "outputs": [],
   "source": [
    "target_selection = ['stm_sap_meldtijd','stm_sap_meld_ddt', 'stm_aanntpl_tijd', 'stm_aanntpl_ddt', 'stm_fh_tijd', 'stm_fh_ddt', 'stm_fh_duur']"
   ]
  },
  {
   "cell_type": "code",
   "execution_count": 8,
   "id": "94b2f382",
   "metadata": {
    "pycharm": {
     "name": "#%%\n"
    }
   },
   "outputs": [
    {
     "data": {
      "text/plain": "       stm_sap_meldtijd     stm_sap_meld_ddt stm_aanntpl_tijd  \\\n592816         14:10:00  12/01/2014 14:10:00         09:50:00   \n680751         17:32:00  30/01/2015 17:32:00         18:46:00   \n760628         08:25:04  20/04/2016 08:25:04         08:25:39   \n237571         10:23:00  06/08/2006 10:23:00         11:27:00   \n849077         11:50:21  19/09/2017 11:50:21         13:00:01   \n679491         05:20:00  25/01/2015 05:20:00         23:45:00   \n341653         18:02:00  10/04/2009 18:02:00         21:00:00   \n304567         10:21:00  06/05/2008 10:21:00         12:01:00   \n515604         09:43:00  01/03/2013 09:43:00         09:47:00   \n498789         10:44:00  30/12/2012 10:44:00         11:55:00   \n\n            stm_aanntpl_ddt stm_fh_tijd           stm_fh_ddt  stm_fh_duur  \n592816  13/01/2014 09:50:00    10:29:00  13/01/2014 10:29:00       1219.0  \n680751  30/01/2015 18:46:00    19:20:00  30/01/2015 19:20:00        108.0  \n760628  20/04/2016 08:25:39    12:20:48  20/04/2016 12:20:48        236.0  \n237571  06/08/2006 11:27:00    12:19:00  06/08/2006 12:19:00        116.0  \n849077  19/09/2017 13:00:01    13:34:00  19/09/2017 13:34:00        104.0  \n679491  25/01/2015 23:45:00    00:15:00  26/01/2015 00:15:00       1135.0  \n341653  11/04/2009 21:00:00    21:15:00  11/04/2009 21:15:00       1633.0  \n304567  06/05/2008 12:01:00    12:07:00  06/05/2008 12:07:00        104.0  \n515604  01/03/2013 09:47:00    09:54:00  01/03/2013 09:54:00         11.0  \n498789  30/12/2012 11:55:00    14:50:00  30/12/2012 14:50:00        244.0  ",
      "text/html": "<div>\n<style scoped>\n    .dataframe tbody tr th:only-of-type {\n        vertical-align: middle;\n    }\n\n    .dataframe tbody tr th {\n        vertical-align: top;\n    }\n\n    .dataframe thead th {\n        text-align: right;\n    }\n</style>\n<table border=\"1\" class=\"dataframe\">\n  <thead>\n    <tr style=\"text-align: right;\">\n      <th></th>\n      <th>stm_sap_meldtijd</th>\n      <th>stm_sap_meld_ddt</th>\n      <th>stm_aanntpl_tijd</th>\n      <th>stm_aanntpl_ddt</th>\n      <th>stm_fh_tijd</th>\n      <th>stm_fh_ddt</th>\n      <th>stm_fh_duur</th>\n    </tr>\n  </thead>\n  <tbody>\n    <tr>\n      <th>592816</th>\n      <td>14:10:00</td>\n      <td>12/01/2014 14:10:00</td>\n      <td>09:50:00</td>\n      <td>13/01/2014 09:50:00</td>\n      <td>10:29:00</td>\n      <td>13/01/2014 10:29:00</td>\n      <td>1219.0</td>\n    </tr>\n    <tr>\n      <th>680751</th>\n      <td>17:32:00</td>\n      <td>30/01/2015 17:32:00</td>\n      <td>18:46:00</td>\n      <td>30/01/2015 18:46:00</td>\n      <td>19:20:00</td>\n      <td>30/01/2015 19:20:00</td>\n      <td>108.0</td>\n    </tr>\n    <tr>\n      <th>760628</th>\n      <td>08:25:04</td>\n      <td>20/04/2016 08:25:04</td>\n      <td>08:25:39</td>\n      <td>20/04/2016 08:25:39</td>\n      <td>12:20:48</td>\n      <td>20/04/2016 12:20:48</td>\n      <td>236.0</td>\n    </tr>\n    <tr>\n      <th>237571</th>\n      <td>10:23:00</td>\n      <td>06/08/2006 10:23:00</td>\n      <td>11:27:00</td>\n      <td>06/08/2006 11:27:00</td>\n      <td>12:19:00</td>\n      <td>06/08/2006 12:19:00</td>\n      <td>116.0</td>\n    </tr>\n    <tr>\n      <th>849077</th>\n      <td>11:50:21</td>\n      <td>19/09/2017 11:50:21</td>\n      <td>13:00:01</td>\n      <td>19/09/2017 13:00:01</td>\n      <td>13:34:00</td>\n      <td>19/09/2017 13:34:00</td>\n      <td>104.0</td>\n    </tr>\n    <tr>\n      <th>679491</th>\n      <td>05:20:00</td>\n      <td>25/01/2015 05:20:00</td>\n      <td>23:45:00</td>\n      <td>25/01/2015 23:45:00</td>\n      <td>00:15:00</td>\n      <td>26/01/2015 00:15:00</td>\n      <td>1135.0</td>\n    </tr>\n    <tr>\n      <th>341653</th>\n      <td>18:02:00</td>\n      <td>10/04/2009 18:02:00</td>\n      <td>21:00:00</td>\n      <td>11/04/2009 21:00:00</td>\n      <td>21:15:00</td>\n      <td>11/04/2009 21:15:00</td>\n      <td>1633.0</td>\n    </tr>\n    <tr>\n      <th>304567</th>\n      <td>10:21:00</td>\n      <td>06/05/2008 10:21:00</td>\n      <td>12:01:00</td>\n      <td>06/05/2008 12:01:00</td>\n      <td>12:07:00</td>\n      <td>06/05/2008 12:07:00</td>\n      <td>104.0</td>\n    </tr>\n    <tr>\n      <th>515604</th>\n      <td>09:43:00</td>\n      <td>01/03/2013 09:43:00</td>\n      <td>09:47:00</td>\n      <td>01/03/2013 09:47:00</td>\n      <td>09:54:00</td>\n      <td>01/03/2013 09:54:00</td>\n      <td>11.0</td>\n    </tr>\n    <tr>\n      <th>498789</th>\n      <td>10:44:00</td>\n      <td>30/12/2012 10:44:00</td>\n      <td>11:55:00</td>\n      <td>30/12/2012 11:55:00</td>\n      <td>14:50:00</td>\n      <td>30/12/2012 14:50:00</td>\n      <td>244.0</td>\n    </tr>\n  </tbody>\n</table>\n</div>"
     },
     "execution_count": 8,
     "metadata": {},
     "output_type": "execute_result"
    }
   ],
   "source": [
    "dataset[target_selection].head(10)"
   ]
  },
  {
   "cell_type": "markdown",
   "id": "6d9542c1",
   "metadata": {
    "pycharm": {
     "name": "#%% md\n"
    }
   },
   "source": [
    "\n",
    "Opvallend is dat de functieherstel duur in veel gevallen aanzienlijk langer is dan de duur tussen het tijdstip dat de aannemer ter plaatse is en het functieherstel tijdstip.\n",
    "\n",
    "De kolommen eindigend op ddt bevatten een datum en tijd in Dag:Maand:Jaar Uur:Minuten:Seconden.\n",
    "En de kolommen eindigend op tijd bevatten alleen de tijd in Uur:Minuten:Seconden.\n",
    "\n",
    "Wat ook opvalt is dat de kolommen eindigend met ddt NaN waardes bevat maar op eerste blik alleen bij rijen waar de functieherstel duur 0 is of wanneer de aannemer ter plaatse tijd 00:00:00 is. Dit duidt er op dat NaN waardes die altijd gecombineerd lijken te zijn met een tijdstip 00:00:00 alleen in rijen voorkomt waar er geen aannemer ter plaatse nodig was om de storing te verhelpen"
   ]
  },
  {
   "cell_type": "markdown",
   "id": "0d0353d5",
   "metadata": {
    "pycharm": {
     "name": "#%% md\n"
    }
   },
   "source": [
    "### Meetniveau\n",
    "\n",
    "De target variabele kolom is nog niet aanwezig maar dit zal in dezelfde eenheid zijn als functieherstel duur namelijk, duur in minuten.\n",
    "\n",
    "Minuten zijn van een continue meetniveau omdat je tot oneindige precisie tussen 2 verschillende waardes in minuten kan meten."
   ]
  },
  {
   "cell_type": "markdown",
   "id": "7775a2a7",
   "metadata": {
    "pycharm": {
     "name": "#%% md\n"
    }
   },
   "source": []
  },
  {
   "cell_type": "markdown",
   "id": "56fb6b29",
   "metadata": {},
   "source": []
  },
  {
   "cell_type": "code",
   "execution_count": 9,
   "id": "ffd57e52",
   "metadata": {
    "pycharm": {
     "name": "#%%\n"
    }
   },
   "outputs": [
    {
     "data": {
      "text/plain": "count     89851.0\nmean        936.0\nstd        6510.0\nmin           0.0\n25%          11.0\n50%          83.0\n75%         256.0\nmax      525621.0\nName: stm_fh_duur, dtype: float64"
     },
     "execution_count": 9,
     "metadata": {},
     "output_type": "execute_result"
    }
   ],
   "source": [
    "dataset['stm_fh_duur'].describe().round()"
   ]
  },
  {
   "cell_type": "markdown",
   "id": "e9e5e145",
   "metadata": {},
   "source": []
  },
  {
   "cell_type": "markdown",
   "id": "e3f42698",
   "metadata": {
    "pycharm": {
     "name": "#%% md\n"
    }
   },
   "source": [
    "In de tabel hierboven is te zien:\n",
    "- Aantal observaties\n",
    "- Gemiddelde\n",
    "- Minimale observatie\n",
    "- 25% (Kwartiel 1)\n",
    "- 50% (Kwartiel 2, ookwel de mediaan)\n",
    "- 75% (Kwartiel 3)\n",
    "- Maximale observatie\n",
    "\n",
    "We kunnen hier uit een aantal dingen opmerken:\n",
    "- Groot verschil tussen min en max observaties.\n",
    "- Het gemiddelde ligt veel hoger dan de mediaan, dit duidt op uitschieters.\n",
    "- Minimale observatie is 0, dit zouden storingen kunnen zijn die niet voor vertraging zorgen (zoals een ICT storing).\n",
    "- Grote standaard deviatie, dit duidt er op dat de observaties breedt verdeelt zijn om het gemiddelde."
   ]
  },
  {
   "cell_type": "markdown",
   "id": "84c107c8",
   "metadata": {
    "pycharm": {
     "name": "#%% md\n"
    }
   },
   "source": [
    "Om een visuele blik te krijgen op de verdeling van de data plotten we een histogram."
   ]
  },
  {
   "cell_type": "code",
   "execution_count": 10,
   "id": "b9df1d69",
   "metadata": {
    "pycharm": {
     "name": "#%%\n"
    }
   },
   "outputs": [
    {
     "data": {
      "text/plain": "<Figure size 360x360 with 1 Axes>",
      "image/png": "[encoded data removed]"
     },
     "metadata": {
      "needs_background": "light"
     },
     "output_type": "display_data"
    }
   ],
   "source": [
    "dataset[target_selection].hist(figsize=(5,5), bins=40) # hist\n",
    "plt.axvline(dataset['stm_fh_duur'].mean(), color='black', linestyle='dashed', linewidth=2) # add mean line\n",
    "plt.legend([\"Gemiddelde FH duur.\", \"Aantal observaties.\"], loc=\"upper right\") # legend\n",
    "plt.title(\"FH duur vs Aantal observaties.\"), plt.xlabel(\"FH duur.\"), plt.ylabel(\"Aantal observaties.\") # title, x & y labels\n",
    "\n",
    "plt.show()"
   ]
  },
  {
   "cell_type": "markdown",
   "id": "23ce20c4",
   "metadata": {
    "pycharm": {
     "name": "#%% md\n"
    }
   },
   "source": [
    "Zoals te zien en omschreven bij de describe is de FH duur erg verspreidt en bevat outliers die de histogram onleesbaar maakt.\n",
    "\n",
    "Laten we daarom opnieuw een histogram plotten die alleen naar storingen kijkt die binnen één werkdag (8 uur, 480 minuten) zijn opgelost en die voor een vertraging hebben gezorgd (FH duur groter zijn dan 0). Ook omdat dit de meest interessante storingen zijn om mogelijk een voorspellingen over te kunnen doen volgens Pro Rail."
   ]
  },
  {
   "cell_type": "code",
   "execution_count": 11,
   "id": "f67149d6",
   "metadata": {
    "pycharm": {
     "name": "#%%\n"
    }
   },
   "outputs": [],
   "source": [
    "zero_360_filter = (dataset['stm_fh_duur'] > 0) & (\n",
    "            dataset['stm_fh_duur'] <= 360)  # boolean mask to filter on FH > 0 and <= 360."
   ]
  },
  {
   "cell_type": "code",
   "execution_count": 12,
   "id": "b89f4774",
   "metadata": {
    "pycharm": {
     "name": "#%%\n"
    }
   },
   "outputs": [
    {
     "data": {
      "text/plain": "<Figure size 360x360 with 1 Axes>",
      "image/png": "[encoded data removed]"
     },
     "metadata": {
      "needs_background": "light"
     },
     "output_type": "display_data"
    }
   ],
   "source": [
    "dataset[zero_360_filter][target_selection].hist(figsize=(5,5), bins = 40)# hist\n",
    "plt.axvline(dataset[zero_360_filter]['stm_fh_duur'].mean(), color='black', linestyle='dashed', linewidth=2) # add mean line\n",
    "plt.legend([\"Gemiddelde FH duur.\", \"Aantal observaties.\"], loc=\"upper right\") # legend\n",
    "plt.title(\"0min < FH duur < 6 uur vs Aantal observaties.\"), plt.xlabel(\"FH duur.\"), plt.ylabel(\"Aantal observaties.\") # title, x & y labels\n",
    "\n",
    "plt.show()"
   ]
  },
  {
   "cell_type": "markdown",
   "id": "83935697",
   "metadata": {
    "pycharm": {
     "name": "#%% md\n"
    }
   },
   "source": [
    "FH duur boven de 0 minuten en tot en met 6 uur, heeft een rechtscheve verdeling. #todo check correct distribution"
   ]
  },
  {
   "cell_type": "markdown",
   "id": "00722a3d",
   "metadata": {
    "pycharm": {
     "name": "#%% md\n"
    }
   },
   "source": [
    "## #todo vanaf hier lui geweest met tekst\n",
    "\n",
    "#### Uitschieters\n",
    "\n",
    "Om een visueel beeld te krijgen van de spreiding/uitschieters van de functieherstel duur wordt deze getoond in een boxplot."
   ]
  },
  {
   "cell_type": "code",
   "execution_count": 13,
   "id": "55dede53",
   "metadata": {
    "pycharm": {
     "name": "#%%\n"
    }
   },
   "outputs": [
    {
     "data": {
      "text/plain": "<Figure size 432x288 with 1 Axes>",
      "image/png": "[encoded data removed]"
     },
     "metadata": {
      "needs_background": "light"
     },
     "output_type": "display_data"
    }
   ],
   "source": [
    "dataset.boxplot('stm_fh_duur')\n",
    "plt.title(\"Boxplot FH duur\")\n",
    "plt.show()"
   ]
  },
  {
   "cell_type": "markdown",
   "id": "51f6770b",
   "metadata": {
    "pycharm": {
     "name": "#%% md\n"
    }
   },
   "source": [
    "Er zijn veel extreem hoge uitschieters terwijl het mediaan laag ligt.\n",
    "Om een beter overzicht te krijgen kijken we in een nieuwe boxplot alleen naar functieherstel duur boven de 0 en onder de 360 minuten."
   ]
  },
  {
   "cell_type": "code",
   "execution_count": 14,
   "id": "bffaa562",
   "metadata": {
    "pycharm": {
     "name": "#%%\n"
    }
   },
   "outputs": [
    {
     "data": {
      "text/plain": "<Figure size 432x288 with 1 Axes>",
      "image/png": "[encoded data removed]"
     },
     "metadata": {
      "needs_background": "light"
     },
     "output_type": "display_data"
    }
   ],
   "source": [
    "dataset[zero_360_filter].boxplot('stm_fh_duur')\n",
    "plt.title(\"Boxplot FH duur\")\n",
    "plt.show()"
   ]
  },
  {
   "cell_type": "markdown",
   "id": "e4f50530",
   "metadata": {
    "pycharm": {
     "name": "#%% md\n"
    }
   },
   "source": [
    "Er lijken alleen uitschieters aan de rechter kant te zitten.\n",
    "De maximale niet-uitschieter is ongeveer 300 minuten en de kleinste niet uitschieter 1 minuut.\n",
    "De helft van de vertagingen tussen 1 en 360 minuten valt binnen ongeveer 45 en 150 minuten."
   ]
  },
  {
   "cell_type": "markdown",
   "id": "39100b0c",
   "metadata": {
    "pycharm": {
     "name": "#%% md\n"
    }
   },
   "source": [
    "### Data Preparation\n",
    "Nu de interessante kolommen om een target variabele te voorspellen zijn geanalyseerd kunnen ze worden opgeschoond om de target variabele te construeren.\n"
   ]
  },
  {
   "cell_type": "code",
   "execution_count": 176,
   "id": "a57b5b2a",
   "metadata": {
    "pycharm": {
     "name": "#%%\n"
    }
   },
   "outputs": [],
   "source": [
    "df_target = dataset.copy()"
   ]
  },
  {
   "cell_type": "markdown",
   "id": "ff59f797",
   "metadata": {
    "pycharm": {
     "name": "#%% md\n"
    }
   },
   "source": [
    "##### NA waardes\n",
    "Controleren NA values."
   ]
  },
  {
   "cell_type": "code",
   "execution_count": 177,
   "id": "a8d044dc",
   "metadata": {
    "pycharm": {
     "name": "#%%\n"
    }
   },
   "outputs": [
    {
     "data": {
      "text/plain": "stm_sap_meldtijd    4\nstm_sap_meld_ddt    0\nstm_aanntpl_tijd    0\nstm_aanntpl_ddt     0\nstm_fh_tijd         0\nstm_fh_ddt          0\nstm_fh_duur         0\ndtype: int64"
     },
     "execution_count": 177,
     "metadata": {},
     "output_type": "execute_result"
    }
   ],
   "source": [
    "df_target[target_selection].isna().sum()"
   ]
  },
  {
   "cell_type": "markdown",
   "id": "ffecfacc",
   "metadata": {
    "pycharm": {
     "name": "#%% md\n"
    }
   },
   "source": [
    "Alleen de kolommen aannemer ter plaatse ddt en functie herstel duur ddt bevatten een merkwaardig aantal NaN waardes.\n",
    "Laten we kijken hoeveel van deze NaN waardes overeen komen met een functieherstel tijd van 0 minuten. En ook hoeveel er overeen komen met een aannemer ter plaatse tijdstip van 00:00:00 omdat dit in de data understanding fase opviel."
   ]
  },
  {
   "cell_type": "code",
   "execution_count": 178,
   "id": "a688f19e",
   "metadata": {
    "pycharm": {
     "name": "#%%\n"
    }
   },
   "outputs": [
    {
     "data": {
      "text/plain": "0"
     },
     "execution_count": 178,
     "metadata": {},
     "output_type": "execute_result"
    }
   ],
   "source": [
    "(df_target['stm_aanntpl_tijd'] == '00:00:00').sum()"
   ]
  },
  {
   "cell_type": "markdown",
   "id": "790c9f4f",
   "metadata": {
    "pycharm": {
     "name": "#%% md\n"
    }
   },
   "source": [
    "Bijna alle aannemer ter plaatse tijdstippen komen overeen met 00:00:00 waar der een NaN is voor de ddt variant van de kolom."
   ]
  },
  {
   "cell_type": "code",
   "execution_count": 179,
   "id": "fb24f24f",
   "metadata": {
    "pycharm": {
     "name": "#%%\n"
    }
   },
   "outputs": [
    {
     "data": {
      "text/plain": "0"
     },
     "execution_count": 179,
     "metadata": {},
     "output_type": "execute_result"
    }
   ],
   "source": [
    "(df_target['stm_fh_duur'] == 0).sum()"
   ]
  },
  {
   "cell_type": "markdown",
   "id": "8ba30ff9",
   "metadata": {
    "pycharm": {
     "name": "#%% md\n"
    }
   },
   "source": []
  },
  {
   "cell_type": "code",
   "execution_count": 180,
   "id": "6db6553a",
   "metadata": {
    "pycharm": {
     "name": "#%%\n"
    }
   },
   "outputs": [],
   "source": [
    "df_target[target_selection] = df_target[target_selection].dropna()"
   ]
  },
  {
   "cell_type": "markdown",
   "id": "cceb66d8",
   "metadata": {
    "pycharm": {
     "name": "#%% md\n"
    }
   },
   "source": [
    "##### Duplicate rijen\n",
    "Aantal duplicate rijen controleren en verwijderen."
   ]
  },
  {
   "cell_type": "code",
   "execution_count": 181,
   "id": "dd84aa5b",
   "metadata": {
    "pycharm": {
     "name": "#%%\n"
    }
   },
   "outputs": [
    {
     "data": {
      "text/plain": "0"
     },
     "execution_count": 181,
     "metadata": {},
     "output_type": "execute_result"
    }
   ],
   "source": [
    "df_target.duplicated().sum()"
   ]
  },
  {
   "cell_type": "code",
   "execution_count": 182,
   "id": "3c2ee90d",
   "metadata": {
    "pycharm": {
     "name": "#%%\n"
    }
   },
   "outputs": [],
   "source": [
    "df_target[target_selection] = df_target[target_selection].drop_duplicates()"
   ]
  },
  {
   "cell_type": "markdown",
   "id": "95b4ad6e",
   "metadata": {
    "pycharm": {
     "name": "#%% md\n"
    }
   },
   "source": [
    "##### Dtypes\n",
    "Dtypes controleren"
   ]
  },
  {
   "cell_type": "code",
   "execution_count": 183,
   "id": "f01d2258",
   "metadata": {
    "pycharm": {
     "name": "#%%\n"
    }
   },
   "outputs": [
    {
     "data": {
      "text/plain": "stm_sap_meldtijd            object\nstm_sap_meld_ddt    datetime64[ns]\nstm_aanntpl_tijd            object\nstm_aanntpl_ddt     datetime64[ns]\nstm_fh_tijd                 object\nstm_fh_ddt          datetime64[ns]\nstm_fh_duur                float64\ndtype: object"
     },
     "execution_count": 183,
     "metadata": {},
     "output_type": "execute_result"
    }
   ],
   "source": [
    "df_target[target_selection].dtypes"
   ]
  },
  {
   "cell_type": "markdown",
   "id": "f488ac9f",
   "metadata": {
    "pycharm": {
     "name": "#%% md\n"
    }
   },
   "source": [
    "We veranderen alle dtypes van tijd en datum kolommen naar een datetime object"
   ]
  },
  {
   "cell_type": "code",
   "execution_count": 184,
   "id": "d45273e0",
   "metadata": {
    "pycharm": {
     "name": "#%%\n"
    }
   },
   "outputs": [],
   "source": [
    "ddt_cols = list(filter(lambda x: 'ddt' in x, dataset.columns)) # filter columns on containing 'ddt' in their name\n",
    "df_target[ddt_cols] = df_target[ddt_cols].apply(lambda ddt_col: pd.to_datetime(ddt_col, format='%d/%m/%Y %H:%M:%S', errors='coerce')) # apply to_datetime to every ddt column"
   ]
  },
  {
   "cell_type": "code",
   "execution_count": 185,
   "id": "1f5f45c1",
   "metadata": {
    "pycharm": {
     "name": "#%%\n"
    }
   },
   "outputs": [],
   "source": [
    "tijd_cols = list(filter(lambda x: 'tijd' in x, dataset.columns))\n",
    "df_target[tijd_cols] = df_target[tijd_cols].apply(lambda tijd_col: pd.to_datetime(tijd_col,format= '%H:%M:%S', errors='coerce').dt.time)"
   ]
  },
  {
   "cell_type": "code",
   "execution_count": 186,
   "id": "2a5e5ac7",
   "metadata": {
    "pycharm": {
     "name": "#%%\n"
    }
   },
   "outputs": [
    {
     "data": {
      "text/plain": "stm_sap_meldtijd            object\nstm_sap_meld_ddt    datetime64[ns]\nstm_aanntpl_tijd            object\nstm_aanntpl_ddt     datetime64[ns]\nstm_fh_tijd                 object\nstm_fh_ddt          datetime64[ns]\nstm_fh_duur                float64\ndtype: object"
     },
     "execution_count": 186,
     "metadata": {},
     "output_type": "execute_result"
    }
   ],
   "source": [
    "df_target[target_selection].dtypes # note just the timestamp in H:M stay a object, but is workable now (like sorting and comparing)"
   ]
  },
  {
   "cell_type": "markdown",
   "id": "3c75ca14",
   "metadata": {
    "pycharm": {
     "name": "#%% md\n"
    }
   },
   "source": [
    "De benodigde kolommen hun dtypes zijn nu kloppend.\n",
    "<br>\n",
    "##### Uitschieters\n",
    "\n",
    "Zoals eerder beschreven tijdens de data understanding fase heeft ProRail laten weten vooral geïnteresseerd te zijn in de vertragingen waarvan de oorzakende storing maximaal één werkdag lang is.\n",
    "\n",
    "Daarom halen we alle rijen weg met een functieherstel duur van kleiner gelijk dan 360 minuten oftwel 6 uur.\n",
    "Hiermee wordt gelijk een groot gedeelte van de uitschieters verwijderd."
   ]
  },
  {
   "cell_type": "code",
   "execution_count": 187,
   "id": "1f44e82e",
   "metadata": {
    "pycharm": {
     "name": "#%%\n"
    }
   },
   "outputs": [],
   "source": [
    "df_target = df_target[(df_target['stm_fh_duur'] <= 360)]"
   ]
  },
  {
   "cell_type": "markdown",
   "id": "855488c5",
   "metadata": {
    "pycharm": {
     "name": "#%% md\n"
    }
   },
   "source": [
    "Omdat niet elk model gevoelig is voor uitschieters laten we de uitschieters die er zijn na het verwijderen van alle rijen met een functie hersteltijd hoger dan 8 uur in de data zitten.\n",
    "De overgebleven outliers worden behandeld indien nodig voor destbetreffend model tijdens de modellerings fase."
   ]
  },
  {
   "cell_type": "markdown",
   "id": "eefdc657",
   "metadata": {
    "pycharm": {
     "name": "#%% md\n"
    }
   },
   "source": [
    "Ook worden alle rijen met een functieherstel tijd van 0 minuten verwijderd omdat dit geen vertragingen zijn."
   ]
  },
  {
   "cell_type": "code",
   "execution_count": 188,
   "id": "e1cc0cdc",
   "metadata": {
    "pycharm": {
     "name": "#%%\n"
    }
   },
   "outputs": [],
   "source": [
    "df_target = df_target[(df_target['stm_fh_duur'] > 0)]"
   ]
  },
  {
   "cell_type": "markdown",
   "id": "4126faa0",
   "metadata": {
    "pycharm": {
     "name": "#%% md\n"
    }
   },
   "source": [
    "We willen als target bepalen de duur van aanntpl tijd tot fh tijd.\n",
    "Het is handig om eerst te controleren of de aanntpl ddt altijd eerder is dan de fh ddt."
   ]
  },
  {
   "cell_type": "code",
   "execution_count": 189,
   "id": "05ad6ae4",
   "metadata": {
    "pycharm": {
     "name": "#%%\n"
    }
   },
   "outputs": [
    {
     "name": "stdout",
     "output_type": "stream",
     "text": [
      "0 Rijen waar de FH tijd eerder was dan de aannemer ter plaatse tijd\n"
     ]
    }
   ],
   "source": [
    "print(np.sum(df_target['stm_fh_ddt'] < df_target['stm_aanntpl_ddt']), 'Rijen waar de FH tijd eerder was dan de aannemer ter plaatse tijd')"
   ]
  },
  {
   "cell_type": "markdown",
   "id": "b3fb3225",
   "metadata": {
    "pycharm": {
     "name": "#%% md\n"
    }
   },
   "source": [
    "Laten we deze droppen omdat we voorspellingen willen doen over vertragingen waar een aannemer ter plaatse kwam voordat de functie hersteltijd was."
   ]
  },
  {
   "cell_type": "code",
   "execution_count": 190,
   "id": "51d79adb",
   "metadata": {
    "pycharm": {
     "name": "#%%\n"
    }
   },
   "outputs": [],
   "source": [
    "#df_target[df_target['stm_fh_ddt'] > df_target['stm_aanntpl_ddt']]"
   ]
  },
  {
   "cell_type": "markdown",
   "id": "b7e1eeb3",
   "metadata": {
    "pycharm": {
     "name": "#%% md\n"
    }
   },
   "source": [
    "De data nodig om de target variabele is nu opgeschoond en kan nu worden aangemaakt."
   ]
  },
  {
   "cell_type": "code",
   "execution_count": 191,
   "id": "d4d7be0f",
   "metadata": {
    "pycharm": {
     "name": "#%%\n"
    }
   },
   "outputs": [],
   "source": [
    "df_target['aanntpl_fh_duur'] = ((df_target['stm_fh_ddt'] - df_target['stm_aanntpl_ddt']).dt.total_seconds() / 60).astype('int')"
   ]
  },
  {
   "cell_type": "code",
   "execution_count": 192,
   "outputs": [
    {
     "data": {
      "text/plain": "680751     34\n760628    235\n237571     52\n849077     33\n304567      6\n         ... \n372093     79\n819633    109\n482955      3\n601257     35\n490991      3\nName: aanntpl_fh_duur, Length: 46195, dtype: int32"
     },
     "execution_count": 192,
     "metadata": {},
     "output_type": "execute_result"
    }
   ],
   "source": [
    "df_target['aanntpl_fh_duur']"
   ],
   "metadata": {
    "collapsed": false,
    "pycharm": {
     "name": "#%%\n"
    }
   }
  },
  {
   "cell_type": "markdown",
   "id": "cb2bd1af",
   "metadata": {
    "pycharm": {
     "name": "#%% md\n"
    }
   },
   "source": [
    "Waardes verwijderen van 0 of lager door dat de functieherstel tijd in de data eerder was dan het tijdstip dat de aannemer ter plaatse kwam volgens de data."
   ]
  },
  {
   "cell_type": "code",
   "execution_count": 153,
   "id": "66a51f04",
   "metadata": {
    "pycharm": {
     "name": "#%%\n"
    }
   },
   "outputs": [],
   "source": [
    "#df_target = df_target[ ( df_target['aanntpl_fh_duur'] > 0 ) ]\n",
    "#df_target = df_target[ ( df_target['aanntpl_fh_duur'] <= 360 ) ] # fix this at earlier stage."
   ]
  },
  {
   "cell_type": "markdown",
   "id": "6d41cd3c",
   "metadata": {
    "pycharm": {
     "name": "#%% md\n"
    }
   },
   "source": [
    "##### Target variabele gemaakt en schoon.\n",
    "Target variabele aantpl_fh_duur, de duur vanaf het moment dat de aannemer ter plaatse is tot de functieherstel tijd, is nu opgeschoond en de originele dataset kan worden gemerged. Om een nieuw dataframe te maken met alle kolommen maar alleen de rijen die zijn overgebleven na het huidige proces."
   ]
  },
  {
   "cell_type": "code",
   "execution_count": 154,
   "id": "220016ef",
   "metadata": {
    "pycharm": {
     "name": "#%%\n"
    }
   },
   "outputs": [],
   "source": [
    "dataset = df_target"
   ]
  },
  {
   "cell_type": "code",
   "execution_count": 194,
   "id": "f0fd5b87",
   "metadata": {
    "pycharm": {
     "name": "#%%\n"
    }
   },
   "outputs": [
    {
     "data": {
      "text/plain": "680751     34\n760628    235\n237571     52\n849077     33\n304567      6\n         ... \n372093     79\n819633    109\n482955      3\n601257     35\n490991      3\nName: aanntpl_fh_duur, Length: 46199, dtype: int32"
     },
     "execution_count": 194,
     "metadata": {},
     "output_type": "execute_result"
    }
   ],
   "source": [
    "dataset['aanntpl_fh_duur']"
   ]
  },
  {
   "cell_type": "markdown",
   "id": "1281aac4",
   "metadata": {
    "pycharm": {
     "name": "#%% md\n"
    }
   },
   "source": [
    "### Modeling baseline\n",
    "\n",
    "Het is belangrijk om een baseline te hebben. Dit is een rudimentaire voorspelling, die we als lat leggen voor onze andere modellen.\n",
    "Omdat het meetniveau van de target variabele continue is wordt voor een uiteindelijk een regressie model gebruikt. Voor een baseline voor een regressie model kunnen we een centrummaat zoals het gemiddelde of de mediaan."
   ]
  },
  {
   "cell_type": "markdown",
   "id": "1235f52c",
   "metadata": {
    "pycharm": {
     "name": "#%% md\n"
    }
   },
   "source": [
    "##### Het splitsen van de dataset\n",
    "We splitsen de data op in een train- en testset."
   ]
  },
  {
   "cell_type": "code",
   "execution_count": 195,
   "id": "ad7f1a27",
   "metadata": {
    "pycharm": {
     "name": "#%%\n"
    }
   },
   "outputs": [],
   "source": [
    "target = 'aanntpl_fh_duur'\n",
    "X = dataset.drop(target ,axis=1)\n",
    "y = dataset[target]\n",
    "X_train, X_test, y_train, y_test = train_test_split(X, y, random_state=0)"
   ]
  },
  {
   "cell_type": "markdown",
   "id": "4a056418",
   "metadata": {
    "pycharm": {
     "name": "#%% md\n"
    }
   },
   "source": [
    "##### Baseline model maken en fitten"
   ]
  },
  {
   "cell_type": "code",
   "execution_count": 196,
   "id": "d99b2092",
   "metadata": {
    "pycharm": {
     "name": "#%%\n"
    }
   },
   "outputs": [],
   "source": [
    "baseline = DummyRegressor(strategy = 'mean').fit(X_train, y_train)"
   ]
  },
  {
   "cell_type": "code",
   "execution_count": 197,
   "id": "a3ff486c",
   "metadata": {
    "pycharm": {
     "name": "#%%\n"
    }
   },
   "outputs": [],
   "source": [
    "y_predict = baseline.predict(X_test)"
   ]
  },
  {
   "cell_type": "code",
   "execution_count": 200,
   "id": "f2a7f0cf",
   "metadata": {
    "pycharm": {
     "name": "#%%\n"
    }
   },
   "outputs": [
    {
     "data": {
      "text/plain": "<Figure size 432x288 with 1 Axes>",
      "image/png": "[encoded data removed]"
     },
     "metadata": {
      "needs_background": "light"
     },
     "output_type": "display_data"
    },
    {
     "name": "stdout",
     "output_type": "stream",
     "text": [
      " RMSE Baseline model: 56\n"
     ]
    }
   ],
   "source": [
    "plt.plot(y_predict, c='r', linewidth=3)\n",
    "plt.scatter(x=np.arange(len(X_test)), y=y_test, s=1)\n",
    "\n",
    "plt.title(\"Baseline voorspelling tegen de echte waardes\")\n",
    "plt.xlabel(\"Datapunt\")\n",
    "plt.ylabel(\"Herstelduur vanaf aannemer ter plaatse\")\n",
    "plt.legend([\"Baseline\", \"Actual value\"], loc=\"upper right\")\n",
    "plt.show()\n",
    "\n",
    "baseline_rmse = round(mean_squared_error(y_test, y_predict, squared=False))\n",
    "print(f\" RMSE Baseline model: {baseline_rmse}\")"
   ]
  },
  {
   "cell_type": "markdown",
   "id": "bfa33584",
   "metadata": {
    "pycharm": {
     "name": "#%% md\n"
    }
   },
   "source": [
    "De te implementeren modellen kunnen we vergelijken met deze score om zo te bepalen of hij beter is dat het baseline model en zo ja, in welke maten?"
   ]
  },
  {
   "cell_type": "markdown",
   "id": "4c0023d3",
   "metadata": {
    "pycharm": {
     "name": "#%% md\n"
    }
   },
   "source": [
    "#### Vanaf hier de benodigde CRISP-DM stappen opnieuw doorlopen voor het eerste model."
   ]
  },
  {
   "cell_type": "markdown",
   "id": "34f052ea",
   "metadata": {
    "pycharm": {
     "name": "#%% md\n"
    }
   },
   "source": [
    "### Data understanding model 1"
   ]
  },
  {
   "cell_type": "code",
   "execution_count": 39,
   "id": "e6181999",
   "metadata": {
    "pycharm": {
     "name": "#%%\n"
    }
   },
   "outputs": [
    {
     "name": "stdout",
     "output_type": "stream",
     "text": [
      "99 stm_sap_meld_ddt\n",
      "97 stm_sap_mon_meld_ddt\n",
      "23 stm_mon_begin_ddt\n",
      "99 stm_aanngeb_ddt\n",
      "0 stm_aanntpl_ddt\n",
      "1 stm_progfh_in_ddt\n",
      "2 stm_progfh_in_invoer_ddt\n",
      "1 stm_progfh_gw_ddt\n",
      "1 stm_progfh_gw_lwd_ddt\n",
      "5 stm_afspr_aanvangddt\n",
      "0 stm_fh_ddt\n",
      "0 stm_sap_storeind_ddt\n",
      "5 stm_mon_eind_ddt\n",
      "0 stm_afsluit_ddt\n",
      "84 stm_rec_toegev_ddt\n"
     ]
    }
   ],
   "source": [
    "for col in list(filter(lambda x: 'progfh' and 'ddt' in x, dataset.columns)):\n",
    "    print(round((np.sum(dataset['stm_aanntpl_ddt'] > dataset[col])/dataset.shape[0])*100), col)"
   ]
  },
  {
   "cell_type": "code",
   "execution_count": 210,
   "id": "6e4042a1",
   "metadata": {
    "pycharm": {
     "name": "#%%\n"
    }
   },
   "outputs": [
    {
     "data": {
      "text/plain": "                stm_fh_ddt stm_progfh_in_invoer_ddt     stm_aanntpl_ddt  \\\n680751 2015-01-30 19:20:00      2015-01-30 19:21:50 2015-01-30 18:46:00   \n237571 2006-08-06 12:19:00      2006-08-06 11:29:29 2006-08-06 11:27:00   \n849077 2017-09-19 13:34:00      2017-09-19 13:33:37 2017-09-19 13:00:01   \n304567 2008-05-06 12:07:00      2008-05-06 12:02:08 2008-05-06 12:01:00   \n515604 2013-03-01 09:54:00      2013-03-01 10:00:01 2013-03-01 09:47:00   \n...                    ...                      ...                 ...   \n626157 2014-05-13 17:30:00      2014-05-13 17:40:11 2014-05-13 17:25:00   \n372093 2010-01-06 20:45:00      2010-01-06 19:27:46 2010-01-06 19:26:00   \n482955 2012-08-05 20:27:00      2012-08-05 20:27:54 2012-08-05 20:24:00   \n601257 2014-02-12 17:35:00      2014-02-12 17:34:44 2014-02-12 17:00:00   \n490991 2012-10-23 07:18:00      2012-10-23 07:30:38 2012-10-23 07:15:00   \n\n        aanntpl_fh_duur  EIGEN_aanntpl_fh_duur_prog  \n680751               34                        59.0  \n237571               52                        60.0  \n849077               33                     10111.0  \n304567                6                         0.0  \n515604                7                         5.0  \n...                 ...                         ...  \n626157                5                        35.0  \n372093               79                       151.0  \n482955                3                      1446.0  \n601257               35                        45.0  \n490991                3                        15.0  \n\n[31024 rows x 5 columns]",
      "text/html": "<div>\n<style scoped>\n    .dataframe tbody tr th:only-of-type {\n        vertical-align: middle;\n    }\n\n    .dataframe tbody tr th {\n        vertical-align: top;\n    }\n\n    .dataframe thead th {\n        text-align: right;\n    }\n</style>\n<table border=\"1\" class=\"dataframe\">\n  <thead>\n    <tr style=\"text-align: right;\">\n      <th></th>\n      <th>stm_fh_ddt</th>\n      <th>stm_progfh_in_invoer_ddt</th>\n      <th>stm_aanntpl_ddt</th>\n      <th>aanntpl_fh_duur</th>\n      <th>EIGEN_aanntpl_fh_duur_prog</th>\n    </tr>\n  </thead>\n  <tbody>\n    <tr>\n      <th>680751</th>\n      <td>2015-01-30 19:20:00</td>\n      <td>2015-01-30 19:21:50</td>\n      <td>2015-01-30 18:46:00</td>\n      <td>34</td>\n      <td>59.0</td>\n    </tr>\n    <tr>\n      <th>237571</th>\n      <td>2006-08-06 12:19:00</td>\n      <td>2006-08-06 11:29:29</td>\n      <td>2006-08-06 11:27:00</td>\n      <td>52</td>\n      <td>60.0</td>\n    </tr>\n    <tr>\n      <th>849077</th>\n      <td>2017-09-19 13:34:00</td>\n      <td>2017-09-19 13:33:37</td>\n      <td>2017-09-19 13:00:01</td>\n      <td>33</td>\n      <td>10111.0</td>\n    </tr>\n    <tr>\n      <th>304567</th>\n      <td>2008-05-06 12:07:00</td>\n      <td>2008-05-06 12:02:08</td>\n      <td>2008-05-06 12:01:00</td>\n      <td>6</td>\n      <td>0.0</td>\n    </tr>\n    <tr>\n      <th>515604</th>\n      <td>2013-03-01 09:54:00</td>\n      <td>2013-03-01 10:00:01</td>\n      <td>2013-03-01 09:47:00</td>\n      <td>7</td>\n      <td>5.0</td>\n    </tr>\n    <tr>\n      <th>...</th>\n      <td>...</td>\n      <td>...</td>\n      <td>...</td>\n      <td>...</td>\n      <td>...</td>\n    </tr>\n    <tr>\n      <th>626157</th>\n      <td>2014-05-13 17:30:00</td>\n      <td>2014-05-13 17:40:11</td>\n      <td>2014-05-13 17:25:00</td>\n      <td>5</td>\n      <td>35.0</td>\n    </tr>\n    <tr>\n      <th>372093</th>\n      <td>2010-01-06 20:45:00</td>\n      <td>2010-01-06 19:27:46</td>\n      <td>2010-01-06 19:26:00</td>\n      <td>79</td>\n      <td>151.0</td>\n    </tr>\n    <tr>\n      <th>482955</th>\n      <td>2012-08-05 20:27:00</td>\n      <td>2012-08-05 20:27:54</td>\n      <td>2012-08-05 20:24:00</td>\n      <td>3</td>\n      <td>1446.0</td>\n    </tr>\n    <tr>\n      <th>601257</th>\n      <td>2014-02-12 17:35:00</td>\n      <td>2014-02-12 17:34:44</td>\n      <td>2014-02-12 17:00:00</td>\n      <td>35</td>\n      <td>45.0</td>\n    </tr>\n    <tr>\n      <th>490991</th>\n      <td>2012-10-23 07:18:00</td>\n      <td>2012-10-23 07:30:38</td>\n      <td>2012-10-23 07:15:00</td>\n      <td>3</td>\n      <td>15.0</td>\n    </tr>\n  </tbody>\n</table>\n<p>31024 rows × 5 columns</p>\n</div>"
     },
     "execution_count": 210,
     "metadata": {},
     "output_type": "execute_result"
    }
   ],
   "source": [
    "dataset[(round((dataset['stm_progfh_in_invoer_ddt']-dataset['stm_aanntpl_ddt']).dt.total_seconds()/60) > 0)][['stm_fh_ddt','stm_progfh_in_invoer_ddt','stm_aanntpl_ddt', target, 'EIGEN_aanntpl_fh_duur_prog']]"
   ]
  },
  {
   "cell_type": "code",
   "execution_count": 218,
   "outputs": [
    {
     "data": {
      "text/plain": "11558"
     },
     "execution_count": 218,
     "metadata": {},
     "output_type": "execute_result"
    }
   ],
   "source": [
    "np.sum(dataset['stm_fh_ddt'] < dataset['stm_progfh_in_invoer_ddt'])"
   ],
   "metadata": {
    "collapsed": false,
    "pycharm": {
     "name": "#%%\n"
    }
   }
  },
  {
   "cell_type": "markdown",
   "source": [
    "Een groter deel van de prognose invoer tijden zijn ingevuld nadat de functiehersteltijd"
   ],
   "metadata": {
    "collapsed": false,
    "pycharm": {
     "name": "#%% md\n"
    }
   }
  },
  {
   "cell_type": "code",
   "execution_count": 41,
   "id": "8db7125e",
   "metadata": {
    "pycharm": {
     "name": "#%%\n"
    }
   },
   "outputs": [
    {
     "data": {
      "text/plain": "46199"
     },
     "execution_count": 41,
     "metadata": {},
     "output_type": "execute_result"
    }
   ],
   "source": [
    "dataset.shape[0]"
   ]
  },
  {
   "cell_type": "markdown",
   "id": "2d475db1",
   "metadata": {},
   "source": []
  },
  {
   "cell_type": "code",
   "execution_count": 236,
   "id": "5750cc05",
   "metadata": {
    "pycharm": {
     "name": "#%%\n"
    }
   },
   "outputs": [
    {
     "data": {
      "text/plain": "       stm_progfh_in_duur  EIGEN_aanntpl_fh_duur_prog  EIGEN_aanttpl_fh_duur  \\\n680751                 59                        59.0                     34   \n237571                 60                        60.0                     52   \n304567                  0                         0.0                      6   \n515604                  5                         5.0                      7   \n498789                185                       185.0                    175   \n...                   ...                         ...                    ...   \n626157                 35                        35.0                      5   \n768115                 70                        70.0                     39   \n372093                151                       151.0                     79   \n601257                 45                        45.0                     35   \n490991                 15                        15.0                      3   \n\n        stm_fh_duur  EIGEN_fh_duur_prog     stm_aanntpl_ddt  \\\n680751        108.0               133.0 2015-01-30 18:46:00   \n237571        116.0               124.0 2006-08-06 11:27:00   \n304567        104.0               100.0 2008-05-06 12:01:00   \n515604         11.0                 9.0 2013-03-01 09:47:00   \n498789        244.0               256.0 2012-12-30 11:55:00   \n...             ...                 ...                 ...   \n626157          8.0                39.0 2014-05-13 17:25:00   \n768115         99.0               130.0 2016-05-19 01:20:00   \n372093        195.0               269.0 2010-01-06 19:26:00   \n601257         74.0                84.0 2014-02-12 17:00:00   \n490991         18.0                30.0 2012-10-23 07:15:00   \n\n         stm_progfh_in_ddt stm_progfh_in_datum stm_progfh_in_tijd  \n680751 2015-01-30 19:45:00          30/01/2015           19:45:00  \n237571 2006-08-06 12:27:00          06/08/2006           12:27:00  \n304567 2008-05-06 12:01:00          06/05/2008           12:01:00  \n515604 2013-03-01 09:52:00          01/03/2013           09:52:00  \n498789 2012-12-30 15:00:00          30/12/2012           15:00:00  \n...                    ...                 ...                ...  \n626157 2014-05-13 18:00:00          13/05/2014           18:00:00  \n768115 2016-05-19 02:30:00          19/05/2016           02:30:00  \n372093 2010-01-06 21:57:00          06/01/2010           21:57:00  \n601257 2014-02-12 17:45:00          12/02/2014           17:45:00  \n490991 2012-10-23 07:30:00          23/10/2012           07:30:00  \n\n[35680 rows x 9 columns]",
      "text/html": "<div>\n<style scoped>\n    .dataframe tbody tr th:only-of-type {\n        vertical-align: middle;\n    }\n\n    .dataframe tbody tr th {\n        vertical-align: top;\n    }\n\n    .dataframe thead th {\n        text-align: right;\n    }\n</style>\n<table border=\"1\" class=\"dataframe\">\n  <thead>\n    <tr style=\"text-align: right;\">\n      <th></th>\n      <th>stm_progfh_in_duur</th>\n      <th>EIGEN_aanntpl_fh_duur_prog</th>\n      <th>EIGEN_aanttpl_fh_duur</th>\n      <th>stm_fh_duur</th>\n      <th>EIGEN_fh_duur_prog</th>\n      <th>stm_aanntpl_ddt</th>\n      <th>stm_progfh_in_ddt</th>\n      <th>stm_progfh_in_datum</th>\n      <th>stm_progfh_in_tijd</th>\n    </tr>\n  </thead>\n  <tbody>\n    <tr>\n      <th>680751</th>\n      <td>59</td>\n      <td>59.0</td>\n      <td>34</td>\n      <td>108.0</td>\n      <td>133.0</td>\n      <td>2015-01-30 18:46:00</td>\n      <td>2015-01-30 19:45:00</td>\n      <td>30/01/2015</td>\n      <td>19:45:00</td>\n    </tr>\n    <tr>\n      <th>237571</th>\n      <td>60</td>\n      <td>60.0</td>\n      <td>52</td>\n      <td>116.0</td>\n      <td>124.0</td>\n      <td>2006-08-06 11:27:00</td>\n      <td>2006-08-06 12:27:00</td>\n      <td>06/08/2006</td>\n      <td>12:27:00</td>\n    </tr>\n    <tr>\n      <th>304567</th>\n      <td>0</td>\n      <td>0.0</td>\n      <td>6</td>\n      <td>104.0</td>\n      <td>100.0</td>\n      <td>2008-05-06 12:01:00</td>\n      <td>2008-05-06 12:01:00</td>\n      <td>06/05/2008</td>\n      <td>12:01:00</td>\n    </tr>\n    <tr>\n      <th>515604</th>\n      <td>5</td>\n      <td>5.0</td>\n      <td>7</td>\n      <td>11.0</td>\n      <td>9.0</td>\n      <td>2013-03-01 09:47:00</td>\n      <td>2013-03-01 09:52:00</td>\n      <td>01/03/2013</td>\n      <td>09:52:00</td>\n    </tr>\n    <tr>\n      <th>498789</th>\n      <td>185</td>\n      <td>185.0</td>\n      <td>175</td>\n      <td>244.0</td>\n      <td>256.0</td>\n      <td>2012-12-30 11:55:00</td>\n      <td>2012-12-30 15:00:00</td>\n      <td>30/12/2012</td>\n      <td>15:00:00</td>\n    </tr>\n    <tr>\n      <th>...</th>\n      <td>...</td>\n      <td>...</td>\n      <td>...</td>\n      <td>...</td>\n      <td>...</td>\n      <td>...</td>\n      <td>...</td>\n      <td>...</td>\n      <td>...</td>\n    </tr>\n    <tr>\n      <th>626157</th>\n      <td>35</td>\n      <td>35.0</td>\n      <td>5</td>\n      <td>8.0</td>\n      <td>39.0</td>\n      <td>2014-05-13 17:25:00</td>\n      <td>2014-05-13 18:00:00</td>\n      <td>13/05/2014</td>\n      <td>18:00:00</td>\n    </tr>\n    <tr>\n      <th>768115</th>\n      <td>70</td>\n      <td>70.0</td>\n      <td>39</td>\n      <td>99.0</td>\n      <td>130.0</td>\n      <td>2016-05-19 01:20:00</td>\n      <td>2016-05-19 02:30:00</td>\n      <td>19/05/2016</td>\n      <td>02:30:00</td>\n    </tr>\n    <tr>\n      <th>372093</th>\n      <td>151</td>\n      <td>151.0</td>\n      <td>79</td>\n      <td>195.0</td>\n      <td>269.0</td>\n      <td>2010-01-06 19:26:00</td>\n      <td>2010-01-06 21:57:00</td>\n      <td>06/01/2010</td>\n      <td>21:57:00</td>\n    </tr>\n    <tr>\n      <th>601257</th>\n      <td>45</td>\n      <td>45.0</td>\n      <td>35</td>\n      <td>74.0</td>\n      <td>84.0</td>\n      <td>2014-02-12 17:00:00</td>\n      <td>2014-02-12 17:45:00</td>\n      <td>12/02/2014</td>\n      <td>17:45:00</td>\n    </tr>\n    <tr>\n      <th>490991</th>\n      <td>15</td>\n      <td>15.0</td>\n      <td>3</td>\n      <td>18.0</td>\n      <td>30.0</td>\n      <td>2012-10-23 07:15:00</td>\n      <td>2012-10-23 07:30:00</td>\n      <td>23/10/2012</td>\n      <td>07:30:00</td>\n    </tr>\n  </tbody>\n</table>\n<p>35680 rows × 9 columns</p>\n</div>"
     },
     "execution_count": 236,
     "metadata": {},
     "output_type": "execute_result"
    }
   ],
   "source": [
    "dataset[(dataset['EIGEN_fh_duur_prog']>0) & (dataset['EIGEN_fh_duur_prog']<360*4)][['stm_progfh_in_duur', 'EIGEN_aanntpl_fh_duur_prog','EIGEN_aanttpl_fh_duur','stm_fh_duur', 'EIGEN_fh_duur_prog', 'stm_aanntpl_ddt','stm_progfh_in_ddt', 'stm_progfh_in_datum', 'stm_progfh_in_tijd']]\n",
    "#['stm_progfh_in_duur', 'stm_fh_duur', 'duur', 'aanntpl_fh_duur', 'duur_aanntpl_prog', 'stm_aanntpl_ddt','stm_fh_ddt']"
   ]
  },
  {
   "cell_type": "code",
   "execution_count": 228,
   "id": "3639c5a0",
   "metadata": {
    "pycharm": {
     "name": "#%%\n"
    }
   },
   "outputs": [],
   "source": [
    "dataset['EIGEN_fh_duur_prog'] = round(((dataset['stm_progfh_in_ddt'] - dataset['stm_sap_meld_ddt']).dt.total_seconds()/60))\n",
    "dataset['EIGEN_aanntpl_fh_duur_prog'] = round(((dataset['stm_progfh_in_ddt'] - dataset['stm_aanntpl_ddt']).dt.total_seconds()/60))\n",
    "dataset['EIGEN_aanttpl_fh_duur'] = dataset[target]\n",
    "# ZELFDE ALS STM PROG FH IN DUUR\n",
    "\n",
    "# FH DUUR prognose = prognose DDT - Melding DDT\n",
    "# FH DUUR prognose vanaf aanntpl = prognose DDT - aanntpl DDT\n",
    "# FH DUUR vanaf aanntpl = FunctieHerstel DDT - aanntpl DDT\n",
    "\n",
    "# Conclusies uit bovenstaande tabel:\n",
    "# 1. stm_progfh_in_duur is *meestal* de FH Duur prognose vanaf aanntpl anders de totale FH Duur prognose\n",
    "# 2. Prognoses zijn soms negatief of 0 (geen geldige prognose!)\n",
    "# 3. Er zijn positieve prognoses ver, ver van de daadwerkelijke tijd afzitten bijv:\n",
    "#                                                                                  FH duur van 235, Prognose van 4122860\n",
    "# Omdat we ons vooral focussen op het voorspellen van 'korte' vertragingen, Alles met een prognose van < 360 weg?"
   ]
  },
  {
   "cell_type": "code",
   "execution_count": 60,
   "id": "8d34139b",
   "metadata": {
    "pycharm": {
     "name": "#%%\n"
    }
   },
   "outputs": [
    {
     "name": "stderr",
     "output_type": "stream",
     "text": [
      "<ipython-input-60-d94779b304e3>:1: FutureWarning: Treating datetime data as categorical rather than numeric in `.describe` is deprecated and will be removed in a future version of pandas. Specify `datetime_is_numeric=True` to silence this warning and adopt the future behavior now.\n",
      "  dataset['stm_sap_meld_ddt'].describe()\n"
     ]
    },
    {
     "data": {
      "text/plain": "count                   46199\nunique                  45927\ntop       2014-02-24 21:08:00\nfreq                        3\nfirst     2006-01-02 09:19:46\nlast      2019-07-09 03:07:25\nName: stm_sap_meld_ddt, dtype: object"
     },
     "execution_count": 60,
     "metadata": {},
     "output_type": "execute_result"
    }
   ],
   "source": [
    "dataset['stm_sap_meld_ddt'].describe()"
   ]
  },
  {
   "cell_type": "code",
   "execution_count": 146,
   "id": "fb165c3b",
   "metadata": {
    "pycharm": {
     "name": "#%%\n"
    }
   },
   "outputs": [
    {
     "data": {
      "text/plain": "        aanntpl_fh_duur  EIGEN_aanntpl_fh_duur_prog  EIGEN_fh_duur_prog  \\\n680751               34                        59.0               133.0   \n237571               52                        60.0               124.0   \n849077               33                     10111.0             10181.0   \n304567                6                         0.0               100.0   \n515604                7                         5.0                 9.0   \n...                 ...                         ...                 ...   \n768115               39                        70.0               130.0   \n372093               79                       151.0               269.0   \n482955                3                      1446.0              1477.0   \n601257               35                        45.0                84.0   \n490991                3                        15.0                30.0   \n\n        stm_fh_duur  \n680751        108.0  \n237571        116.0  \n849077        104.0  \n304567        104.0  \n515604         11.0  \n...             ...  \n768115         99.0  \n372093        195.0  \n482955         34.0  \n601257         74.0  \n490991         18.0  \n\n[36781 rows x 4 columns]",
      "text/html": "<div>\n<style scoped>\n    .dataframe tbody tr th:only-of-type {\n        vertical-align: middle;\n    }\n\n    .dataframe tbody tr th {\n        vertical-align: top;\n    }\n\n    .dataframe thead th {\n        text-align: right;\n    }\n</style>\n<table border=\"1\" class=\"dataframe\">\n  <thead>\n    <tr style=\"text-align: right;\">\n      <th></th>\n      <th>aanntpl_fh_duur</th>\n      <th>EIGEN_aanntpl_fh_duur_prog</th>\n      <th>EIGEN_fh_duur_prog</th>\n      <th>stm_fh_duur</th>\n    </tr>\n  </thead>\n  <tbody>\n    <tr>\n      <th>680751</th>\n      <td>34</td>\n      <td>59.0</td>\n      <td>133.0</td>\n      <td>108.0</td>\n    </tr>\n    <tr>\n      <th>237571</th>\n      <td>52</td>\n      <td>60.0</td>\n      <td>124.0</td>\n      <td>116.0</td>\n    </tr>\n    <tr>\n      <th>849077</th>\n      <td>33</td>\n      <td>10111.0</td>\n      <td>10181.0</td>\n      <td>104.0</td>\n    </tr>\n    <tr>\n      <th>304567</th>\n      <td>6</td>\n      <td>0.0</td>\n      <td>100.0</td>\n      <td>104.0</td>\n    </tr>\n    <tr>\n      <th>515604</th>\n      <td>7</td>\n      <td>5.0</td>\n      <td>9.0</td>\n      <td>11.0</td>\n    </tr>\n    <tr>\n      <th>...</th>\n      <td>...</td>\n      <td>...</td>\n      <td>...</td>\n      <td>...</td>\n    </tr>\n    <tr>\n      <th>768115</th>\n      <td>39</td>\n      <td>70.0</td>\n      <td>130.0</td>\n      <td>99.0</td>\n    </tr>\n    <tr>\n      <th>372093</th>\n      <td>79</td>\n      <td>151.0</td>\n      <td>269.0</td>\n      <td>195.0</td>\n    </tr>\n    <tr>\n      <th>482955</th>\n      <td>3</td>\n      <td>1446.0</td>\n      <td>1477.0</td>\n      <td>34.0</td>\n    </tr>\n    <tr>\n      <th>601257</th>\n      <td>35</td>\n      <td>45.0</td>\n      <td>84.0</td>\n      <td>74.0</td>\n    </tr>\n    <tr>\n      <th>490991</th>\n      <td>3</td>\n      <td>15.0</td>\n      <td>30.0</td>\n      <td>18.0</td>\n    </tr>\n  </tbody>\n</table>\n<p>36781 rows × 4 columns</p>\n</div>"
     },
     "execution_count": 146,
     "metadata": {},
     "output_type": "execute_result"
    }
   ],
   "source": [
    "t[[target, 'EIGEN_aanntpl_fh_duur_prog', 'EIGEN_fh_duur_prog', 'stm_fh_duur']]"
   ]
  },
  {
   "cell_type": "code",
   "execution_count": 145,
   "id": "31edfc2b",
   "metadata": {
    "pycharm": {
     "name": "#%%\n"
    }
   },
   "outputs": [],
   "source": [
    "t = dataset[[target, 'EIGEN_aanntpl_fh_duur_prog', 'EIGEN_fh_duur_prog', 'stm_fh_duur']].dropna().copy()"
   ]
  },
  {
   "cell_type": "code",
   "execution_count": 141,
   "outputs": [
    {
     "data": {
      "text/plain": "        EIGEN_aanntpl_fh_duur_prog\n680751                        59.0\n237571                        60.0\n515604                         5.0\n498789                       185.0\n345916                        70.0\n...                            ...\n626157                        35.0\n768115                        70.0\n372093                       151.0\n601257                        45.0\n490991                        15.0\n\n[33855 rows x 1 columns]",
      "text/html": "<div>\n<style scoped>\n    .dataframe tbody tr th:only-of-type {\n        vertical-align: middle;\n    }\n\n    .dataframe tbody tr th {\n        vertical-align: top;\n    }\n\n    .dataframe thead th {\n        text-align: right;\n    }\n</style>\n<table border=\"1\" class=\"dataframe\">\n  <thead>\n    <tr style=\"text-align: right;\">\n      <th></th>\n      <th>EIGEN_aanntpl_fh_duur_prog</th>\n    </tr>\n  </thead>\n  <tbody>\n    <tr>\n      <th>680751</th>\n      <td>59.0</td>\n    </tr>\n    <tr>\n      <th>237571</th>\n      <td>60.0</td>\n    </tr>\n    <tr>\n      <th>515604</th>\n      <td>5.0</td>\n    </tr>\n    <tr>\n      <th>498789</th>\n      <td>185.0</td>\n    </tr>\n    <tr>\n      <th>345916</th>\n      <td>70.0</td>\n    </tr>\n    <tr>\n      <th>...</th>\n      <td>...</td>\n    </tr>\n    <tr>\n      <th>626157</th>\n      <td>35.0</td>\n    </tr>\n    <tr>\n      <th>768115</th>\n      <td>70.0</td>\n    </tr>\n    <tr>\n      <th>372093</th>\n      <td>151.0</td>\n    </tr>\n    <tr>\n      <th>601257</th>\n      <td>45.0</td>\n    </tr>\n    <tr>\n      <th>490991</th>\n      <td>15.0</td>\n    </tr>\n  </tbody>\n</table>\n<p>33855 rows × 1 columns</p>\n</div>"
     },
     "execution_count": 141,
     "metadata": {},
     "output_type": "execute_result"
    }
   ],
   "source": [
    "t[['EIGEN_aanntpl_fh_duur_prog']]"
   ],
   "metadata": {
    "collapsed": false,
    "pycharm": {
     "name": "#%%\n"
    }
   }
  },
  {
   "cell_type": "code",
   "execution_count": 140,
   "outputs": [
    {
     "data": {
      "text/plain": "680751     59.0\n237571     60.0\n515604      5.0\n498789    185.0\n345916     70.0\n          ...  \n626157     35.0\n768115     70.0\n372093    151.0\n601257     45.0\n490991     15.0\nName: EIGEN_aanntpl_fh_duur_prog, Length: 33855, dtype: float64"
     },
     "execution_count": 140,
     "metadata": {},
     "output_type": "execute_result"
    }
   ],
   "source": [
    "t[(t['EIGEN_fh_duur_prog'] < 360) & (t['EIGEN_fh_duur_prog'] > 0)]['EIGEN_aanntpl_fh_duur_prog']"
   ],
   "metadata": {
    "collapsed": false,
    "pycharm": {
     "name": "#%%\n"
    }
   }
  },
  {
   "cell_type": "code",
   "execution_count": 134,
   "outputs": [
    {
     "data": {
      "text/plain": "680751     59.0\n237571     60.0\n515604      5.0\n498789    185.0\n345916     70.0\n          ...  \n626157     35.0\n768115     70.0\n372093    151.0\n601257     45.0\n490991     15.0\nName: EIGEN_aanntpl_fh_duur_prog, Length: 33855, dtype: float64"
     },
     "execution_count": 134,
     "metadata": {},
     "output_type": "execute_result"
    }
   ],
   "source": [
    "t['EIGEN_aanntpl_fh_duur_prog']"
   ],
   "metadata": {
    "collapsed": false,
    "pycharm": {
     "name": "#%%\n"
    }
   }
  },
  {
   "cell_type": "code",
   "execution_count": 133,
   "id": "0f5f1632",
   "metadata": {
    "pycharm": {
     "name": "#%%\n"
    }
   },
   "outputs": [
    {
     "ename": "KeyError",
     "evalue": "'fh_duur_prog'",
     "output_type": "error",
     "traceback": [
      "\u001B[1;31m---------------------------------------------------------------------------\u001B[0m",
      "\u001B[1;31mKeyError\u001B[0m                                  Traceback (most recent call last)",
      "\u001B[1;32mc:\\users\\sjoerd-laptop\\appdata\\local\\programs\\python\\python39\\lib\\site-packages\\pandas\\core\\indexes\\base.py\u001B[0m in \u001B[0;36mget_loc\u001B[1;34m(self, key, method, tolerance)\u001B[0m\n\u001B[0;32m   3079\u001B[0m             \u001B[1;32mtry\u001B[0m\u001B[1;33m:\u001B[0m\u001B[1;33m\u001B[0m\u001B[1;33m\u001B[0m\u001B[0m\n\u001B[1;32m-> 3080\u001B[1;33m                 \u001B[1;32mreturn\u001B[0m \u001B[0mself\u001B[0m\u001B[1;33m.\u001B[0m\u001B[0m_engine\u001B[0m\u001B[1;33m.\u001B[0m\u001B[0mget_loc\u001B[0m\u001B[1;33m(\u001B[0m\u001B[0mcasted_key\u001B[0m\u001B[1;33m)\u001B[0m\u001B[1;33m\u001B[0m\u001B[1;33m\u001B[0m\u001B[0m\n\u001B[0m\u001B[0;32m   3081\u001B[0m             \u001B[1;32mexcept\u001B[0m \u001B[0mKeyError\u001B[0m \u001B[1;32mas\u001B[0m \u001B[0merr\u001B[0m\u001B[1;33m:\u001B[0m\u001B[1;33m\u001B[0m\u001B[1;33m\u001B[0m\u001B[0m\n",
      "\u001B[1;32mpandas\\_libs\\index.pyx\u001B[0m in \u001B[0;36mpandas._libs.index.IndexEngine.get_loc\u001B[1;34m()\u001B[0m\n",
      "\u001B[1;32mpandas\\_libs\\index.pyx\u001B[0m in \u001B[0;36mpandas._libs.index.IndexEngine.get_loc\u001B[1;34m()\u001B[0m\n",
      "\u001B[1;32mpandas\\_libs\\hashtable_class_helper.pxi\u001B[0m in \u001B[0;36mpandas._libs.hashtable.PyObjectHashTable.get_item\u001B[1;34m()\u001B[0m\n",
      "\u001B[1;32mpandas\\_libs\\hashtable_class_helper.pxi\u001B[0m in \u001B[0;36mpandas._libs.hashtable.PyObjectHashTable.get_item\u001B[1;34m()\u001B[0m\n",
      "\u001B[1;31mKeyError\u001B[0m: 'fh_duur_prog'",
      "\nThe above exception was the direct cause of the following exception:\n",
      "\u001B[1;31mKeyError\u001B[0m                                  Traceback (most recent call last)",
      "\u001B[1;32m<ipython-input-133-ec9e5602dcb8>\u001B[0m in \u001B[0;36m<module>\u001B[1;34m\u001B[0m\n\u001B[1;32m----> 1\u001B[1;33m \u001B[0mdataset\u001B[0m\u001B[1;33m[\u001B[0m\u001B[0mabs\u001B[0m\u001B[1;33m(\u001B[0m\u001B[0mdataset\u001B[0m\u001B[1;33m[\u001B[0m\u001B[1;34m'fh_duur_prog'\u001B[0m\u001B[1;33m]\u001B[0m\u001B[1;33m)\u001B[0m \u001B[1;33m<\u001B[0m \u001B[1;36m360\u001B[0m\u001B[1;33m]\u001B[0m\u001B[1;33m[\u001B[0m\u001B[0mdataset\u001B[0m\u001B[1;33m[\u001B[0m\u001B[1;34m'aanntpl_fh_duur_prog'\u001B[0m\u001B[1;33m]\u001B[0m\u001B[1;33m.\u001B[0m\u001B[0mnotna\u001B[0m\u001B[1;33m(\u001B[0m\u001B[1;33m)\u001B[0m\u001B[1;33m]\u001B[0m\u001B[1;33m[\u001B[0m\u001B[1;33m[\u001B[0m\u001B[1;34m'stm_progfh_in_duur'\u001B[0m\u001B[1;33m,\u001B[0m \u001B[1;34m'aanntpl_fh_duur_prog'\u001B[0m\u001B[1;33m,\u001B[0m\u001B[1;34m'aanntpl_fh_duur'\u001B[0m\u001B[1;33m,\u001B[0m\u001B[1;34m'stm_fh_duur'\u001B[0m\u001B[1;33m,\u001B[0m \u001B[1;34m'fh_duur_prog'\u001B[0m\u001B[1;33m,\u001B[0m \u001B[1;34m'stm_aanntpl_ddt'\u001B[0m\u001B[1;33m,\u001B[0m\u001B[1;34m'stm_progfh_in_ddt'\u001B[0m\u001B[1;33m,\u001B[0m\u001B[1;34m'stm_sap_meld_ddt'\u001B[0m\u001B[1;33m,\u001B[0m \u001B[1;34m'stm_progfh_in_invoer_ddt'\u001B[0m\u001B[1;33m]\u001B[0m\u001B[1;33m]\u001B[0m\u001B[1;33m\u001B[0m\u001B[1;33m\u001B[0m\u001B[0m\n\u001B[0m",
      "\u001B[1;32mc:\\users\\sjoerd-laptop\\appdata\\local\\programs\\python\\python39\\lib\\site-packages\\pandas\\core\\frame.py\u001B[0m in \u001B[0;36m__getitem__\u001B[1;34m(self, key)\u001B[0m\n\u001B[0;32m   3022\u001B[0m             \u001B[1;32mif\u001B[0m \u001B[0mself\u001B[0m\u001B[1;33m.\u001B[0m\u001B[0mcolumns\u001B[0m\u001B[1;33m.\u001B[0m\u001B[0mnlevels\u001B[0m \u001B[1;33m>\u001B[0m \u001B[1;36m1\u001B[0m\u001B[1;33m:\u001B[0m\u001B[1;33m\u001B[0m\u001B[1;33m\u001B[0m\u001B[0m\n\u001B[0;32m   3023\u001B[0m                 \u001B[1;32mreturn\u001B[0m \u001B[0mself\u001B[0m\u001B[1;33m.\u001B[0m\u001B[0m_getitem_multilevel\u001B[0m\u001B[1;33m(\u001B[0m\u001B[0mkey\u001B[0m\u001B[1;33m)\u001B[0m\u001B[1;33m\u001B[0m\u001B[1;33m\u001B[0m\u001B[0m\n\u001B[1;32m-> 3024\u001B[1;33m             \u001B[0mindexer\u001B[0m \u001B[1;33m=\u001B[0m \u001B[0mself\u001B[0m\u001B[1;33m.\u001B[0m\u001B[0mcolumns\u001B[0m\u001B[1;33m.\u001B[0m\u001B[0mget_loc\u001B[0m\u001B[1;33m(\u001B[0m\u001B[0mkey\u001B[0m\u001B[1;33m)\u001B[0m\u001B[1;33m\u001B[0m\u001B[1;33m\u001B[0m\u001B[0m\n\u001B[0m\u001B[0;32m   3025\u001B[0m             \u001B[1;32mif\u001B[0m \u001B[0mis_integer\u001B[0m\u001B[1;33m(\u001B[0m\u001B[0mindexer\u001B[0m\u001B[1;33m)\u001B[0m\u001B[1;33m:\u001B[0m\u001B[1;33m\u001B[0m\u001B[1;33m\u001B[0m\u001B[0m\n\u001B[0;32m   3026\u001B[0m                 \u001B[0mindexer\u001B[0m \u001B[1;33m=\u001B[0m \u001B[1;33m[\u001B[0m\u001B[0mindexer\u001B[0m\u001B[1;33m]\u001B[0m\u001B[1;33m\u001B[0m\u001B[1;33m\u001B[0m\u001B[0m\n",
      "\u001B[1;32mc:\\users\\sjoerd-laptop\\appdata\\local\\programs\\python\\python39\\lib\\site-packages\\pandas\\core\\indexes\\base.py\u001B[0m in \u001B[0;36mget_loc\u001B[1;34m(self, key, method, tolerance)\u001B[0m\n\u001B[0;32m   3080\u001B[0m                 \u001B[1;32mreturn\u001B[0m \u001B[0mself\u001B[0m\u001B[1;33m.\u001B[0m\u001B[0m_engine\u001B[0m\u001B[1;33m.\u001B[0m\u001B[0mget_loc\u001B[0m\u001B[1;33m(\u001B[0m\u001B[0mcasted_key\u001B[0m\u001B[1;33m)\u001B[0m\u001B[1;33m\u001B[0m\u001B[1;33m\u001B[0m\u001B[0m\n\u001B[0;32m   3081\u001B[0m             \u001B[1;32mexcept\u001B[0m \u001B[0mKeyError\u001B[0m \u001B[1;32mas\u001B[0m \u001B[0merr\u001B[0m\u001B[1;33m:\u001B[0m\u001B[1;33m\u001B[0m\u001B[1;33m\u001B[0m\u001B[0m\n\u001B[1;32m-> 3082\u001B[1;33m                 \u001B[1;32mraise\u001B[0m \u001B[0mKeyError\u001B[0m\u001B[1;33m(\u001B[0m\u001B[0mkey\u001B[0m\u001B[1;33m)\u001B[0m \u001B[1;32mfrom\u001B[0m \u001B[0merr\u001B[0m\u001B[1;33m\u001B[0m\u001B[1;33m\u001B[0m\u001B[0m\n\u001B[0m\u001B[0;32m   3083\u001B[0m \u001B[1;33m\u001B[0m\u001B[0m\n\u001B[0;32m   3084\u001B[0m         \u001B[1;32mif\u001B[0m \u001B[0mtolerance\u001B[0m \u001B[1;32mis\u001B[0m \u001B[1;32mnot\u001B[0m \u001B[1;32mNone\u001B[0m\u001B[1;33m:\u001B[0m\u001B[1;33m\u001B[0m\u001B[1;33m\u001B[0m\u001B[0m\n",
      "\u001B[1;31mKeyError\u001B[0m: 'fh_duur_prog'"
     ]
    }
   ],
   "source": [
    "dataset[abs(dataset['fh_duur_prog']) < 360][dataset['aanntpl_fh_duur_prog'].notna()][['stm_progfh_in_duur', 'aanntpl_fh_duur_prog','aanntpl_fh_duur','stm_fh_duur', 'fh_duur_prog', 'stm_aanntpl_ddt','stm_progfh_in_ddt','stm_sap_meld_ddt', 'stm_progfh_in_invoer_ddt']]"
   ]
  },
  {
   "cell_type": "code",
   "execution_count": 70,
   "id": "478b6d60",
   "metadata": {},
   "outputs": [
    {
     "ename": "KeyError",
     "evalue": "'fh_duur_prog'",
     "output_type": "error",
     "traceback": [
      "\u001B[1;31m---------------------------------------------------------------------------\u001B[0m",
      "\u001B[1;31mKeyError\u001B[0m                                  Traceback (most recent call last)",
      "\u001B[1;32mc:\\users\\sjoerd-laptop\\appdata\\local\\programs\\python\\python39\\lib\\site-packages\\pandas\\core\\indexes\\base.py\u001B[0m in \u001B[0;36mget_loc\u001B[1;34m(self, key, method, tolerance)\u001B[0m\n\u001B[0;32m   3079\u001B[0m             \u001B[1;32mtry\u001B[0m\u001B[1;33m:\u001B[0m\u001B[1;33m\u001B[0m\u001B[1;33m\u001B[0m\u001B[0m\n\u001B[1;32m-> 3080\u001B[1;33m                 \u001B[1;32mreturn\u001B[0m \u001B[0mself\u001B[0m\u001B[1;33m.\u001B[0m\u001B[0m_engine\u001B[0m\u001B[1;33m.\u001B[0m\u001B[0mget_loc\u001B[0m\u001B[1;33m(\u001B[0m\u001B[0mcasted_key\u001B[0m\u001B[1;33m)\u001B[0m\u001B[1;33m\u001B[0m\u001B[1;33m\u001B[0m\u001B[0m\n\u001B[0m\u001B[0;32m   3081\u001B[0m             \u001B[1;32mexcept\u001B[0m \u001B[0mKeyError\u001B[0m \u001B[1;32mas\u001B[0m \u001B[0merr\u001B[0m\u001B[1;33m:\u001B[0m\u001B[1;33m\u001B[0m\u001B[1;33m\u001B[0m\u001B[0m\n",
      "\u001B[1;32mpandas\\_libs\\index.pyx\u001B[0m in \u001B[0;36mpandas._libs.index.IndexEngine.get_loc\u001B[1;34m()\u001B[0m\n",
      "\u001B[1;32mpandas\\_libs\\index.pyx\u001B[0m in \u001B[0;36mpandas._libs.index.IndexEngine.get_loc\u001B[1;34m()\u001B[0m\n",
      "\u001B[1;32mpandas\\_libs\\hashtable_class_helper.pxi\u001B[0m in \u001B[0;36mpandas._libs.hashtable.PyObjectHashTable.get_item\u001B[1;34m()\u001B[0m\n",
      "\u001B[1;32mpandas\\_libs\\hashtable_class_helper.pxi\u001B[0m in \u001B[0;36mpandas._libs.hashtable.PyObjectHashTable.get_item\u001B[1;34m()\u001B[0m\n",
      "\u001B[1;31mKeyError\u001B[0m: 'fh_duur_prog'",
      "\nThe above exception was the direct cause of the following exception:\n",
      "\u001B[1;31mKeyError\u001B[0m                                  Traceback (most recent call last)",
      "\u001B[1;32m<ipython-input-70-c7a97557f4df>\u001B[0m in \u001B[0;36m<module>\u001B[1;34m\u001B[0m\n\u001B[1;32m----> 1\u001B[1;33m \u001B[0mt\u001B[0m\u001B[1;33m[\u001B[0m\u001B[1;34m'fh_duur_prog'\u001B[0m\u001B[1;33m]\u001B[0m\u001B[1;33m<\u001B[0m\u001B[1;36m360\u001B[0m\u001B[1;33m\u001B[0m\u001B[1;33m\u001B[0m\u001B[0m\n\u001B[0m\u001B[0;32m      2\u001B[0m \u001B[0mt\u001B[0m\u001B[1;33m.\u001B[0m\u001B[0msort_values\u001B[0m\u001B[1;33m(\u001B[0m\u001B[0mby\u001B[0m\u001B[1;33m=\u001B[0m\u001B[1;34m'fh_duur_prog'\u001B[0m\u001B[1;33m,\u001B[0m \u001B[0mascending\u001B[0m\u001B[1;33m=\u001B[0m\u001B[1;32mFalse\u001B[0m\u001B[1;33m)\u001B[0m\u001B[1;33m.\u001B[0m\u001B[0mhead\u001B[0m\u001B[1;33m(\u001B[0m\u001B[1;36m400\u001B[0m\u001B[1;33m)\u001B[0m\u001B[1;33m\u001B[0m\u001B[1;33m\u001B[0m\u001B[0m\n",
      "\u001B[1;32mc:\\users\\sjoerd-laptop\\appdata\\local\\programs\\python\\python39\\lib\\site-packages\\pandas\\core\\frame.py\u001B[0m in \u001B[0;36m__getitem__\u001B[1;34m(self, key)\u001B[0m\n\u001B[0;32m   3022\u001B[0m             \u001B[1;32mif\u001B[0m \u001B[0mself\u001B[0m\u001B[1;33m.\u001B[0m\u001B[0mcolumns\u001B[0m\u001B[1;33m.\u001B[0m\u001B[0mnlevels\u001B[0m \u001B[1;33m>\u001B[0m \u001B[1;36m1\u001B[0m\u001B[1;33m:\u001B[0m\u001B[1;33m\u001B[0m\u001B[1;33m\u001B[0m\u001B[0m\n\u001B[0;32m   3023\u001B[0m                 \u001B[1;32mreturn\u001B[0m \u001B[0mself\u001B[0m\u001B[1;33m.\u001B[0m\u001B[0m_getitem_multilevel\u001B[0m\u001B[1;33m(\u001B[0m\u001B[0mkey\u001B[0m\u001B[1;33m)\u001B[0m\u001B[1;33m\u001B[0m\u001B[1;33m\u001B[0m\u001B[0m\n\u001B[1;32m-> 3024\u001B[1;33m             \u001B[0mindexer\u001B[0m \u001B[1;33m=\u001B[0m \u001B[0mself\u001B[0m\u001B[1;33m.\u001B[0m\u001B[0mcolumns\u001B[0m\u001B[1;33m.\u001B[0m\u001B[0mget_loc\u001B[0m\u001B[1;33m(\u001B[0m\u001B[0mkey\u001B[0m\u001B[1;33m)\u001B[0m\u001B[1;33m\u001B[0m\u001B[1;33m\u001B[0m\u001B[0m\n\u001B[0m\u001B[0;32m   3025\u001B[0m             \u001B[1;32mif\u001B[0m \u001B[0mis_integer\u001B[0m\u001B[1;33m(\u001B[0m\u001B[0mindexer\u001B[0m\u001B[1;33m)\u001B[0m\u001B[1;33m:\u001B[0m\u001B[1;33m\u001B[0m\u001B[1;33m\u001B[0m\u001B[0m\n\u001B[0;32m   3026\u001B[0m                 \u001B[0mindexer\u001B[0m \u001B[1;33m=\u001B[0m \u001B[1;33m[\u001B[0m\u001B[0mindexer\u001B[0m\u001B[1;33m]\u001B[0m\u001B[1;33m\u001B[0m\u001B[1;33m\u001B[0m\u001B[0m\n",
      "\u001B[1;32mc:\\users\\sjoerd-laptop\\appdata\\local\\programs\\python\\python39\\lib\\site-packages\\pandas\\core\\indexes\\base.py\u001B[0m in \u001B[0;36mget_loc\u001B[1;34m(self, key, method, tolerance)\u001B[0m\n\u001B[0;32m   3080\u001B[0m                 \u001B[1;32mreturn\u001B[0m \u001B[0mself\u001B[0m\u001B[1;33m.\u001B[0m\u001B[0m_engine\u001B[0m\u001B[1;33m.\u001B[0m\u001B[0mget_loc\u001B[0m\u001B[1;33m(\u001B[0m\u001B[0mcasted_key\u001B[0m\u001B[1;33m)\u001B[0m\u001B[1;33m\u001B[0m\u001B[1;33m\u001B[0m\u001B[0m\n\u001B[0;32m   3081\u001B[0m             \u001B[1;32mexcept\u001B[0m \u001B[0mKeyError\u001B[0m \u001B[1;32mas\u001B[0m \u001B[0merr\u001B[0m\u001B[1;33m:\u001B[0m\u001B[1;33m\u001B[0m\u001B[1;33m\u001B[0m\u001B[0m\n\u001B[1;32m-> 3082\u001B[1;33m                 \u001B[1;32mraise\u001B[0m \u001B[0mKeyError\u001B[0m\u001B[1;33m(\u001B[0m\u001B[0mkey\u001B[0m\u001B[1;33m)\u001B[0m \u001B[1;32mfrom\u001B[0m \u001B[0merr\u001B[0m\u001B[1;33m\u001B[0m\u001B[1;33m\u001B[0m\u001B[0m\n\u001B[0m\u001B[0;32m   3083\u001B[0m \u001B[1;33m\u001B[0m\u001B[0m\n\u001B[0;32m   3084\u001B[0m         \u001B[1;32mif\u001B[0m \u001B[0mtolerance\u001B[0m \u001B[1;32mis\u001B[0m \u001B[1;32mnot\u001B[0m \u001B[1;32mNone\u001B[0m\u001B[1;33m:\u001B[0m\u001B[1;33m\u001B[0m\u001B[1;33m\u001B[0m\u001B[0m\n",
      "\u001B[1;31mKeyError\u001B[0m: 'fh_duur_prog'"
     ]
    }
   ],
   "source": [
    "t['fh_duur_prog']<360\n",
    "t.sort_values(by='fh_duur_prog', ascending=False).head(400)"
   ]
  },
  {
   "cell_type": "code",
   "execution_count": 132,
   "id": "2f3cde0d",
   "metadata": {
    "pycharm": {
     "name": "#%%\n"
    }
   },
   "outputs": [
    {
     "name": "stderr",
     "output_type": "stream",
     "text": [
      "<ipython-input-132-53fcb2273aca>:2: UserWarning: Boolean Series key will be reindexed to match DataFrame index.\n",
      "  t=t[dataset['EIGEN_aanntpl_fh_duur_prog'].notna()]\n"
     ]
    }
   ],
   "source": [
    "t = dataset[(abs(dataset['EIGEN_fh_duur_prog']) < 360)& (dataset['EIGEN_aanntpl_fh_duur_prog']>0) & (dataset['EIGEN_fh_duur_prog']>0)]\n",
    "t=t[dataset['EIGEN_aanntpl_fh_duur_prog'].notna()]\n",
    "\n",
    "# fh prognose moet onder 360 en boven 0 zijn en prognose vanaf aannemer ter plaatse > 0"
   ]
  },
  {
   "cell_type": "code",
   "execution_count": 131,
   "id": "6d3f3a09",
   "metadata": {
    "pycharm": {
     "name": "#%%\n"
    }
   },
   "outputs": [
    {
     "ename": "KeyError",
     "evalue": "\"['fh_duur_prog', 'aanntpl_fh_duur_prog'] not in index\"",
     "output_type": "error",
     "traceback": [
      "\u001B[1;31m---------------------------------------------------------------------------\u001B[0m",
      "\u001B[1;31mKeyError\u001B[0m                                  Traceback (most recent call last)",
      "\u001B[1;32m<ipython-input-131-e832cf80db09>\u001B[0m in \u001B[0;36m<module>\u001B[1;34m\u001B[0m\n\u001B[1;32m----> 1\u001B[1;33m \u001B[0mt\u001B[0m\u001B[1;33m[\u001B[0m\u001B[1;33m[\u001B[0m\u001B[1;34m'stm_progfh_in_duur'\u001B[0m\u001B[1;33m,\u001B[0m \u001B[1;34m'aanntpl_fh_duur_prog'\u001B[0m\u001B[1;33m,\u001B[0m\u001B[1;34m'aanntpl_fh_duur'\u001B[0m\u001B[1;33m,\u001B[0m\u001B[1;34m'stm_fh_duur'\u001B[0m\u001B[1;33m,\u001B[0m \u001B[1;34m'fh_duur_prog'\u001B[0m\u001B[1;33m,\u001B[0m \u001B[1;34m'stm_aanntpl_ddt'\u001B[0m\u001B[1;33m,\u001B[0m\u001B[1;34m'stm_progfh_in_ddt'\u001B[0m\u001B[1;33m,\u001B[0m\u001B[1;34m'stm_sap_meld_ddt'\u001B[0m\u001B[1;33m,\u001B[0m \u001B[1;34m'stm_progfh_in_invoer_ddt'\u001B[0m\u001B[1;33m]\u001B[0m\u001B[1;33m]\u001B[0m\u001B[1;33m\u001B[0m\u001B[1;33m\u001B[0m\u001B[0m\n\u001B[0m\u001B[0;32m      2\u001B[0m \u001B[1;33m\u001B[0m\u001B[0m\n",
      "\u001B[1;32mc:\\users\\sjoerd-laptop\\appdata\\local\\programs\\python\\python39\\lib\\site-packages\\pandas\\core\\frame.py\u001B[0m in \u001B[0;36m__getitem__\u001B[1;34m(self, key)\u001B[0m\n\u001B[0;32m   3028\u001B[0m             \u001B[1;32mif\u001B[0m \u001B[0mis_iterator\u001B[0m\u001B[1;33m(\u001B[0m\u001B[0mkey\u001B[0m\u001B[1;33m)\u001B[0m\u001B[1;33m:\u001B[0m\u001B[1;33m\u001B[0m\u001B[1;33m\u001B[0m\u001B[0m\n\u001B[0;32m   3029\u001B[0m                 \u001B[0mkey\u001B[0m \u001B[1;33m=\u001B[0m \u001B[0mlist\u001B[0m\u001B[1;33m(\u001B[0m\u001B[0mkey\u001B[0m\u001B[1;33m)\u001B[0m\u001B[1;33m\u001B[0m\u001B[1;33m\u001B[0m\u001B[0m\n\u001B[1;32m-> 3030\u001B[1;33m             \u001B[0mindexer\u001B[0m \u001B[1;33m=\u001B[0m \u001B[0mself\u001B[0m\u001B[1;33m.\u001B[0m\u001B[0mloc\u001B[0m\u001B[1;33m.\u001B[0m\u001B[0m_get_listlike_indexer\u001B[0m\u001B[1;33m(\u001B[0m\u001B[0mkey\u001B[0m\u001B[1;33m,\u001B[0m \u001B[0maxis\u001B[0m\u001B[1;33m=\u001B[0m\u001B[1;36m1\u001B[0m\u001B[1;33m,\u001B[0m \u001B[0mraise_missing\u001B[0m\u001B[1;33m=\u001B[0m\u001B[1;32mTrue\u001B[0m\u001B[1;33m)\u001B[0m\u001B[1;33m[\u001B[0m\u001B[1;36m1\u001B[0m\u001B[1;33m]\u001B[0m\u001B[1;33m\u001B[0m\u001B[1;33m\u001B[0m\u001B[0m\n\u001B[0m\u001B[0;32m   3031\u001B[0m \u001B[1;33m\u001B[0m\u001B[0m\n\u001B[0;32m   3032\u001B[0m         \u001B[1;31m# take() does not accept boolean indexers\u001B[0m\u001B[1;33m\u001B[0m\u001B[1;33m\u001B[0m\u001B[1;33m\u001B[0m\u001B[0m\n",
      "\u001B[1;32mc:\\users\\sjoerd-laptop\\appdata\\local\\programs\\python\\python39\\lib\\site-packages\\pandas\\core\\indexing.py\u001B[0m in \u001B[0;36m_get_listlike_indexer\u001B[1;34m(self, key, axis, raise_missing)\u001B[0m\n\u001B[0;32m   1264\u001B[0m             \u001B[0mkeyarr\u001B[0m\u001B[1;33m,\u001B[0m \u001B[0mindexer\u001B[0m\u001B[1;33m,\u001B[0m \u001B[0mnew_indexer\u001B[0m \u001B[1;33m=\u001B[0m \u001B[0max\u001B[0m\u001B[1;33m.\u001B[0m\u001B[0m_reindex_non_unique\u001B[0m\u001B[1;33m(\u001B[0m\u001B[0mkeyarr\u001B[0m\u001B[1;33m)\u001B[0m\u001B[1;33m\u001B[0m\u001B[1;33m\u001B[0m\u001B[0m\n\u001B[0;32m   1265\u001B[0m \u001B[1;33m\u001B[0m\u001B[0m\n\u001B[1;32m-> 1266\u001B[1;33m         \u001B[0mself\u001B[0m\u001B[1;33m.\u001B[0m\u001B[0m_validate_read_indexer\u001B[0m\u001B[1;33m(\u001B[0m\u001B[0mkeyarr\u001B[0m\u001B[1;33m,\u001B[0m \u001B[0mindexer\u001B[0m\u001B[1;33m,\u001B[0m \u001B[0maxis\u001B[0m\u001B[1;33m,\u001B[0m \u001B[0mraise_missing\u001B[0m\u001B[1;33m=\u001B[0m\u001B[0mraise_missing\u001B[0m\u001B[1;33m)\u001B[0m\u001B[1;33m\u001B[0m\u001B[1;33m\u001B[0m\u001B[0m\n\u001B[0m\u001B[0;32m   1267\u001B[0m         \u001B[1;32mreturn\u001B[0m \u001B[0mkeyarr\u001B[0m\u001B[1;33m,\u001B[0m \u001B[0mindexer\u001B[0m\u001B[1;33m\u001B[0m\u001B[1;33m\u001B[0m\u001B[0m\n\u001B[0;32m   1268\u001B[0m \u001B[1;33m\u001B[0m\u001B[0m\n",
      "\u001B[1;32mc:\\users\\sjoerd-laptop\\appdata\\local\\programs\\python\\python39\\lib\\site-packages\\pandas\\core\\indexing.py\u001B[0m in \u001B[0;36m_validate_read_indexer\u001B[1;34m(self, key, indexer, axis, raise_missing)\u001B[0m\n\u001B[0;32m   1314\u001B[0m             \u001B[1;32mif\u001B[0m \u001B[0mraise_missing\u001B[0m\u001B[1;33m:\u001B[0m\u001B[1;33m\u001B[0m\u001B[1;33m\u001B[0m\u001B[0m\n\u001B[0;32m   1315\u001B[0m                 \u001B[0mnot_found\u001B[0m \u001B[1;33m=\u001B[0m \u001B[0mlist\u001B[0m\u001B[1;33m(\u001B[0m\u001B[0mset\u001B[0m\u001B[1;33m(\u001B[0m\u001B[0mkey\u001B[0m\u001B[1;33m)\u001B[0m \u001B[1;33m-\u001B[0m \u001B[0mset\u001B[0m\u001B[1;33m(\u001B[0m\u001B[0max\u001B[0m\u001B[1;33m)\u001B[0m\u001B[1;33m)\u001B[0m\u001B[1;33m\u001B[0m\u001B[1;33m\u001B[0m\u001B[0m\n\u001B[1;32m-> 1316\u001B[1;33m                 \u001B[1;32mraise\u001B[0m \u001B[0mKeyError\u001B[0m\u001B[1;33m(\u001B[0m\u001B[1;34mf\"{not_found} not in index\"\u001B[0m\u001B[1;33m)\u001B[0m\u001B[1;33m\u001B[0m\u001B[1;33m\u001B[0m\u001B[0m\n\u001B[0m\u001B[0;32m   1317\u001B[0m \u001B[1;33m\u001B[0m\u001B[0m\n\u001B[0;32m   1318\u001B[0m             \u001B[0mnot_found\u001B[0m \u001B[1;33m=\u001B[0m \u001B[0mkey\u001B[0m\u001B[1;33m[\u001B[0m\u001B[0mmissing_mask\u001B[0m\u001B[1;33m]\u001B[0m\u001B[1;33m\u001B[0m\u001B[1;33m\u001B[0m\u001B[0m\n",
      "\u001B[1;31mKeyError\u001B[0m: \"['fh_duur_prog', 'aanntpl_fh_duur_prog'] not in index\""
     ]
    }
   ],
   "source": [
    "t[['stm_progfh_in_duur', 'aanntpl_fh_duur_prog','aanntpl_fh_duur','stm_fh_duur', 'fh_duur_prog', 'stm_aanntpl_ddt','stm_progfh_in_ddt','stm_sap_meld_ddt', 'stm_progfh_in_invoer_ddt']]\n"
   ]
  },
  {
   "cell_type": "code",
   "execution_count": 93,
   "id": "2391c086",
   "metadata": {
    "pycharm": {
     "name": "#%%\n"
    }
   },
   "outputs": [
    {
     "data": {
      "text/plain": "<matplotlib.collections.PathCollection at 0x17562c1dbe0>"
     },
     "execution_count": 93,
     "metadata": {},
     "output_type": "execute_result"
    },
    {
     "data": {
      "text/plain": "<Figure size 432x288 with 1 Axes>",
      "image/png": "[encoded data removed]"
     },
     "metadata": {
      "needs_background": "light"
     },
     "output_type": "display_data"
    }
   ],
   "source": [
    "X = t[[target,'EIGEN_aanntpl_fh_duur_prog']].values\n",
    "plt.scatter(X[:,0], X[:,1])"
   ]
  },
  {
   "cell_type": "code",
   "execution_count": 94,
   "id": "27a313dc",
   "metadata": {
    "pycharm": {
     "name": "#%%\n"
    }
   },
   "outputs": [
    {
     "data": {
      "text/plain": "                            aanntpl_fh_duur  EIGEN_aanntpl_fh_duur_prog\naanntpl_fh_duur                    1.000000                    0.748159\nEIGEN_aanntpl_fh_duur_prog         0.748159                    1.000000",
      "text/html": "<div>\n<style scoped>\n    .dataframe tbody tr th:only-of-type {\n        vertical-align: middle;\n    }\n\n    .dataframe tbody tr th {\n        vertical-align: top;\n    }\n\n    .dataframe thead th {\n        text-align: right;\n    }\n</style>\n<table border=\"1\" class=\"dataframe\">\n  <thead>\n    <tr style=\"text-align: right;\">\n      <th></th>\n      <th>aanntpl_fh_duur</th>\n      <th>EIGEN_aanntpl_fh_duur_prog</th>\n    </tr>\n  </thead>\n  <tbody>\n    <tr>\n      <th>aanntpl_fh_duur</th>\n      <td>1.000000</td>\n      <td>0.748159</td>\n    </tr>\n    <tr>\n      <th>EIGEN_aanntpl_fh_duur_prog</th>\n      <td>0.748159</td>\n      <td>1.000000</td>\n    </tr>\n  </tbody>\n</table>\n</div>"
     },
     "execution_count": 94,
     "metadata": {},
     "output_type": "execute_result"
    }
   ],
   "source": [
    "t[[target,'EIGEN_aanntpl_fh_duur_prog']].corr()"
   ]
  },
  {
   "cell_type": "markdown",
   "id": "40728c44",
   "metadata": {
    "pycharm": {
     "name": "#%% md\n"
    }
   },
   "source": [
    "## FM"
   ]
  },
  {
   "cell_type": "code",
   "execution_count": 147,
   "id": "836a9fb6",
   "metadata": {
    "pycharm": {
     "name": "#%%\n"
    }
   },
   "outputs": [],
   "source": [
    "dataset_m1 = t.copy()"
   ]
  },
  {
   "cell_type": "code",
   "execution_count": 96,
   "id": "22298b39",
   "metadata": {
    "pycharm": {
     "name": "#%%\n"
    }
   },
   "outputs": [],
   "source": [
    "features_selection = ['EIGEN_aanntpl_fh_duur_prog']#,'stm_prioriteit', 'stm_oorz_groep','stm_techn_gst', 'stm_oorz_code']"
   ]
  },
  {
   "cell_type": "code",
   "execution_count": 87,
   "id": "c47bd02c",
   "metadata": {
    "pycharm": {
     "name": "#%%\n"
    }
   },
   "outputs": [],
   "source": [
    "dataset_m1 = dataset_m1[[*features_selection, target]].copy()"
   ]
  },
  {
   "cell_type": "code",
   "execution_count": null,
   "id": "ffee8c8f",
   "metadata": {
    "pycharm": {
     "name": "#%%\n"
    }
   },
   "outputs": [],
   "source": [
    "\n",
    "dataset_m1[['stm_prioriteit','stm_oorz_groep','stm_techn_gst', 'stm_oorz_code']] = dataset_m1[['stm_prioriteit','stm_oorz_groep','stm_techn_gst', 'stm_oorz_code']].astype('category')"
   ]
  },
  {
   "cell_type": "code",
   "execution_count": 148,
   "id": "d9ea3451",
   "metadata": {
    "pycharm": {
     "name": "#%%\n"
    }
   },
   "outputs": [],
   "source": [
    "dataset_m1_features = pd.get_dummies(dataset_m1[features_selection])"
   ]
  },
  {
   "cell_type": "code",
   "execution_count": 149,
   "id": "7d054f00",
   "metadata": {
    "pycharm": {
     "name": "#%%\n"
    }
   },
   "outputs": [],
   "source": [
    "X = dataset_m1_features\n",
    "y = t[target]\n",
    "X_train, X_test, y_train, y_test = train_test_split(X, y, random_state=0)"
   ]
  },
  {
   "cell_type": "code",
   "execution_count": 150,
   "id": "78654f88",
   "metadata": {
    "pycharm": {
     "name": "#%%\n"
    }
   },
   "outputs": [],
   "source": [
    "depths = np.arange(1, 10)"
   ]
  },
  {
   "cell_type": "code",
   "execution_count": 151,
   "id": "d1c18c4f",
   "metadata": {
    "pycharm": {
     "name": "#%%\n"
    }
   },
   "outputs": [],
   "source": [
    "rmse_scores = [mean_squared_error(y_test, DecisionTreeRegressor(max_depth=depth, random_state=0).fit(X_train, y_train).predict(X_test), squared=False) for depth in depths]\n",
    "rmse_scores_train = [mean_squared_error(y_train, DecisionTreeRegressor(max_depth=depth, random_state=0).fit(X_train, y_train).predict(X_train), squared=False) for depth in depths]"
   ]
  },
  {
   "cell_type": "code",
   "execution_count": 152,
   "id": "695461d6",
   "metadata": {
    "pycharm": {
     "name": "#%%\n"
    }
   },
   "outputs": [
    {
     "name": "stdout",
     "output_type": "stream",
     "text": [
      "Laagste RMSE bij regression tree: 39.34\n"
     ]
    },
    {
     "data": {
      "text/plain": "<Figure size 432x288 with 1 Axes>",
      "image/png": "[encoded data removed]"
     },
     "metadata": {
      "needs_background": "light"
     },
     "output_type": "display_data"
    },
    {
     "name": "stdout",
     "output_type": "stream",
     "text": [
      "RMSE van prognose vs daadwerkelijke hersteltijd 312878.91941536963\n",
      "RMSE Baseline:  56\n"
     ]
    }
   ],
   "source": [
    "plt.plot(rmse_scores)\n",
    "#plt.plot(rmse_scores_train)\n",
    "\n",
    "plt.xticks(depths)\n",
    "print(f\"Laagste RMSE bij regression tree: {round(min(rmse_scores),2)}\")\n",
    "plt.show()\n",
    "\n",
    "p = t[['aanntpl_fh_duur', 'EIGEN_aanntpl_fh_duur_prog']].copy().dropna()\n",
    "print(\"RMSE van prognose vs daadwerkelijke hersteltijd\",mean_squared_error(p['aanntpl_fh_duur'],p['EIGEN_aanntpl_fh_duur_prog'], squared=False))\n",
    "print(\"RMSE Baseline: \",baseline_rmse)"
   ]
  },
  {
   "cell_type": "code",
   "execution_count": 112,
   "id": "de20e7d7",
   "metadata": {
    "pycharm": {
     "name": "#%%\n"
    }
   },
   "outputs": [],
   "source": []
  },
  {
   "cell_type": "code",
   "execution_count": null,
   "id": "a4ddebc9",
   "metadata": {
    "pycharm": {
     "name": "#%%\n"
    }
   },
   "outputs": [],
   "source": []
  },
  {
   "cell_type": "code",
   "execution_count": null,
   "id": "f3d6cd1d",
   "metadata": {
    "pycharm": {
     "name": "#%%\n"
    }
   },
   "outputs": [],
   "source": []
  },
  {
   "cell_type": "code",
   "execution_count": null,
   "id": "35e26735",
   "metadata": {},
   "outputs": [],
   "source": []
  }
 ],
 "metadata": {
  "kernelspec": {
   "display_name": "Python 3",
   "language": "python",
   "name": "python3"
  },
  "language_info": {
   "codemirror_mode": {
    "name": "ipython",
    "version": 3
   },
   "file_extension": ".py",
   "mimetype": "text/x-python",
   "name": "python",
   "nbconvert_exporter": "python",
   "pygments_lexer": "ipython3",
   "version": "3.9.1"
  }
 },
 "nbformat": 4,
 "nbformat_minor": 5
}